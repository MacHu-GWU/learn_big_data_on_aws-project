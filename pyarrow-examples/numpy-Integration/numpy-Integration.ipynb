{
 "cells": [
  {
   "cell_type": "markdown",
   "id": "1a07b71c",
   "metadata": {},
   "source": [
    "# ``numpy`` Integration\n",
    "\n",
    "Ref:\n",
    "\n",
    "- https://arrow.apache.org/docs/python/numpy.html"
   ]
  },
  {
   "cell_type": "code",
   "execution_count": 11,
   "id": "a01fc797",
   "metadata": {},
   "outputs": [],
   "source": [
    "import sys\n",
    "import numpy as np\n",
    "import pyarrow as pa"
   ]
  },
  {
   "cell_type": "markdown",
   "id": "6f80a406",
   "metadata": {},
   "source": [
    "``numpy`` 和 ``pyarrow`` 之间互通主要是通过 ``numpy.array`` 和 ``pyarrow.array``. 两者都是高性能的 1 维, 同数据类型的数组. 彼此之间转化效率较高. \n",
    "\n",
    "- ``numpy.array`` -> ``pyarrow.array``: \n",
    "- ``pyarrow.array`` -> ``numpy.array``: 如果 numpy array 中的数据都是 整数, 浮点, 时间戳, 也就是基于数值计算的数据类型, **且没有 Null**, pyarrow 到 numpy 的转化是零拷贝. 否则要数据拷贝."
   ]
  },
  {
   "cell_type": "code",
   "execution_count": 16,
   "id": "8868b90a",
   "metadata": {},
   "outputs": [
    {
     "data": {
      "text/plain": [
       "<pyarrow.lib.Int16Array object at 0x7f95705c59a8>\n",
       "[\n",
       "  0,\n",
       "  1,\n",
       "  2\n",
       "]"
      ]
     },
     "execution_count": 16,
     "metadata": {},
     "output_type": "execute_result"
    }
   ],
   "source": [
    "# ``numpy.array`` -> ``pyarrow.array``\n",
    "np_arr = np.arange(3, dtype=\"int16\")\n",
    "pa_arr = pa.array(np_arr)\n",
    "pa_arr"
   ]
  },
  {
   "cell_type": "code",
   "execution_count": 17,
   "id": "6c41b068",
   "metadata": {},
   "outputs": [
    {
     "data": {
      "text/plain": [
       "array([4, 5, 6], dtype=int32)"
      ]
     },
     "execution_count": 17,
     "metadata": {},
     "output_type": "execute_result"
    }
   ],
   "source": [
    "# ``pyarrow.array`` -> ``numpy.array``\n",
    "pa_arr = pa.array([4, 5, 6], type=pa.int32())\n",
    "np_arr = pa_arr.to_numpy()\n",
    "np_arr"
   ]
  }
 ],
 "metadata": {
  "kernelspec": {
   "display_name": "conda_python3",
   "language": "python",
   "name": "conda_python3"
  },
  "language_info": {
   "codemirror_mode": {
    "name": "ipython",
    "version": 3
   },
   "file_extension": ".py",
   "mimetype": "text/x-python",
   "name": "python",
   "nbconvert_exporter": "python",
   "pygments_lexer": "ipython3",
   "version": "3.6.13"
  }
 },
 "nbformat": 4,
 "nbformat_minor": 5
}
