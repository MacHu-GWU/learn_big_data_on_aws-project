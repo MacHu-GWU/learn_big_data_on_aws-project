{
 "cells": [
  {
   "cell_type": "markdown",
   "id": "8fd62d9d",
   "metadata": {},
   "source": [
    "# ``pandas`` Integration\n",
    "\n",
    "Ref: \n",
    "    \n",
    "- https://arrow.apache.org/docs/python/pandas.html"
   ]
  },
  {
   "cell_type": "code",
   "execution_count": 8,
   "id": "9e75ff48",
   "metadata": {},
   "outputs": [],
   "source": [
    "import numpy as np\n",
    "import pandas as pd\n",
    "import pyarrow as pa\n",
    "import pyarrow.parquet as pq"
   ]
  },
  {
   "cell_type": "markdown",
   "id": "e0b8a6a1",
   "metadata": {},
   "source": [
    "## DataFrames\n",
    "\n",
    "[EN]\n",
    "\n",
    "The equivalent to a pandas DataFrame in Arrow is a Table. Both consist of a set of named columns of equal length. While pandas only supports flat columns, the Table also provides nested columns, thus it can represent more data than a DataFrame, so a full conversion is not always possible.\n",
    "\n",
    "Conversion from a Table to a DataFrame is done by calling ``pyarrow.Table.to_pandas()``. The inverse is then achieved by using ``pyarrow.Table.from_pandas()``.\n",
    "\n",
    "By default ``pyarrow`` tries to preserve and restore the ``.index`` data as accurately as possible. See the section below for more about this, and how to disable this logic.\n",
    "\n",
    "[CN]"
   ]
  },
  {
   "cell_type": "code",
   "execution_count": 2,
   "id": "d54db5a6",
   "metadata": {},
   "outputs": [
    {
     "data": {
      "text/html": [
       "<div>\n",
       "<style scoped>\n",
       "    .dataframe tbody tr th:only-of-type {\n",
       "        vertical-align: middle;\n",
       "    }\n",
       "\n",
       "    .dataframe tbody tr th {\n",
       "        vertical-align: top;\n",
       "    }\n",
       "\n",
       "    .dataframe thead th {\n",
       "        text-align: right;\n",
       "    }\n",
       "</style>\n",
       "<table border=\"1\" class=\"dataframe\">\n",
       "  <thead>\n",
       "    <tr style=\"text-align: right;\">\n",
       "      <th></th>\n",
       "      <th>id</th>\n",
       "      <th>name</th>\n",
       "    </tr>\n",
       "  </thead>\n",
       "  <tbody>\n",
       "    <tr>\n",
       "      <th>0</th>\n",
       "      <td>1</td>\n",
       "      <td>Alice</td>\n",
       "    </tr>\n",
       "    <tr>\n",
       "      <th>1</th>\n",
       "      <td>2</td>\n",
       "      <td>Bob</td>\n",
       "    </tr>\n",
       "    <tr>\n",
       "      <th>2</th>\n",
       "      <td>3</td>\n",
       "      <td>Cathy</td>\n",
       "    </tr>\n",
       "  </tbody>\n",
       "</table>\n",
       "</div>"
      ],
      "text/plain": [
       "   id   name\n",
       "0   1  Alice\n",
       "1   2    Bob\n",
       "2   3  Cathy"
      ]
     },
     "execution_count": 2,
     "metadata": {},
     "output_type": "execute_result"
    }
   ],
   "source": [
    "df = pd.DataFrame(\n",
    "    {\n",
    "        \"id\": [1, 2, 3],\n",
    "        \"name\": [\"Alice\", \"Bob\", \"Cathy\"],\n",
    "    }\n",
    ")\n",
    "# Convert from pandas to Arrow\n",
    "table = pa.Table.from_pandas(df)\n",
    "\n",
    "# Convert back to pandas\n",
    "df_new = table.to_pandas()"
   ]
  },
  {
   "cell_type": "code",
   "execution_count": 3,
   "id": "b6c927d9",
   "metadata": {},
   "outputs": [
    {
     "data": {
      "text/plain": [
       "pyarrow.Table\n",
       "id: int64\n",
       "name: string\n",
       "----\n",
       "id: [[1,2,3]]\n",
       "name: [[\"Alice\",\"Bob\",\"Cathy\"]]"
      ]
     },
     "execution_count": 3,
     "metadata": {},
     "output_type": "execute_result"
    }
   ],
   "source": [
    "table"
   ]
  },
  {
   "cell_type": "code",
   "execution_count": 4,
   "id": "d5cf7b7e",
   "metadata": {},
   "outputs": [
    {
     "data": {
      "text/html": [
       "<div>\n",
       "<style scoped>\n",
       "    .dataframe tbody tr th:only-of-type {\n",
       "        vertical-align: middle;\n",
       "    }\n",
       "\n",
       "    .dataframe tbody tr th {\n",
       "        vertical-align: top;\n",
       "    }\n",
       "\n",
       "    .dataframe thead th {\n",
       "        text-align: right;\n",
       "    }\n",
       "</style>\n",
       "<table border=\"1\" class=\"dataframe\">\n",
       "  <thead>\n",
       "    <tr style=\"text-align: right;\">\n",
       "      <th></th>\n",
       "      <th>id</th>\n",
       "      <th>name</th>\n",
       "    </tr>\n",
       "  </thead>\n",
       "  <tbody>\n",
       "    <tr>\n",
       "      <th>0</th>\n",
       "      <td>1</td>\n",
       "      <td>Alice</td>\n",
       "    </tr>\n",
       "    <tr>\n",
       "      <th>1</th>\n",
       "      <td>2</td>\n",
       "      <td>Bob</td>\n",
       "    </tr>\n",
       "    <tr>\n",
       "      <th>2</th>\n",
       "      <td>3</td>\n",
       "      <td>Cathy</td>\n",
       "    </tr>\n",
       "  </tbody>\n",
       "</table>\n",
       "</div>"
      ],
      "text/plain": [
       "   id   name\n",
       "0   1  Alice\n",
       "1   2    Bob\n",
       "2   3  Cathy"
      ]
     },
     "execution_count": 4,
     "metadata": {},
     "output_type": "execute_result"
    }
   ],
   "source": [
    "df_new"
   ]
  },
  {
   "cell_type": "code",
   "execution_count": 5,
   "id": "11746f2f",
   "metadata": {},
   "outputs": [
    {
     "data": {
      "text/plain": [
       "id: int64\n",
       "name: string\n",
       "-- schema metadata --\n",
       "pandas: '{\"index_columns\": [{\"kind\": \"range\", \"name\": null, \"start\": 0, \"' + 467"
      ]
     },
     "execution_count": 5,
     "metadata": {},
     "output_type": "execute_result"
    }
   ],
   "source": [
    "# Infer Arrow schema from pandas\n",
    "schema = pa.Schema.from_pandas(df)\n",
    "schema"
   ]
  },
  {
   "cell_type": "markdown",
   "id": "0bd18624",
   "metadata": {},
   "source": [
    "## Handling pandas Indexes\n",
    "\n",
    "[EN]\n",
    "\n",
    "Methods like ``pyarrow.Table.from_pandas()`` have a ``preserve_index`` option which defines how to preserve (store) or not to preserve (to not store) the data in the ``index`` member of the corresponding pandas object. This data is tracked using schema-level metadata in the internal ``arrow::Schema`` object.\n",
    "\n",
    "The default of ``preserve_index`` is ``None``, which behaves as follows:\n",
    "\n",
    "- ``RangeIndex`` is stored as metadata-only, not requiring any extra storage.\n",
    "- Other index types are stored as one or more physical data columns in the resulting ``Table``\n",
    "\n",
    "To not store the index at all pass ``preserve_index=False``. Since storing a ``RangeIndex`` can cause issues in some limited scenarios (such as storing multiple DataFrame objects in a Parquet file), to force all index data to be serialized in the resulting table, pass ``preserve_index=True``.\n",
    "\n",
    "[CN]\n",
    "pandas.DataFrame 是有行 index 的. 但是 pyarrow 主要是列式存储, 大部分情况下不需要 index. \n",
    "\n",
    "在默认情况下从 ``Table`` 转化为 ``DataFrame`` 的时候是 ``preserve_index=None``, 具体效果如下:\n",
    "\n",
    "- 如果 ``DataFrame`` 用的是 ``RangeIndex`` (就是自动生成的从 0 到 n-1, n 为总行数的 index). ``Table`` 就会在 metadata 中标注使用 ``RangeIndex`` 即可, 由于只需要知道总行数即可, 所以无需在内存中真正维护 index 数据.\n",
    "- 而其他的 pandas index 类型, 例如时间序列索引, 那么就会保存为真正的 ``pyarrow.Column`` 同时拷贝数据.\n",
    "\n",
    "什么时候用 ``preserve_index=True``, 什么时候用 ``preserve_index=False``?\n",
    "\n",
    "- 当你的 ``DataFrame`` 都用的是自动生成的 ``RangeIndex``, 而你在数据处理时又不在乎 index 的时后, 建议用 ``False``. 有些极端情况下例如你想将多个 ``pandas.DataFrame`` 写入 parquet 的文件的时候会出错误.\n",
    "- 如果你希望将 ``DataFrame`` 序列化为 parquet 并保存, 并且希望读取回来的时候依旧能恢复 index, 建议用 ``True``"
   ]
  },
  {
   "cell_type": "code",
   "execution_count": 14,
   "id": "a0774784",
   "metadata": {},
   "outputs": [
    {
     "data": {
      "text/html": [
       "<div>\n",
       "<style scoped>\n",
       "    .dataframe tbody tr th:only-of-type {\n",
       "        vertical-align: middle;\n",
       "    }\n",
       "\n",
       "    .dataframe tbody tr th {\n",
       "        vertical-align: top;\n",
       "    }\n",
       "\n",
       "    .dataframe thead th {\n",
       "        text-align: right;\n",
       "    }\n",
       "</style>\n",
       "<table border=\"1\" class=\"dataframe\">\n",
       "  <thead>\n",
       "    <tr style=\"text-align: right;\">\n",
       "      <th></th>\n",
       "      <th>value</th>\n",
       "    </tr>\n",
       "  </thead>\n",
       "  <tbody>\n",
       "    <tr>\n",
       "      <th>2000-01-01</th>\n",
       "      <td>0</td>\n",
       "    </tr>\n",
       "    <tr>\n",
       "      <th>2000-01-02</th>\n",
       "      <td>1</td>\n",
       "    </tr>\n",
       "    <tr>\n",
       "      <th>2000-01-03</th>\n",
       "      <td>2</td>\n",
       "    </tr>\n",
       "  </tbody>\n",
       "</table>\n",
       "</div>"
      ],
      "text/plain": [
       "            value\n",
       "2000-01-01      0\n",
       "2000-01-02      1\n",
       "2000-01-03      2"
      ]
     },
     "execution_count": 14,
     "metadata": {},
     "output_type": "execute_result"
    }
   ],
   "source": [
    "df = pd.DataFrame(\n",
    "    {\"value\": np.arange(3)},\n",
    "    index=pd.date_range(\"2000-01-01\", periods=3, freq=\"1d\")\n",
    ")\n",
    "df"
   ]
  },
  {
   "cell_type": "code",
   "execution_count": 21,
   "id": "c24ad9ed",
   "metadata": {},
   "outputs": [
    {
     "data": {
      "text/html": [
       "<div>\n",
       "<style scoped>\n",
       "    .dataframe tbody tr th:only-of-type {\n",
       "        vertical-align: middle;\n",
       "    }\n",
       "\n",
       "    .dataframe tbody tr th {\n",
       "        vertical-align: top;\n",
       "    }\n",
       "\n",
       "    .dataframe thead th {\n",
       "        text-align: right;\n",
       "    }\n",
       "</style>\n",
       "<table border=\"1\" class=\"dataframe\">\n",
       "  <thead>\n",
       "    <tr style=\"text-align: right;\">\n",
       "      <th></th>\n",
       "      <th>value</th>\n",
       "    </tr>\n",
       "  </thead>\n",
       "  <tbody>\n",
       "    <tr>\n",
       "      <th>0</th>\n",
       "      <td>0</td>\n",
       "    </tr>\n",
       "    <tr>\n",
       "      <th>1</th>\n",
       "      <td>1</td>\n",
       "    </tr>\n",
       "    <tr>\n",
       "      <th>2</th>\n",
       "      <td>2</td>\n",
       "    </tr>\n",
       "  </tbody>\n",
       "</table>\n",
       "</div>"
      ],
      "text/plain": [
       "   value\n",
       "0      0\n",
       "1      1\n",
       "2      2"
      ]
     },
     "execution_count": 21,
     "metadata": {},
     "output_type": "execute_result"
    }
   ],
   "source": [
    "table = pa.Table.from_pandas(df, preserve_index=False)\n",
    "pq.write_table(table, \"df_preserve_index_false.parquet\")\n",
    "df_loaded = pq.read_table(\"df_preserve_index_false.parquet\").to_pandas()\n",
    "df_loaded"
   ]
  },
  {
   "cell_type": "code",
   "execution_count": 22,
   "id": "03b02b57",
   "metadata": {},
   "outputs": [
    {
     "data": {
      "text/html": [
       "<div>\n",
       "<style scoped>\n",
       "    .dataframe tbody tr th:only-of-type {\n",
       "        vertical-align: middle;\n",
       "    }\n",
       "\n",
       "    .dataframe tbody tr th {\n",
       "        vertical-align: top;\n",
       "    }\n",
       "\n",
       "    .dataframe thead th {\n",
       "        text-align: right;\n",
       "    }\n",
       "</style>\n",
       "<table border=\"1\" class=\"dataframe\">\n",
       "  <thead>\n",
       "    <tr style=\"text-align: right;\">\n",
       "      <th></th>\n",
       "      <th>value</th>\n",
       "    </tr>\n",
       "  </thead>\n",
       "  <tbody>\n",
       "    <tr>\n",
       "      <th>2000-01-01</th>\n",
       "      <td>0</td>\n",
       "    </tr>\n",
       "    <tr>\n",
       "      <th>2000-01-02</th>\n",
       "      <td>1</td>\n",
       "    </tr>\n",
       "    <tr>\n",
       "      <th>2000-01-03</th>\n",
       "      <td>2</td>\n",
       "    </tr>\n",
       "  </tbody>\n",
       "</table>\n",
       "</div>"
      ],
      "text/plain": [
       "            value\n",
       "2000-01-01      0\n",
       "2000-01-02      1\n",
       "2000-01-03      2"
      ]
     },
     "execution_count": 22,
     "metadata": {},
     "output_type": "execute_result"
    }
   ],
   "source": [
    "table = pa.Table.from_pandas(df, preserve_index=True)\n",
    "pq.write_table(table, \"df_preserve_index_true.parquet\")\n",
    "df_loaded = pq.read_table(\"df_preserve_index_true.parquet\").to_pandas()\n",
    "df_loaded"
   ]
  },
  {
   "cell_type": "code",
   "execution_count": 23,
   "id": "e5a8b50d",
   "metadata": {},
   "outputs": [
    {
     "data": {
      "text/html": [
       "<div>\n",
       "<style scoped>\n",
       "    .dataframe tbody tr th:only-of-type {\n",
       "        vertical-align: middle;\n",
       "    }\n",
       "\n",
       "    .dataframe tbody tr th {\n",
       "        vertical-align: top;\n",
       "    }\n",
       "\n",
       "    .dataframe thead th {\n",
       "        text-align: right;\n",
       "    }\n",
       "</style>\n",
       "<table border=\"1\" class=\"dataframe\">\n",
       "  <thead>\n",
       "    <tr style=\"text-align: right;\">\n",
       "      <th></th>\n",
       "      <th>value</th>\n",
       "    </tr>\n",
       "  </thead>\n",
       "  <tbody>\n",
       "    <tr>\n",
       "      <th>2000-01-01</th>\n",
       "      <td>0</td>\n",
       "    </tr>\n",
       "    <tr>\n",
       "      <th>2000-01-02</th>\n",
       "      <td>1</td>\n",
       "    </tr>\n",
       "    <tr>\n",
       "      <th>2000-01-03</th>\n",
       "      <td>2</td>\n",
       "    </tr>\n",
       "  </tbody>\n",
       "</table>\n",
       "</div>"
      ],
      "text/plain": [
       "            value\n",
       "2000-01-01      0\n",
       "2000-01-02      1\n",
       "2000-01-03      2"
      ]
     },
     "execution_count": 23,
     "metadata": {},
     "output_type": "execute_result"
    }
   ],
   "source": [
    "table = pa.Table.from_pandas(df, preserve_index=None)\n",
    "pq.write_table(table, \"df_preserve_index_none.parquet\")\n",
    "df_loaded = pq.read_table(\"df_preserve_index_none.parquet\").to_pandas()\n",
    "df_loaded"
   ]
  },
  {
   "cell_type": "markdown",
   "id": "c7fac43a",
   "metadata": {},
   "source": [
    "**Zero Copy Series Conversions**\n",
    "\n",
    "[EN]\n",
    "\n",
    "Zero copy conversions from Array or ChunkedArray to NumPy arrays or pandas Series are possible in certain narrow cases:\n",
    "\n",
    "- The Arrow data is stored in an integer (signed or unsigned ``int8`` through ``int64``) or floating point type (``float16`` through (``float64``). This includes many numeric types as well as timestamps.\n",
    "- The Arrow data has no null values (since these are represented using bitmaps which are not supported by pandas).\n",
    "- For ``ChunkedArray``, the data consists of a single chunk, i.e. ``arr.num_chunks == 1``. Multiple chunks will always require a copy because of pandas’s contiguousness requirement.\n",
    "\n",
    "In these scenarios, to_pandas or to_numpy will be zero copy. In all other scenarios, a copy will be required.\n",
    "\n",
    "[CN]\n",
    "\n",
    "以下的几种情况下, 从 ``.to_pandas()`` 方法是 zero copy.\n",
    "\n",
    "- Arrow data 是整数, 有符号 / 无符号, int8 / 16 / 32 / 64, float 16 / 32 / 64. 这包含了大部分的数字类型, 包括 timestamps (因为 timestamps 本质上也是用整数储存的)\n",
    "- Arrow data 没有 null value, 因为这些 null value 在 Arrow 中使用的是 bit map 数据结构存储的, 而 pandas 并不支持这种存储方式.\n",
    "- 对于 ``ChunkedArray``, 在只有 1 个 chunk 的情况下 (也就是 Table 只有一个 RecordBatch) 是 Zero Copy. 否则一定需要 Copy.\n",
    "\n",
    "如果有许多 column, 有的可以 zero copy, 有的不能. 那么转化为 Table 之后只有那些不能 zero copy 的 column 的数据被复制了. 例如 string.\n",
    "\n",
    "**一句话总结: 想要避免 Copy Data, 请确保没有 null value,  可以 fillin 一些 default value**\n",
    "\n",
    "小知识:\n",
    "\n",
    "- 2 ** 32 = 4,294,967,296\n",
    "- 2 ** 64 = 18,446,744,073,709,551,616\n",
    "- 从 1970-01-01 00:00:00 开始, 如果精度是 1 秒, 32 位整数可以表示到 2106-02-07 06:28:16\n",
    "- 从 1970-01-01 00:00:00 开始, 如果精度是 1 纳秒 (10e9 ns = 1 s), 64 位整数可以表示到 2554 年 12 月, 足够我们用了."
   ]
  },
  {
   "cell_type": "code",
   "execution_count": 31,
   "id": "0f378398",
   "metadata": {},
   "outputs": [
    {
     "data": {
      "text/html": [
       "<div>\n",
       "<style scoped>\n",
       "    .dataframe tbody tr th:only-of-type {\n",
       "        vertical-align: middle;\n",
       "    }\n",
       "\n",
       "    .dataframe tbody tr th {\n",
       "        vertical-align: top;\n",
       "    }\n",
       "\n",
       "    .dataframe thead th {\n",
       "        text-align: right;\n",
       "    }\n",
       "</style>\n",
       "<table border=\"1\" class=\"dataframe\">\n",
       "  <thead>\n",
       "    <tr style=\"text-align: right;\">\n",
       "      <th></th>\n",
       "      <th>id</th>\n",
       "      <th>name</th>\n",
       "    </tr>\n",
       "  </thead>\n",
       "  <tbody>\n",
       "    <tr>\n",
       "      <th>0</th>\n",
       "      <td>1</td>\n",
       "      <td>alice</td>\n",
       "    </tr>\n",
       "    <tr>\n",
       "      <th>1</th>\n",
       "      <td>2</td>\n",
       "      <td>bob</td>\n",
       "    </tr>\n",
       "    <tr>\n",
       "      <th>2</th>\n",
       "      <td>3</td>\n",
       "      <td>cathy</td>\n",
       "    </tr>\n",
       "  </tbody>\n",
       "</table>\n",
       "</div>"
      ],
      "text/plain": [
       "   id   name\n",
       "0   1  alice\n",
       "1   2    bob\n",
       "2   3  cathy"
      ]
     },
     "execution_count": 31,
     "metadata": {},
     "output_type": "execute_result"
    }
   ],
   "source": [
    "table = pa.table(\n",
    "    {\n",
    "        \"id\": pa.array([1, 2, 3], type=pa.int16()),\n",
    "        \"name\": pa.array([\"alice\", \"bob\", \"cathy\"]),\n",
    "    }\n",
    ")\n",
    "table.to_pandas()"
   ]
  },
  {
   "cell_type": "code",
   "execution_count": null,
   "id": "44a69026",
   "metadata": {},
   "outputs": [],
   "source": []
  }
 ],
 "metadata": {
  "kernelspec": {
   "display_name": "conda_python3",
   "language": "python",
   "name": "conda_python3"
  },
  "language_info": {
   "codemirror_mode": {
    "name": "ipython",
    "version": 3
   },
   "file_extension": ".py",
   "mimetype": "text/x-python",
   "name": "python",
   "nbconvert_exporter": "python",
   "pygments_lexer": "ipython3",
   "version": "3.6.13"
  }
 },
 "nbformat": 4,
 "nbformat_minor": 5
}
