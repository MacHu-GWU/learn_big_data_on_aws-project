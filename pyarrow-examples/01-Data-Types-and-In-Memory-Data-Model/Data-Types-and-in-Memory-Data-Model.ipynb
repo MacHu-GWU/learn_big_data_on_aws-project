{
 "cells": [
  {
   "cell_type": "markdown",
   "id": "0767acc0",
   "metadata": {},
   "source": [
    "- Data Types and In-Memory Data Model: https://arrow.apache.org/docs/python/data.html\n"
   ]
  },
  {
   "cell_type": "code",
   "execution_count": 30,
   "id": "0834dee1",
   "metadata": {},
   "outputs": [],
   "source": [
    "import pyarrow as pa\n",
    "import pandas as pd"
   ]
  },
  {
   "cell_type": "markdown",
   "id": "b63a1169",
   "metadata": {},
   "source": [
    "## Type Metadata\n",
    "\n",
    "Apache Arrow defines language agnostic column-oriented data structures for array data. These include:\n",
    "\n",
    "- Fixed-length primitive types: ``numbers``, ``booleans``, ``date and times``, ``fixed size binary``, ``decimals``, and other values that fit into a given number\n",
    "- Variable-length primitive types: ``binary``, ``string``\n",
    "- Nested types: ``list``, ``map``, ``struct``, and ``union``\n",
    "- Dictionary type: An encoded categorical type (more on this later)\n"
   ]
  },
  {
   "cell_type": "code",
   "execution_count": 31,
   "id": "287538db",
   "metadata": {},
   "outputs": [
    {
     "data": {
      "text/plain": [
       "DataType(int32)"
      ]
     },
     "execution_count": 31,
     "metadata": {},
     "output_type": "execute_result"
    }
   ],
   "source": [
    "t1 = pa.int32()\n",
    "t1"
   ]
  },
  {
   "cell_type": "code",
   "execution_count": 32,
   "id": "f4efc848",
   "metadata": {},
   "outputs": [
    {
     "data": {
      "text/plain": [
       "DataType(string)"
      ]
     },
     "execution_count": 32,
     "metadata": {},
     "output_type": "execute_result"
    }
   ],
   "source": [
    "t2 = pa.string()\n",
    "t2"
   ]
  },
  {
   "cell_type": "code",
   "execution_count": 33,
   "id": "7bcec263",
   "metadata": {},
   "outputs": [
    {
     "data": {
      "text/plain": [
       "DataType(binary)"
      ]
     },
     "execution_count": 33,
     "metadata": {},
     "output_type": "execute_result"
    }
   ],
   "source": [
    "t3 = pa.binary()\n",
    "t3"
   ]
  },
  {
   "cell_type": "code",
   "execution_count": 34,
   "id": "35c3b33a",
   "metadata": {},
   "outputs": [
    {
     "data": {
      "text/plain": [
       "FixedSizeBinaryType(fixed_size_binary[10])"
      ]
     },
     "execution_count": 34,
     "metadata": {},
     "output_type": "execute_result"
    }
   ],
   "source": [
    "t4 = pa.binary(10)\n",
    "t4"
   ]
  },
  {
   "cell_type": "code",
   "execution_count": 35,
   "id": "e61cb444",
   "metadata": {},
   "outputs": [
    {
     "data": {
      "text/plain": [
       "TimestampType(timestamp[ms])"
      ]
     },
     "execution_count": 35,
     "metadata": {},
     "output_type": "execute_result"
    }
   ],
   "source": [
    "# ref: https://arrow.apache.org/docs/python/generated/pyarrow.timestamp.html\n",
    "t5 = pa.timestamp(\"ms\") # precision, one of ‘s’ [second], ‘ms’ [millisecond], ‘us’ [microsecond], or ‘ns’ [nanosecond]\n",
    "t5"
   ]
  },
  {
   "cell_type": "code",
   "execution_count": 36,
   "id": "79a053e5",
   "metadata": {},
   "outputs": [
    {
     "data": {
      "text/plain": [
       "pyarrow.Field<int32_field: int32>"
      ]
     },
     "execution_count": 36,
     "metadata": {},
     "output_type": "execute_result"
    }
   ],
   "source": [
    "# The Field type is a type plus a name and optional user-defined metadata:\n",
    "f0 = pa.field('int32_field', t1)\n",
    "f0"
   ]
  },
  {
   "cell_type": "code",
   "execution_count": 37,
   "id": "ca711b3f",
   "metadata": {},
   "outputs": [
    {
     "data": {
      "text/plain": [
       "'int32_field'"
      ]
     },
     "execution_count": 37,
     "metadata": {},
     "output_type": "execute_result"
    }
   ],
   "source": [
    "f0.name"
   ]
  },
  {
   "cell_type": "code",
   "execution_count": 38,
   "id": "4eca1240",
   "metadata": {},
   "outputs": [
    {
     "data": {
      "text/plain": [
       "DataType(int32)"
      ]
     },
     "execution_count": 38,
     "metadata": {},
     "output_type": "execute_result"
    }
   ],
   "source": [
    "f0.type"
   ]
  },
  {
   "cell_type": "code",
   "execution_count": 39,
   "id": "cfbcb66f",
   "metadata": {},
   "outputs": [
    {
     "data": {
      "text/plain": [
       "ListType(list<item: int32>)"
      ]
     },
     "execution_count": 39,
     "metadata": {},
     "output_type": "execute_result"
    }
   ],
   "source": [
    "# Arrow supports nested value types like list, map, struct, and union. \n",
    "# When creating these, you must pass types or fields to indicate \n",
    "# the data types of the types’ children. \n",
    "# For example, we can define a list of int32 values with:\n",
    "t6 = pa.list_(t1)\n",
    "t6"
   ]
  },
  {
   "cell_type": "code",
   "execution_count": 40,
   "id": "64cb9482",
   "metadata": {},
   "outputs": [
    {
     "data": {
      "text/plain": [
       "StructType(struct<s0: int32, s1: string, s2: fixed_size_binary[10], s3: list<item: int32>>)"
      ]
     },
     "execution_count": 40,
     "metadata": {},
     "output_type": "execute_result"
    }
   ],
   "source": [
    "fields = [\n",
    "    pa.field(\"s0\", t1),\n",
    "    pa.field(\"s1\", t2),\n",
    "    pa.field(\"s2\", t4),\n",
    "    pa.field(\"s3\", t6),\n",
    "]\n",
    "t7 = pa.struct(fields)\n",
    "t7"
   ]
  },
  {
   "cell_type": "code",
   "execution_count": 41,
   "id": "290a8e9d",
   "metadata": {},
   "outputs": [
    {
     "data": {
      "text/plain": [
       "StructType(struct<s0: int32, s1: string, s2: fixed_size_binary[10], s3: list<item: int32>>)"
      ]
     },
     "execution_count": 41,
     "metadata": {},
     "output_type": "execute_result"
    }
   ],
   "source": [
    "# For convenience, you can pass (name, type) tuples directly instead of Field instances:\n",
    "t8 = pa.struct([('s0', t1), ('s1', t2), ('s2', t4), ('s3', t6)])\n",
    "t8"
   ]
  },
  {
   "cell_type": "code",
   "execution_count": 42,
   "id": "50e3b364",
   "metadata": {},
   "outputs": [
    {
     "data": {
      "text/plain": [
       "True"
      ]
     },
     "execution_count": 42,
     "metadata": {},
     "output_type": "execute_result"
    }
   ],
   "source": [
    "# You can compare type\n",
    "t8 == t7"
   ]
  },
  {
   "cell_type": "markdown",
   "id": "5f4a86d3",
   "metadata": {},
   "source": [
    "## Schemas\n",
    "\n",
    "The ``Schema`` type is similar to the ``struct`` array type; it defines the column names and types in a record batch or table data structure. The ``pyarrow.schema()`` factory function makes new Schema objects in Python:"
   ]
  },
  {
   "cell_type": "code",
   "execution_count": 43,
   "id": "c368e89e",
   "metadata": {},
   "outputs": [
    {
     "data": {
      "text/plain": [
       "field0: int32\n",
       "field1: string\n",
       "field2: fixed_size_binary[10]\n",
       "field3: list<item: int32>\n",
       "  child 0, item: int32"
      ]
     },
     "execution_count": 43,
     "metadata": {},
     "output_type": "execute_result"
    }
   ],
   "source": [
    "my_schema = pa.schema([\n",
    "    (\"field0\", t1),\n",
    "    (\"field1\", t2),\n",
    "    (\"field2\", t4),\n",
    "    (\"field3\", t6),\n",
    "])\n",
    "my_schema"
   ]
  },
  {
   "cell_type": "markdown",
   "id": "e2f8c518",
   "metadata": {},
   "source": [
    "## Arrays\n",
    "\n",
    "[EN]\n",
    "\n",
    "For each data type, there is an accompanying array data structure for holding memory buffers that define a single contiguous chunk of columnar array data. When you are using PyArrow, this data may come from IPC tools, though it can also be created from various types of Python sequences (lists, NumPy arrays, pandas data).\n",
    "\n",
    "[CN]\n",
    "\n",
    "pyarrow 的 Array"
   ]
  },
  {
   "cell_type": "code",
   "execution_count": 44,
   "id": "0a635411",
   "metadata": {},
   "outputs": [
    {
     "data": {
      "text/plain": [
       "<pyarrow.lib.Int64Array object at 0x7fdc5e7dec48>\n",
       "[\n",
       "  1,\n",
       "  2,\n",
       "  null,\n",
       "  3\n",
       "]"
      ]
     },
     "execution_count": 44,
     "metadata": {},
     "output_type": "execute_result"
    }
   ],
   "source": [
    "# A simple way to create arrays is with pyarrow.array, \n",
    "# which is similar to the numpy.array function. \n",
    "# By default PyArrow will infer the data type for you:\n",
    "arr = pa.array([1, 2, None, 3])\n",
    "arr"
   ]
  },
  {
   "cell_type": "code",
   "execution_count": 45,
   "id": "48ec9be9",
   "metadata": {},
   "outputs": [],
   "source": [
    "# But you may also pass a specific data type to override type inference:"
   ]
  },
  {
   "cell_type": "code",
   "execution_count": 46,
   "id": "6e6968c4",
   "metadata": {},
   "outputs": [
    {
     "data": {
      "text/plain": [
       "<pyarrow.lib.UInt16Array object at 0x7fdc5e7de648>\n",
       "[\n",
       "  1,\n",
       "  2\n",
       "]"
      ]
     },
     "execution_count": 46,
     "metadata": {},
     "output_type": "execute_result"
    }
   ],
   "source": [
    "pa.array([1, 2], type=pa.uint16())"
   ]
  },
  {
   "cell_type": "code",
   "execution_count": 47,
   "id": "fd7b36c8",
   "metadata": {},
   "outputs": [
    {
     "data": {
      "text/plain": [
       "DataType(int64)"
      ]
     },
     "execution_count": 47,
     "metadata": {},
     "output_type": "execute_result"
    }
   ],
   "source": [
    "# The array’s type attribute is the corresponding piece of type metadata:\n",
    "arr.type"
   ]
  },
  {
   "cell_type": "code",
   "execution_count": 48,
   "id": "8d6fd6fb",
   "metadata": {},
   "outputs": [
    {
     "data": {
      "text/plain": [
       "4"
      ]
     },
     "execution_count": 48,
     "metadata": {},
     "output_type": "execute_result"
    }
   ],
   "source": [
    "# Each in-memory array has a known length and null count (which will be 0 if there are no null values):\n",
    "len(arr)"
   ]
  },
  {
   "cell_type": "code",
   "execution_count": 49,
   "id": "bf92662b",
   "metadata": {},
   "outputs": [
    {
     "data": {
      "text/plain": [
       "1"
      ]
     },
     "execution_count": 49,
     "metadata": {},
     "output_type": "execute_result"
    }
   ],
   "source": [
    "arr.null_count"
   ]
  },
  {
   "cell_type": "code",
   "execution_count": 50,
   "id": "4977c3b7",
   "metadata": {},
   "outputs": [
    {
     "data": {
      "text/plain": [
       "<pyarrow.Int64Scalar: 1>"
      ]
     },
     "execution_count": 50,
     "metadata": {},
     "output_type": "execute_result"
    }
   ],
   "source": [
    "# Scalar values can be selected with normal indexing. \n",
    "# pyarrow.array converts None values to Arrow nulls; \n",
    "# we return the special pyarrow.NA value for nulls:\n",
    "arr[0]"
   ]
  },
  {
   "cell_type": "code",
   "execution_count": 51,
   "id": "326c024f",
   "metadata": {},
   "outputs": [
    {
     "data": {
      "text/plain": [
       "<pyarrow.Int64Scalar: None>"
      ]
     },
     "execution_count": 51,
     "metadata": {},
     "output_type": "execute_result"
    }
   ],
   "source": [
    "arr[2]"
   ]
  },
  {
   "cell_type": "markdown",
   "id": "75116a48",
   "metadata": {},
   "source": [
    "### List Array\n",
    "\n",
    "List Array 就是 Array 中的元素还是 Array"
   ]
  },
  {
   "cell_type": "code",
   "execution_count": 52,
   "id": "1d830533",
   "metadata": {},
   "outputs": [
    {
     "data": {
      "text/plain": [
       "ListType(list<item: int64>)"
      ]
     },
     "execution_count": 52,
     "metadata": {},
     "output_type": "execute_result"
    }
   ],
   "source": [
    "nested_arr = pa.array([[], None, [1, 2], [None, 1]])\n",
    "nested_arr.type"
   ]
  },
  {
   "cell_type": "markdown",
   "id": "d3fdec79",
   "metadata": {},
   "source": [
    "### Struct Array\n",
    "\n",
    "Struct Array 就是 Array 中的元素是 Struct"
   ]
  },
  {
   "cell_type": "code",
   "execution_count": 53,
   "id": "d19627c8",
   "metadata": {},
   "outputs": [
    {
     "data": {
      "text/plain": [
       "<pyarrow.lib.StructArray object at 0x7fdc5e7dea68>\n",
       "-- is_valid: all not null\n",
       "-- child 0 type: int64\n",
       "  [\n",
       "    1,\n",
       "    4\n",
       "  ]\n",
       "-- child 1 type: bool\n",
       "  [\n",
       "    true,\n",
       "    null\n",
       "  ]\n",
       "-- child 2 type: double\n",
       "  [\n",
       "    null,\n",
       "    3.4\n",
       "  ]"
      ]
     },
     "execution_count": 53,
     "metadata": {},
     "output_type": "execute_result"
    }
   ],
   "source": [
    "pa.array([{\"x\": 1, \"y\": True}, {\"z\": 3.4, \"x\": 4}])"
   ]
  },
  {
   "cell_type": "code",
   "execution_count": 54,
   "id": "cbb87012",
   "metadata": {},
   "outputs": [
    {
     "data": {
      "text/plain": [
       "<pyarrow.lib.StructArray object at 0x7fdc5e7deac8>\n",
       "-- is_valid: all not null\n",
       "-- child 0 type: int8\n",
       "  [\n",
       "    1,\n",
       "    2\n",
       "  ]\n",
       "-- child 1 type: bool\n",
       "  [\n",
       "    true,\n",
       "    false\n",
       "  ]"
      ]
     },
     "execution_count": 54,
     "metadata": {},
     "output_type": "execute_result"
    }
   ],
   "source": [
    "ty = pa.struct([\n",
    "    (\"x\", pa.int8()),\n",
    "    (\"y\", pa.bool_()),\n",
    "])\n",
    "pa.array([{\"x\": 1, \"y\": True}, {\"x\": 2, \"y\": False}], type=ty)"
   ]
  },
  {
   "cell_type": "code",
   "execution_count": 56,
   "id": "c07e5de7",
   "metadata": {},
   "outputs": [
    {
     "data": {
      "text/plain": [
       "<pyarrow.lib.StructArray object at 0x7fdc5e7dee88>\n",
       "-- is_valid: all not null\n",
       "-- child 0 type: int8\n",
       "  [\n",
       "    3,\n",
       "    4\n",
       "  ]\n",
       "-- child 1 type: bool\n",
       "  [\n",
       "    true,\n",
       "    false\n",
       "  ]"
      ]
     },
     "execution_count": 56,
     "metadata": {},
     "output_type": "execute_result"
    }
   ],
   "source": [
    "# 如果定义了类型, 那么初始化的时候传入值就可以了, 无需传入 key\n",
    "pa.array([(3, True), (4, False)], type=ty)"
   ]
  },
  {
   "cell_type": "code",
   "execution_count": 57,
   "id": "fa9ba79c",
   "metadata": {},
   "outputs": [
    {
     "data": {
      "text/plain": [
       "<pyarrow.lib.StructArray object at 0x7fdc5e7def48>\n",
       "-- is_valid:\n",
       "  [\n",
       "    true,\n",
       "    false,\n",
       "    true\n",
       "  ]\n",
       "-- child 0 type: int8\n",
       "  [\n",
       "    1,\n",
       "    0,\n",
       "    null\n",
       "  ]\n",
       "-- child 1 type: bool\n",
       "  [\n",
       "    null,\n",
       "    false,\n",
       "    null\n",
       "  ]"
      ]
     },
     "execution_count": 57,
     "metadata": {},
     "output_type": "execute_result"
    }
   ],
   "source": [
    "# When initializing a struct array, nulls are allowed both at the struct level and at the individual field level.\n",
    "# If initializing from a sequence of Python dicts, a missing dict key is handled as a null value:\n",
    "pa.array([{\"x\": 1}, None, {\"y\": None}], type=ty)"
   ]
  },
  {
   "cell_type": "code",
   "execution_count": 59,
   "id": "19c187a5",
   "metadata": {},
   "outputs": [
    {
     "data": {
      "text/plain": [
       "StructType(struct<x: int16, y: bool>)"
      ]
     },
     "execution_count": 59,
     "metadata": {},
     "output_type": "execute_result"
    }
   ],
   "source": [
    "# You can also construct a struct array from existing arrays for each of the struct’s components. \n",
    "# In this case, data storage will be shared with the individual arrays, and no copy is involved:\n",
    "xs = pa.array([5, 6, 7], type=pa.int16())\n",
    "ys = pa.array([False, True, True])\n",
    "arr = pa.StructArray.from_arrays((xs, ys), names=(\"x\", \"y\"))\n",
    "arr.type"
   ]
  },
  {
   "cell_type": "code",
   "execution_count": 60,
   "id": "5af84f90",
   "metadata": {},
   "outputs": [
    {
     "data": {
      "text/plain": [
       "<pyarrow.lib.StructArray object at 0x7fdc5e7deca8>\n",
       "-- is_valid: all not null\n",
       "-- child 0 type: int16\n",
       "  [\n",
       "    5,\n",
       "    6,\n",
       "    7\n",
       "  ]\n",
       "-- child 1 type: bool\n",
       "  [\n",
       "    false,\n",
       "    true,\n",
       "    true\n",
       "  ]"
      ]
     },
     "execution_count": 60,
     "metadata": {},
     "output_type": "execute_result"
    }
   ],
   "source": [
    "arr"
   ]
  },
  {
   "cell_type": "markdown",
   "id": "e699f4c6",
   "metadata": {},
   "source": [
    "## Record Batches\n",
    "\n",
    "[EN]\n",
    "\n",
    "A Record Batch in Apache Arrow is a collection of equal-length array instances. Let’s consider a collection of arrays:\n",
    "\n",
    "[CN]\n",
    "\n",
    "Record Batch 本质上就是一个迷你型的 DataFrame, 包含多个等长 Array, 每个 Array 视为一个 Column.\n",
    "\n",
    "Ref: https://arrow.apache.org/docs/python/data.html#record-batches"
   ]
  },
  {
   "cell_type": "code",
   "execution_count": 67,
   "id": "16063f45",
   "metadata": {},
   "outputs": [
    {
     "data": {
      "text/plain": [
       "[<pyarrow.lib.Int64Array object at 0x7fdc5e7de6a8>\n",
       " [\n",
       "   1,\n",
       "   2,\n",
       "   3,\n",
       "   4\n",
       " ],\n",
       " <pyarrow.lib.StringArray object at 0x7fdc5e7de408>\n",
       " [\n",
       "   \"foo\",\n",
       "   \"bar\",\n",
       "   \"baz\",\n",
       "   null\n",
       " ],\n",
       " <pyarrow.lib.BooleanArray object at 0x7fdc5e7de3a8>\n",
       " [\n",
       "   true,\n",
       "   null,\n",
       "   false,\n",
       "   true\n",
       " ]]"
      ]
     },
     "execution_count": 67,
     "metadata": {},
     "output_type": "execute_result"
    }
   ],
   "source": [
    "# 初始化方法 1: 不给 headers, 直接给列表数据, 列表中的每个元素是一个 array, 代表一个 column\n",
    "data = [\n",
    "    pa.array([1, 2, 3, 4]),\n",
    "    pa.array(['foo', 'bar', 'baz', None]),\n",
    "    pa.array([True, None, False, True])\n",
    "]\n",
    "data"
   ]
  },
  {
   "cell_type": "code",
   "execution_count": 69,
   "id": "a4b3e523",
   "metadata": {},
   "outputs": [
    {
     "data": {
      "text/plain": [
       "pyarrow.RecordBatch\n",
       "f0: int64\n",
       "f1: string\n",
       "f2: bool"
      ]
     },
     "execution_count": 69,
     "metadata": {},
     "output_type": "execute_result"
    }
   ],
   "source": [
    "# 初始化方法 2: 给 headers 也给列表数据\n",
    "# A record batch can be created from this list of arrays using ``RecordBatch.from_arrays``:\n",
    "batch = pa.RecordBatch.from_arrays(data, [\"f0\", \"f1\", \"f2\"])\n",
    "batch"
   ]
  },
  {
   "cell_type": "code",
   "execution_count": 70,
   "id": "8bbbd019",
   "metadata": {},
   "outputs": [
    {
     "data": {
      "text/plain": [
       "3"
      ]
     },
     "execution_count": 70,
     "metadata": {},
     "output_type": "execute_result"
    }
   ],
   "source": [
    "batch.num_columns"
   ]
  },
  {
   "cell_type": "code",
   "execution_count": 63,
   "id": "c64c7bac",
   "metadata": {},
   "outputs": [
    {
     "data": {
      "text/plain": [
       "4"
      ]
     },
     "execution_count": 63,
     "metadata": {},
     "output_type": "execute_result"
    }
   ],
   "source": [
    "batch.num_rows"
   ]
  },
  {
   "cell_type": "code",
   "execution_count": 64,
   "id": "7ba5f5a1",
   "metadata": {},
   "outputs": [
    {
     "data": {
      "text/plain": [
       "f0: int64\n",
       "f1: string\n",
       "f2: bool"
      ]
     },
     "execution_count": 64,
     "metadata": {},
     "output_type": "execute_result"
    }
   ],
   "source": [
    "batch.schema"
   ]
  },
  {
   "cell_type": "code",
   "execution_count": 65,
   "id": "1d054d34",
   "metadata": {},
   "outputs": [
    {
     "data": {
      "text/plain": [
       "<pyarrow.lib.StringArray object at 0x7fdc5e7de7c8>\n",
       "[\n",
       "  \"foo\",\n",
       "  \"bar\",\n",
       "  \"baz\",\n",
       "  null\n",
       "]"
      ]
     },
     "execution_count": 65,
     "metadata": {},
     "output_type": "execute_result"
    }
   ],
   "source": [
    "batch[1]"
   ]
  },
  {
   "cell_type": "markdown",
   "id": "fcfff568",
   "metadata": {},
   "source": [
    "## Tables\n",
    "\n",
    "[EN]\n",
    "\n",
    "The PyArrow Table type is not part of the Apache Arrow specification, but is rather a tool to help with wrangling multiple record batches and array pieces as a single logical dataset. As a relevant example, we may receive multiple small record batches in a socket stream, then need to concatenate them into contiguous memory for use in NumPy or pandas. The Table object makes this efficient without requiring additional memory copying.\n",
    "\n",
    "Considering the record batch we created above, we can create a Table containing one or more copies of the batch using Table.from_batches:\n",
    "\n",
    "[CN]\n",
    "\n",
    "``pyarrow.Table`` 不是 Apache Arrow 的标准之一, 这是 pyarrow 为适合 Python 编程提供的抽象, 和 ``pandas.DataFrame`` 类似, 代表一个二维表\n",
    "\n"
   ]
  },
  {
   "cell_type": "code",
   "execution_count": 71,
   "id": "494eebfc",
   "metadata": {},
   "outputs": [
    {
     "data": {
      "text/plain": [
       "pyarrow.Table\n",
       "f0: int64\n",
       "f1: string\n",
       "f2: bool\n",
       "----\n",
       "f0: [[1,2,3,4],[1,2,3,4],[1,2,3,4],[1,2,3,4],[1,2,3,4]]\n",
       "f1: [[\"foo\",\"bar\",\"baz\",null],[\"foo\",\"bar\",\"baz\",null],[\"foo\",\"bar\",\"baz\",null],[\"foo\",\"bar\",\"baz\",null],[\"foo\",\"bar\",\"baz\",null]]\n",
       "f2: [[true,null,false,true],[true,null,false,true],[true,null,false,true],[true,null,false,true],[true,null,false,true]]"
      ]
     },
     "execution_count": 71,
     "metadata": {},
     "output_type": "execute_result"
    }
   ],
   "source": [
    "batches = [batch] * 5\n",
    "table = pa.Table.from_batches(batches)\n",
    "table"
   ]
  },
  {
   "cell_type": "code",
   "execution_count": null,
   "id": "0b535c98",
   "metadata": {},
   "outputs": [],
   "source": []
  }
 ],
 "metadata": {
  "kernelspec": {
   "display_name": "conda_pytorch_p36",
   "language": "python",
   "name": "conda_pytorch_p36"
  },
  "language_info": {
   "codemirror_mode": {
    "name": "ipython",
    "version": 3
   },
   "file_extension": ".py",
   "mimetype": "text/x-python",
   "name": "python",
   "nbconvert_exporter": "python",
   "pygments_lexer": "ipython3",
   "version": "3.6.13"
  }
 },
 "nbformat": 4,
 "nbformat_minor": 5
}
