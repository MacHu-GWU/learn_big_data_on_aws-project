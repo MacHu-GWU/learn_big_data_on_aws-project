{
 "cells": [
  {
   "cell_type": "markdown",
   "id": "09a1d390",
   "metadata": {},
   "source": [
    "# Data Wrangling with ``pyarrow``"
   ]
  },
  {
   "cell_type": "markdown",
   "id": "53094c80",
   "metadata": {},
   "source": [
    "## Index 和 Slice 的概念及用途\n",
    "\n",
    "**概念**\n",
    "\n",
    "pyarrow 和 pandas 都有类似 index 的概念. 所谓 index 就是行号, 给每行的一个标识. 在数据处理中 ``RangeIndex`` 是最常用的也是性能最好的 index. ``RangeIndex`` 的意思是给行自动从 0, 1, 2, ... 开始给定序号. 这样做可以无需真的在内存中维护 index 的数据, 而只要在 metadata 中记录我们用的是 ``RangeIndex`` 即可, 从而节约内存.\n",
    "\n",
    "slice 的概念是对一个 array 进行切片, 这和 python 中的 list slicing 很像. 既然要切片就要有一个规定怎么切. 那么 index 就是这个规定怎么切的标记. 例如你有个 array ``[\"a\", \"b\", \"c\", \"d\"]``, 又有一个 index ``[3, 2, 1, 0]``, 那么切出来就是 ``[\"d\", \"c\", \"b\", \"a\"]``. 使用 slice 操作还有一个好处是不会对数据进行拷贝, 只是基于 index 创建一个新的 view. \n",
    "\n",
    "**用途**\n",
    "\n",
    "在数据处理中, 选取符合条件的部分行, 对行进行排序, 等各种操作都是通过 index 和 slice 进行的. \n",
    "\n",
    "- 比如你要对某一列中的所有 null 的值给予一个默认值, 这个操作的本质是: 先找到所有 null 值的位置的 index, 然后根据 index slice 一下, 给这些内存地址赋值.\n",
    "- 比如你要根据某一列的值对所有行排序, 这个操作的本质是: 对某列的值进行排序, 获得按序排列的 index, 然后根据 index slice 一下, 给 table 创建一个新的 view.\n",
    "- 比如你要选取符合条件的不分行, 这个操作的本质是: 对列中的值根据条件进行筛选, 获得符合条件的行的 index, 然后根据 index slice 一下, 给 table 创建一个新的 view.\n",
    "\n",
    "所以 Index 和 Slice 对于数据处理是非常重要的."
   ]
  },
  {
   "cell_type": "code",
   "execution_count": 2,
   "id": "4ed3df12",
   "metadata": {},
   "outputs": [],
   "source": [
    "import numpy as np\n",
    "import pandas as pd\n",
    "import pyarrow as pa\n",
    "import pyarrow.compute as pc"
   ]
  },
  {
   "cell_type": "markdown",
   "id": "b09dbe3c",
   "metadata": {},
   "source": [
    "## Sort by value\n",
    "\n",
    "在 pyarrow 中, 和 pandas 类似, 对行的访问也是通过 index 的. 你想要 基于某个(或多个)列的值 对行进行排序. 这个行为的本质是对列的值进行排序, 获得一个 indice, 然后用这个 indice 去 slice 原来的 Table, 获得一个 view (不进行数据拷贝). 这里有两个关键的 API: ``pyarrow.compute.sort_indices``, 获得一个 基于某个(或多个)列的值 对行进行排序 的 indice. ``pyarrow.compute.take``, 用 indice 对 array liked object 进行 slice, 可以是 array, 也可以是 Table.\n",
    "\n",
    "Ref:\n",
    "\n",
    "- https://arrow.apache.org/docs/python/generated/pyarrow.compute.take.html#pyarrow.compute.take\n",
    "- https://arrow.apache.org/docs/python/generated/pyarrow.compute.sort_indices.html#pyarrow.compute.sort_indices"
   ]
  },
  {
   "cell_type": "markdown",
   "id": "9f76936e",
   "metadata": {},
   "source": [
    "**根据一列排序**"
   ]
  },
  {
   "cell_type": "code",
   "execution_count": 2,
   "id": "a3ab44a6",
   "metadata": {},
   "outputs": [
    {
     "data": {
      "text/html": [
       "<div>\n",
       "<style scoped>\n",
       "    .dataframe tbody tr th:only-of-type {\n",
       "        vertical-align: middle;\n",
       "    }\n",
       "\n",
       "    .dataframe tbody tr th {\n",
       "        vertical-align: top;\n",
       "    }\n",
       "\n",
       "    .dataframe thead th {\n",
       "        text-align: right;\n",
       "    }\n",
       "</style>\n",
       "<table border=\"1\" class=\"dataframe\">\n",
       "  <thead>\n",
       "    <tr style=\"text-align: right;\">\n",
       "      <th></th>\n",
       "      <th>account_id</th>\n",
       "      <th>account_type</th>\n",
       "      <th>balance</th>\n",
       "    </tr>\n",
       "  </thead>\n",
       "  <tbody>\n",
       "    <tr>\n",
       "      <th>0</th>\n",
       "      <td>1</td>\n",
       "      <td>checking</td>\n",
       "      <td>57</td>\n",
       "    </tr>\n",
       "    <tr>\n",
       "      <th>1</th>\n",
       "      <td>2</td>\n",
       "      <td>saving</td>\n",
       "      <td>62</td>\n",
       "    </tr>\n",
       "    <tr>\n",
       "      <th>2</th>\n",
       "      <td>3</td>\n",
       "      <td>checking</td>\n",
       "      <td>23</td>\n",
       "    </tr>\n",
       "    <tr>\n",
       "      <th>3</th>\n",
       "      <td>4</td>\n",
       "      <td>saving</td>\n",
       "      <td>18</td>\n",
       "    </tr>\n",
       "    <tr>\n",
       "      <th>4</th>\n",
       "      <td>5</td>\n",
       "      <td>checking</td>\n",
       "      <td>79</td>\n",
       "    </tr>\n",
       "    <tr>\n",
       "      <th>5</th>\n",
       "      <td>6</td>\n",
       "      <td>saving</td>\n",
       "      <td>94</td>\n",
       "    </tr>\n",
       "  </tbody>\n",
       "</table>\n",
       "</div>"
      ],
      "text/plain": [
       "   account_id account_type  balance\n",
       "0           1     checking       57\n",
       "1           2       saving       62\n",
       "2           3     checking       23\n",
       "3           4       saving       18\n",
       "4           5     checking       79\n",
       "5           6       saving       94"
      ]
     },
     "execution_count": 2,
     "metadata": {},
     "output_type": "execute_result"
    }
   ],
   "source": [
    "t = pa.table({\n",
    "    \"account_id\": [1, 2, 3, 4, 5, 6],\n",
    "    \"account_type\": [\"checking\", \"saving\", \"checking\", \"saving\", \"checking\", \"saving\"],\n",
    "    \"balance\": [57, 62, 23, 18, 79, 94]\n",
    "})\n",
    "t.to_pandas()"
   ]
  },
  {
   "cell_type": "code",
   "execution_count": 3,
   "id": "910203e3",
   "metadata": {},
   "outputs": [
    {
     "data": {
      "text/plain": [
       "<pyarrow.lib.UInt64Array object at 0x7f195ba59b88>\n",
       "[\n",
       "  3,\n",
       "  2,\n",
       "  0,\n",
       "  1,\n",
       "  4,\n",
       "  5\n",
       "]"
      ]
     },
     "execution_count": 3,
     "metadata": {},
     "output_type": "execute_result"
    }
   ],
   "source": [
    "indice = pc.sort_indices(t, sort_keys=[(\"balance\", \"ascending\")])\n",
    "indice"
   ]
  },
  {
   "cell_type": "code",
   "execution_count": 4,
   "id": "7063138d",
   "metadata": {},
   "outputs": [
    {
     "data": {
      "text/html": [
       "<div>\n",
       "<style scoped>\n",
       "    .dataframe tbody tr th:only-of-type {\n",
       "        vertical-align: middle;\n",
       "    }\n",
       "\n",
       "    .dataframe tbody tr th {\n",
       "        vertical-align: top;\n",
       "    }\n",
       "\n",
       "    .dataframe thead th {\n",
       "        text-align: right;\n",
       "    }\n",
       "</style>\n",
       "<table border=\"1\" class=\"dataframe\">\n",
       "  <thead>\n",
       "    <tr style=\"text-align: right;\">\n",
       "      <th></th>\n",
       "      <th>account_id</th>\n",
       "      <th>account_type</th>\n",
       "      <th>balance</th>\n",
       "    </tr>\n",
       "  </thead>\n",
       "  <tbody>\n",
       "    <tr>\n",
       "      <th>0</th>\n",
       "      <td>4</td>\n",
       "      <td>saving</td>\n",
       "      <td>18</td>\n",
       "    </tr>\n",
       "    <tr>\n",
       "      <th>1</th>\n",
       "      <td>3</td>\n",
       "      <td>checking</td>\n",
       "      <td>23</td>\n",
       "    </tr>\n",
       "    <tr>\n",
       "      <th>2</th>\n",
       "      <td>1</td>\n",
       "      <td>checking</td>\n",
       "      <td>57</td>\n",
       "    </tr>\n",
       "    <tr>\n",
       "      <th>3</th>\n",
       "      <td>2</td>\n",
       "      <td>saving</td>\n",
       "      <td>62</td>\n",
       "    </tr>\n",
       "    <tr>\n",
       "      <th>4</th>\n",
       "      <td>5</td>\n",
       "      <td>checking</td>\n",
       "      <td>79</td>\n",
       "    </tr>\n",
       "    <tr>\n",
       "      <th>5</th>\n",
       "      <td>6</td>\n",
       "      <td>saving</td>\n",
       "      <td>94</td>\n",
       "    </tr>\n",
       "  </tbody>\n",
       "</table>\n",
       "</div>"
      ],
      "text/plain": [
       "   account_id account_type  balance\n",
       "0           4       saving       18\n",
       "1           3     checking       23\n",
       "2           1     checking       57\n",
       "3           2       saving       62\n",
       "4           5     checking       79\n",
       "5           6       saving       94"
      ]
     },
     "execution_count": 4,
     "metadata": {},
     "output_type": "execute_result"
    }
   ],
   "source": [
    "t_sorted_by_balance = pc.take(t, indice)\n",
    "t_sorted_by_balance.to_pandas()"
   ]
  },
  {
   "cell_type": "markdown",
   "id": "bc1c7753",
   "metadata": {},
   "source": [
    "**根据多列排序**"
   ]
  },
  {
   "cell_type": "code",
   "execution_count": 5,
   "id": "5af5cb5a",
   "metadata": {},
   "outputs": [
    {
     "data": {
      "text/html": [
       "<div>\n",
       "<style scoped>\n",
       "    .dataframe tbody tr th:only-of-type {\n",
       "        vertical-align: middle;\n",
       "    }\n",
       "\n",
       "    .dataframe tbody tr th {\n",
       "        vertical-align: top;\n",
       "    }\n",
       "\n",
       "    .dataframe thead th {\n",
       "        text-align: right;\n",
       "    }\n",
       "</style>\n",
       "<table border=\"1\" class=\"dataframe\">\n",
       "  <thead>\n",
       "    <tr style=\"text-align: right;\">\n",
       "      <th></th>\n",
       "      <th>account_id</th>\n",
       "      <th>account_type</th>\n",
       "      <th>balance</th>\n",
       "    </tr>\n",
       "  </thead>\n",
       "  <tbody>\n",
       "    <tr>\n",
       "      <th>0</th>\n",
       "      <td>3</td>\n",
       "      <td>checking</td>\n",
       "      <td>23</td>\n",
       "    </tr>\n",
       "    <tr>\n",
       "      <th>1</th>\n",
       "      <td>1</td>\n",
       "      <td>checking</td>\n",
       "      <td>57</td>\n",
       "    </tr>\n",
       "    <tr>\n",
       "      <th>2</th>\n",
       "      <td>5</td>\n",
       "      <td>checking</td>\n",
       "      <td>79</td>\n",
       "    </tr>\n",
       "    <tr>\n",
       "      <th>3</th>\n",
       "      <td>4</td>\n",
       "      <td>saving</td>\n",
       "      <td>18</td>\n",
       "    </tr>\n",
       "    <tr>\n",
       "      <th>4</th>\n",
       "      <td>2</td>\n",
       "      <td>saving</td>\n",
       "      <td>62</td>\n",
       "    </tr>\n",
       "    <tr>\n",
       "      <th>5</th>\n",
       "      <td>6</td>\n",
       "      <td>saving</td>\n",
       "      <td>94</td>\n",
       "    </tr>\n",
       "  </tbody>\n",
       "</table>\n",
       "</div>"
      ],
      "text/plain": [
       "   account_id account_type  balance\n",
       "0           3     checking       23\n",
       "1           1     checking       57\n",
       "2           5     checking       79\n",
       "3           4       saving       18\n",
       "4           2       saving       62\n",
       "5           6       saving       94"
      ]
     },
     "execution_count": 5,
     "metadata": {},
     "output_type": "execute_result"
    }
   ],
   "source": [
    "pc.take(\n",
    "    t, \n",
    "    pc.sort_indices(\n",
    "        t, \n",
    "        sort_keys=[\n",
    "            (\"account_type\", \"ascending\"), \n",
    "            (\"balance\", \"ascending\"), \n",
    "        ]\n",
    "    ),\n",
    ").to_pandas()"
   ]
  },
  {
   "cell_type": "markdown",
   "id": "ecdcbeaa",
   "metadata": {},
   "source": [
    "## Filter\n",
    "\n",
    "Filter 的关键就是先用 比较 / 测试 函数获得 logic index, 然后对多个 index 用 逻辑运算 函数进行排列组合, 最后用 ``pyarrow.compute.filter`` slice 出一个 view 即可.\n",
    "\n",
    "Ref:\n",
    "\n",
    "- https://arrow.apache.org/docs/python/api/compute.html#comparisons\n",
    "- https://arrow.apache.org/docs/python/api/compute.html#containment-tests\n",
    "- https://arrow.apache.org/docs/python/api/compute.html#logical-functions\n",
    "- https://arrow.apache.org/docs/python/generated/pyarrow.compute.filter.html#pyarrow.compute.filter"
   ]
  },
  {
   "cell_type": "code",
   "execution_count": 6,
   "id": "58d1726b",
   "metadata": {},
   "outputs": [
    {
     "data": {
      "text/html": [
       "<div>\n",
       "<style scoped>\n",
       "    .dataframe tbody tr th:only-of-type {\n",
       "        vertical-align: middle;\n",
       "    }\n",
       "\n",
       "    .dataframe tbody tr th {\n",
       "        vertical-align: top;\n",
       "    }\n",
       "\n",
       "    .dataframe thead th {\n",
       "        text-align: right;\n",
       "    }\n",
       "</style>\n",
       "<table border=\"1\" class=\"dataframe\">\n",
       "  <thead>\n",
       "    <tr style=\"text-align: right;\">\n",
       "      <th></th>\n",
       "      <th>account_id</th>\n",
       "      <th>account_type</th>\n",
       "      <th>balance</th>\n",
       "    </tr>\n",
       "  </thead>\n",
       "  <tbody>\n",
       "    <tr>\n",
       "      <th>0</th>\n",
       "      <td>1</td>\n",
       "      <td>checking</td>\n",
       "      <td>57</td>\n",
       "    </tr>\n",
       "    <tr>\n",
       "      <th>1</th>\n",
       "      <td>2</td>\n",
       "      <td>saving</td>\n",
       "      <td>62</td>\n",
       "    </tr>\n",
       "    <tr>\n",
       "      <th>2</th>\n",
       "      <td>3</td>\n",
       "      <td>checking</td>\n",
       "      <td>23</td>\n",
       "    </tr>\n",
       "    <tr>\n",
       "      <th>3</th>\n",
       "      <td>4</td>\n",
       "      <td>saving</td>\n",
       "      <td>18</td>\n",
       "    </tr>\n",
       "    <tr>\n",
       "      <th>4</th>\n",
       "      <td>5</td>\n",
       "      <td>checking</td>\n",
       "      <td>79</td>\n",
       "    </tr>\n",
       "    <tr>\n",
       "      <th>5</th>\n",
       "      <td>6</td>\n",
       "      <td>saving</td>\n",
       "      <td>94</td>\n",
       "    </tr>\n",
       "  </tbody>\n",
       "</table>\n",
       "</div>"
      ],
      "text/plain": [
       "   account_id account_type  balance\n",
       "0           1     checking       57\n",
       "1           2       saving       62\n",
       "2           3     checking       23\n",
       "3           4       saving       18\n",
       "4           5     checking       79\n",
       "5           6       saving       94"
      ]
     },
     "execution_count": 6,
     "metadata": {},
     "output_type": "execute_result"
    }
   ],
   "source": [
    "t = pa.table({\n",
    "    \"account_id\": [1, 2, 3, 4, 5, 6],\n",
    "    \"account_type\": [\"checking\", \"saving\", \"checking\", \"saving\", \"checking\", \"saving\"],\n",
    "    \"balance\": [57, 62, 23, 18, 79, 94]\n",
    "})\n",
    "t.to_pandas()"
   ]
  },
  {
   "cell_type": "code",
   "execution_count": 7,
   "id": "6c66e100",
   "metadata": {},
   "outputs": [
    {
     "data": {
      "text/html": [
       "<div>\n",
       "<style scoped>\n",
       "    .dataframe tbody tr th:only-of-type {\n",
       "        vertical-align: middle;\n",
       "    }\n",
       "\n",
       "    .dataframe tbody tr th {\n",
       "        vertical-align: top;\n",
       "    }\n",
       "\n",
       "    .dataframe thead th {\n",
       "        text-align: right;\n",
       "    }\n",
       "</style>\n",
       "<table border=\"1\" class=\"dataframe\">\n",
       "  <thead>\n",
       "    <tr style=\"text-align: right;\">\n",
       "      <th></th>\n",
       "      <th>account_id</th>\n",
       "      <th>account_type</th>\n",
       "      <th>balance</th>\n",
       "    </tr>\n",
       "  </thead>\n",
       "  <tbody>\n",
       "    <tr>\n",
       "      <th>0</th>\n",
       "      <td>1</td>\n",
       "      <td>checking</td>\n",
       "      <td>57</td>\n",
       "    </tr>\n",
       "    <tr>\n",
       "      <th>1</th>\n",
       "      <td>2</td>\n",
       "      <td>saving</td>\n",
       "      <td>62</td>\n",
       "    </tr>\n",
       "    <tr>\n",
       "      <th>2</th>\n",
       "      <td>5</td>\n",
       "      <td>checking</td>\n",
       "      <td>79</td>\n",
       "    </tr>\n",
       "    <tr>\n",
       "      <th>3</th>\n",
       "      <td>6</td>\n",
       "      <td>saving</td>\n",
       "      <td>94</td>\n",
       "    </tr>\n",
       "  </tbody>\n",
       "</table>\n",
       "</div>"
      ],
      "text/plain": [
       "   account_id account_type  balance\n",
       "0           1     checking       57\n",
       "1           2       saving       62\n",
       "2           5     checking       79\n",
       "3           6       saving       94"
      ]
     },
     "execution_count": 7,
     "metadata": {},
     "output_type": "execute_result"
    }
   ],
   "source": [
    "# 根据单个条件筛选\n",
    "pc.filter(\n",
    "    t, \n",
    "    pc.greater(t[\"balance\"], 50),\n",
    ").to_pandas()"
   ]
  },
  {
   "cell_type": "code",
   "execution_count": 8,
   "id": "3caeec7a",
   "metadata": {},
   "outputs": [
    {
     "data": {
      "text/html": [
       "<div>\n",
       "<style scoped>\n",
       "    .dataframe tbody tr th:only-of-type {\n",
       "        vertical-align: middle;\n",
       "    }\n",
       "\n",
       "    .dataframe tbody tr th {\n",
       "        vertical-align: top;\n",
       "    }\n",
       "\n",
       "    .dataframe thead th {\n",
       "        text-align: right;\n",
       "    }\n",
       "</style>\n",
       "<table border=\"1\" class=\"dataframe\">\n",
       "  <thead>\n",
       "    <tr style=\"text-align: right;\">\n",
       "      <th></th>\n",
       "      <th>account_id</th>\n",
       "      <th>account_type</th>\n",
       "      <th>balance</th>\n",
       "    </tr>\n",
       "  </thead>\n",
       "  <tbody>\n",
       "    <tr>\n",
       "      <th>0</th>\n",
       "      <td>1</td>\n",
       "      <td>checking</td>\n",
       "      <td>57</td>\n",
       "    </tr>\n",
       "    <tr>\n",
       "      <th>1</th>\n",
       "      <td>5</td>\n",
       "      <td>checking</td>\n",
       "      <td>79</td>\n",
       "    </tr>\n",
       "  </tbody>\n",
       "</table>\n",
       "</div>"
      ],
      "text/plain": [
       "   account_id account_type  balance\n",
       "0           1     checking       57\n",
       "1           5     checking       79"
      ]
     },
     "execution_count": 8,
     "metadata": {},
     "output_type": "execute_result"
    }
   ],
   "source": [
    "# 根据多个条件筛选\n",
    "pc.filter(\n",
    "    t, \n",
    "    pc.and_(\n",
    "        pc.equal(t[\"account_type\"], \"checking\"),\n",
    "        pc.greater(t[\"balance\"], 50),\n",
    "    )\n",
    ").to_pandas()"
   ]
  },
  {
   "cell_type": "markdown",
   "id": "c2088a9f",
   "metadata": {},
   "source": [
    "## Group By 分拆\n",
    "\n",
    "- ``pyarrow.Table.group_by`` 是在 7.0.0 之后加入的. 之前要用 ``pyarrow.TableGroupBy``"
   ]
  },
  {
   "cell_type": "code",
   "execution_count": 10,
   "id": "bcc2b8aa",
   "metadata": {},
   "outputs": [
    {
     "data": {
      "text/html": [
       "<div>\n",
       "<style scoped>\n",
       "    .dataframe tbody tr th:only-of-type {\n",
       "        vertical-align: middle;\n",
       "    }\n",
       "\n",
       "    .dataframe tbody tr th {\n",
       "        vertical-align: top;\n",
       "    }\n",
       "\n",
       "    .dataframe thead th {\n",
       "        text-align: right;\n",
       "    }\n",
       "</style>\n",
       "<table border=\"1\" class=\"dataframe\">\n",
       "  <thead>\n",
       "    <tr style=\"text-align: right;\">\n",
       "      <th></th>\n",
       "      <th>a</th>\n",
       "      <th>b</th>\n",
       "      <th>v</th>\n",
       "    </tr>\n",
       "  </thead>\n",
       "  <tbody>\n",
       "    <tr>\n",
       "      <th>0</th>\n",
       "      <td>a2</td>\n",
       "      <td>b3</td>\n",
       "      <td>32</td>\n",
       "    </tr>\n",
       "    <tr>\n",
       "      <th>1</th>\n",
       "      <td>a2</td>\n",
       "      <td>b3</td>\n",
       "      <td>85</td>\n",
       "    </tr>\n",
       "    <tr>\n",
       "      <th>2</th>\n",
       "      <td>a2</td>\n",
       "      <td>b1</td>\n",
       "      <td>22</td>\n",
       "    </tr>\n",
       "  </tbody>\n",
       "</table>\n",
       "</div>"
      ],
      "text/plain": [
       "    a   b   v\n",
       "0  a2  b3  32\n",
       "1  a2  b3  85\n",
       "2  a2  b1  22"
      ]
     },
     "execution_count": 10,
     "metadata": {},
     "output_type": "execute_result"
    }
   ],
   "source": [
    "n_rows = 1000\n",
    "\n",
    "a_enum = [\"a1\", \"a2\", \"a3\"]\n",
    "b_enum = [\"b1\", \"b2\", \"b3\"]\n",
    "\n",
    "t = pa.table({\n",
    "    \"a\": pa.DictionaryArray.from_arrays(\n",
    "        np.random.randint(low=0, high=len(a_enum), size=n_rows), \n",
    "        a_enum,\n",
    "    ),\n",
    "    \"b\": pa.DictionaryArray.from_arrays(\n",
    "        np.random.randint(low=0, high=len(b_enum), size=n_rows), \n",
    "        b_enum,\n",
    "    ),\n",
    "    \"v\": np.random.randint(100, size=n_rows)\n",
    "})\n",
    "t.to_pandas().head(3)"
   ]
  },
  {
   "cell_type": "code",
   "execution_count": 3,
   "id": "b4d01418",
   "metadata": {},
   "outputs": [
    {
     "ename": "AttributeError",
     "evalue": "module 'pyarrow' has no attribute 'TableGroupBy'",
     "output_type": "error",
     "traceback": [
      "\u001b[0;31m---------------------------------------------------------------------------\u001b[0m",
      "\u001b[0;31mAttributeError\u001b[0m                            Traceback (most recent call last)",
      "\u001b[0;32m<ipython-input-3-7fd7b922f0c0>\u001b[0m in \u001b[0;36m<module>\u001b[0;34m\u001b[0m\n\u001b[0;32m----> 1\u001b[0;31m \u001b[0;32mfor\u001b[0m \u001b[0mi\u001b[0m \u001b[0;32min\u001b[0m \u001b[0mpa\u001b[0m\u001b[0;34m.\u001b[0m\u001b[0mTableGroupBy\u001b[0m\u001b[0;34m(\u001b[0m\u001b[0mt\u001b[0m\u001b[0;34m,\u001b[0m \u001b[0;34m[\u001b[0m\u001b[0;34m\"a\"\u001b[0m\u001b[0;34m]\u001b[0m\u001b[0;34m)\u001b[0m\u001b[0;34m:\u001b[0m\u001b[0;34m\u001b[0m\u001b[0;34m\u001b[0m\u001b[0m\n\u001b[0m\u001b[1;32m      2\u001b[0m     \u001b[0mprint\u001b[0m\u001b[0;34m(\u001b[0m\u001b[0mi\u001b[0m\u001b[0;34m)\u001b[0m\u001b[0;34m\u001b[0m\u001b[0;34m\u001b[0m\u001b[0m\n",
      "\u001b[0;31mAttributeError\u001b[0m: module 'pyarrow' has no attribute 'TableGroupBy'"
     ]
    }
   ],
   "source": [
    "for i in pa.TableGroupBy(t, [\"a\"]):\n",
    "    print(i)"
   ]
  },
  {
   "cell_type": "code",
   "execution_count": null,
   "id": "0fdae720",
   "metadata": {},
   "outputs": [],
   "source": []
  }
 ],
 "metadata": {
  "kernelspec": {
   "display_name": "conda_pytorch_p36",
   "language": "python",
   "name": "conda_pytorch_p36"
  },
  "language_info": {
   "codemirror_mode": {
    "name": "ipython",
    "version": 3
   },
   "file_extension": ".py",
   "mimetype": "text/x-python",
   "name": "python",
   "nbconvert_exporter": "python",
   "pygments_lexer": "ipython3",
   "version": "3.6.13"
  }
 },
 "nbformat": 4,
 "nbformat_minor": 5
}
