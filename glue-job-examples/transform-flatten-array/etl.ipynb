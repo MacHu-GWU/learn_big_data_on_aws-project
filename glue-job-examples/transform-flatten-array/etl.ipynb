{
 "cells": [
  {
   "cell_type": "markdown",
   "id": "c82914bc",
   "metadata": {},
   "source": [
    "# Glue ETL Transformation - Flatten Array"
   ]
  },
  {
   "cell_type": "code",
   "execution_count": 51,
   "id": "23f13f83",
   "metadata": {},
   "outputs": [
    {
     "data": {
      "application/vnd.jupyter.widget-view+json": {
       "model_id": "8d34145efbf44bf79f36a393cbb5ad03",
       "version_major": 2,
       "version_minor": 0
      },
      "text/plain": [
       "FloatProgress(value=0.0, bar_style='info', description='Progress:', layout=Layout(height='25px', width='50%'),…"
      ]
     },
     "metadata": {},
     "output_type": "display_data"
    }
   ],
   "source": [
    "import sys\n",
    "from awsglue.transforms import *\n",
    "from awsglue.utils import getResolvedOptions\n",
    "from pyspark.context import SparkContext\n",
    "from awsglue.context import GlueContext\n",
    "from awsglue.job import Job\n",
    "from awsglue.dynamicframe import DynamicFrame\n",
    "from pprint import pprint\n",
    "\n",
    "# Create SparkContext\n",
    "sparkContext = SparkContext.getOrCreate()\n",
    "# Create Glue Context\n",
    "glueContext = GlueContext(sparkContext)\n",
    "# Get spark session\n",
    "spark = glueContext.spark_session"
   ]
  },
  {
   "cell_type": "code",
   "execution_count": 2,
   "id": "201e210a",
   "metadata": {},
   "outputs": [
    {
     "data": {
      "application/vnd.jupyter.widget-view+json": {
       "model_id": "63fb5eeff9054e7a9bb27dfd126f37ad",
       "version_major": 2,
       "version_minor": 0
      },
      "text/plain": [
       "FloatProgress(value=0.0, bar_style='info', description='Progress:', layout=Layout(height='25px', width='50%'),…"
      ]
     },
     "metadata": {},
     "output_type": "display_data"
    }
   ],
   "source": [
    "class Config:\n",
    "    bucket = \"aws-data-lab-sanhe-for-everything-us-east-2\"\n",
    "    prefix = \"poc/learn-big-data-on-aws/glue-job-examples/tranform-flatten-array\"\n",
    "    n_files = 10\n",
    "    n_records_per_file = 1000\n",
    "    n_product_category = 20\n",
    "    \n",
    "    @property\n",
    "    def s3path_prefix(self):\n",
    "        return S3Path(self.bucket, self.prefix)\n",
    "    \n",
    "config = Config()"
   ]
  },
  {
   "cell_type": "code",
   "execution_count": 3,
   "id": "c4634bed",
   "metadata": {},
   "outputs": [
    {
     "data": {
      "application/vnd.jupyter.widget-view+json": {
       "model_id": "4019c7d615854f9abec04272631b2a50",
       "version_major": 2,
       "version_minor": 0
      },
      "text/plain": [
       "FloatProgress(value=0.0, bar_style='info', description='Progress:', layout=Layout(height='25px', width='50%'),…"
      ]
     },
     "metadata": {},
     "output_type": "display_data"
    }
   ],
   "source": [
    "# gdf = Glue Dynamic Frame\n",
    "gdf = glueContext.create_dynamic_frame.from_options(\n",
    "    connection_type=\"s3\", \n",
    "    connection_options=dict(\n",
    "        paths=[\n",
    "            f\"s3://{config.bucket}/{config.prefix}/\"\n",
    "        ],\n",
    "        recurse=True,\n",
    "    ),\n",
    "    format=\"json\",\n",
    "    format_options=dict(multiLine=True),\n",
    "    transformation_ctx=\"datasource\",\n",
    ")"
   ]
  },
  {
   "cell_type": "code",
   "execution_count": 4,
   "id": "22ebae69",
   "metadata": {},
   "outputs": [
    {
     "data": {
      "application/vnd.jupyter.widget-view+json": {
       "model_id": "a28f873737be4c0795b877a273f5d1e2",
       "version_major": 2,
       "version_minor": 0
      },
      "text/plain": [
       "FloatProgress(value=0.0, bar_style='info', description='Progress:', layout=Layout(height='25px', width='50%'),…"
      ]
     },
     "metadata": {},
     "output_type": "display_data"
    },
    {
     "name": "stdout",
     "output_type": "stream",
     "text": [
      "root\n",
      "|-- id: int\n",
      "|-- name: string\n",
      "|-- price: int\n",
      "|-- specs: struct\n",
      "|    |-- color: string\n",
      "|-- categories: array\n",
      "|    |-- element: string\n",
      "|-- reviews: array\n",
      "|    |-- element: struct\n",
      "|    |    |-- rank: int\n",
      "|    |    |-- comment: string"
     ]
    }
   ],
   "source": [
    "# print data schema\n",
    "gdf.printSchema()"
   ]
  },
  {
   "cell_type": "code",
   "execution_count": 11,
   "id": "36d5dee6",
   "metadata": {},
   "outputs": [
    {
     "data": {
      "application/vnd.jupyter.widget-view+json": {
       "model_id": "cc0ee5ce9627440d8057eaf26dfa5750",
       "version_major": 2,
       "version_minor": 0
      },
      "text/plain": [
       "FloatProgress(value=0.0, bar_style='info', description='Progress:', layout=Layout(height='25px', width='50%'),…"
      ]
     },
     "metadata": {},
     "output_type": "display_data"
    },
    {
     "name": "stdout",
     "output_type": "stream",
     "text": [
      "-RECORD 0--------------------------------------------------------------------------------------------------------------------------------------------------------------------------------------------------------------------------------------------------------\n",
      " id         | 1                                                                                                                                                                                                                                                  \n",
      " name       | marriage                                                                                                                                                                                                                                           \n",
      " price      | 83                                                                                                                                                                                                                                                 \n",
      " specs      | [Red]                                                                                                                                                                                                                                              \n",
      " categories | [interesting, leave]                                                                                                                                                                                                                               \n",
      " reviews    | [[1, Several bad appear make she common heart.], [2, Leader of theory force democratic subject grow operation.], [1, Wall just few check only center sense work.], [5, Second student politics goal their.], [4, Effect find religious for know.]] \n",
      "-RECORD 1--------------------------------------------------------------------------------------------------------------------------------------------------------------------------------------------------------------------------------------------------------\n",
      " id         | 2                                                                                                                                                                                                                                                  \n",
      " name       | air                                                                                                                                                                                                                                                \n",
      " price      | 61                                                                                                                                                                                                                                                 \n",
      " specs      | [DarkOrange]                                                                                                                                                                                                                                       \n",
      " categories | [spring]                                                                                                                                                                                                                                           \n",
      " reviews    | [[4, Fear save bad.], [2, Shoulder budget amount resource allow.], [5, Share where next data little single but.]]                                                                                                                                  \n",
      "-RECORD 2--------------------------------------------------------------------------------------------------------------------------------------------------------------------------------------------------------------------------------------------------------\n",
      " id         | 3                                                                                                                                                                                                                                                  \n",
      " name       | age                                                                                                                                                                                                                                                \n",
      " price      | 81                                                                                                                                                                                                                                                 \n",
      " specs      | [LightGreen]                                                                                                                                                                                                                                       \n",
      " categories | [because, interesting, leave]                                                                                                                                                                                                                      \n",
      " reviews    | [[2, Certain speech admit catch.], [1, Newspaper seven book.], [2, Rate how worry force capital food police.]]                                                                                                                                     \n",
      "only showing top 3 rows"
     ]
    }
   ],
   "source": [
    "gdf.toDF().show(3, truncate=False, vertical=True)"
   ]
  },
  {
   "cell_type": "markdown",
   "id": "a062eedf",
   "metadata": {},
   "source": [
    "## UNNEST\n",
    "\n",
    "There are two type of things could be unnest:\n",
    "\n",
    "1. struct\n",
    "2. array\n",
    "\n",
    "For struct, it move leaf nodes to root level, and use full json path as the key:\n",
    "\n",
    "```python\n",
    "# Input\n",
    "{\"id\": 1, \"specs\": {\"color\": \"red\"}}\n",
    "\n",
    "# Output\n",
    "{\"id\": 1, \"specs.color\": \"red\"}\n",
    "```\n",
    "\n",
    "For array, one record expand to number of records that equal to the length of the array:\n",
    "\n",
    "```python\n",
    "# Input\n",
    "{\"id\": 1, \"categories\": [\"cate1\", \"cate2\", \"cate3\"]}\n",
    "\n",
    "# Output\n",
    "{\"id\": 1, \"categories\": \"cate1\"}\n",
    "{\"id\": 1, \"categories\": \"cate2\"}\n",
    "{\"id\": 1, \"categories\": \"cate3\"}\n",
    "```\n",
    "\n",
    "If you want to unnest based on multiple array fields, it expand to the combination of each fields:\n",
    "\n",
    "```python\n",
    "# Input\n",
    "{\"id\": \"7e3f, \"array1\": [1, 2], \"array2\": [3, 4, 5]}\n",
    "\n",
    "# Output\n",
    "{\"id\": \"7e3f\", \"array1\": 1, \"array2\": 3}\n",
    "{\"id\": \"7e3f\", \"array1\": 1, \"array2\": 4}\n",
    "{\"id\": \"7e3f\", \"array1\": 1, \"array2\": 5}\n",
    "{\"id\": \"7e3f\", \"array1\": 2, \"array2\": 3}\n",
    "{\"id\": \"7e3f\", \"array1\": 2, \"array2\": 4}\n",
    "{\"id\": \"7e3f\", \"array1\": 2, \"array2\": 5}\n",
    "```"
   ]
  },
  {
   "cell_type": "markdown",
   "id": "fc788c2c",
   "metadata": {},
   "source": [
    "### UNNEST struct example"
   ]
  },
  {
   "cell_type": "code",
   "execution_count": 34,
   "id": "8b0ff5e5",
   "metadata": {},
   "outputs": [
    {
     "data": {
      "application/vnd.jupyter.widget-view+json": {
       "model_id": "1f9648754915471f9a1fd4e03a3dcf6d",
       "version_major": 2,
       "version_minor": 0
      },
      "text/plain": [
       "FloatProgress(value=0.0, bar_style='info', description='Progress:', layout=Layout(height='25px', width='50%'),…"
      ]
     },
     "metadata": {},
     "output_type": "display_data"
    },
    {
     "name": "stdout",
     "output_type": "stream",
     "text": [
      "-RECORD 0-------------\n",
      " id    | 1            \n",
      " specs | [Red]        \n",
      "-RECORD 1-------------\n",
      " id    | 2            \n",
      " specs | [DarkOrange] \n",
      "-RECORD 2-------------\n",
      " id    | 3            \n",
      " specs | [LightGreen] \n",
      "only showing top 3 rows"
     ]
    }
   ],
   "source": [
    "gdf_unnest_struct_selected = SelectFields.apply(frame=gdf, paths=[\"id\", \"specs\"])\n",
    "gdf_unnest_struct_selected.toDF().show(3, truncate=False, vertical=True)"
   ]
  },
  {
   "cell_type": "code",
   "execution_count": 35,
   "id": "4821c686",
   "metadata": {},
   "outputs": [
    {
     "data": {
      "application/vnd.jupyter.widget-view+json": {
       "model_id": "bef82a7b7cfa4c14b1fc7d2c2895fd2c",
       "version_major": 2,
       "version_minor": 0
      },
      "text/plain": [
       "FloatProgress(value=0.0, bar_style='info', description='Progress:', layout=Layout(height='25px', width='50%'),…"
      ]
     },
     "metadata": {},
     "output_type": "display_data"
    },
    {
     "name": "stdout",
     "output_type": "stream",
     "text": [
      "{'id': 1, 'specs.color': 'Red'}\n",
      "{'id': 2, 'specs.color': 'DarkOrange'}\n",
      "{'id': 3, 'specs.color': 'LightGreen'}"
     ]
    }
   ],
   "source": [
    "# apply the ``UnnestFrame`` transformation operator\n",
    "gdf_unnested_struct = UnnestFrame.apply(frame=gdf_unnest_struct_selected)\n",
    "for row in gdf_unnested.toDF().toPandas().head(3).to_dict(orient=\"records\"):\n",
    "    print(row)"
   ]
  },
  {
   "cell_type": "markdown",
   "id": "03677aea",
   "metadata": {},
   "source": [
    "### UNNEST array example"
   ]
  },
  {
   "cell_type": "code",
   "execution_count": 40,
   "id": "2d821ba8",
   "metadata": {},
   "outputs": [
    {
     "data": {
      "application/vnd.jupyter.widget-view+json": {
       "model_id": "8d96217d195448909a5af1efb63f7e08",
       "version_major": 2,
       "version_minor": 0
      },
      "text/plain": [
       "FloatProgress(value=0.0, bar_style='info', description='Progress:', layout=Layout(height='25px', width='50%'),…"
      ]
     },
     "metadata": {},
     "output_type": "display_data"
    },
    {
     "name": "stdout",
     "output_type": "stream",
     "text": [
      "-RECORD 0--------------------------------------------------------------------------------------------------------------------------------------------------------------------------------------------------------------------------------------------------------\n",
      " id         | 1                                                                                                                                                                                                                                                  \n",
      " name       | marriage                                                                                                                                                                                                                                           \n",
      " price      | 83                                                                                                                                                                                                                                                 \n",
      " specs      | [Red]                                                                                                                                                                                                                                              \n",
      " categories | [interesting, leave]                                                                                                                                                                                                                               \n",
      " reviews    | [[1, Several bad appear make she common heart.], [2, Leader of theory force democratic subject grow operation.], [1, Wall just few check only center sense work.], [5, Second student politics goal their.], [4, Effect find religious for know.]] \n",
      "-RECORD 1--------------------------------------------------------------------------------------------------------------------------------------------------------------------------------------------------------------------------------------------------------\n",
      " id         | 2                                                                                                                                                                                                                                                  \n",
      " name       | air                                                                                                                                                                                                                                                \n",
      " price      | 61                                                                                                                                                                                                                                                 \n",
      " specs      | [DarkOrange]                                                                                                                                                                                                                                       \n",
      " categories | [spring]                                                                                                                                                                                                                                           \n",
      " reviews    | [[4, Fear save bad.], [2, Shoulder budget amount resource allow.], [5, Share where next data little single but.]]                                                                                                                                  \n",
      "-RECORD 2--------------------------------------------------------------------------------------------------------------------------------------------------------------------------------------------------------------------------------------------------------\n",
      " id         | 3                                                                                                                                                                                                                                                  \n",
      " name       | age                                                                                                                                                                                                                                                \n",
      " price      | 81                                                                                                                                                                                                                                                 \n",
      " specs      | [LightGreen]                                                                                                                                                                                                                                       \n",
      " categories | [because, interesting, leave]                                                                                                                                                                                                                      \n",
      " reviews    | [[2, Certain speech admit catch.], [1, Newspaper seven book.], [2, Rate how worry force capital food police.]]                                                                                                                                     \n",
      "only showing top 3 rows"
     ]
    }
   ],
   "source": [
    "# Double check the \"before\" state\n",
    "gdf.toDF().show(3, truncate=False, vertical=True)"
   ]
  },
  {
   "cell_type": "code",
   "execution_count": 41,
   "id": "82003ee2",
   "metadata": {},
   "outputs": [
    {
     "data": {
      "application/vnd.jupyter.widget-view+json": {
       "model_id": "c80e0bd938354ea291b92c0a236d9447",
       "version_major": 2,
       "version_minor": 0
      },
      "text/plain": [
       "FloatProgress(value=0.0, bar_style='info', description='Progress:', layout=Layout(height='25px', width='50%'),…"
      ]
     },
     "metadata": {},
     "output_type": "display_data"
    }
   ],
   "source": [
    "# import the explode function\n",
    "# ref: https://spark.apache.org/docs/latest/api/python/reference/api/pyspark.sql.functions.explode.html\n",
    "from pyspark.sql.functions import explode\n",
    "\n",
    "# pdf = PySpark Data Frame, convert to PySpark Data Frame\n",
    "pdf = gdf.toDF()"
   ]
  },
  {
   "cell_type": "code",
   "execution_count": 44,
   "id": "54b1609d",
   "metadata": {},
   "outputs": [
    {
     "data": {
      "application/vnd.jupyter.widget-view+json": {
       "model_id": "a270c052dc5045178def7acfc3a256e3",
       "version_major": 2,
       "version_minor": 0
      },
      "text/plain": [
       "FloatProgress(value=0.0, bar_style='info', description='Progress:', layout=Layout(height='25px', width='50%'),…"
      ]
     },
     "metadata": {},
     "output_type": "display_data"
    },
    {
     "name": "stdout",
     "output_type": "stream",
     "text": [
      "-RECORD 0---------------\n",
      " id       | 1           \n",
      " category | interesting \n",
      "-RECORD 1---------------\n",
      " id       | 1           \n",
      " category | leave       \n",
      "-RECORD 2---------------\n",
      " id       | 2           \n",
      " category | spring      \n",
      "only showing top 3 rows"
     ]
    }
   ],
   "source": [
    "# unnest based on an array of string\n",
    "pdf_unnest_array_of_string = pdf.select(\n",
    "    pdf.id,\n",
    "    explode(pdf.categories).alias(\"category\"),\n",
    ")\n",
    "pdf_unnest_array_of_string.show(3, truncate=False, vertical=True)"
   ]
  },
  {
   "cell_type": "code",
   "execution_count": 45,
   "id": "b71c9848",
   "metadata": {},
   "outputs": [
    {
     "data": {
      "application/vnd.jupyter.widget-view+json": {
       "model_id": "aeea38b680584804a210e063c5b37b19",
       "version_major": 2,
       "version_minor": 0
      },
      "text/plain": [
       "FloatProgress(value=0.0, bar_style='info', description='Progress:', layout=Layout(height='25px', width='50%'),…"
      ]
     },
     "metadata": {},
     "output_type": "display_data"
    },
    {
     "name": "stdout",
     "output_type": "stream",
     "text": [
      "-RECORD 0----------------------------------------------------------------\n",
      " id     | 1                                                              \n",
      " review | [1, Several bad appear make she common heart.]                 \n",
      "-RECORD 1----------------------------------------------------------------\n",
      " id     | 1                                                              \n",
      " review | [2, Leader of theory force democratic subject grow operation.] \n",
      "-RECORD 2----------------------------------------------------------------\n",
      " id     | 1                                                              \n",
      " review | [1, Wall just few check only center sense work.]               \n",
      "only showing top 3 rows"
     ]
    }
   ],
   "source": [
    "# unnest based on an array of struct\n",
    "pdf_unnest_array_of_struct = pdf.select(\n",
    "    pdf.id,\n",
    "    explode(pdf.reviews).alias(\"review\"),\n",
    ")\n",
    "pdf_unnest_array_of_struct.show(3, truncate=False, vertical=True)"
   ]
  },
  {
   "cell_type": "code",
   "execution_count": null,
   "id": "3d0cba57",
   "metadata": {},
   "outputs": [
    {
     "data": {
      "application/vnd.jupyter.widget-view+json": {
       "model_id": "ad343379c4314647b3361d71de453fc2",
       "version_major": 2,
       "version_minor": 0
      },
      "text/plain": [
       "FloatProgress(value=0.0, bar_style='info', description='Progress:', layout=Layout(height='25px', width='50%'),…"
      ]
     },
     "metadata": {},
     "output_type": "display_data"
    }
   ],
   "source": [
    "# unnest based on an array of string\n",
    "pdf_unnest_tmp_1 = pdf.select(\n",
    "    pdf.id,\n",
    "    explode(pdf.categories).alias(\"category\"),\n",
    "    pdf.reviews,\n",
    ")\n",
    "pdf_unnest_tmp_2 = pdf_unnest_tmp_1.select(\n",
    "    pdf_unnest_tmp_1.id,\n",
    "    pdf_unnest_tmp_1.category,\n",
    "    explode(pdf_unnest_tmp_1.reviews).alias(\"review\"),\n",
    ")\n",
    "gdf_unnest_tmp = DynamicFrame.fromDF(pdf_unnest_tmp_2, glueContext, \"gdf_unnest_tmp\")\n",
    "gdf_unnest_everything = UnnestFrame.apply(frame=gdf_unnest_tmp)\n",
    "gdf_unnest_everything.toDF().show(10)"
   ]
  },
  {
   "cell_type": "code",
   "execution_count": null,
   "id": "034fa166",
   "metadata": {},
   "outputs": [],
   "source": []
  }
 ],
 "metadata": {
  "kernelspec": {
   "display_name": "Sparkmagic (PySpark)",
   "language": "python",
   "name": "pysparkkernel"
  },
  "language_info": {
   "codemirror_mode": {
    "name": "python",
    "version": 3
   },
   "file_extension": ".py",
   "mimetype": "text/x-python",
   "name": "pyspark",
   "pygments_lexer": "python3"
  },
  "toc-showcode": false
 },
 "nbformat": 4,
 "nbformat_minor": 5
}
