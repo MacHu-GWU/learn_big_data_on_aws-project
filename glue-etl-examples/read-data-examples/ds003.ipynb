{
 "cells": [
  {
   "cell_type": "code",
   "execution_count": 52,
   "id": "4b688577",
   "metadata": {
    "scrolled": false
   },
   "outputs": [
    {
     "data": {
      "application/vnd.jupyter.widget-view+json": {
       "model_id": "",
       "version_major": 2,
       "version_minor": 0
      },
      "text/plain": [
       "FloatProgress(value=0.0, bar_style='info', description='Progress:', layout=Layout(height='25px', width='50%'),…"
      ]
     },
     "metadata": {},
     "output_type": "display_data"
    }
   ],
   "source": [
    "import sys\n",
    "from awsglue.transforms import *\n",
    "from awsglue.utils import getResolvedOptions\n",
    "from pyspark.context import SparkContext\n",
    "from awsglue.context import GlueContext\n",
    "from awsglue.job import Job\n",
    "\n",
    "# Create SparkContext\n",
    "sparkContext = SparkContext.getOrCreate()\n",
    "# Create Glue Context\n",
    "glueContext = GlueContext(sparkContext)\n",
    "# Get spark session\n",
    "spark = glueContext.spark_session"
   ]
  },
  {
   "cell_type": "code",
   "execution_count": 136,
   "id": "bdb5e571",
   "metadata": {
    "scrolled": false
   },
   "outputs": [
    {
     "data": {
      "application/vnd.jupyter.widget-view+json": {
       "model_id": "",
       "version_major": 2,
       "version_minor": 0
      },
      "text/plain": [
       "FloatProgress(value=0.0, bar_style='info', description='Progress:', layout=Layout(height='25px', width='50%'),…"
      ]
     },
     "metadata": {},
     "output_type": "display_data"
    }
   ],
   "source": [
    "# gdf = Glue Dynamic Frame\n",
    "gdf = glueContext.create_dynamic_frame.from_options(\n",
    "    connection_type=\"s3\", \n",
    "    connection_options=dict(\n",
    "        paths=[\n",
    "            \"s3://aws-data-lab-sanhe-for-everything-us-east-2/poc/2022-02-26-learn_big_data_on_aws/dataset/ds_003_walmart_mongodb/\"\n",
    "        ],\n",
    "        recurse=True,\n",
    "    ),\n",
    "    format=\"json\",\n",
    "    format_options=dict(multiLine=True),\n",
    "    transformation_ctx=\"datasource\",\n",
    ")"
   ]
  },
  {
   "cell_type": "code",
   "execution_count": 98,
   "id": "b81b9f2e",
   "metadata": {
    "scrolled": false
   },
   "outputs": [
    {
     "data": {
      "application/vnd.jupyter.widget-view+json": {
       "model_id": "",
       "version_major": 2,
       "version_minor": 0
      },
      "text/plain": [
       "FloatProgress(value=0.0, bar_style='info', description='Progress:', layout=Layout(height='25px', width='50%'),…"
      ]
     },
     "metadata": {},
     "output_type": "display_data"
    },
    {
     "name": "stdout",
     "output_type": "stream",
     "text": [
      "root\n",
      "|-- order_id: string\n",
      "|-- create_time: long\n",
      "|-- customer: struct\n",
      "|    |-- customer_id: int\n",
      "|    |-- email: string\n",
      "|    |-- name: string\n",
      "|    |-- dob: string\n",
      "|    |-- gender: int\n",
      "|    |-- billing_address: string\n",
      "|    |-- shipping_address: string\n",
      "|-- items: array\n",
      "|    |-- element: struct\n",
      "|    |    |-- item_id: int\n",
      "|    |    |-- name: string\n",
      "|    |    |-- price: double\n",
      "|    |    |-- quantity: int"
     ]
    }
   ],
   "source": [
    "gdf.printSchema()"
   ]
  },
  {
   "cell_type": "code",
   "execution_count": 137,
   "id": "0711d3f5",
   "metadata": {
    "scrolled": false
   },
   "outputs": [
    {
     "data": {
      "application/vnd.jupyter.widget-view+json": {
       "model_id": "",
       "version_major": 2,
       "version_minor": 0
      },
      "text/plain": [
       "FloatProgress(value=0.0, bar_style='info', description='Progress:', layout=Layout(height='25px', width='50%'),…"
      ]
     },
     "metadata": {},
     "output_type": "display_data"
    },
    {
     "name": "stdout",
     "output_type": "stream",
     "text": [
      "+--------------------+-------------+--------------------+--------------------+\n",
      "|            order_id|  create_time|            customer|               items|\n",
      "+--------------------+-------------+--------------------+--------------------+\n",
      "|c844cf1d-d8e5-479...|1641013042000|[226, emily79@exa...|[[161, agent, 1.7...|\n",
      "|5b320f98-4ab1-429...|1641039937000|[98, langsherri@e...|[[155, thing, 1.4...|\n",
      "|29079285-1cc7-4a9...|1641078303000|[528, teresa57@ex...|[[61, stop, 32.69...|\n",
      "|e0f7e2bf-a85b-424...|1641069306000|[861, orrtamara@e...|[[287, hundred, 1...|\n",
      "|ec4863c9-3b84-4cd...|1641070432000|[761, abullock@ex...|[[287, hundred, 1...|\n",
      "+--------------------+-------------+--------------------+--------------------+\n",
      "only showing top 5 rows"
     ]
    }
   ],
   "source": [
    "gdf.toDF().show(5)"
   ]
  },
  {
   "cell_type": "code",
   "execution_count": 138,
   "id": "ce98f7e8",
   "metadata": {
    "scrolled": false
   },
   "outputs": [
    {
     "data": {
      "application/vnd.jupyter.widget-view+json": {
       "model_id": "",
       "version_major": 2,
       "version_minor": 0
      },
      "text/plain": [
       "FloatProgress(value=0.0, bar_style='info', description='Progress:', layout=Layout(height='25px', width='50%'),…"
      ]
     },
     "metadata": {},
     "output_type": "display_data"
    },
    {
     "name": "stdout",
     "output_type": "stream",
     "text": [
      "6562"
     ]
    }
   ],
   "source": [
    "gdf.count()"
   ]
  },
  {
   "cell_type": "code",
   "execution_count": 102,
   "id": "aa0edaef",
   "metadata": {},
   "outputs": [
    {
     "data": {
      "application/vnd.jupyter.widget-view+json": {
       "model_id": "",
       "version_major": 2,
       "version_minor": 0
      },
      "text/plain": [
       "FloatProgress(value=0.0, bar_style='info', description='Progress:', layout=Layout(height='25px', width='50%'),…"
      ]
     },
     "metadata": {},
     "output_type": "display_data"
    }
   ],
   "source": [
    "# pdf = PySpark Data Frame\n",
    "pdf = gdf.toDF()"
   ]
  },
  {
   "cell_type": "code",
   "execution_count": 135,
   "id": "4ba5ab93",
   "metadata": {},
   "outputs": [
    {
     "data": {
      "application/vnd.jupyter.widget-view+json": {
       "model_id": "",
       "version_major": 2,
       "version_minor": 0
      },
      "text/plain": [
       "FloatProgress(value=0.0, bar_style='info', description='Progress:', layout=Layout(height='25px', width='50%'),…"
      ]
     },
     "metadata": {},
     "output_type": "display_data"
    },
    {
     "name": "stdout",
     "output_type": "stream",
     "text": [
      "-RECORD 0---------------------------------------------------------------------------\n",
      " order_id                  | f6d627d1-7b08-4482-809e-0225ce5f7e52                   \n",
      " order_create_time         | 1641078805000                                          \n",
      " customer_date_of_birth    | 2008-02-12                                             \n",
      " customer_id               | 376                                                    \n",
      " customer_id               | fjones@example.com                                     \n",
      " customer_name             | Brandon Brown                                          \n",
      " customer_dob              | 2008-02-12                                             \n",
      " customer_billing_address  | 100 Barrett Roads\n",
      "North Nathaniel, OK 36025            \n",
      " customer_shipping_address | 41939 Aguilar Trail Apt. 702\n",
      "New Teresahaven, MN 28819 \n",
      " item_id                   | 111                                                    \n",
      " item_name                 | reason                                                 \n",
      " item_price                | 78.13                                                  \n",
      " item_quantity             | 9                                                      \n",
      "-RECORD 1---------------------------------------------------------------------------\n",
      " order_id                  | f6d627d1-7b08-4482-809e-0225ce5f7e52                   \n",
      " order_create_time         | 1641078805000                                          \n",
      " customer_date_of_birth    | 2008-02-12                                             \n",
      " customer_id               | 376                                                    \n",
      " customer_id               | fjones@example.com                                     \n",
      " customer_name             | Brandon Brown                                          \n",
      " customer_dob              | 2008-02-12                                             \n",
      " customer_billing_address  | 100 Barrett Roads\n",
      "North Nathaniel, OK 36025            \n",
      " customer_shipping_address | 41939 Aguilar Trail Apt. 702\n",
      "New Teresahaven, MN 28819 \n",
      " item_id                   | 91                                                     \n",
      " item_name                 | economic                                               \n",
      " item_price                | 41.39                                                  \n",
      " item_quantity             | 2                                                      \n",
      "-RECORD 2---------------------------------------------------------------------------\n",
      " order_id                  | 99cbf73e-0e99-456a-96e4-b51652642fa5                   \n",
      " order_create_time         | 1641056401000                                          \n",
      " customer_date_of_birth    | 1986-04-21                                             \n",
      " customer_id               | 151                                                    \n",
      " customer_id               | christianwarren@example.net                            \n",
      " customer_name             | Miguel Thompson                                        \n",
      " customer_dob              | 1986-04-21                                             \n",
      " customer_billing_address  | 56530 Mcdowell Drive\n",
      "West Spencer, MN 73567            \n",
      " customer_shipping_address | 499 Shelley Islands\n",
      "East Ann, OR 03886                 \n",
      " item_id                   | 141                                                    \n",
      " item_name                 | build                                                  \n",
      " item_price                | 55.41                                                  \n",
      " item_quantity             | 1                                                      \n",
      "-RECORD 3---------------------------------------------------------------------------\n",
      " order_id                  | 0fa71274-5852-4e61-8e02-619401d6a7cc                   \n",
      " order_create_time         | 1641074508000                                          \n",
      " customer_date_of_birth    | 1992-04-24                                             \n",
      " customer_id               | 922                                                    \n",
      " customer_id               | priceshelly@example.net                                \n",
      " customer_name             | Matthew Cobb                                           \n",
      " customer_dob              | 1992-04-24                                             \n",
      " customer_billing_address  | 405 Christopher Loop\n",
      "South Michael, CT 87862           \n",
      " customer_shipping_address | 3719 Amber Landing Suite 904\n",
      "Lake Paige, WV 17026      \n",
      " item_id                   | 90                                                     \n",
      " item_name                 | mean                                                   \n",
      " item_price                | 80.68                                                  \n",
      " item_quantity             | 4                                                      \n",
      "-RECORD 4---------------------------------------------------------------------------\n",
      " order_id                  | 0fa71274-5852-4e61-8e02-619401d6a7cc                   \n",
      " order_create_time         | 1641074508000                                          \n",
      " customer_date_of_birth    | 1992-04-24                                             \n",
      " customer_id               | 922                                                    \n",
      " customer_id               | priceshelly@example.net                                \n",
      " customer_name             | Matthew Cobb                                           \n",
      " customer_dob              | 1992-04-24                                             \n",
      " customer_billing_address  | 405 Christopher Loop\n",
      "South Michael, CT 87862           \n",
      " customer_shipping_address | 3719 Amber Landing Suite 904\n",
      "Lake Paige, WV 17026      \n",
      " item_id                   | 163                                                    \n",
      " item_name                 | seat                                                   \n",
      " item_price                | 47.19                                                  \n",
      " item_quantity             | 6                                                      \n",
      "only showing top 5 rows"
     ]
    }
   ],
   "source": [
    "from pyspark.sql.functions import explode\n",
    "\n",
    "# unnest based on an array\n",
    "pdf_tmp = pdf.select(\n",
    "    pdf.order_id, \n",
    "    pdf.create_time,\n",
    "    pdf.customer,\n",
    "    explode(pdf.items).alias(\"item\"),\n",
    ")\n",
    "\n",
    "pdf_denormalized = pdf_tmp.select(\n",
    "    pdf_tmp.order_id.alias(\"order_id\"),\n",
    "    pdf_tmp.create_time.alias(\"order_create_time\"),\n",
    "    pdf_tmp.customer[\"dob\"].alias(\"customer_date_of_birth\"),\n",
    "    pdf_tmp.customer[\"customer_id\"].alias(\"customer_id\"),\n",
    "    pdf_tmp.customer[\"email\"].alias(\"customer_id\"),\n",
    "    pdf_tmp.customer[\"name\"].alias(\"customer_name\"),\n",
    "    pdf_tmp.customer[\"dob\"].alias(\"customer_dob\"),\n",
    "    pdf_tmp.customer[\"billing_address\"].alias(\"customer_billing_address\"),\n",
    "    pdf_tmp.customer[\"shipping_address\"].alias(\"customer_shipping_address\"),\n",
    "    pdf_tmp.item[\"item_id\"].alias(\"item_id\"),\n",
    "    pdf_tmp.item[\"name\"].alias(\"item_name\"),\n",
    "    pdf_tmp.item[\"price\"].alias(\"item_price\"),\n",
    "    pdf_tmp.item[\"quantity\"].alias(\"item_quantity\"),\n",
    ")\n",
    "\n",
    "pdf_denormalized.show(5, truncate=False, vertical=True)"
   ]
  }
 ],
 "metadata": {
  "celltoolbar": "Raw Cell Format",
  "kernelspec": {
   "display_name": "Sparkmagic (PySpark)",
   "language": "python",
   "name": "pysparkkernel"
  },
  "language_info": {
   "codemirror_mode": {
    "name": "python",
    "version": 3
   },
   "file_extension": ".py",
   "mimetype": "text/x-python",
   "name": "pyspark",
   "pygments_lexer": "python3"
  }
 },
 "nbformat": 4,
 "nbformat_minor": 5
}
