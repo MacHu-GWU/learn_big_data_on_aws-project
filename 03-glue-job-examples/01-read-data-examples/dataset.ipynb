{
 "cells": [
  {
   "cell_type": "code",
   "execution_count": 1,
   "id": "e4a9aae9",
   "metadata": {},
   "outputs": [
    {
     "name": "stdout",
     "output_type": "stream",
     "text": [
      "Note: you may need to restart the kernel to use updated packages.\n"
     ]
    }
   ],
   "source": [
    "%pip install -q -r requirements.txt"
   ]
  },
  {
   "cell_type": "code",
   "execution_count": 2,
   "id": "db4af34d",
   "metadata": {},
   "outputs": [],
   "source": [
    "# import standard lib\n",
    "import json\n",
    "import random\n",
    "from typing import List, Dict\n",
    "\n",
    "# import third party\n",
    "import pandas as pd\n",
    "from rich import print as rprint\n",
    "from faker import Faker\n",
    "from s3pathlib import S3Path"
   ]
  },
  {
   "cell_type": "code",
   "execution_count": 3,
   "id": "ff86ed99",
   "metadata": {},
   "outputs": [],
   "source": [
    "class Config:\n",
    "    bucket = \"aws-data-lab-sanhe-for-everything-us-east-2\"\n",
    "    prefix = \"poc/learn-big-data-on-aws/glue-job-examples/missing-fields-and-null-values\"\n",
    "    n_files = 3\n",
    "    n_records_per_file = 100\n",
    "    \n",
    "    @property\n",
    "    def s3path_prefix(self):\n",
    "        return S3Path(self.bucket, self.prefix)\n",
    "    \n",
    "config = Config()"
   ]
  },
  {
   "cell_type": "code",
   "execution_count": 4,
   "id": "bc69eabf",
   "metadata": {},
   "outputs": [],
   "source": [
    "def json_dump_multiline(data: List[dict]) -> str:\n",
    "    \"\"\"\n",
    "    dump list of dictionary to multi line json string content.\n",
    "    \"\"\"\n",
    "    lines = list()\n",
    "    for dct in data:\n",
    "        lines.append(json.dumps(dct))\n",
    "    content = \"\\n\".join(lines)\n",
    "    return content"
   ]
  },
  {
   "cell_type": "code",
   "execution_count": 5,
   "id": "10927e4e",
   "metadata": {},
   "outputs": [
    {
     "name": "stdout",
     "output_type": "stream",
     "text": [
      "processing 1 th file ...\n"
     ]
    },
    {
     "data": {
      "text/html": [
       "<pre style=\"white-space:pre;overflow-x:auto;line-height:normal;font-family:Menlo,'DejaVu Sans Mono',consolas,'Courier New',monospace\"><span style=\"font-weight: bold\">[</span>\n",
       "    <span style=\"font-weight: bold\">{</span><span style=\"color: #008000; text-decoration-color: #008000\">'id'</span>: <span style=\"color: #008080; text-decoration-color: #008080; font-weight: bold\">1</span>, <span style=\"color: #008000; text-decoration-color: #008000\">'with_missing_field'</span>: <span style=\"color: #008080; text-decoration-color: #008080; font-weight: bold\">34</span>, <span style=\"color: #008000; text-decoration-color: #008000\">'with_null_value'</span>: <span style=\"color: #800080; text-decoration-color: #800080; font-style: italic\">None</span><span style=\"font-weight: bold\">}</span>,\n",
       "    <span style=\"font-weight: bold\">{</span><span style=\"color: #008000; text-decoration-color: #008000\">'id'</span>: <span style=\"color: #008080; text-decoration-color: #008080; font-weight: bold\">2</span>, <span style=\"color: #008000; text-decoration-color: #008000\">'with_missing_field'</span>: <span style=\"color: #008080; text-decoration-color: #008080; font-weight: bold\">60</span>, <span style=\"color: #008000; text-decoration-color: #008000\">'with_null_value'</span>: <span style=\"color: #800080; text-decoration-color: #800080; font-style: italic\">None</span><span style=\"font-weight: bold\">}</span>,\n",
       "    <span style=\"font-weight: bold\">{</span><span style=\"color: #008000; text-decoration-color: #008000\">'id'</span>: <span style=\"color: #008080; text-decoration-color: #008080; font-weight: bold\">3</span>, <span style=\"color: #008000; text-decoration-color: #008000\">'with_missing_field'</span>: <span style=\"color: #008080; text-decoration-color: #008080; font-weight: bold\">65</span>, <span style=\"color: #008000; text-decoration-color: #008000\">'with_null_value'</span>: <span style=\"color: #008080; text-decoration-color: #008080; font-weight: bold\">82</span><span style=\"font-weight: bold\">}</span>,\n",
       "    <span style=\"font-weight: bold\">{</span><span style=\"color: #008000; text-decoration-color: #008000\">'id'</span>: <span style=\"color: #008080; text-decoration-color: #008080; font-weight: bold\">4</span>, <span style=\"color: #008000; text-decoration-color: #008000\">'with_null_value'</span>: <span style=\"color: #008080; text-decoration-color: #008080; font-weight: bold\">15</span><span style=\"font-weight: bold\">}</span>,\n",
       "    <span style=\"font-weight: bold\">{</span><span style=\"color: #008000; text-decoration-color: #008000\">'id'</span>: <span style=\"color: #008080; text-decoration-color: #008080; font-weight: bold\">5</span>, <span style=\"color: #008000; text-decoration-color: #008000\">'with_missing_field'</span>: <span style=\"color: #008080; text-decoration-color: #008080; font-weight: bold\">57</span>, <span style=\"color: #008000; text-decoration-color: #008000\">'with_null_value'</span>: <span style=\"color: #008080; text-decoration-color: #008080; font-weight: bold\">45</span><span style=\"font-weight: bold\">}</span>,\n",
       "    <span style=\"font-weight: bold\">{</span><span style=\"color: #008000; text-decoration-color: #008000\">'id'</span>: <span style=\"color: #008080; text-decoration-color: #008080; font-weight: bold\">6</span>, <span style=\"color: #008000; text-decoration-color: #008000\">'with_missing_field'</span>: <span style=\"color: #008080; text-decoration-color: #008080; font-weight: bold\">71</span>, <span style=\"color: #008000; text-decoration-color: #008000\">'with_null_value'</span>: <span style=\"color: #008080; text-decoration-color: #008080; font-weight: bold\">42</span><span style=\"font-weight: bold\">}</span>,\n",
       "    <span style=\"font-weight: bold\">{</span><span style=\"color: #008000; text-decoration-color: #008000\">'id'</span>: <span style=\"color: #008080; text-decoration-color: #008080; font-weight: bold\">7</span>, <span style=\"color: #008000; text-decoration-color: #008000\">'with_null_value'</span>: <span style=\"color: #800080; text-decoration-color: #800080; font-style: italic\">None</span><span style=\"font-weight: bold\">}</span>,\n",
       "    <span style=\"font-weight: bold\">{</span><span style=\"color: #008000; text-decoration-color: #008000\">'id'</span>: <span style=\"color: #008080; text-decoration-color: #008080; font-weight: bold\">8</span>, <span style=\"color: #008000; text-decoration-color: #008000\">'with_null_value'</span>: <span style=\"color: #008080; text-decoration-color: #008080; font-weight: bold\">20</span><span style=\"font-weight: bold\">}</span>,\n",
       "    <span style=\"font-weight: bold\">{</span><span style=\"color: #008000; text-decoration-color: #008000\">'id'</span>: <span style=\"color: #008080; text-decoration-color: #008080; font-weight: bold\">9</span>, <span style=\"color: #008000; text-decoration-color: #008000\">'with_missing_field'</span>: <span style=\"color: #008080; text-decoration-color: #008080; font-weight: bold\">96</span>, <span style=\"color: #008000; text-decoration-color: #008000\">'with_null_value'</span>: <span style=\"color: #800080; text-decoration-color: #800080; font-style: italic\">None</span><span style=\"font-weight: bold\">}</span>,\n",
       "    <span style=\"font-weight: bold\">{</span><span style=\"color: #008000; text-decoration-color: #008000\">'id'</span>: <span style=\"color: #008080; text-decoration-color: #008080; font-weight: bold\">10</span>, <span style=\"color: #008000; text-decoration-color: #008000\">'with_null_value'</span>: <span style=\"color: #800080; text-decoration-color: #800080; font-style: italic\">None</span><span style=\"font-weight: bold\">}</span>,\n",
       "    <span style=\"font-weight: bold\">{</span><span style=\"color: #008000; text-decoration-color: #008000\">'id'</span>: <span style=\"color: #008080; text-decoration-color: #008080; font-weight: bold\">11</span>, <span style=\"color: #008000; text-decoration-color: #008000\">'with_missing_field'</span>: <span style=\"color: #008080; text-decoration-color: #008080; font-weight: bold\">83</span>, <span style=\"color: #008000; text-decoration-color: #008000\">'with_null_value'</span>: <span style=\"color: #008080; text-decoration-color: #008080; font-weight: bold\">32</span><span style=\"font-weight: bold\">}</span>,\n",
       "    <span style=\"font-weight: bold\">{</span><span style=\"color: #008000; text-decoration-color: #008000\">'id'</span>: <span style=\"color: #008080; text-decoration-color: #008080; font-weight: bold\">12</span>, <span style=\"color: #008000; text-decoration-color: #008000\">'with_missing_field'</span>: <span style=\"color: #008080; text-decoration-color: #008080; font-weight: bold\">98</span>, <span style=\"color: #008000; text-decoration-color: #008000\">'with_null_value'</span>: <span style=\"color: #800080; text-decoration-color: #800080; font-style: italic\">None</span><span style=\"font-weight: bold\">}</span>,\n",
       "    <span style=\"font-weight: bold\">{</span><span style=\"color: #008000; text-decoration-color: #008000\">'id'</span>: <span style=\"color: #008080; text-decoration-color: #008080; font-weight: bold\">13</span>, <span style=\"color: #008000; text-decoration-color: #008000\">'with_null_value'</span>: <span style=\"color: #008080; text-decoration-color: #008080; font-weight: bold\">73</span><span style=\"font-weight: bold\">}</span>,\n",
       "    <span style=\"font-weight: bold\">{</span><span style=\"color: #008000; text-decoration-color: #008000\">'id'</span>: <span style=\"color: #008080; text-decoration-color: #008080; font-weight: bold\">14</span>, <span style=\"color: #008000; text-decoration-color: #008000\">'with_null_value'</span>: <span style=\"color: #800080; text-decoration-color: #800080; font-style: italic\">None</span><span style=\"font-weight: bold\">}</span>,\n",
       "    <span style=\"font-weight: bold\">{</span><span style=\"color: #008000; text-decoration-color: #008000\">'id'</span>: <span style=\"color: #008080; text-decoration-color: #008080; font-weight: bold\">15</span>, <span style=\"color: #008000; text-decoration-color: #008000\">'with_missing_field'</span>: <span style=\"color: #008080; text-decoration-color: #008080; font-weight: bold\">87</span>, <span style=\"color: #008000; text-decoration-color: #008000\">'with_null_value'</span>: <span style=\"color: #008080; text-decoration-color: #008080; font-weight: bold\">65</span><span style=\"font-weight: bold\">}</span>,\n",
       "    <span style=\"font-weight: bold\">{</span><span style=\"color: #008000; text-decoration-color: #008000\">'id'</span>: <span style=\"color: #008080; text-decoration-color: #008080; font-weight: bold\">16</span>, <span style=\"color: #008000; text-decoration-color: #008000\">'with_missing_field'</span>: <span style=\"color: #008080; text-decoration-color: #008080; font-weight: bold\">6</span>, <span style=\"color: #008000; text-decoration-color: #008000\">'with_null_value'</span>: <span style=\"color: #008080; text-decoration-color: #008080; font-weight: bold\">25</span><span style=\"font-weight: bold\">}</span>,\n",
       "    <span style=\"font-weight: bold\">{</span><span style=\"color: #008000; text-decoration-color: #008000\">'id'</span>: <span style=\"color: #008080; text-decoration-color: #008080; font-weight: bold\">17</span>, <span style=\"color: #008000; text-decoration-color: #008000\">'with_missing_field'</span>: <span style=\"color: #008080; text-decoration-color: #008080; font-weight: bold\">76</span>, <span style=\"color: #008000; text-decoration-color: #008000\">'with_null_value'</span>: <span style=\"color: #008080; text-decoration-color: #008080; font-weight: bold\">69</span><span style=\"font-weight: bold\">}</span>,\n",
       "    <span style=\"font-weight: bold\">{</span><span style=\"color: #008000; text-decoration-color: #008000\">'id'</span>: <span style=\"color: #008080; text-decoration-color: #008080; font-weight: bold\">18</span>, <span style=\"color: #008000; text-decoration-color: #008000\">'with_null_value'</span>: <span style=\"color: #800080; text-decoration-color: #800080; font-style: italic\">None</span><span style=\"font-weight: bold\">}</span>,\n",
       "    <span style=\"font-weight: bold\">{</span><span style=\"color: #008000; text-decoration-color: #008000\">'id'</span>: <span style=\"color: #008080; text-decoration-color: #008080; font-weight: bold\">19</span>, <span style=\"color: #008000; text-decoration-color: #008000\">'with_missing_field'</span>: <span style=\"color: #008080; text-decoration-color: #008080; font-weight: bold\">86</span>, <span style=\"color: #008000; text-decoration-color: #008000\">'with_null_value'</span>: <span style=\"color: #008080; text-decoration-color: #008080; font-weight: bold\">69</span><span style=\"font-weight: bold\">}</span>,\n",
       "    <span style=\"font-weight: bold\">{</span><span style=\"color: #008000; text-decoration-color: #008000\">'id'</span>: <span style=\"color: #008080; text-decoration-color: #008080; font-weight: bold\">20</span>, <span style=\"color: #008000; text-decoration-color: #008000\">'with_missing_field'</span>: <span style=\"color: #008080; text-decoration-color: #008080; font-weight: bold\">100</span>, <span style=\"color: #008000; text-decoration-color: #008000\">'with_null_value'</span>: <span style=\"color: #008080; text-decoration-color: #008080; font-weight: bold\">33</span><span style=\"font-weight: bold\">}</span>,\n",
       "    <span style=\"font-weight: bold\">{</span><span style=\"color: #008000; text-decoration-color: #008000\">'id'</span>: <span style=\"color: #008080; text-decoration-color: #008080; font-weight: bold\">21</span>, <span style=\"color: #008000; text-decoration-color: #008000\">'with_missing_field'</span>: <span style=\"color: #008080; text-decoration-color: #008080; font-weight: bold\">25</span>, <span style=\"color: #008000; text-decoration-color: #008000\">'with_null_value'</span>: <span style=\"color: #008080; text-decoration-color: #008080; font-weight: bold\">95</span><span style=\"font-weight: bold\">}</span>,\n",
       "    <span style=\"font-weight: bold\">{</span><span style=\"color: #008000; text-decoration-color: #008000\">'id'</span>: <span style=\"color: #008080; text-decoration-color: #008080; font-weight: bold\">22</span>, <span style=\"color: #008000; text-decoration-color: #008000\">'with_missing_field'</span>: <span style=\"color: #008080; text-decoration-color: #008080; font-weight: bold\">39</span>, <span style=\"color: #008000; text-decoration-color: #008000\">'with_null_value'</span>: <span style=\"color: #008080; text-decoration-color: #008080; font-weight: bold\">2</span><span style=\"font-weight: bold\">}</span>,\n",
       "    <span style=\"font-weight: bold\">{</span><span style=\"color: #008000; text-decoration-color: #008000\">'id'</span>: <span style=\"color: #008080; text-decoration-color: #008080; font-weight: bold\">23</span>, <span style=\"color: #008000; text-decoration-color: #008000\">'with_missing_field'</span>: <span style=\"color: #008080; text-decoration-color: #008080; font-weight: bold\">83</span>, <span style=\"color: #008000; text-decoration-color: #008000\">'with_null_value'</span>: <span style=\"color: #008080; text-decoration-color: #008080; font-weight: bold\">28</span><span style=\"font-weight: bold\">}</span>,\n",
       "    <span style=\"font-weight: bold\">{</span><span style=\"color: #008000; text-decoration-color: #008000\">'id'</span>: <span style=\"color: #008080; text-decoration-color: #008080; font-weight: bold\">24</span>, <span style=\"color: #008000; text-decoration-color: #008000\">'with_missing_field'</span>: <span style=\"color: #008080; text-decoration-color: #008080; font-weight: bold\">63</span>, <span style=\"color: #008000; text-decoration-color: #008000\">'with_null_value'</span>: <span style=\"color: #008080; text-decoration-color: #008080; font-weight: bold\">83</span><span style=\"font-weight: bold\">}</span>,\n",
       "    <span style=\"font-weight: bold\">{</span><span style=\"color: #008000; text-decoration-color: #008000\">'id'</span>: <span style=\"color: #008080; text-decoration-color: #008080; font-weight: bold\">25</span>, <span style=\"color: #008000; text-decoration-color: #008000\">'with_missing_field'</span>: <span style=\"color: #008080; text-decoration-color: #008080; font-weight: bold\">15</span>, <span style=\"color: #008000; text-decoration-color: #008000\">'with_null_value'</span>: <span style=\"color: #008080; text-decoration-color: #008080; font-weight: bold\">71</span><span style=\"font-weight: bold\">}</span>,\n",
       "    <span style=\"font-weight: bold\">{</span><span style=\"color: #008000; text-decoration-color: #008000\">'id'</span>: <span style=\"color: #008080; text-decoration-color: #008080; font-weight: bold\">26</span>, <span style=\"color: #008000; text-decoration-color: #008000\">'with_missing_field'</span>: <span style=\"color: #008080; text-decoration-color: #008080; font-weight: bold\">2</span>, <span style=\"color: #008000; text-decoration-color: #008000\">'with_null_value'</span>: <span style=\"color: #008080; text-decoration-color: #008080; font-weight: bold\">68</span><span style=\"font-weight: bold\">}</span>,\n",
       "    <span style=\"font-weight: bold\">{</span><span style=\"color: #008000; text-decoration-color: #008000\">'id'</span>: <span style=\"color: #008080; text-decoration-color: #008080; font-weight: bold\">27</span>, <span style=\"color: #008000; text-decoration-color: #008000\">'with_missing_field'</span>: <span style=\"color: #008080; text-decoration-color: #008080; font-weight: bold\">80</span>, <span style=\"color: #008000; text-decoration-color: #008000\">'with_null_value'</span>: <span style=\"color: #800080; text-decoration-color: #800080; font-style: italic\">None</span><span style=\"font-weight: bold\">}</span>,\n",
       "    <span style=\"font-weight: bold\">{</span><span style=\"color: #008000; text-decoration-color: #008000\">'id'</span>: <span style=\"color: #008080; text-decoration-color: #008080; font-weight: bold\">28</span>, <span style=\"color: #008000; text-decoration-color: #008000\">'with_missing_field'</span>: <span style=\"color: #008080; text-decoration-color: #008080; font-weight: bold\">11</span>, <span style=\"color: #008000; text-decoration-color: #008000\">'with_null_value'</span>: <span style=\"color: #800080; text-decoration-color: #800080; font-style: italic\">None</span><span style=\"font-weight: bold\">}</span>,\n",
       "    <span style=\"font-weight: bold\">{</span><span style=\"color: #008000; text-decoration-color: #008000\">'id'</span>: <span style=\"color: #008080; text-decoration-color: #008080; font-weight: bold\">29</span>, <span style=\"color: #008000; text-decoration-color: #008000\">'with_null_value'</span>: <span style=\"color: #008080; text-decoration-color: #008080; font-weight: bold\">11</span><span style=\"font-weight: bold\">}</span>,\n",
       "    <span style=\"font-weight: bold\">{</span><span style=\"color: #008000; text-decoration-color: #008000\">'id'</span>: <span style=\"color: #008080; text-decoration-color: #008080; font-weight: bold\">30</span>, <span style=\"color: #008000; text-decoration-color: #008000\">'with_missing_field'</span>: <span style=\"color: #008080; text-decoration-color: #008080; font-weight: bold\">22</span>, <span style=\"color: #008000; text-decoration-color: #008000\">'with_null_value'</span>: <span style=\"color: #008080; text-decoration-color: #008080; font-weight: bold\">20</span><span style=\"font-weight: bold\">}</span>\n",
       "<span style=\"font-weight: bold\">]</span>\n",
       "</pre>\n"
      ],
      "text/plain": [
       "\u001b[1m[\u001b[0m\n",
       "    \u001b[1m{\u001b[0m\u001b[32m'id'\u001b[0m: \u001b[1;36m1\u001b[0m, \u001b[32m'with_missing_field'\u001b[0m: \u001b[1;36m34\u001b[0m, \u001b[32m'with_null_value'\u001b[0m: \u001b[3;35mNone\u001b[0m\u001b[1m}\u001b[0m,\n",
       "    \u001b[1m{\u001b[0m\u001b[32m'id'\u001b[0m: \u001b[1;36m2\u001b[0m, \u001b[32m'with_missing_field'\u001b[0m: \u001b[1;36m60\u001b[0m, \u001b[32m'with_null_value'\u001b[0m: \u001b[3;35mNone\u001b[0m\u001b[1m}\u001b[0m,\n",
       "    \u001b[1m{\u001b[0m\u001b[32m'id'\u001b[0m: \u001b[1;36m3\u001b[0m, \u001b[32m'with_missing_field'\u001b[0m: \u001b[1;36m65\u001b[0m, \u001b[32m'with_null_value'\u001b[0m: \u001b[1;36m82\u001b[0m\u001b[1m}\u001b[0m,\n",
       "    \u001b[1m{\u001b[0m\u001b[32m'id'\u001b[0m: \u001b[1;36m4\u001b[0m, \u001b[32m'with_null_value'\u001b[0m: \u001b[1;36m15\u001b[0m\u001b[1m}\u001b[0m,\n",
       "    \u001b[1m{\u001b[0m\u001b[32m'id'\u001b[0m: \u001b[1;36m5\u001b[0m, \u001b[32m'with_missing_field'\u001b[0m: \u001b[1;36m57\u001b[0m, \u001b[32m'with_null_value'\u001b[0m: \u001b[1;36m45\u001b[0m\u001b[1m}\u001b[0m,\n",
       "    \u001b[1m{\u001b[0m\u001b[32m'id'\u001b[0m: \u001b[1;36m6\u001b[0m, \u001b[32m'with_missing_field'\u001b[0m: \u001b[1;36m71\u001b[0m, \u001b[32m'with_null_value'\u001b[0m: \u001b[1;36m42\u001b[0m\u001b[1m}\u001b[0m,\n",
       "    \u001b[1m{\u001b[0m\u001b[32m'id'\u001b[0m: \u001b[1;36m7\u001b[0m, \u001b[32m'with_null_value'\u001b[0m: \u001b[3;35mNone\u001b[0m\u001b[1m}\u001b[0m,\n",
       "    \u001b[1m{\u001b[0m\u001b[32m'id'\u001b[0m: \u001b[1;36m8\u001b[0m, \u001b[32m'with_null_value'\u001b[0m: \u001b[1;36m20\u001b[0m\u001b[1m}\u001b[0m,\n",
       "    \u001b[1m{\u001b[0m\u001b[32m'id'\u001b[0m: \u001b[1;36m9\u001b[0m, \u001b[32m'with_missing_field'\u001b[0m: \u001b[1;36m96\u001b[0m, \u001b[32m'with_null_value'\u001b[0m: \u001b[3;35mNone\u001b[0m\u001b[1m}\u001b[0m,\n",
       "    \u001b[1m{\u001b[0m\u001b[32m'id'\u001b[0m: \u001b[1;36m10\u001b[0m, \u001b[32m'with_null_value'\u001b[0m: \u001b[3;35mNone\u001b[0m\u001b[1m}\u001b[0m,\n",
       "    \u001b[1m{\u001b[0m\u001b[32m'id'\u001b[0m: \u001b[1;36m11\u001b[0m, \u001b[32m'with_missing_field'\u001b[0m: \u001b[1;36m83\u001b[0m, \u001b[32m'with_null_value'\u001b[0m: \u001b[1;36m32\u001b[0m\u001b[1m}\u001b[0m,\n",
       "    \u001b[1m{\u001b[0m\u001b[32m'id'\u001b[0m: \u001b[1;36m12\u001b[0m, \u001b[32m'with_missing_field'\u001b[0m: \u001b[1;36m98\u001b[0m, \u001b[32m'with_null_value'\u001b[0m: \u001b[3;35mNone\u001b[0m\u001b[1m}\u001b[0m,\n",
       "    \u001b[1m{\u001b[0m\u001b[32m'id'\u001b[0m: \u001b[1;36m13\u001b[0m, \u001b[32m'with_null_value'\u001b[0m: \u001b[1;36m73\u001b[0m\u001b[1m}\u001b[0m,\n",
       "    \u001b[1m{\u001b[0m\u001b[32m'id'\u001b[0m: \u001b[1;36m14\u001b[0m, \u001b[32m'with_null_value'\u001b[0m: \u001b[3;35mNone\u001b[0m\u001b[1m}\u001b[0m,\n",
       "    \u001b[1m{\u001b[0m\u001b[32m'id'\u001b[0m: \u001b[1;36m15\u001b[0m, \u001b[32m'with_missing_field'\u001b[0m: \u001b[1;36m87\u001b[0m, \u001b[32m'with_null_value'\u001b[0m: \u001b[1;36m65\u001b[0m\u001b[1m}\u001b[0m,\n",
       "    \u001b[1m{\u001b[0m\u001b[32m'id'\u001b[0m: \u001b[1;36m16\u001b[0m, \u001b[32m'with_missing_field'\u001b[0m: \u001b[1;36m6\u001b[0m, \u001b[32m'with_null_value'\u001b[0m: \u001b[1;36m25\u001b[0m\u001b[1m}\u001b[0m,\n",
       "    \u001b[1m{\u001b[0m\u001b[32m'id'\u001b[0m: \u001b[1;36m17\u001b[0m, \u001b[32m'with_missing_field'\u001b[0m: \u001b[1;36m76\u001b[0m, \u001b[32m'with_null_value'\u001b[0m: \u001b[1;36m69\u001b[0m\u001b[1m}\u001b[0m,\n",
       "    \u001b[1m{\u001b[0m\u001b[32m'id'\u001b[0m: \u001b[1;36m18\u001b[0m, \u001b[32m'with_null_value'\u001b[0m: \u001b[3;35mNone\u001b[0m\u001b[1m}\u001b[0m,\n",
       "    \u001b[1m{\u001b[0m\u001b[32m'id'\u001b[0m: \u001b[1;36m19\u001b[0m, \u001b[32m'with_missing_field'\u001b[0m: \u001b[1;36m86\u001b[0m, \u001b[32m'with_null_value'\u001b[0m: \u001b[1;36m69\u001b[0m\u001b[1m}\u001b[0m,\n",
       "    \u001b[1m{\u001b[0m\u001b[32m'id'\u001b[0m: \u001b[1;36m20\u001b[0m, \u001b[32m'with_missing_field'\u001b[0m: \u001b[1;36m100\u001b[0m, \u001b[32m'with_null_value'\u001b[0m: \u001b[1;36m33\u001b[0m\u001b[1m}\u001b[0m,\n",
       "    \u001b[1m{\u001b[0m\u001b[32m'id'\u001b[0m: \u001b[1;36m21\u001b[0m, \u001b[32m'with_missing_field'\u001b[0m: \u001b[1;36m25\u001b[0m, \u001b[32m'with_null_value'\u001b[0m: \u001b[1;36m95\u001b[0m\u001b[1m}\u001b[0m,\n",
       "    \u001b[1m{\u001b[0m\u001b[32m'id'\u001b[0m: \u001b[1;36m22\u001b[0m, \u001b[32m'with_missing_field'\u001b[0m: \u001b[1;36m39\u001b[0m, \u001b[32m'with_null_value'\u001b[0m: \u001b[1;36m2\u001b[0m\u001b[1m}\u001b[0m,\n",
       "    \u001b[1m{\u001b[0m\u001b[32m'id'\u001b[0m: \u001b[1;36m23\u001b[0m, \u001b[32m'with_missing_field'\u001b[0m: \u001b[1;36m83\u001b[0m, \u001b[32m'with_null_value'\u001b[0m: \u001b[1;36m28\u001b[0m\u001b[1m}\u001b[0m,\n",
       "    \u001b[1m{\u001b[0m\u001b[32m'id'\u001b[0m: \u001b[1;36m24\u001b[0m, \u001b[32m'with_missing_field'\u001b[0m: \u001b[1;36m63\u001b[0m, \u001b[32m'with_null_value'\u001b[0m: \u001b[1;36m83\u001b[0m\u001b[1m}\u001b[0m,\n",
       "    \u001b[1m{\u001b[0m\u001b[32m'id'\u001b[0m: \u001b[1;36m25\u001b[0m, \u001b[32m'with_missing_field'\u001b[0m: \u001b[1;36m15\u001b[0m, \u001b[32m'with_null_value'\u001b[0m: \u001b[1;36m71\u001b[0m\u001b[1m}\u001b[0m,\n",
       "    \u001b[1m{\u001b[0m\u001b[32m'id'\u001b[0m: \u001b[1;36m26\u001b[0m, \u001b[32m'with_missing_field'\u001b[0m: \u001b[1;36m2\u001b[0m, \u001b[32m'with_null_value'\u001b[0m: \u001b[1;36m68\u001b[0m\u001b[1m}\u001b[0m,\n",
       "    \u001b[1m{\u001b[0m\u001b[32m'id'\u001b[0m: \u001b[1;36m27\u001b[0m, \u001b[32m'with_missing_field'\u001b[0m: \u001b[1;36m80\u001b[0m, \u001b[32m'with_null_value'\u001b[0m: \u001b[3;35mNone\u001b[0m\u001b[1m}\u001b[0m,\n",
       "    \u001b[1m{\u001b[0m\u001b[32m'id'\u001b[0m: \u001b[1;36m28\u001b[0m, \u001b[32m'with_missing_field'\u001b[0m: \u001b[1;36m11\u001b[0m, \u001b[32m'with_null_value'\u001b[0m: \u001b[3;35mNone\u001b[0m\u001b[1m}\u001b[0m,\n",
       "    \u001b[1m{\u001b[0m\u001b[32m'id'\u001b[0m: \u001b[1;36m29\u001b[0m, \u001b[32m'with_null_value'\u001b[0m: \u001b[1;36m11\u001b[0m\u001b[1m}\u001b[0m,\n",
       "    \u001b[1m{\u001b[0m\u001b[32m'id'\u001b[0m: \u001b[1;36m30\u001b[0m, \u001b[32m'with_missing_field'\u001b[0m: \u001b[1;36m22\u001b[0m, \u001b[32m'with_null_value'\u001b[0m: \u001b[1;36m20\u001b[0m\u001b[1m}\u001b[0m\n",
       "\u001b[1m]\u001b[0m\n"
      ]
     },
     "metadata": {},
     "output_type": "display_data"
    }
   ],
   "source": [
    "fake = Faker()\n",
    "\n",
    "\n",
    "def create_one(\n",
    "    nth_file: int, \n",
    "    has_bad_data: bool=True, \n",
    "    write_to_s3: bool=True,\n",
    "):\n",
    "    print(f\"processing {nth_file} th file ...\")\n",
    "    id_start = 1 + (nth_file - 1) * config.n_records_per_file\n",
    "    id_end = id_start + config.n_records_per_file\n",
    "    data = [\n",
    "        {\n",
    "            \"id\": id,\n",
    "            \"with_missing_field\": random.randint(1, 100),\n",
    "            \"with_null_value\": random.randint(1, 100)\n",
    "        }\n",
    "        for id in range(id_start, id_end)\n",
    "    ]\n",
    "    \n",
    "    if has_bad_data:\n",
    "        for dct in data:\n",
    "            if random.randint(1, 100) <= 30:\n",
    "                del dct[\"with_missing_field\"]\n",
    "            if random.randint(1, 100) <= 30:\n",
    "                dct[\"with_null_value\"] = None\n",
    "\n",
    "    if write_to_s3:\n",
    "        content = json_dump_multiline(data)\n",
    "        s3path = S3Path(config.bucket, config.prefix, f\"{str(nth_file).zfill(3)}.json\")\n",
    "        s3path.write_text(content)\n",
    "        print(f\"  open for preview: {s3path.console_url}\")\n",
    "\n",
    "    return data\n",
    "\n",
    "data = create_one(1, has_bad_data=True, write_to_s3=False)\n",
    "rprint(data[:30])"
   ]
  },
  {
   "cell_type": "code",
   "execution_count": 23,
   "id": "fcbed083",
   "metadata": {},
   "outputs": [
    {
     "name": "stdout",
     "output_type": "stream",
     "text": [
      "processing 1 th file ...\n",
      "  open for preview: https://console.aws.amazon.com/s3/object/aws-data-lab-sanhe-for-everything-us-east-2?prefix=poc/learn-big-data-on-aws/glue-job-examples/missing-fields-and-null-values/001.json\n",
      "processing 2 th file ...\n",
      "  open for preview: https://console.aws.amazon.com/s3/object/aws-data-lab-sanhe-for-everything-us-east-2?prefix=poc/learn-big-data-on-aws/glue-job-examples/missing-fields-and-null-values/002.json\n",
      "processing 3 th file ...\n",
      "  open for preview: https://console.aws.amazon.com/s3/object/aws-data-lab-sanhe-for-everything-us-east-2?prefix=poc/learn-big-data-on-aws/glue-job-examples/missing-fields-and-null-values/003.json\n"
     ]
    }
   ],
   "source": [
    "def create_many():\n",
    "    create_one(1, has_bad_data=True)\n",
    "    create_one(2, has_bad_data=True)\n",
    "    create_one(3, has_bad_data=False)\n",
    "    \n",
    "create_many()"
   ]
  },
  {
   "cell_type": "code",
   "execution_count": null,
   "id": "9daa1d7f",
   "metadata": {},
   "outputs": [],
   "source": []
  }
 ],
 "metadata": {
  "kernelspec": {
   "display_name": "conda_pytorch_latest_p36",
   "language": "python",
   "name": "conda_pytorch_latest_p36"
  },
  "language_info": {
   "codemirror_mode": {
    "name": "ipython",
    "version": 3
   },
   "file_extension": ".py",
   "mimetype": "text/x-python",
   "name": "python",
   "nbconvert_exporter": "python",
   "pygments_lexer": "ipython3",
   "version": "3.6.13"
  }
 },
 "nbformat": 4,
 "nbformat_minor": 5
}
