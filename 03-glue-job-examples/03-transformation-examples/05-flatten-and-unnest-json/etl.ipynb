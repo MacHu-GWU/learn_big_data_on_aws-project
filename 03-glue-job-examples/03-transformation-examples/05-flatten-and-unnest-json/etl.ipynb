{
 "cells": [
  {
   "cell_type": "markdown",
   "id": "49d24118",
   "metadata": {},
   "source": [
    "# Glue ETL Transformation - Flatten and Unnest JSON\n",
    "\n",
    "[CN]\n",
    "\n",
    "首先我们来定义问题, 什么是 Flatten, 什么是 Unnest. 我们先来考虑如下 Record.\n",
    "\n",
    "```python\n",
    "{\n",
    "    \"user_id\": 1,\n",
    "    \"contact\": {\"email\": \"alice@example.com\", \"phone\": \"111-222-3333\"},\n",
    "    \"accounts\": [\"acc1\", \"acc2\", \"acc3\"],\n",
    "}\n",
    "```\n",
    "\n",
    "**Unnest Struct**\n",
    "\n",
    "所谓 Nest 就是 ``contact`` 这种, 一个 value 是一个 struct, 里面又有很多 key value, 不断嵌套. 我们希望 Unnest 后的结果是:\n",
    "\n",
    "```python\n",
    "{\n",
    "    \"contact.email\": \"alice@example.com\",\n",
    "    \"contact.phone\": \"111-222-3333\",\n",
    "}\n",
    "```\n",
    "\n",
    "**Flatten Array**\n",
    "\n",
    "所谓 Flatten 就是扁平化, 使得数据结构没有嵌套, 都是简单的 Key Value. 在语法上其实是包含了 Unnest. 也就是说 Unnest 是 flatten 的一种. 这里我们主要来看 ``accounts`` array.\n",
    "\n",
    "通常 Flatten array 有两种方法:\n",
    "\n",
    "方法 1: 给元素添加序号\n",
    "\n",
    "```python\n",
    "{\n",
    "    \"accounts[0]\": \"acc1\",\n",
    "    \"accounts[1]\": \"acc2\",\n",
    "    \"accounts[2]\": \"acc3\",\n",
    "}\n",
    "```\n",
    "\n",
    "方法 2: 基于 array 把一个 record 复制 N 份, N 等于 array 中元素的个数\n",
    "\n",
    "```python\n",
    "{\"user_id\": 1, \"account\": \"acc1\", ...}\n",
    "{\"user_id\": 1, \"account\": \"acc2\", ...}\n",
    "{\"user_id\": 1, \"account\": \"acc3\", ...}\n",
    "```\n",
    "\n",
    "在大数据分析中, 我们常用第二种方法.\n",
    "\n",
    "下面我们来看看在 Glue Job 中如何执行 Unnest / Flatten 的操作.\n",
    "\n",
    "[EN]\n",
    "\n",
    "**Unnest Struct**\n",
    "\n",
    "For struct, it move leaf nodes to root level, and use full json path as the key:\n",
    "\n",
    "```python\n",
    "# Input\n",
    "{\"id\": 1, \"specs\": {\"color\": \"red\"}}\n",
    "\n",
    "# Output\n",
    "{\"id\": 1, \"specs.color\": \"red\"}\n",
    "```\n",
    "\n",
    "**Flatten Array**\n",
    "\n",
    "For array, one record expand to number of records that equal to the length of the array:\n",
    "\n",
    "```python\n",
    "# Input\n",
    "{\"id\": 1, \"categories\": [\"cate1\", \"cate2\", \"cate3\"]}\n",
    "\n",
    "# Output\n",
    "{\"id\": 1, \"categories\": \"cate1\"}\n",
    "{\"id\": 1, \"categories\": \"cate2\"}\n",
    "{\"id\": 1, \"categories\": \"cate3\"}\n",
    "```\n",
    "\n",
    "If you want to flatten based on multiple array fields, it expand to the combination of each fields:\n",
    "\n",
    "```python\n",
    "# Input\n",
    "{\"id\": \"7e3f, \"array1\": [1, 2], \"array2\": [3, 4, 5]}\n",
    "\n",
    "# Output\n",
    "{\"id\": \"7e3f\", \"array1\": 1, \"array2\": 3}\n",
    "{\"id\": \"7e3f\", \"array1\": 1, \"array2\": 4}\n",
    "{\"id\": \"7e3f\", \"array1\": 1, \"array2\": 5}\n",
    "{\"id\": \"7e3f\", \"array1\": 2, \"array2\": 3}\n",
    "{\"id\": \"7e3f\", \"array1\": 2, \"array2\": 4}\n",
    "{\"id\": \"7e3f\", \"array1\": 2, \"array2\": 5}\n",
    "```"
   ]
  },
  {
   "cell_type": "code",
   "execution_count": 1,
   "id": "fb73c041",
   "metadata": {},
   "outputs": [
    {
     "name": "stdout",
     "output_type": "stream",
     "text": [
      "Starting Spark application\n"
     ]
    },
    {
     "data": {
      "text/html": [
       "<table>\n",
       "<tr><th>ID</th><th>YARN Application ID</th><th>Kind</th><th>State</th><th>Spark UI</th><th>Driver log</th><th>User</th><th>Current session?</th></tr><tr><td>16</td><td>application_1646085135716_0021</td><td>pyspark</td><td>idle</td><td><a target=\"_blank\" href=\"http://ip-172-32-8-11.us-east-2.compute.internal:20888/proxy/application_1646085135716_0021/\">Link</a></td><td><a target=\"_blank\" href=\"http://ip-172-32-25-26.us-east-2.compute.internal:8042/node/containerlogs/container_1646085135716_0021_01_000001/livy\">Link</a></td><td>None</td><td>✔</td></tr></table>"
      ],
      "text/plain": [
       "<IPython.core.display.HTML object>"
      ]
     },
     "metadata": {},
     "output_type": "display_data"
    },
    {
     "data": {
      "application/vnd.jupyter.widget-view+json": {
       "model_id": "3f7dd04684cb425ba9363e2f4ef682c1",
       "version_major": 2,
       "version_minor": 0
      },
      "text/plain": [
       "FloatProgress(value=0.0, bar_style='info', description='Progress:', layout=Layout(height='25px', width='50%'),…"
      ]
     },
     "metadata": {},
     "output_type": "display_data"
    },
    {
     "name": "stdout",
     "output_type": "stream",
     "text": [
      "SparkSession available as 'spark'.\n"
     ]
    },
    {
     "data": {
      "application/vnd.jupyter.widget-view+json": {
       "model_id": "ee338cc7ac7d4c738b9cb3a506c61392",
       "version_major": 2,
       "version_minor": 0
      },
      "text/plain": [
       "FloatProgress(value=0.0, bar_style='info', description='Progress:', layout=Layout(height='25px', width='50%'),…"
      ]
     },
     "metadata": {},
     "output_type": "display_data"
    }
   ],
   "source": [
    "import sys\n",
    "from pyspark.context import SparkContext\n",
    "from awsglue.job import Job\n",
    "from awsglue.utils import getResolvedOptions\n",
    "from awsglue.context import GlueContext\n",
    "from awsglue.dynamicframe import DynamicFrame\n",
    "from awsglue.transforms import *\n",
    "\n",
    "# Create SparkContext\n",
    "sparkContext = SparkContext.getOrCreate()\n",
    "\n",
    "# Create Glue Context\n",
    "glueContext = GlueContext(sparkContext)\n",
    "\n",
    "# Get spark session\n",
    "spark = glueContext.spark_session\n",
    "\n",
    "# Resolve job parameters\n",
    "# Uncomment this in Glue ETL job\n",
    "# args = getResolvedOptions(sys.argv, [\"JOB_NAME\"\n",
    "# job = Job(glueContext)\n",
    "# job.init(args['JOB_NAME'], args)"
   ]
  },
  {
   "cell_type": "code",
   "execution_count": 2,
   "id": "6c79841a",
   "metadata": {},
   "outputs": [
    {
     "data": {
      "application/vnd.jupyter.widget-view+json": {
       "model_id": "489a0a51d74243989a60a575fc788121",
       "version_major": 2,
       "version_minor": 0
      },
      "text/plain": [
       "FloatProgress(value=0.0, bar_style='info', description='Progress:', layout=Layout(height='25px', width='50%'),…"
      ]
     },
     "metadata": {},
     "output_type": "display_data"
    }
   ],
   "source": [
    "class Config:\n",
    "    bucket = \"aws-data-lab-sanhe-for-everything-us-east-2\"\n",
    "    prefix = \"poc/learn-big-data-on-aws/glue-job-examples/03-transformation-examples/05-flatten-and-unnest-json\"\n",
    "    \n",
    "    @property\n",
    "    def s3path_prefix(self):\n",
    "        return S3Path(self.bucket, self.prefix)\n",
    "    \n",
    "config = Config()"
   ]
  },
  {
   "cell_type": "code",
   "execution_count": 3,
   "id": "2d6ed182",
   "metadata": {},
   "outputs": [
    {
     "data": {
      "application/vnd.jupyter.widget-view+json": {
       "model_id": "125e53c9678d496fb1a1948283b47755",
       "version_major": 2,
       "version_minor": 0
      },
      "text/plain": [
       "FloatProgress(value=0.0, bar_style='info', description='Progress:', layout=Layout(height='25px', width='50%'),…"
      ]
     },
     "metadata": {},
     "output_type": "display_data"
    }
   ],
   "source": [
    "# gdf = Glue Dynamic Frame\n",
    "gdf = glueContext.create_dynamic_frame.from_options(\n",
    "    connection_type=\"s3\", \n",
    "    connection_options=dict(\n",
    "        paths=[\n",
    "            f\"s3://{config.bucket}/{config.prefix}/\"\n",
    "        ],\n",
    "        recurse=True,\n",
    "    ),\n",
    "    format=\"json\",\n",
    "    format_options=dict(multiLine=True),\n",
    "    transformation_ctx=\"datasource\",\n",
    ")"
   ]
  },
  {
   "cell_type": "code",
   "execution_count": 4,
   "id": "dd8b621f",
   "metadata": {},
   "outputs": [
    {
     "data": {
      "application/vnd.jupyter.widget-view+json": {
       "model_id": "000d5dc425b6424e8079ce614a68a447",
       "version_major": 2,
       "version_minor": 0
      },
      "text/plain": [
       "FloatProgress(value=0.0, bar_style='info', description='Progress:', layout=Layout(height='25px', width='50%'),…"
      ]
     },
     "metadata": {},
     "output_type": "display_data"
    },
    {
     "name": "stdout",
     "output_type": "stream",
     "text": [
      "root\n",
      "|-- id: int\n",
      "|-- name: string\n",
      "|-- price: int\n",
      "|-- specs: struct\n",
      "|    |-- color: string\n",
      "|-- categories: array\n",
      "|    |-- element: string\n",
      "|-- reviews: array\n",
      "|    |-- element: struct\n",
      "|    |    |-- rank: int\n",
      "|    |    |-- comment: string"
     ]
    }
   ],
   "source": [
    "# print data schema\n",
    "gdf.printSchema()"
   ]
  },
  {
   "cell_type": "code",
   "execution_count": 5,
   "id": "87fa84b9",
   "metadata": {},
   "outputs": [
    {
     "data": {
      "application/vnd.jupyter.widget-view+json": {
       "model_id": "96ff158d93614730b10aa893cc63276c",
       "version_major": 2,
       "version_minor": 0
      },
      "text/plain": [
       "FloatProgress(value=0.0, bar_style='info', description='Progress:', layout=Layout(height='25px', width='50%'),…"
      ]
     },
     "metadata": {},
     "output_type": "display_data"
    },
    {
     "name": "stdout",
     "output_type": "stream",
     "text": [
      "-RECORD 0--------------------------------------------------------\n",
      " id         | 1                                                  \n",
      " name       | report                                             \n",
      " price      | 74                                                 \n",
      " specs      | [LightSeaGreen]                                    \n",
      " categories | [simple]                                           \n",
      " reviews    | [[4, In simple way eat.], [2, Best care network.]] \n",
      "-RECORD 1--------------------------------------------------------\n",
      " id         | 2                                                  \n",
      " name       | style                                              \n",
      " price      | 87                                                 \n",
      " specs      | [White]                                            \n",
      " categories | [answer, nation]                                   \n",
      " reviews    | [[2, Agreement modern test.]]                      \n",
      "-RECORD 2--------------------------------------------------------\n",
      " id         | 3                                                  \n",
      " name       | end                                                \n",
      " price      | 58                                                 \n",
      " specs      | [Aqua]                                             \n",
      " categories | [thousand, mouth, style]                           \n",
      " reviews    | [[2, Seat minute record policy soon.]]             \n",
      "only showing top 3 rows"
     ]
    }
   ],
   "source": [
    "# preview the data\n",
    "gdf.toDF().show(3, truncate=False, vertical=True)"
   ]
  },
  {
   "cell_type": "markdown",
   "id": "ddeca946",
   "metadata": {},
   "source": [
    "## UNNEST struct example"
   ]
  },
  {
   "cell_type": "code",
   "execution_count": 6,
   "id": "8f096bc1",
   "metadata": {},
   "outputs": [
    {
     "data": {
      "application/vnd.jupyter.widget-view+json": {
       "model_id": "2916dd78bab74d60a5ebc0afb4037cf4",
       "version_major": 2,
       "version_minor": 0
      },
      "text/plain": [
       "FloatProgress(value=0.0, bar_style='info', description='Progress:', layout=Layout(height='25px', width='50%'),…"
      ]
     },
     "metadata": {},
     "output_type": "display_data"
    },
    {
     "name": "stdout",
     "output_type": "stream",
     "text": [
      "-RECORD 0----------------\n",
      " id    | 1               \n",
      " specs | [LightSeaGreen] \n",
      "-RECORD 1----------------\n",
      " id    | 2               \n",
      " specs | [White]         \n",
      "-RECORD 2----------------\n",
      " id    | 3               \n",
      " specs | [Aqua]          \n",
      "only showing top 3 rows"
     ]
    }
   ],
   "source": [
    "gdf_unnest_struct_selected = SelectFields.apply(frame=gdf, paths=[\"id\", \"specs\"])\n",
    "gdf_unnest_struct_selected.toDF().show(3, truncate=False, vertical=True)"
   ]
  },
  {
   "cell_type": "code",
   "execution_count": 7,
   "id": "73d2eb9c",
   "metadata": {},
   "outputs": [
    {
     "data": {
      "application/vnd.jupyter.widget-view+json": {
       "model_id": "51d92a5bd2b141b6b5afc690bd7e1ed7",
       "version_major": 2,
       "version_minor": 0
      },
      "text/plain": [
       "FloatProgress(value=0.0, bar_style='info', description='Progress:', layout=Layout(height='25px', width='50%'),…"
      ]
     },
     "metadata": {},
     "output_type": "display_data"
    },
    {
     "name": "stdout",
     "output_type": "stream",
     "text": [
      "{'id': 1, 'specs.color': 'LightSeaGreen'}\n",
      "{'id': 2, 'specs.color': 'White'}\n",
      "{'id': 3, 'specs.color': 'Aqua'}"
     ]
    }
   ],
   "source": [
    "# apply the ``UnnestFrame`` transformation operator\n",
    "gdf_unnested_struct = gdf_unnest_struct_selected.unnest()\n",
    "for row in gdf_unnested_struct.toDF().toPandas().head(3).to_dict(orient=\"records\"):\n",
    "    print(row)"
   ]
  },
  {
   "cell_type": "markdown",
   "id": "3f1a6c83",
   "metadata": {},
   "source": [
    "## Flatten array example"
   ]
  },
  {
   "cell_type": "code",
   "execution_count": 8,
   "id": "c0d070b8",
   "metadata": {},
   "outputs": [
    {
     "data": {
      "application/vnd.jupyter.widget-view+json": {
       "model_id": "a60c799196934c779e766dcace20b47d",
       "version_major": 2,
       "version_minor": 0
      },
      "text/plain": [
       "FloatProgress(value=0.0, bar_style='info', description='Progress:', layout=Layout(height='25px', width='50%'),…"
      ]
     },
     "metadata": {},
     "output_type": "display_data"
    },
    {
     "name": "stdout",
     "output_type": "stream",
     "text": [
      "-RECORD 0--------------------------------------------------------\n",
      " id         | 1                                                  \n",
      " name       | report                                             \n",
      " price      | 74                                                 \n",
      " specs      | [LightSeaGreen]                                    \n",
      " categories | [simple]                                           \n",
      " reviews    | [[4, In simple way eat.], [2, Best care network.]] \n",
      "-RECORD 1--------------------------------------------------------\n",
      " id         | 2                                                  \n",
      " name       | style                                              \n",
      " price      | 87                                                 \n",
      " specs      | [White]                                            \n",
      " categories | [answer, nation]                                   \n",
      " reviews    | [[2, Agreement modern test.]]                      \n",
      "-RECORD 2--------------------------------------------------------\n",
      " id         | 3                                                  \n",
      " name       | end                                                \n",
      " price      | 58                                                 \n",
      " specs      | [Aqua]                                             \n",
      " categories | [thousand, mouth, style]                           \n",
      " reviews    | [[2, Seat minute record policy soon.]]             \n",
      "only showing top 3 rows"
     ]
    }
   ],
   "source": [
    "# Double check the \"before\" state\n",
    "gdf.toDF().show(3, truncate=False, vertical=True)"
   ]
  },
  {
   "cell_type": "code",
   "execution_count": 9,
   "id": "603b1ae7",
   "metadata": {},
   "outputs": [
    {
     "data": {
      "application/vnd.jupyter.widget-view+json": {
       "model_id": "ba9377f22a184a7b8e96ea4b0d05ce2a",
       "version_major": 2,
       "version_minor": 0
      },
      "text/plain": [
       "FloatProgress(value=0.0, bar_style='info', description='Progress:', layout=Layout(height='25px', width='50%'),…"
      ]
     },
     "metadata": {},
     "output_type": "display_data"
    }
   ],
   "source": [
    "# import the explode function\n",
    "# ref: https://spark.apache.org/docs/latest/api/python/reference/api/pyspark.sql.functions.explode.html\n",
    "from pyspark.sql.functions import explode\n",
    "\n",
    "# pdf = PySpark Data Frame, convert to PySpark Data Frame\n",
    "pdf = gdf.toDF()"
   ]
  },
  {
   "cell_type": "code",
   "execution_count": 10,
   "id": "3aa9f14f",
   "metadata": {},
   "outputs": [
    {
     "data": {
      "application/vnd.jupyter.widget-view+json": {
       "model_id": "cb76fdce529c4d599da28624c89ef652",
       "version_major": 2,
       "version_minor": 0
      },
      "text/plain": [
       "FloatProgress(value=0.0, bar_style='info', description='Progress:', layout=Layout(height='25px', width='50%'),…"
      ]
     },
     "metadata": {},
     "output_type": "display_data"
    },
    {
     "name": "stdout",
     "output_type": "stream",
     "text": [
      "{'id': 1, 'category': 'simple'}\n",
      "{'id': 2, 'category': 'answer'}\n",
      "{'id': 2, 'category': 'nation'}\n",
      "{'id': 3, 'category': 'thousand'}\n",
      "{'id': 3, 'category': 'mouth'}\n",
      "{'id': 3, 'category': 'style'}\n",
      "{'id': 4, 'category': 'do'}\n",
      "{'id': 5, 'category': 'government'}\n",
      "{'id': 6, 'category': 'today'}\n",
      "{'id': 7, 'category': 'mouth'}"
     ]
    }
   ],
   "source": [
    "# flatten based on an array of string\n",
    "pdf_unnest_array_of_string = pdf.select(\n",
    "    pdf.id,\n",
    "    explode(pdf.categories).alias(\"category\"),\n",
    ")\n",
    "for row in pdf_unnest_array_of_string.toPandas().head(10).to_dict(orient=\"records\"):\n",
    "    print(row)"
   ]
  },
  {
   "cell_type": "code",
   "execution_count": 11,
   "id": "525b88d9",
   "metadata": {},
   "outputs": [
    {
     "data": {
      "application/vnd.jupyter.widget-view+json": {
       "model_id": "39f342cf385b418bab8cc2cc51584744",
       "version_major": 2,
       "version_minor": 0
      },
      "text/plain": [
       "FloatProgress(value=0.0, bar_style='info', description='Progress:', layout=Layout(height='25px', width='50%'),…"
      ]
     },
     "metadata": {},
     "output_type": "display_data"
    },
    {
     "name": "stdout",
     "output_type": "stream",
     "text": [
      "{'id': 1, 'review': Row(rank=4, comment='In simple way eat.')}\n",
      "{'id': 1, 'review': Row(rank=2, comment='Best care network.')}\n",
      "{'id': 2, 'review': Row(rank=2, comment='Agreement modern test.')}\n",
      "{'id': 3, 'review': Row(rank=2, comment='Seat minute record policy soon.')}\n",
      "{'id': 4, 'review': Row(rank=5, comment='Agreement production as environmental.')}\n",
      "{'id': 5, 'review': Row(rank=2, comment='Cultural his generation ask movie.')}\n",
      "{'id': 5, 'review': Row(rank=3, comment='Third table available law themselves some economy officer.')}\n",
      "{'id': 6, 'review': Row(rank=1, comment='Place tend mouth discover sport.')}\n",
      "{'id': 6, 'review': Row(rank=2, comment='Mean what sometimes animal our sometimes.')}\n",
      "{'id': 6, 'review': Row(rank=2, comment='Cold leader ok market.')}"
     ]
    }
   ],
   "source": [
    "# flatten based on an array of struct\n",
    "pdf_unnest_array_of_struct = pdf.select(\n",
    "    pdf.id,\n",
    "    explode(pdf.reviews).alias(\"review\"),\n",
    ")\n",
    "for row in pdf_unnest_array_of_struct.toPandas().head(10).to_dict(orient=\"records\"):\n",
    "    print(row)"
   ]
  },
  {
   "cell_type": "code",
   "execution_count": 12,
   "id": "2533058a",
   "metadata": {},
   "outputs": [
    {
     "data": {
      "application/vnd.jupyter.widget-view+json": {
       "model_id": "318ca7e4a32e4fd5a79dc4b6dd2cc293",
       "version_major": 2,
       "version_minor": 0
      },
      "text/plain": [
       "FloatProgress(value=0.0, bar_style='info', description='Progress:', layout=Layout(height='25px', width='50%'),…"
      ]
     },
     "metadata": {},
     "output_type": "display_data"
    },
    {
     "name": "stdout",
     "output_type": "stream",
     "text": [
      "{'id': 1, 'category': 'simple', 'review.rank': 4, 'review.comment': 'In simple way eat.'}\n",
      "{'id': 1, 'category': 'simple', 'review.rank': 2, 'review.comment': 'Best care network.'}\n",
      "{'id': 2, 'category': 'answer', 'review.rank': 2, 'review.comment': 'Agreement modern test.'}\n",
      "{'id': 2, 'category': 'nation', 'review.rank': 2, 'review.comment': 'Agreement modern test.'}\n",
      "{'id': 3, 'category': 'thousand', 'review.rank': 2, 'review.comment': 'Seat minute record policy soon.'}\n",
      "{'id': 3, 'category': 'mouth', 'review.rank': 2, 'review.comment': 'Seat minute record policy soon.'}\n",
      "{'id': 3, 'category': 'style', 'review.rank': 2, 'review.comment': 'Seat minute record policy soon.'}\n",
      "{'id': 4, 'category': 'do', 'review.rank': 5, 'review.comment': 'Agreement production as environmental.'}\n",
      "{'id': 5, 'category': 'government', 'review.rank': 2, 'review.comment': 'Cultural his generation ask movie.'}\n",
      "{'id': 5, 'category': 'government', 'review.rank': 3, 'review.comment': 'Third table available law themselves some economy officer.'}"
     ]
    }
   ],
   "source": [
    "# flatten then unnest\n",
    "pdf_unnest_tmp_1 = pdf.select(\n",
    "    pdf.id,\n",
    "    explode(pdf.categories).alias(\"category\"),\n",
    "    pdf.reviews,\n",
    ")\n",
    "pdf_unnest_tmp_2 = pdf_unnest_tmp_1.select(\n",
    "    pdf_unnest_tmp_1.id,\n",
    "    pdf_unnest_tmp_1.category,\n",
    "    explode(pdf_unnest_tmp_1.reviews).alias(\"review\"),\n",
    ")\n",
    "gdf_unnest_tmp = DynamicFrame.fromDF(pdf_unnest_tmp_2, glueContext, \"gdf_unnest_tmp\")\n",
    "gdf_unnest_everything = gdf_unnest_tmp.unnest()\n",
    "for row in gdf_unnest_everything.toDF().toPandas().head(10).to_dict(orient=\"records\"):\n",
    "    print(row)"
   ]
  },
  {
   "cell_type": "code",
   "execution_count": 13,
   "id": "9bfbffd9",
   "metadata": {},
   "outputs": [
    {
     "data": {
      "application/vnd.jupyter.widget-view+json": {
       "model_id": "bf4b53600fee4358acc361ff2a71c0b4",
       "version_major": 2,
       "version_minor": 0
      },
      "text/plain": [
       "FloatProgress(value=0.0, bar_style='info', description='Progress:', layout=Layout(height='25px', width='50%'),…"
      ]
     },
     "metadata": {},
     "output_type": "display_data"
    },
    {
     "name": "stdout",
     "output_type": "stream",
     "text": [
      "[('`id`', 'id'), ('`category`', 'category'), ('`review.rank`', 'review_rank'), ('`review.comment`', 'review_comment')]"
     ]
    }
   ],
   "source": [
    "col_mapper = [\n",
    "    (f\"`{col}`\", col.replace(\".\", \"_\"))\n",
    "    for col in gdf_unnest_everything.toDF().columns\n",
    "]\n",
    "col_mapper"
   ]
  },
  {
   "cell_type": "code",
   "execution_count": 14,
   "id": "25e380c4",
   "metadata": {},
   "outputs": [
    {
     "data": {
      "application/vnd.jupyter.widget-view+json": {
       "model_id": "d1b384a527a3464c9cf31c915f82be14",
       "version_major": 2,
       "version_minor": 0
      },
      "text/plain": [
       "FloatProgress(value=0.0, bar_style='info', description='Progress:', layout=Layout(height='25px', width='50%'),…"
      ]
     },
     "metadata": {},
     "output_type": "display_data"
    },
    {
     "name": "stdout",
     "output_type": "stream",
     "text": [
      "+---+----------+-----------+--------------------+\n",
      "| id|  category|review_rank|      review_comment|\n",
      "+---+----------+-----------+--------------------+\n",
      "|  1|    simple|          4|  In simple way eat.|\n",
      "|  1|    simple|          2|  Best care network.|\n",
      "|  2|    answer|          2|Agreement modern ...|\n",
      "|  2|    nation|          2|Agreement modern ...|\n",
      "|  3|  thousand|          2|Seat minute recor...|\n",
      "|  3|     mouth|          2|Seat minute recor...|\n",
      "|  3|     style|          2|Seat minute recor...|\n",
      "|  4|        do|          5|Agreement product...|\n",
      "|  5|government|          2|Cultural his gene...|\n",
      "|  5|government|          3|Third table avail...|\n",
      "|  6|     today|          1|Place tend mouth ...|\n",
      "|  6|     today|          2|Mean what sometim...|\n",
      "|  6|     today|          2|Cold leader ok ma...|\n",
      "|  6|     today|          5| Wind thank law gun.|\n",
      "|  7|     mouth|          1|Girl difficult li...|\n",
      "|  7|     mouth|          5|Responsibility ci...|\n",
      "|  7|     mouth|          2|   We dog a contain.|\n",
      "|  7|     mouth|          4|Focus might take ...|\n",
      "|  7|     mouth|          2|Tell yet dream ge...|\n",
      "|  8|      step|          5|White perhaps tru...|\n",
      "+---+----------+-----------+--------------------+\n",
      "only showing top 20 rows"
     ]
    }
   ],
   "source": [
    "gdf_unnest_result = gdf_unnest_everything\n",
    "for col_old, col_new in col_mapper:\n",
    "    gdf_unnest_result = gdf_unnest_result.rename_field(col_old, col_new)\n",
    "gdf_unnest_result.toDF().show()"
   ]
  },
  {
   "cell_type": "code",
   "execution_count": null,
   "id": "de780ed6",
   "metadata": {},
   "outputs": [],
   "source": []
  }
 ],
 "metadata": {
  "kernelspec": {
   "display_name": "Sparkmagic (PySpark)",
   "language": "python",
   "name": "pysparkkernel"
  },
  "language_info": {
   "codemirror_mode": {
    "name": "python",
    "version": 3
   },
   "file_extension": ".py",
   "mimetype": "text/x-python",
   "name": "pyspark",
   "pygments_lexer": "python3"
  },
  "toc-showcode": false
 },
 "nbformat": 4,
 "nbformat_minor": 5
}
