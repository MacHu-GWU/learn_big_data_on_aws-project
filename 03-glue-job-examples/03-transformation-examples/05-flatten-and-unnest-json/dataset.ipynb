{
 "cells": [
  {
   "cell_type": "code",
   "execution_count": 1,
   "id": "3e98f9b5",
   "metadata": {},
   "outputs": [
    {
     "name": "stdout",
     "output_type": "stream",
     "text": [
      "Note: you may need to restart the kernel to use updated packages.\n"
     ]
    }
   ],
   "source": [
    "%pip install -q -r requirements.txt"
   ]
  },
  {
   "cell_type": "code",
   "execution_count": 2,
   "id": "821695cf",
   "metadata": {},
   "outputs": [],
   "source": [
    "from rich import print as rprint\n",
    "from faker import Faker\n",
    "from s3pathlib import S3Path\n",
    "import pandas as pd"
   ]
  },
  {
   "cell_type": "code",
   "execution_count": 3,
   "id": "37cc8e5f",
   "metadata": {},
   "outputs": [],
   "source": [
    "class Config:\n",
    "    bucket = \"aws-data-lab-sanhe-for-everything-us-east-2\"\n",
    "    prefix = \"poc/learn-big-data-on-aws/glue-job-examples/03-transformation-examples/05-flatten-and-unnest-json\"\n",
    "    n_files = 10\n",
    "    n_records_per_file = 1000\n",
    "    n_product_category = 20\n",
    "    \n",
    "    @property\n",
    "    def s3path_prefix(self):\n",
    "        return S3Path(self.bucket, self.prefix)\n",
    "    \n",
    "config = Config()"
   ]
  },
  {
   "cell_type": "code",
   "execution_count": 4,
   "id": "957b7a3b",
   "metadata": {},
   "outputs": [
    {
     "data": {
      "text/html": [
       "<pre style=\"white-space:pre;overflow-x:auto;line-height:normal;font-family:Menlo,'DejaVu Sans Mono',consolas,'Courier New',monospace\"><span style=\"font-weight: bold\">[</span>\n",
       "    <span style=\"font-weight: bold\">{</span>\n",
       "        <span style=\"color: #008000; text-decoration-color: #008000\">'id'</span>: <span style=\"color: #008080; text-decoration-color: #008080; font-weight: bold\">1</span>,\n",
       "        <span style=\"color: #008000; text-decoration-color: #008000\">'name'</span>: <span style=\"color: #008000; text-decoration-color: #008000\">'not'</span>,\n",
       "        <span style=\"color: #008000; text-decoration-color: #008000\">'price'</span>: <span style=\"color: #008080; text-decoration-color: #008080; font-weight: bold\">83</span>,\n",
       "        <span style=\"color: #008000; text-decoration-color: #008000\">'specs'</span>: <span style=\"font-weight: bold\">{</span><span style=\"color: #008000; text-decoration-color: #008000\">'color'</span>: <span style=\"color: #008000; text-decoration-color: #008000\">'SkyBlue'</span><span style=\"font-weight: bold\">}</span>,\n",
       "        <span style=\"color: #008000; text-decoration-color: #008000\">'categories'</span>: <span style=\"font-weight: bold\">[</span><span style=\"color: #008000; text-decoration-color: #008000\">'government'</span>, <span style=\"color: #008000; text-decoration-color: #008000\">'rock'</span><span style=\"font-weight: bold\">]</span>,\n",
       "        <span style=\"color: #008000; text-decoration-color: #008000\">'reviews'</span>: <span style=\"font-weight: bold\">[</span>\n",
       "            <span style=\"font-weight: bold\">{</span><span style=\"color: #008000; text-decoration-color: #008000\">'rank'</span>: <span style=\"color: #008080; text-decoration-color: #008080; font-weight: bold\">5</span>, <span style=\"color: #008000; text-decoration-color: #008000\">'comment'</span>: <span style=\"color: #008000; text-decoration-color: #008000\">'Without apply rich.'</span><span style=\"font-weight: bold\">}</span>,\n",
       "            <span style=\"font-weight: bold\">{</span><span style=\"color: #008000; text-decoration-color: #008000\">'rank'</span>: <span style=\"color: #008080; text-decoration-color: #008080; font-weight: bold\">5</span>, <span style=\"color: #008000; text-decoration-color: #008000\">'comment'</span>: <span style=\"color: #008000; text-decoration-color: #008000\">'Wind each consumer none sport.'</span><span style=\"font-weight: bold\">}</span>\n",
       "        <span style=\"font-weight: bold\">]</span>\n",
       "    <span style=\"font-weight: bold\">}</span>,\n",
       "    <span style=\"font-weight: bold\">{</span>\n",
       "        <span style=\"color: #008000; text-decoration-color: #008000\">'id'</span>: <span style=\"color: #008080; text-decoration-color: #008080; font-weight: bold\">2</span>,\n",
       "        <span style=\"color: #008000; text-decoration-color: #008000\">'name'</span>: <span style=\"color: #008000; text-decoration-color: #008000\">'field'</span>,\n",
       "        <span style=\"color: #008000; text-decoration-color: #008000\">'price'</span>: <span style=\"color: #008080; text-decoration-color: #008080; font-weight: bold\">7</span>,\n",
       "        <span style=\"color: #008000; text-decoration-color: #008000\">'specs'</span>: <span style=\"font-weight: bold\">{</span><span style=\"color: #008000; text-decoration-color: #008000\">'color'</span>: <span style=\"color: #008000; text-decoration-color: #008000\">'Lavender'</span><span style=\"font-weight: bold\">}</span>,\n",
       "        <span style=\"color: #008000; text-decoration-color: #008000\">'categories'</span>: <span style=\"font-weight: bold\">[</span><span style=\"color: #008000; text-decoration-color: #008000\">'answer'</span>, <span style=\"color: #008000; text-decoration-color: #008000\">'improve'</span>, <span style=\"color: #008000; text-decoration-color: #008000\">'government'</span><span style=\"font-weight: bold\">]</span>,\n",
       "        <span style=\"color: #008000; text-decoration-color: #008000\">'reviews'</span>: <span style=\"font-weight: bold\">[</span>\n",
       "            <span style=\"font-weight: bold\">{</span><span style=\"color: #008000; text-decoration-color: #008000\">'rank'</span>: <span style=\"color: #008080; text-decoration-color: #008080; font-weight: bold\">5</span>, <span style=\"color: #008000; text-decoration-color: #008000\">'comment'</span>: <span style=\"color: #008000; text-decoration-color: #008000\">'Morning hospital American when nearly next so.'</span><span style=\"font-weight: bold\">}</span>,\n",
       "            <span style=\"font-weight: bold\">{</span><span style=\"color: #008000; text-decoration-color: #008000\">'rank'</span>: <span style=\"color: #008080; text-decoration-color: #008080; font-weight: bold\">2</span>, <span style=\"color: #008000; text-decoration-color: #008000\">'comment'</span>: <span style=\"color: #008000; text-decoration-color: #008000\">'Now most heart later range product.'</span><span style=\"font-weight: bold\">}</span>,\n",
       "            <span style=\"font-weight: bold\">{</span><span style=\"color: #008000; text-decoration-color: #008000\">'rank'</span>: <span style=\"color: #008080; text-decoration-color: #008080; font-weight: bold\">5</span>, <span style=\"color: #008000; text-decoration-color: #008000\">'comment'</span>: <span style=\"color: #008000; text-decoration-color: #008000\">'Arm morning else official rock.'</span><span style=\"font-weight: bold\">}</span>\n",
       "        <span style=\"font-weight: bold\">]</span>\n",
       "    <span style=\"font-weight: bold\">}</span>,\n",
       "    <span style=\"font-weight: bold\">{</span>\n",
       "        <span style=\"color: #008000; text-decoration-color: #008000\">'id'</span>: <span style=\"color: #008080; text-decoration-color: #008080; font-weight: bold\">3</span>,\n",
       "        <span style=\"color: #008000; text-decoration-color: #008000\">'name'</span>: <span style=\"color: #008000; text-decoration-color: #008000\">'at'</span>,\n",
       "        <span style=\"color: #008000; text-decoration-color: #008000\">'price'</span>: <span style=\"color: #008080; text-decoration-color: #008080; font-weight: bold\">74</span>,\n",
       "        <span style=\"color: #008000; text-decoration-color: #008000\">'specs'</span>: <span style=\"font-weight: bold\">{</span><span style=\"color: #008000; text-decoration-color: #008000\">'color'</span>: <span style=\"color: #008000; text-decoration-color: #008000\">'DarkGray'</span><span style=\"font-weight: bold\">}</span>,\n",
       "        <span style=\"color: #008000; text-decoration-color: #008000\">'categories'</span>: <span style=\"font-weight: bold\">[</span><span style=\"color: #008000; text-decoration-color: #008000\">'step'</span>, <span style=\"color: #008000; text-decoration-color: #008000\">'government'</span>, <span style=\"color: #008000; text-decoration-color: #008000\">'half'</span><span style=\"font-weight: bold\">]</span>,\n",
       "        <span style=\"color: #008000; text-decoration-color: #008000\">'reviews'</span>: <span style=\"font-weight: bold\">[{</span><span style=\"color: #008000; text-decoration-color: #008000\">'rank'</span>: <span style=\"color: #008080; text-decoration-color: #008080; font-weight: bold\">4</span>, <span style=\"color: #008000; text-decoration-color: #008000\">'comment'</span>: <span style=\"color: #008000; text-decoration-color: #008000\">'Back near himself stay of.'</span><span style=\"font-weight: bold\">}]</span>\n",
       "    <span style=\"font-weight: bold\">}</span>\n",
       "<span style=\"font-weight: bold\">]</span>\n",
       "</pre>\n"
      ],
      "text/plain": [
       "\u001b[1m[\u001b[0m\n",
       "    \u001b[1m{\u001b[0m\n",
       "        \u001b[32m'id'\u001b[0m: \u001b[1;36m1\u001b[0m,\n",
       "        \u001b[32m'name'\u001b[0m: \u001b[32m'not'\u001b[0m,\n",
       "        \u001b[32m'price'\u001b[0m: \u001b[1;36m83\u001b[0m,\n",
       "        \u001b[32m'specs'\u001b[0m: \u001b[1m{\u001b[0m\u001b[32m'color'\u001b[0m: \u001b[32m'SkyBlue'\u001b[0m\u001b[1m}\u001b[0m,\n",
       "        \u001b[32m'categories'\u001b[0m: \u001b[1m[\u001b[0m\u001b[32m'government'\u001b[0m, \u001b[32m'rock'\u001b[0m\u001b[1m]\u001b[0m,\n",
       "        \u001b[32m'reviews'\u001b[0m: \u001b[1m[\u001b[0m\n",
       "            \u001b[1m{\u001b[0m\u001b[32m'rank'\u001b[0m: \u001b[1;36m5\u001b[0m, \u001b[32m'comment'\u001b[0m: \u001b[32m'Without apply rich.'\u001b[0m\u001b[1m}\u001b[0m,\n",
       "            \u001b[1m{\u001b[0m\u001b[32m'rank'\u001b[0m: \u001b[1;36m5\u001b[0m, \u001b[32m'comment'\u001b[0m: \u001b[32m'Wind each consumer none sport.'\u001b[0m\u001b[1m}\u001b[0m\n",
       "        \u001b[1m]\u001b[0m\n",
       "    \u001b[1m}\u001b[0m,\n",
       "    \u001b[1m{\u001b[0m\n",
       "        \u001b[32m'id'\u001b[0m: \u001b[1;36m2\u001b[0m,\n",
       "        \u001b[32m'name'\u001b[0m: \u001b[32m'field'\u001b[0m,\n",
       "        \u001b[32m'price'\u001b[0m: \u001b[1;36m7\u001b[0m,\n",
       "        \u001b[32m'specs'\u001b[0m: \u001b[1m{\u001b[0m\u001b[32m'color'\u001b[0m: \u001b[32m'Lavender'\u001b[0m\u001b[1m}\u001b[0m,\n",
       "        \u001b[32m'categories'\u001b[0m: \u001b[1m[\u001b[0m\u001b[32m'answer'\u001b[0m, \u001b[32m'improve'\u001b[0m, \u001b[32m'government'\u001b[0m\u001b[1m]\u001b[0m,\n",
       "        \u001b[32m'reviews'\u001b[0m: \u001b[1m[\u001b[0m\n",
       "            \u001b[1m{\u001b[0m\u001b[32m'rank'\u001b[0m: \u001b[1;36m5\u001b[0m, \u001b[32m'comment'\u001b[0m: \u001b[32m'Morning hospital American when nearly next so.'\u001b[0m\u001b[1m}\u001b[0m,\n",
       "            \u001b[1m{\u001b[0m\u001b[32m'rank'\u001b[0m: \u001b[1;36m2\u001b[0m, \u001b[32m'comment'\u001b[0m: \u001b[32m'Now most heart later range product.'\u001b[0m\u001b[1m}\u001b[0m,\n",
       "            \u001b[1m{\u001b[0m\u001b[32m'rank'\u001b[0m: \u001b[1;36m5\u001b[0m, \u001b[32m'comment'\u001b[0m: \u001b[32m'Arm morning else official rock.'\u001b[0m\u001b[1m}\u001b[0m\n",
       "        \u001b[1m]\u001b[0m\n",
       "    \u001b[1m}\u001b[0m,\n",
       "    \u001b[1m{\u001b[0m\n",
       "        \u001b[32m'id'\u001b[0m: \u001b[1;36m3\u001b[0m,\n",
       "        \u001b[32m'name'\u001b[0m: \u001b[32m'at'\u001b[0m,\n",
       "        \u001b[32m'price'\u001b[0m: \u001b[1;36m74\u001b[0m,\n",
       "        \u001b[32m'specs'\u001b[0m: \u001b[1m{\u001b[0m\u001b[32m'color'\u001b[0m: \u001b[32m'DarkGray'\u001b[0m\u001b[1m}\u001b[0m,\n",
       "        \u001b[32m'categories'\u001b[0m: \u001b[1m[\u001b[0m\u001b[32m'step'\u001b[0m, \u001b[32m'government'\u001b[0m, \u001b[32m'half'\u001b[0m\u001b[1m]\u001b[0m,\n",
       "        \u001b[32m'reviews'\u001b[0m: \u001b[1m[\u001b[0m\u001b[1m{\u001b[0m\u001b[32m'rank'\u001b[0m: \u001b[1;36m4\u001b[0m, \u001b[32m'comment'\u001b[0m: \u001b[32m'Back near himself stay of.'\u001b[0m\u001b[1m}\u001b[0m\u001b[1m]\u001b[0m\n",
       "    \u001b[1m}\u001b[0m\n",
       "\u001b[1m]\u001b[0m\n"
      ]
     },
     "metadata": {},
     "output_type": "display_data"
    }
   ],
   "source": [
    "import random\n",
    "\n",
    "fake = Faker()\n",
    "\n",
    "product_categories = list(set([fake.word() for i in range(config.n_product_category)]))\n",
    "\n",
    "def create_one(nth_file: int):\n",
    "    product_id_start = 1 + (nth_file - 1) * config.n_records_per_file\n",
    "    product_id_end = product_id_start + config.n_records_per_file\n",
    "    data = [\n",
    "        {\n",
    "            \"id\": product_id,\n",
    "            \"name\": fake.word(),\n",
    "            \"price\": random.randint(1, 100),\n",
    "            \"specs\": {\n",
    "                \"color\": fake.color_name()\n",
    "            },\n",
    "            \"categories\": random.sample(product_categories, random.randint(1, 3)),\n",
    "            \"reviews\": [\n",
    "                {\"rank\": random.randint(1, 5), \"comment\": fake.sentence()}\n",
    "                for _ in range(random.randint(0, 5))\n",
    "            ]\n",
    "        }\n",
    "        for product_id in range(product_id_start, product_id_end)\n",
    "    ]\n",
    "    df = pd.DataFrame(data)\n",
    "    return df\n",
    "\n",
    "df = create_one(1)\n",
    "rprint(df.head(3).to_dict(orient=\"records\"))"
   ]
  },
  {
   "cell_type": "code",
   "execution_count": 5,
   "id": "2fe9d95e",
   "metadata": {},
   "outputs": [
    {
     "name": "stdout",
     "output_type": "stream",
     "text": [
      "processing 1 th file ...\n",
      "  open for preview: https://console.aws.amazon.com/s3/object/aws-data-lab-sanhe-for-everything-us-east-2?prefix=poc/learn-big-data-on-aws/glue-job-examples/03-transformation-examples/05-flatten-and-unnest-json/001.json\n",
      "processing 2 th file ...\n",
      "  open for preview: https://console.aws.amazon.com/s3/object/aws-data-lab-sanhe-for-everything-us-east-2?prefix=poc/learn-big-data-on-aws/glue-job-examples/03-transformation-examples/05-flatten-and-unnest-json/002.json\n",
      "processing 3 th file ...\n",
      "  open for preview: https://console.aws.amazon.com/s3/object/aws-data-lab-sanhe-for-everything-us-east-2?prefix=poc/learn-big-data-on-aws/glue-job-examples/03-transformation-examples/05-flatten-and-unnest-json/003.json\n",
      "processing 4 th file ...\n",
      "  open for preview: https://console.aws.amazon.com/s3/object/aws-data-lab-sanhe-for-everything-us-east-2?prefix=poc/learn-big-data-on-aws/glue-job-examples/03-transformation-examples/05-flatten-and-unnest-json/004.json\n",
      "processing 5 th file ...\n",
      "  open for preview: https://console.aws.amazon.com/s3/object/aws-data-lab-sanhe-for-everything-us-east-2?prefix=poc/learn-big-data-on-aws/glue-job-examples/03-transformation-examples/05-flatten-and-unnest-json/005.json\n",
      "processing 6 th file ...\n",
      "  open for preview: https://console.aws.amazon.com/s3/object/aws-data-lab-sanhe-for-everything-us-east-2?prefix=poc/learn-big-data-on-aws/glue-job-examples/03-transformation-examples/05-flatten-and-unnest-json/006.json\n",
      "processing 7 th file ...\n",
      "  open for preview: https://console.aws.amazon.com/s3/object/aws-data-lab-sanhe-for-everything-us-east-2?prefix=poc/learn-big-data-on-aws/glue-job-examples/03-transformation-examples/05-flatten-and-unnest-json/007.json\n",
      "processing 8 th file ...\n",
      "  open for preview: https://console.aws.amazon.com/s3/object/aws-data-lab-sanhe-for-everything-us-east-2?prefix=poc/learn-big-data-on-aws/glue-job-examples/03-transformation-examples/05-flatten-and-unnest-json/008.json\n",
      "processing 9 th file ...\n",
      "  open for preview: https://console.aws.amazon.com/s3/object/aws-data-lab-sanhe-for-everything-us-east-2?prefix=poc/learn-big-data-on-aws/glue-job-examples/03-transformation-examples/05-flatten-and-unnest-json/009.json\n",
      "processing 10 th file ...\n",
      "  open for preview: https://console.aws.amazon.com/s3/object/aws-data-lab-sanhe-for-everything-us-east-2?prefix=poc/learn-big-data-on-aws/glue-job-examples/03-transformation-examples/05-flatten-and-unnest-json/010.json\n"
     ]
    }
   ],
   "source": [
    "def create_many():\n",
    "    for nth_file in range(1, 1+config.n_files):\n",
    "        print(f\"processing {nth_file} th file ...\")\n",
    "        df = create_one(nth_file)\n",
    "        s3path = S3Path(config.bucket, config.prefix, f\"{str(nth_file).zfill(3)}.json\")\n",
    "        with s3path.open(\"w\") as f:\n",
    "            df.to_json(f, orient=\"records\", lines=True)\n",
    "        print(f\"  open for preview: {s3path.console_url}\")\n",
    "    \n",
    "create_many()"
   ]
  },
  {
   "cell_type": "code",
   "execution_count": null,
   "id": "d055fefe",
   "metadata": {},
   "outputs": [],
   "source": []
  }
 ],
 "metadata": {
  "kernelspec": {
   "display_name": "conda_python3",
   "language": "python",
   "name": "conda_python3"
  },
  "language_info": {
   "codemirror_mode": {
    "name": "ipython",
    "version": 3
   },
   "file_extension": ".py",
   "mimetype": "text/x-python",
   "name": "python",
   "nbconvert_exporter": "python",
   "pygments_lexer": "ipython3",
   "version": "3.6.13"
  }
 },
 "nbformat": 4,
 "nbformat_minor": 5
}
