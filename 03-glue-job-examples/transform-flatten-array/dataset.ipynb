{
 "cells": [
  {
   "cell_type": "code",
   "execution_count": 16,
   "id": "5e5e113d",
   "metadata": {},
   "outputs": [
    {
     "name": "stdout",
     "output_type": "stream",
     "text": [
      "Note: you may need to restart the kernel to use updated packages.\n"
     ]
    }
   ],
   "source": [
    "%pip install -q -r requirements.txt"
   ]
  },
  {
   "cell_type": "code",
   "execution_count": 40,
   "id": "ae72b366",
   "metadata": {},
   "outputs": [],
   "source": [
    "from rich import print as rprint\n",
    "from faker import Faker\n",
    "from s3pathlib import S3Path\n",
    "import pandas as pd"
   ]
  },
  {
   "cell_type": "code",
   "execution_count": 15,
   "id": "abba59f9",
   "metadata": {},
   "outputs": [],
   "source": [
    "class Config:\n",
    "    bucket = \"aws-data-lab-sanhe-for-everything-us-east-2\"\n",
    "    prefix = \"poc/learn-big-data-on-aws/glue-job-examples/tranform-flatten-array\"\n",
    "    n_files = 10\n",
    "    n_records_per_file = 1000\n",
    "    n_product_category = 20\n",
    "    \n",
    "    @property\n",
    "    def s3path_prefix(self):\n",
    "        return S3Path(self.bucket, self.prefix)\n",
    "    \n",
    "config = Config()"
   ]
  },
  {
   "cell_type": "code",
   "execution_count": 45,
   "id": "520d4dbb",
   "metadata": {},
   "outputs": [
    {
     "data": {
      "text/html": [
       "<pre style=\"white-space:pre;overflow-x:auto;line-height:normal;font-family:Menlo,'DejaVu Sans Mono',consolas,'Courier New',monospace\"><span style=\"font-weight: bold\">[</span>\n",
       "    <span style=\"font-weight: bold\">{</span>\n",
       "        <span style=\"color: #008000; text-decoration-color: #008000\">'id'</span>: <span style=\"color: #008080; text-decoration-color: #008080; font-weight: bold\">1</span>,\n",
       "        <span style=\"color: #008000; text-decoration-color: #008000\">'name'</span>: <span style=\"color: #008000; text-decoration-color: #008000\">'affect'</span>,\n",
       "        <span style=\"color: #008000; text-decoration-color: #008000\">'price'</span>: <span style=\"color: #008080; text-decoration-color: #008080; font-weight: bold\">70</span>,\n",
       "        <span style=\"color: #008000; text-decoration-color: #008000\">'specs'</span>: <span style=\"font-weight: bold\">{</span><span style=\"color: #008000; text-decoration-color: #008000\">'color'</span>: <span style=\"color: #008000; text-decoration-color: #008000\">'FireBrick'</span><span style=\"font-weight: bold\">}</span>,\n",
       "        <span style=\"color: #008000; text-decoration-color: #008000\">'categories'</span>: <span style=\"font-weight: bold\">[</span><span style=\"color: #008000; text-decoration-color: #008000\">'leave'</span>, <span style=\"color: #008000; text-decoration-color: #008000\">'model'</span>, <span style=\"color: #008000; text-decoration-color: #008000\">'can'</span><span style=\"font-weight: bold\">]</span>,\n",
       "        <span style=\"color: #008000; text-decoration-color: #008000\">'reviews'</span>: <span style=\"font-weight: bold\">[</span>\n",
       "            <span style=\"font-weight: bold\">{</span><span style=\"color: #008000; text-decoration-color: #008000\">'rank'</span>: <span style=\"color: #008080; text-decoration-color: #008080; font-weight: bold\">3</span>, <span style=\"color: #008000; text-decoration-color: #008000\">'comment'</span>: <span style=\"color: #008000; text-decoration-color: #008000\">'Maintain black finish far number soon long almost.'</span><span style=\"font-weight: bold\">}</span>,\n",
       "            <span style=\"font-weight: bold\">{</span>\n",
       "                <span style=\"color: #008000; text-decoration-color: #008000\">'rank'</span>: <span style=\"color: #008080; text-decoration-color: #008080; font-weight: bold\">4</span>,\n",
       "                <span style=\"color: #008000; text-decoration-color: #008000\">'comment'</span>: <span style=\"color: #008000; text-decoration-color: #008000\">'Believe enter return tax machine physical thousand present.'</span>\n",
       "            <span style=\"font-weight: bold\">}</span>,\n",
       "            <span style=\"font-weight: bold\">{</span><span style=\"color: #008000; text-decoration-color: #008000\">'rank'</span>: <span style=\"color: #008080; text-decoration-color: #008080; font-weight: bold\">1</span>, <span style=\"color: #008000; text-decoration-color: #008000\">'comment'</span>: <span style=\"color: #008000; text-decoration-color: #008000\">'Current weight find respond technology.'</span><span style=\"font-weight: bold\">}</span>\n",
       "        <span style=\"font-weight: bold\">]</span>\n",
       "    <span style=\"font-weight: bold\">}</span>,\n",
       "    <span style=\"font-weight: bold\">{</span>\n",
       "        <span style=\"color: #008000; text-decoration-color: #008000\">'id'</span>: <span style=\"color: #008080; text-decoration-color: #008080; font-weight: bold\">2</span>,\n",
       "        <span style=\"color: #008000; text-decoration-color: #008000\">'name'</span>: <span style=\"color: #008000; text-decoration-color: #008000\">'blue'</span>,\n",
       "        <span style=\"color: #008000; text-decoration-color: #008000\">'price'</span>: <span style=\"color: #008080; text-decoration-color: #008080; font-weight: bold\">86</span>,\n",
       "        <span style=\"color: #008000; text-decoration-color: #008000\">'specs'</span>: <span style=\"font-weight: bold\">{</span><span style=\"color: #008000; text-decoration-color: #008000\">'color'</span>: <span style=\"color: #008000; text-decoration-color: #008000\">'WhiteSmoke'</span><span style=\"font-weight: bold\">}</span>,\n",
       "        <span style=\"color: #008000; text-decoration-color: #008000\">'categories'</span>: <span style=\"font-weight: bold\">[</span><span style=\"color: #008000; text-decoration-color: #008000\">'spring'</span><span style=\"font-weight: bold\">]</span>,\n",
       "        <span style=\"color: #008000; text-decoration-color: #008000\">'reviews'</span>: <span style=\"font-weight: bold\">[</span>\n",
       "            <span style=\"font-weight: bold\">{</span><span style=\"color: #008000; text-decoration-color: #008000\">'rank'</span>: <span style=\"color: #008080; text-decoration-color: #008080; font-weight: bold\">1</span>, <span style=\"color: #008000; text-decoration-color: #008000\">'comment'</span>: <span style=\"color: #008000; text-decoration-color: #008000\">'Against improve much product pass place.'</span><span style=\"font-weight: bold\">}</span>,\n",
       "            <span style=\"font-weight: bold\">{</span><span style=\"color: #008000; text-decoration-color: #008000\">'rank'</span>: <span style=\"color: #008080; text-decoration-color: #008080; font-weight: bold\">5</span>, <span style=\"color: #008000; text-decoration-color: #008000\">'comment'</span>: <span style=\"color: #008000; text-decoration-color: #008000\">'Half all economy sense page drop.'</span><span style=\"font-weight: bold\">}</span>,\n",
       "            <span style=\"font-weight: bold\">{</span><span style=\"color: #008000; text-decoration-color: #008000\">'rank'</span>: <span style=\"color: #008080; text-decoration-color: #008080; font-weight: bold\">2</span>, <span style=\"color: #008000; text-decoration-color: #008000\">'comment'</span>: <span style=\"color: #008000; text-decoration-color: #008000\">'Recognize south eye like write fire draw.'</span><span style=\"font-weight: bold\">}</span>,\n",
       "            <span style=\"font-weight: bold\">{</span><span style=\"color: #008000; text-decoration-color: #008000\">'rank'</span>: <span style=\"color: #008080; text-decoration-color: #008080; font-weight: bold\">4</span>, <span style=\"color: #008000; text-decoration-color: #008000\">'comment'</span>: <span style=\"color: #008000; text-decoration-color: #008000\">'Hair determine field significant this ability.'</span><span style=\"font-weight: bold\">}</span>\n",
       "        <span style=\"font-weight: bold\">]</span>\n",
       "    <span style=\"font-weight: bold\">}</span>,\n",
       "    <span style=\"font-weight: bold\">{</span>\n",
       "        <span style=\"color: #008000; text-decoration-color: #008000\">'id'</span>: <span style=\"color: #008080; text-decoration-color: #008080; font-weight: bold\">3</span>,\n",
       "        <span style=\"color: #008000; text-decoration-color: #008000\">'name'</span>: <span style=\"color: #008000; text-decoration-color: #008000\">'human'</span>,\n",
       "        <span style=\"color: #008000; text-decoration-color: #008000\">'price'</span>: <span style=\"color: #008080; text-decoration-color: #008080; font-weight: bold\">28</span>,\n",
       "        <span style=\"color: #008000; text-decoration-color: #008000\">'specs'</span>: <span style=\"font-weight: bold\">{</span><span style=\"color: #008000; text-decoration-color: #008000\">'color'</span>: <span style=\"color: #008000; text-decoration-color: #008000\">'Gainsboro'</span><span style=\"font-weight: bold\">}</span>,\n",
       "        <span style=\"color: #008000; text-decoration-color: #008000\">'categories'</span>: <span style=\"font-weight: bold\">[</span><span style=\"color: #008000; text-decoration-color: #008000\">'leave'</span><span style=\"font-weight: bold\">]</span>,\n",
       "        <span style=\"color: #008000; text-decoration-color: #008000\">'reviews'</span>: <span style=\"font-weight: bold\">[</span>\n",
       "            <span style=\"font-weight: bold\">{</span><span style=\"color: #008000; text-decoration-color: #008000\">'rank'</span>: <span style=\"color: #008080; text-decoration-color: #008080; font-weight: bold\">1</span>, <span style=\"color: #008000; text-decoration-color: #008000\">'comment'</span>: <span style=\"color: #008000; text-decoration-color: #008000\">'Center cause education everyone.'</span><span style=\"font-weight: bold\">}</span>,\n",
       "            <span style=\"font-weight: bold\">{</span><span style=\"color: #008000; text-decoration-color: #008000\">'rank'</span>: <span style=\"color: #008080; text-decoration-color: #008080; font-weight: bold\">2</span>, <span style=\"color: #008000; text-decoration-color: #008000\">'comment'</span>: <span style=\"color: #008000; text-decoration-color: #008000\">'Choose nothing begin reduce these method.'</span><span style=\"font-weight: bold\">}</span>,\n",
       "            <span style=\"font-weight: bold\">{</span><span style=\"color: #008000; text-decoration-color: #008000\">'rank'</span>: <span style=\"color: #008080; text-decoration-color: #008080; font-weight: bold\">2</span>, <span style=\"color: #008000; text-decoration-color: #008000\">'comment'</span>: <span style=\"color: #008000; text-decoration-color: #008000\">'Its man agree television resource then energy.'</span><span style=\"font-weight: bold\">}</span>\n",
       "        <span style=\"font-weight: bold\">]</span>\n",
       "    <span style=\"font-weight: bold\">}</span>\n",
       "<span style=\"font-weight: bold\">]</span>\n",
       "</pre>\n"
      ],
      "text/plain": [
       "\u001b[1m[\u001b[0m\n",
       "    \u001b[1m{\u001b[0m\n",
       "        \u001b[32m'id'\u001b[0m: \u001b[1;36m1\u001b[0m,\n",
       "        \u001b[32m'name'\u001b[0m: \u001b[32m'affect'\u001b[0m,\n",
       "        \u001b[32m'price'\u001b[0m: \u001b[1;36m70\u001b[0m,\n",
       "        \u001b[32m'specs'\u001b[0m: \u001b[1m{\u001b[0m\u001b[32m'color'\u001b[0m: \u001b[32m'FireBrick'\u001b[0m\u001b[1m}\u001b[0m,\n",
       "        \u001b[32m'categories'\u001b[0m: \u001b[1m[\u001b[0m\u001b[32m'leave'\u001b[0m, \u001b[32m'model'\u001b[0m, \u001b[32m'can'\u001b[0m\u001b[1m]\u001b[0m,\n",
       "        \u001b[32m'reviews'\u001b[0m: \u001b[1m[\u001b[0m\n",
       "            \u001b[1m{\u001b[0m\u001b[32m'rank'\u001b[0m: \u001b[1;36m3\u001b[0m, \u001b[32m'comment'\u001b[0m: \u001b[32m'Maintain black finish far number soon long almost.'\u001b[0m\u001b[1m}\u001b[0m,\n",
       "            \u001b[1m{\u001b[0m\n",
       "                \u001b[32m'rank'\u001b[0m: \u001b[1;36m4\u001b[0m,\n",
       "                \u001b[32m'comment'\u001b[0m: \u001b[32m'Believe enter return tax machine physical thousand present.'\u001b[0m\n",
       "            \u001b[1m}\u001b[0m,\n",
       "            \u001b[1m{\u001b[0m\u001b[32m'rank'\u001b[0m: \u001b[1;36m1\u001b[0m, \u001b[32m'comment'\u001b[0m: \u001b[32m'Current weight find respond technology.'\u001b[0m\u001b[1m}\u001b[0m\n",
       "        \u001b[1m]\u001b[0m\n",
       "    \u001b[1m}\u001b[0m,\n",
       "    \u001b[1m{\u001b[0m\n",
       "        \u001b[32m'id'\u001b[0m: \u001b[1;36m2\u001b[0m,\n",
       "        \u001b[32m'name'\u001b[0m: \u001b[32m'blue'\u001b[0m,\n",
       "        \u001b[32m'price'\u001b[0m: \u001b[1;36m86\u001b[0m,\n",
       "        \u001b[32m'specs'\u001b[0m: \u001b[1m{\u001b[0m\u001b[32m'color'\u001b[0m: \u001b[32m'WhiteSmoke'\u001b[0m\u001b[1m}\u001b[0m,\n",
       "        \u001b[32m'categories'\u001b[0m: \u001b[1m[\u001b[0m\u001b[32m'spring'\u001b[0m\u001b[1m]\u001b[0m,\n",
       "        \u001b[32m'reviews'\u001b[0m: \u001b[1m[\u001b[0m\n",
       "            \u001b[1m{\u001b[0m\u001b[32m'rank'\u001b[0m: \u001b[1;36m1\u001b[0m, \u001b[32m'comment'\u001b[0m: \u001b[32m'Against improve much product pass place.'\u001b[0m\u001b[1m}\u001b[0m,\n",
       "            \u001b[1m{\u001b[0m\u001b[32m'rank'\u001b[0m: \u001b[1;36m5\u001b[0m, \u001b[32m'comment'\u001b[0m: \u001b[32m'Half all economy sense page drop.'\u001b[0m\u001b[1m}\u001b[0m,\n",
       "            \u001b[1m{\u001b[0m\u001b[32m'rank'\u001b[0m: \u001b[1;36m2\u001b[0m, \u001b[32m'comment'\u001b[0m: \u001b[32m'Recognize south eye like write fire draw.'\u001b[0m\u001b[1m}\u001b[0m,\n",
       "            \u001b[1m{\u001b[0m\u001b[32m'rank'\u001b[0m: \u001b[1;36m4\u001b[0m, \u001b[32m'comment'\u001b[0m: \u001b[32m'Hair determine field significant this ability.'\u001b[0m\u001b[1m}\u001b[0m\n",
       "        \u001b[1m]\u001b[0m\n",
       "    \u001b[1m}\u001b[0m,\n",
       "    \u001b[1m{\u001b[0m\n",
       "        \u001b[32m'id'\u001b[0m: \u001b[1;36m3\u001b[0m,\n",
       "        \u001b[32m'name'\u001b[0m: \u001b[32m'human'\u001b[0m,\n",
       "        \u001b[32m'price'\u001b[0m: \u001b[1;36m28\u001b[0m,\n",
       "        \u001b[32m'specs'\u001b[0m: \u001b[1m{\u001b[0m\u001b[32m'color'\u001b[0m: \u001b[32m'Gainsboro'\u001b[0m\u001b[1m}\u001b[0m,\n",
       "        \u001b[32m'categories'\u001b[0m: \u001b[1m[\u001b[0m\u001b[32m'leave'\u001b[0m\u001b[1m]\u001b[0m,\n",
       "        \u001b[32m'reviews'\u001b[0m: \u001b[1m[\u001b[0m\n",
       "            \u001b[1m{\u001b[0m\u001b[32m'rank'\u001b[0m: \u001b[1;36m1\u001b[0m, \u001b[32m'comment'\u001b[0m: \u001b[32m'Center cause education everyone.'\u001b[0m\u001b[1m}\u001b[0m,\n",
       "            \u001b[1m{\u001b[0m\u001b[32m'rank'\u001b[0m: \u001b[1;36m2\u001b[0m, \u001b[32m'comment'\u001b[0m: \u001b[32m'Choose nothing begin reduce these method.'\u001b[0m\u001b[1m}\u001b[0m,\n",
       "            \u001b[1m{\u001b[0m\u001b[32m'rank'\u001b[0m: \u001b[1;36m2\u001b[0m, \u001b[32m'comment'\u001b[0m: \u001b[32m'Its man agree television resource then energy.'\u001b[0m\u001b[1m}\u001b[0m\n",
       "        \u001b[1m]\u001b[0m\n",
       "    \u001b[1m}\u001b[0m\n",
       "\u001b[1m]\u001b[0m\n"
      ]
     },
     "metadata": {},
     "output_type": "display_data"
    }
   ],
   "source": [
    "import random\n",
    "\n",
    "fake = Faker()\n",
    "\n",
    "product_categories = list(set([fake.word() for i in range(config.n_product_category)]))\n",
    "\n",
    "def create_one(nth_file: int):\n",
    "    product_id_start = 1 + (nth_file - 1) * config.n_records_per_file\n",
    "    product_id_end = product_id_start + config.n_records_per_file\n",
    "    data = [\n",
    "        {\n",
    "            \"id\": product_id,\n",
    "            \"name\": fake.word(),\n",
    "            \"price\": random.randint(1, 100),\n",
    "            \"specs\": {\n",
    "                \"color\": fake.color_name()\n",
    "            },\n",
    "            \"categories\": random.sample(product_categories, random.randint(1, 3)),\n",
    "            \"reviews\": [\n",
    "                {\"rank\": random.randint(1, 5), \"comment\": fake.sentence()}\n",
    "                for _ in range(random.randint(0, 5))\n",
    "            ]\n",
    "        }\n",
    "        for product_id in range(product_id_start, product_id_end)\n",
    "    ]\n",
    "    df = pd.DataFrame(data)\n",
    "    return df\n",
    "\n",
    "df = create_one(1)\n",
    "rprint(df.head(3).to_dict(orient=\"records\"))"
   ]
  },
  {
   "cell_type": "code",
   "execution_count": 46,
   "id": "6ff141b7",
   "metadata": {},
   "outputs": [
    {
     "name": "stdout",
     "output_type": "stream",
     "text": [
      "processing 1 th file ...\n",
      "  open for preview: https://console.aws.amazon.com/s3/object/aws-data-lab-sanhe-for-everything-us-east-2?prefix=poc/learn-big-data-on-aws/glue-job-examples/tranform-flatten-array/001.json\n",
      "processing 2 th file ...\n",
      "  open for preview: https://console.aws.amazon.com/s3/object/aws-data-lab-sanhe-for-everything-us-east-2?prefix=poc/learn-big-data-on-aws/glue-job-examples/tranform-flatten-array/002.json\n",
      "processing 3 th file ...\n",
      "  open for preview: https://console.aws.amazon.com/s3/object/aws-data-lab-sanhe-for-everything-us-east-2?prefix=poc/learn-big-data-on-aws/glue-job-examples/tranform-flatten-array/003.json\n",
      "processing 4 th file ...\n",
      "  open for preview: https://console.aws.amazon.com/s3/object/aws-data-lab-sanhe-for-everything-us-east-2?prefix=poc/learn-big-data-on-aws/glue-job-examples/tranform-flatten-array/004.json\n",
      "processing 5 th file ...\n",
      "  open for preview: https://console.aws.amazon.com/s3/object/aws-data-lab-sanhe-for-everything-us-east-2?prefix=poc/learn-big-data-on-aws/glue-job-examples/tranform-flatten-array/005.json\n",
      "processing 6 th file ...\n",
      "  open for preview: https://console.aws.amazon.com/s3/object/aws-data-lab-sanhe-for-everything-us-east-2?prefix=poc/learn-big-data-on-aws/glue-job-examples/tranform-flatten-array/006.json\n",
      "processing 7 th file ...\n",
      "  open for preview: https://console.aws.amazon.com/s3/object/aws-data-lab-sanhe-for-everything-us-east-2?prefix=poc/learn-big-data-on-aws/glue-job-examples/tranform-flatten-array/007.json\n",
      "processing 8 th file ...\n",
      "  open for preview: https://console.aws.amazon.com/s3/object/aws-data-lab-sanhe-for-everything-us-east-2?prefix=poc/learn-big-data-on-aws/glue-job-examples/tranform-flatten-array/008.json\n",
      "processing 9 th file ...\n",
      "  open for preview: https://console.aws.amazon.com/s3/object/aws-data-lab-sanhe-for-everything-us-east-2?prefix=poc/learn-big-data-on-aws/glue-job-examples/tranform-flatten-array/009.json\n",
      "processing 10 th file ...\n",
      "  open for preview: https://console.aws.amazon.com/s3/object/aws-data-lab-sanhe-for-everything-us-east-2?prefix=poc/learn-big-data-on-aws/glue-job-examples/tranform-flatten-array/010.json\n"
     ]
    }
   ],
   "source": [
    "def create_many():\n",
    "    for nth_file in range(1, 1+config.n_files):\n",
    "        print(f\"processing {nth_file} th file ...\")\n",
    "        df = create_one(nth_file)\n",
    "        s3path = S3Path(config.bucket, config.prefix, f\"{str(nth_file).zfill(3)}.json\")\n",
    "        with s3path.open(\"w\") as f:\n",
    "            df.to_json(f, orient=\"records\", lines=True)\n",
    "        print(f\"  open for preview: {s3path.console_url}\")\n",
    "    \n",
    "create_many()"
   ]
  },
  {
   "cell_type": "code",
   "execution_count": null,
   "id": "4ee16be1",
   "metadata": {},
   "outputs": [],
   "source": []
  }
 ],
 "metadata": {
  "kernelspec": {
   "display_name": "conda_pytorch_latest_p36",
   "language": "python",
   "name": "conda_pytorch_latest_p36"
  },
  "language_info": {
   "codemirror_mode": {
    "name": "ipython",
    "version": 3
   },
   "file_extension": ".py",
   "mimetype": "text/x-python",
   "name": "python",
   "nbconvert_exporter": "python",
   "pygments_lexer": "ipython3",
   "version": "3.6.13"
  }
 },
 "nbformat": 4,
 "nbformat_minor": 5
}
