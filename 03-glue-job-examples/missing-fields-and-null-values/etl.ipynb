{
 "cells": [
  {
   "cell_type": "markdown",
   "id": "efb5174c",
   "metadata": {},
   "source": [
    "# Glue ETL Transformation - Handling Missing Fields and Null Values\n",
    "\n",
    "Considering this json schema:\n",
    "\n",
    "```python\n",
    "{\"id\": \"8ec3\", \"firstname\": \"Bond\", \"lastname\": \"James\"}\n",
    "```\n",
    "\n",
    "Consider these two common situatesion:\n",
    "\n",
    "1. field not exists:\n",
    "\n",
    "```python\n",
    "{\"id\": \"8ec3\", \"firstname\": \"Bond\"}\n",
    "```\n",
    "\n",
    "2. value is null:\n",
    "\n",
    "```python\n",
    "{\"id\": \"8ec3\", \"firstname\": None, \"lastname\": \"James\"}\n",
    "```"
   ]
  },
  {
   "cell_type": "code",
   "execution_count": 1,
   "id": "71d7013d",
   "metadata": {},
   "outputs": [
    {
     "name": "stdout",
     "output_type": "stream",
     "text": [
      "Starting Spark application\n"
     ]
    },
    {
     "data": {
      "text/html": [
       "<table>\n",
       "<tr><th>ID</th><th>YARN Application ID</th><th>Kind</th><th>State</th><th>Spark UI</th><th>Driver log</th><th>User</th><th>Current session?</th></tr><tr><td>3</td><td>application_1646085135716_0008</td><td>pyspark</td><td>idle</td><td><a target=\"_blank\" href=\"http://ip-172-32-8-11.us-east-2.compute.internal:20888/proxy/application_1646085135716_0008/\">Link</a></td><td><a target=\"_blank\" href=\"http://ip-172-32-10-114.us-east-2.compute.internal:8042/node/containerlogs/container_1646085135716_0008_01_000001/livy\">Link</a></td><td>None</td><td>✔</td></tr></table>"
      ],
      "text/plain": [
       "<IPython.core.display.HTML object>"
      ]
     },
     "metadata": {},
     "output_type": "display_data"
    },
    {
     "data": {
      "application/vnd.jupyter.widget-view+json": {
       "model_id": "1ea914fa51dc4e638293b4842b710222",
       "version_major": 2,
       "version_minor": 0
      },
      "text/plain": [
       "FloatProgress(value=0.0, bar_style='info', description='Progress:', layout=Layout(height='25px', width='50%'),…"
      ]
     },
     "metadata": {},
     "output_type": "display_data"
    },
    {
     "name": "stdout",
     "output_type": "stream",
     "text": [
      "SparkSession available as 'spark'.\n"
     ]
    },
    {
     "data": {
      "application/vnd.jupyter.widget-view+json": {
       "model_id": "b7e5d4f37127444888c4c56bc63c8395",
       "version_major": 2,
       "version_minor": 0
      },
      "text/plain": [
       "FloatProgress(value=0.0, bar_style='info', description='Progress:', layout=Layout(height='25px', width='50%'),…"
      ]
     },
     "metadata": {},
     "output_type": "display_data"
    }
   ],
   "source": [
    "import sys\n",
    "from awsglue.transforms import *\n",
    "from awsglue.utils import getResolvedOptions\n",
    "from pyspark.context import SparkContext\n",
    "from awsglue.context import GlueContext\n",
    "from awsglue.job import Job\n",
    "from awsglue.dynamicframe import DynamicFrame\n",
    "from pprint import pprint\n",
    "\n",
    "# Create SparkContext\n",
    "sparkContext = SparkContext.getOrCreate()\n",
    "# Create Glue Context\n",
    "glueContext = GlueContext(sparkContext)\n",
    "# Get spark session\n",
    "spark = glueContext.spark_session"
   ]
  },
  {
   "cell_type": "code",
   "execution_count": 2,
   "id": "b96c934a",
   "metadata": {},
   "outputs": [
    {
     "data": {
      "application/vnd.jupyter.widget-view+json": {
       "model_id": "acdf2c693a3540d5983db95a56027005",
       "version_major": 2,
       "version_minor": 0
      },
      "text/plain": [
       "FloatProgress(value=0.0, bar_style='info', description='Progress:', layout=Layout(height='25px', width='50%'),…"
      ]
     },
     "metadata": {},
     "output_type": "display_data"
    }
   ],
   "source": [
    "class Config:\n",
    "    bucket = \"aws-data-lab-sanhe-for-everything-us-east-2\"\n",
    "    prefix = \"poc/learn-big-data-on-aws/glue-job-examples/missing-fields-and-null-values\"\n",
    "    n_files = 3\n",
    "    n_records_per_file = 100\n",
    "    \n",
    "    @property\n",
    "    def s3path_prefix(self):\n",
    "        return S3Path(self.bucket, self.prefix)\n",
    "    \n",
    "config = Config()"
   ]
  },
  {
   "cell_type": "code",
   "execution_count": 3,
   "id": "dd894b76",
   "metadata": {},
   "outputs": [
    {
     "data": {
      "application/vnd.jupyter.widget-view+json": {
       "model_id": "8e92055e16d64ee2a79dd09aab139aab",
       "version_major": 2,
       "version_minor": 0
      },
      "text/plain": [
       "FloatProgress(value=0.0, bar_style='info', description='Progress:', layout=Layout(height='25px', width='50%'),…"
      ]
     },
     "metadata": {},
     "output_type": "display_data"
    }
   ],
   "source": [
    "# gdf = Glue Dynamic Frame\n",
    "gdf = glueContext.create_dynamic_frame.from_options(\n",
    "    connection_type=\"s3\", \n",
    "    connection_options=dict(\n",
    "        paths=[\n",
    "            f\"s3://{config.bucket}/{config.prefix}/\"\n",
    "        ],\n",
    "        recurse=True,\n",
    "    ),\n",
    "    format=\"json\",\n",
    "    format_options=dict(multiLine=True),\n",
    "    transformation_ctx=\"datasource\",\n",
    ")"
   ]
  },
  {
   "cell_type": "code",
   "execution_count": 4,
   "id": "2ac2c5e4",
   "metadata": {},
   "outputs": [
    {
     "data": {
      "application/vnd.jupyter.widget-view+json": {
       "model_id": "3891da08237a4f8bb1f30d6d362269f3",
       "version_major": 2,
       "version_minor": 0
      },
      "text/plain": [
       "FloatProgress(value=0.0, bar_style='info', description='Progress:', layout=Layout(height='25px', width='50%'),…"
      ]
     },
     "metadata": {},
     "output_type": "display_data"
    },
    {
     "name": "stdout",
     "output_type": "stream",
     "text": [
      "root\n",
      "|-- id: int\n",
      "|-- with_missing_field: int\n",
      "|-- with_null_value: int"
     ]
    }
   ],
   "source": [
    "# print data schema\n",
    "# Glue Dynamic Frame 足够聪明, 能够自动根据统计数据推断出 Schema\n",
    "gdf.printSchema()"
   ]
  },
  {
   "cell_type": "code",
   "execution_count": 4,
   "id": "84c5f841",
   "metadata": {},
   "outputs": [
    {
     "data": {
      "application/vnd.jupyter.widget-view+json": {
       "model_id": "04220ac10f99499cafb6a595f5982749",
       "version_major": 2,
       "version_minor": 0
      },
      "text/plain": [
       "FloatProgress(value=0.0, bar_style='info', description='Progress:', layout=Layout(height='25px', width='50%'),…"
      ]
     },
     "metadata": {},
     "output_type": "display_data"
    },
    {
     "name": "stdout",
     "output_type": "stream",
     "text": [
      "+---+------------------+---------------+\n",
      "|id |with_missing_field|with_null_value|\n",
      "+---+------------------+---------------+\n",
      "|20 |83                |65             |\n",
      "|40 |null              |7              |\n",
      "|60 |83                |46             |\n",
      "|80 |29                |56             |\n",
      "|100|79                |73             |\n",
      "|108|79                |40             |\n",
      "|128|38                |13             |\n",
      "|148|88                |44             |\n",
      "|168|8                 |30             |\n",
      "|188|null              |64             |\n",
      "|209|94                |46             |\n",
      "|229|62                |69             |\n",
      "|249|14                |71             |\n",
      "|269|42                |27             |\n",
      "|289|45                |39             |\n",
      "|1  |83                |37             |\n",
      "|21 |94                |71             |\n",
      "|41 |46                |61             |\n",
      "|61 |46                |27             |\n",
      "|81 |43                |52             |\n",
      "|109|72                |82             |\n",
      "|129|60                |null           |\n",
      "|149|94                |89             |\n",
      "|169|40                |98             |\n",
      "|189|71                |26             |\n",
      "|210|77                |99             |\n",
      "|230|7                 |92             |\n",
      "|250|48                |85             |\n",
      "|270|49                |45             |\n",
      "|290|22                |32             |\n",
      "|2  |85                |72             |\n",
      "|22 |95                |null           |\n",
      "|42 |null              |50             |\n",
      "|62 |15                |57             |\n",
      "|82 |44                |28             |\n",
      "|110|30                |99             |\n",
      "|130|73                |82             |\n",
      "|150|null              |20             |\n",
      "|170|53                |61             |\n",
      "|190|16                |null           |\n",
      "+---+------------------+---------------+\n",
      "only showing top 40 rows"
     ]
    }
   ],
   "source": [
    "# preview the data\n",
    "# 在读取的过程中, 如果 field 不存在, 就已经被读成 null value 了\n",
    "gdf.toDF().show(40, truncate=False, vertical=False)"
   ]
  },
  {
   "cell_type": "code",
   "execution_count": 5,
   "id": "6cdc28a9",
   "metadata": {},
   "outputs": [
    {
     "data": {
      "application/vnd.jupyter.widget-view+json": {
       "model_id": "fc4451c4dc7b45d482fc5225aea1f078",
       "version_major": 2,
       "version_minor": 0
      },
      "text/plain": [
       "FloatProgress(value=0.0, bar_style='info', description='Progress:', layout=Layout(height='25px', width='50%'),…"
      ]
     },
     "metadata": {},
     "output_type": "display_data"
    },
    {
     "name": "stdout",
     "output_type": "stream",
     "text": [
      "300"
     ]
    }
   ],
   "source": [
    "# count rows\n",
    "gdf.count()"
   ]
  },
  {
   "cell_type": "markdown",
   "id": "88e319a3",
   "metadata": {},
   "source": [
    "## Map transformation operator with missing field and bad field\n",
    "\n",
    "对每一行按照一定逻辑进行 transformation 是非常常见的操作. 在 Glue ETL 中对应的 transformation operator 是 ``Map`` + UDF (User defined function). ``Map`` 的操作对象是 Row. **而且是具有容错的**. 如果许多列中只有部分列出错了, 那么在结果中就不会包含这些出错的列. 你可以用 ``stageThreshold``, ``totalThreshold`` 这两个参数控制是否抛出异常.\n"
   ]
  },
  {
   "cell_type": "code",
   "execution_count": 6,
   "id": "7bb9f7c0",
   "metadata": {},
   "outputs": [
    {
     "data": {
      "application/vnd.jupyter.widget-view+json": {
       "model_id": "dcf51610f0a84ec4993dfa50dec694b5",
       "version_major": 2,
       "version_minor": 0
      },
      "text/plain": [
       "FloatProgress(value=0.0, bar_style='info', description='Progress:', layout=Layout(height='25px', width='50%'),…"
      ]
     },
     "metadata": {},
     "output_type": "display_data"
    },
    {
     "name": "stdout",
     "output_type": "stream",
     "text": [
      "+------------------+---------------+---+\n",
      "|with_missing_field|with_null_value|id |\n",
      "+------------------+---------------+---+\n",
      "|8300              |6500           |20 |\n",
      "|8300              |4600           |60 |\n",
      "|2900              |5600           |80 |\n",
      "|7900              |7300           |100|\n",
      "|7900              |4000           |108|\n",
      "|3800              |1300           |128|\n",
      "|8800              |4400           |148|\n",
      "|800               |3000           |168|\n",
      "|9400              |4600           |209|\n",
      "|6200              |6900           |229|\n",
      "|1400              |7100           |249|\n",
      "|4200              |2700           |269|\n",
      "|4500              |3900           |289|\n",
      "|8300              |3700           |1  |\n",
      "|9400              |7100           |21 |\n",
      "|4600              |6100           |41 |\n",
      "|4600              |2700           |61 |\n",
      "|4300              |5200           |81 |\n",
      "|7200              |8200           |109|\n",
      "|9400              |8900           |149|\n",
      "|4000              |9800           |169|\n",
      "|7100              |2600           |189|\n",
      "|7700              |9900           |210|\n",
      "|700               |9200           |230|\n",
      "|4800              |8500           |250|\n",
      "|4900              |4500           |270|\n",
      "|2200              |3200           |290|\n",
      "|8500              |7200           |2  |\n",
      "|1500              |5700           |62 |\n",
      "|4400              |2800           |82 |\n",
      "|3000              |9900           |110|\n",
      "|7300              |8200           |130|\n",
      "|5300              |6100           |170|\n",
      "|1900              |9600           |211|\n",
      "|8400              |8500           |231|\n",
      "|2200              |4500           |251|\n",
      "|6700              |1600           |271|\n",
      "|7500              |4700           |291|\n",
      "|8900              |5800           |23 |\n",
      "|6600              |8000           |43 |\n",
      "+------------------+---------------+---+\n",
      "only showing top 40 rows\n",
      "\n",
      "239"
     ]
    }
   ],
   "source": [
    "# Map transformation operator is fault tolerant.\n",
    "# you can use ``stageThreshold``, ``totalThreshold`` to raise exception of error rate >= threshold\n",
    "# ref: https://docs.aws.amazon.com/glue/latest/dg/aws-glue-api-crawler-pyspark-transforms-map.html\n",
    "def times_100(row):\n",
    "    row[\"with_missing_field\"] = row[\"with_missing_field\"] * 100\n",
    "    row[\"with_null_value\"] = row[\"with_null_value\"] * 100\n",
    "    return row\n",
    "\n",
    "gdf_tmp = Map.apply(frame=gdf, f=times_100)\n",
    "gdf_tmp.toDF().show(40, truncate=False, vertical=False)\n",
    "gdf_tmp.count() # will be less than gdf.count()"
   ]
  },
  {
   "cell_type": "markdown",
   "id": "a208b54d",
   "metadata": {},
   "source": [
    "在 PySpark 中, 你无法用 UDF 对整个 Row 进行操作, 你只能对每个 Column 使用"
   ]
  },
  {
   "cell_type": "code",
   "execution_count": 19,
   "id": "bcc83493",
   "metadata": {},
   "outputs": [
    {
     "data": {
      "application/vnd.jupyter.widget-view+json": {
       "model_id": "c7cce7ee885f451091da2b63d42b3ba6",
       "version_major": 2,
       "version_minor": 0
      },
      "text/plain": [
       "FloatProgress(value=0.0, bar_style='info', description='Progress:', layout=Layout(height='25px', width='50%'),…"
      ]
     },
     "metadata": {},
     "output_type": "display_data"
    },
    {
     "name": "stdout",
     "output_type": "stream",
     "text": [
      "+---+------------------+---------------+\n",
      "|id |with_missing_field|with_null_value|\n",
      "+---+------------------+---------------+\n",
      "|20 |8300              |8300           |\n",
      "|60 |8300              |8300           |\n",
      "|80 |2900              |2900           |\n",
      "|100|7900              |7900           |\n",
      "|108|7900              |7900           |\n",
      "+---+------------------+---------------+\n",
      "only showing top 5 rows\n",
      "\n",
      "239"
     ]
    }
   ],
   "source": [
    "from pyspark.sql.functions import udf\n",
    "from pyspark.sql.types import IntegerType\n",
    "\n",
    "pdf = gdf.toDF()\n",
    "\n",
    "udf_times_100 = udf(\n",
    "    lambda x: x * 100, \n",
    "    IntegerType(),\n",
    ")\n",
    "\n",
    "pdf_tmp = pdf.dropna(subset=[\"with_missing_field\", \"with_null_value\"]) \\\n",
    "    .select(\n",
    "        pdf.id, \n",
    "        udf_times_100(pdf.with_missing_field).alias(\"with_missing_field\"),\n",
    "        udf_times_100(pdf.with_null_value).alias(\"with_null_value\"),\n",
    "    )\n",
    "pdf_tmp.show(5, truncate=False, vertical=False)\n",
    "pdf_tmp.count()"
   ]
  },
  {
   "cell_type": "code",
   "execution_count": 24,
   "id": "ed0e5241",
   "metadata": {},
   "outputs": [
    {
     "data": {
      "application/vnd.jupyter.widget-view+json": {
       "model_id": "b573d632daf84be2bf05a1a93b51cbdb",
       "version_major": 2,
       "version_minor": 0
      },
      "text/plain": [
       "FloatProgress(value=0.0, bar_style='info', description='Progress:', layout=Layout(height='25px', width='50%'),…"
      ]
     },
     "metadata": {},
     "output_type": "display_data"
    },
    {
     "name": "stdout",
     "output_type": "stream",
     "text": [
      "+---------------------------------------------+\n",
      "|<lambda>(with_missing_field, with_null_value)|\n",
      "+---------------------------------------------+\n",
      "|                                        14800|\n",
      "|                                        12900|\n",
      "|                                         8500|\n",
      "|                                        15200|\n",
      "|                                        11900|\n",
      "+---------------------------------------------+\n",
      "only showing top 5 rows"
     ]
    }
   ],
   "source": [
    "udf_add_then_times_100 = udf(\n",
    "    lambda x, y: (x + y) * 100, \n",
    "    IntegerType(),\n",
    ")\n",
    "\n",
    "pdf_clean = pdf.dropna(subset=[\"with_missing_field\", \"with_null_value\"])\n",
    "pdf_tmp = pdf_clean.select(\n",
    "    udf_add_then_times_100(\n",
    "        pdf_clean.with_missing_field, \n",
    "        pdf_clean.with_null_value,\n",
    "    )\n",
    ")\n",
    "pdf_tmp.show(5)"
   ]
  },
  {
   "cell_type": "code",
   "execution_count": null,
   "id": "7a751e2e",
   "metadata": {},
   "outputs": [],
   "source": []
  }
 ],
 "metadata": {
  "kernelspec": {
   "display_name": "Sparkmagic (PySpark)",
   "language": "python",
   "name": "pysparkkernel"
  },
  "language_info": {
   "codemirror_mode": {
    "name": "python",
    "version": 3
   },
   "file_extension": ".py",
   "mimetype": "text/x-python",
   "name": "pyspark",
   "pygments_lexer": "python3"
  },
  "toc-showcode": false
 },
 "nbformat": 4,
 "nbformat_minor": 5
}
