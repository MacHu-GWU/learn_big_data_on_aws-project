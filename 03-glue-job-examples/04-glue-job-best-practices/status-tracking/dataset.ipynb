{
 "cells": [
  {
   "cell_type": "markdown",
   "id": "5c1b3eb3",
   "metadata": {},
   "source": [
    "# Status Tracking\n",
    "\n",
    "```python\n",
    "{\n",
    "    \"trans_id\": \"uuid\", # str\n",
    "    \"from_acc\": \"acc-1\", # str\n",
    "    \"to_acc\": \"acc-2\", # str\n",
    "    \"amount\": 150, # int\n",
    "    \"created_time\": datetime, # datetime\n",
    "}\n",
    "```"
   ]
  },
  {
   "cell_type": "code",
   "execution_count": 1,
   "id": "dbbd14c9",
   "metadata": {},
   "outputs": [
    {
     "name": "stdout",
     "output_type": "stream",
     "text": [
      "Note: you may need to restart the kernel to use updated packages.\n"
     ]
    }
   ],
   "source": [
    "%pip install -q -r requirements.txt"
   ]
  },
  {
   "cell_type": "code",
   "execution_count": 2,
   "id": "32b90f1d",
   "metadata": {},
   "outputs": [],
   "source": [
    "import uuid\n",
    "import json\n",
    "import random\n",
    "from datetime import datetime, timedelta, timezone\n",
    "from s3pathlib import S3Path\n",
    "from rich import print as rprint\n"
   ]
  },
  {
   "cell_type": "code",
   "execution_count": 7,
   "id": "2a1bcc20",
   "metadata": {},
   "outputs": [],
   "source": [
    "class Config:\n",
    "    region = \"us-east-2\"\n",
    "    source_bucket = \"aws-data-lab-sanhe-for-everything-us-east-2\"\n",
    "    source_prefix = \"poc/learn-big-data-on-aws/glue-job-examples/04-glue-job-best-practice/status-tracking/bank_transaction/source/\"\n",
    "    target_bucket = \"aws-data-lab-sanhe-for-everything-us-east-2\"\n",
    "    target_prefix = \"poc/learn-big-data-on-aws/glue-job-examples/04-glue-job-best-practice/status-tracking/bank_transaction/target/\"\n",
    "    \n",
    "    n_file = 100 # 一共多少个文件\n",
    "    n_rows_per_file = 1000 # 每个文件由多少行\n",
    "    n_acc = 20000 # 模拟多少个银行账户互相转账\n",
    "    failed_rate = 10 # 按照百分之几的比例创建 \"坏\" 文件, 5 就是 5%\n",
    "    \n",
    "    @property\n",
    "    def s3path_source(self) -> S3Path:\n",
    "        return S3Path(self.source_bucket, self.source_prefix)\n",
    "\n",
    "    @property\n",
    "    def s3path_target(self) -> S3Path:\n",
    "        return S3Path(self.target_bucket, self.target_prefix)\n",
    "    \n",
    "config = Config()"
   ]
  },
  {
   "cell_type": "code",
   "execution_count": 4,
   "id": "cb180694",
   "metadata": {},
   "outputs": [
    {
     "name": "stdout",
     "output_type": "stream",
     "text": [
      "processing 1 th file ...\n",
      "  open for preview: https://console.aws.amazon.com/s3/object/aws-data-lab-sanhe-for-everything-us-east-2?prefix=poc/learn-big-data-on-aws/glue-job-examples/04-glue-job-best-practice/status-tracking/bank_transaction/source/000001.json\n"
     ]
    }
   ],
   "source": [
    "def create_one(ith: int, verbose=True):\n",
    "    if verbose:\n",
    "        print(f\"processing {ith} th file ...\")\n",
    "    bank_epoch = datetime(2000, 1, 1, tzinfo=timezone.utc)\n",
    "    s3path = S3Path(config.s3path_source, \"{}.json\".format(str(ith).zfill(6)))\n",
    "    data = []\n",
    "    for _ in range(config.n_rows_per_file):\n",
    "        trans_id=str(uuid.uuid4())\n",
    "        from_acc = random.randint(1, config.n_acc)\n",
    "        to_acc = random.randint(1, config.n_acc)\n",
    "        balance = random.randint(1, 100)\n",
    "        created_time = bank_epoch + timedelta(seconds=random.randint(1, 31_536_000))\n",
    "        row = dict(\n",
    "            trans_id=trans_id,\n",
    "            from_acc=from_acc,\n",
    "            to_acc=to_acc,\n",
    "            balance=balance,\n",
    "            created_time=created_time.isoformat(),\n",
    "        )\n",
    "        data.append(row)\n",
    "    if random.randint(1, 100) <= config.failed_rate:\n",
    "        # randomly insert 1 ~ 5 bad records\n",
    "        for _ in range(random.randint(1, 5)):\n",
    "            row_id = random.randint(0, config.n_rows_per_file - 1)\n",
    "            data[row_id] = dict(id=1, name=\"alice\") # this is not a valid transaction data\n",
    "    lines = list()\n",
    "    for row in data:\n",
    "        lines.append(json.dumps(row))\n",
    "    s3path.write_text(\"\\n\".join(lines))\n",
    "    if verbose:\n",
    "        print(f\"  open for preview: {s3path.console_url}\")\n",
    "\n",
    "create_one(1, verbose=True)"
   ]
  },
  {
   "cell_type": "code",
   "execution_count": 5,
   "id": "e9299c34",
   "metadata": {},
   "outputs": [
    {
     "name": "stdout",
     "output_type": "stream",
     "text": [
      "done\n"
     ]
    }
   ],
   "source": [
    "# Create many dummy files\n",
    "for ith in range(1, 1 + config.n_file):\n",
    "    create_one(ith, verbose=False)\n",
    "print(\"done\")"
   ]
  },
  {
   "cell_type": "code",
   "execution_count": 10,
   "id": "08ab39e2",
   "metadata": {},
   "outputs": [
    {
     "name": "stdout",
     "output_type": "stream",
     "text": [
      "total number of rows = 100000\n"
     ]
    }
   ],
   "source": [
    "# Check how many rows are created\n",
    "import pandas as pd\n",
    "\n",
    "total_rows = 0\n",
    "for s3path in config.s3path_source.iter_objects():\n",
    "    with s3path.open(\"r\") as f:\n",
    "        df = pd.read_json(f, orient=\"records\", lines=True)\n",
    "        total_rows += df.shape[0]\n",
    "        \n",
    "print(f\"total number of rows = {total_rows}\")"
   ]
  },
  {
   "cell_type": "code",
   "execution_count": null,
   "id": "d8929b53",
   "metadata": {},
   "outputs": [],
   "source": []
  }
 ],
 "metadata": {
  "kernelspec": {
   "display_name": "conda_python3",
   "language": "python",
   "name": "conda_python3"
  },
  "language_info": {
   "codemirror_mode": {
    "name": "ipython",
    "version": 3
   },
   "file_extension": ".py",
   "mimetype": "text/x-python",
   "name": "python",
   "nbconvert_exporter": "python",
   "pygments_lexer": "ipython3",
   "version": "3.6.13"
  }
 },
 "nbformat": 4,
 "nbformat_minor": 5
}
