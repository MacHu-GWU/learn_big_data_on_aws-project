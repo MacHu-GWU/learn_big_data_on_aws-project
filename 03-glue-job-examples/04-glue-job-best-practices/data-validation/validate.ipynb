{
 "cells": [
  {
   "cell_type": "markdown",
   "id": "cb4a603c",
   "metadata": {},
   "source": [
    "# Data Validation\n"
   ]
  },
  {
   "cell_type": "code",
   "execution_count": 12,
   "id": "e6d5fa4f",
   "metadata": {},
   "outputs": [
    {
     "data": {
      "application/vnd.jupyter.widget-view+json": {
       "model_id": "8c45b1d01a3843d2b2ff40b57cf976ae",
       "version_major": 2,
       "version_minor": 0
      },
      "text/plain": [
       "FloatProgress(value=0.0, bar_style='info', description='Progress:', layout=Layout(height='25px', width='50%'),…"
      ]
     },
     "metadata": {},
     "output_type": "display_data"
    }
   ],
   "source": [
    "import sys\n",
    "import pyspark.sql.functions as sql_funcs\n",
    "from pyspark.context import SparkContext\n",
    "from awsglue.job import Job\n",
    "from awsglue.utils import getResolvedOptions\n",
    "from awsglue.context import GlueContext\n",
    "from awsglue.dynamicframe import DynamicFrame\n",
    "from awsglue.transforms import *\n",
    "\n",
    "# Create SparkContext\n",
    "sparkContext = SparkContext.getOrCreate()\n",
    "\n",
    "# Create Glue Context\n",
    "glueContext = GlueContext(sparkContext)\n",
    "\n",
    "# Get spark session\n",
    "spark = glueContext.spark_session\n",
    "\n",
    "# Resolve job parameters\n",
    "# Uncomment this in Glue ETL job\n",
    "# args = getResolvedOptions(sys.argv, [\"JOB_NAME\"\n",
    "# job = Job(glueContext)\n",
    "# job.init(args['JOB_NAME'], args)"
   ]
  },
  {
   "cell_type": "code",
   "execution_count": 2,
   "id": "24de0c1f",
   "metadata": {},
   "outputs": [
    {
     "name": "stdout",
     "output_type": "stream",
     "text": [
      "Note: you may need to restart the kernel to use updated packages.\n"
     ]
    }
   ],
   "source": [
    "%pip install -q -r requirements.txt"
   ]
  },
  {
   "cell_type": "code",
   "execution_count": 2,
   "id": "5ae5da94",
   "metadata": {},
   "outputs": [
    {
     "data": {
      "application/vnd.jupyter.widget-view+json": {
       "model_id": "1e73c9e4b0d147d6988c2b79bdd2be84",
       "version_major": 2,
       "version_minor": 0
      },
      "text/plain": [
       "FloatProgress(value=0.0, bar_style='info', description='Progress:', layout=Layout(height='25px', width='50%'),…"
      ]
     },
     "metadata": {},
     "output_type": "display_data"
    },
    {
     "name": "stdout",
     "output_type": "stream",
     "text": [
      "/usr/local/lib/python3.6/site-packages/requests/__init__.py:91: RequestsDependencyWarning: urllib3 (1.26.9) or chardet (3.0.4) doesn't match a supported version!\n",
      "  RequestsDependencyWarning)"
     ]
    }
   ],
   "source": [
    "from s3pathlib import S3Path\n",
    "from marshmallow import fields, Schema, validates, ValidationError\n",
    "\n",
    "class Config:\n",
    "    bucket = \"aws-data-lab-sanhe-for-everything-us-east-2\"\n",
    "    prefix = \"poc/learn-big-data-on-aws/glue-job-examples/04-glue-job-best-practice/data-validation\"\n",
    "    \n",
    "    @property\n",
    "    def s3path_prefix(self) -> S3Path:\n",
    "        return S3Path(self.bucket, self.prefix)\n",
    "    \n",
    "config = Config()"
   ]
  },
  {
   "cell_type": "markdown",
   "id": "e3396e28",
   "metadata": {},
   "source": [
    "## Define Data Validation Schema"
   ]
  },
  {
   "cell_type": "code",
   "execution_count": 3,
   "id": "8abf15cd",
   "metadata": {},
   "outputs": [
    {
     "data": {
      "application/vnd.jupyter.widget-view+json": {
       "model_id": "c05bf70e745740e19dcbace3971fb507",
       "version_major": 2,
       "version_minor": 0
      },
      "text/plain": [
       "FloatProgress(value=0.0, bar_style='info', description='Progress:', layout=Layout(height='25px', width='50%'),…"
      ]
     },
     "metadata": {},
     "output_type": "display_data"
    }
   ],
   "source": [
    "class RowSchema(Schema):\n",
    "    id = fields.Int()\n",
    "    name = fields.Str(required=True)\n",
    "    balance = fields.Int()\n",
    "    \n",
    "    @validates(\"balance\")\n",
    "    def validate_balance(self, value):\n",
    "        if value < 0:\n",
    "            raise ValidationError(\"Balance must be greater than 0.\")\n",
    "\n",
    "schema = RowSchema()\n",
    "\n",
    "def filter_failed(row: dict) -> bool:\n",
    "    \"\"\"\n",
    "    Return True if the data failed the validation.\n",
    "    \"\"\"\n",
    "    res = schema.validate(row)\n",
    "    if res:\n",
    "        return True\n",
    "    else:\n",
    "        return False\n",
    "    \n",
    "def filter_passed(row: dict) -> bool:\n",
    "    \"\"\"\n",
    "    Return True if the data passed the validation.\n",
    "    \"\"\"\n",
    "    return not filter_failed(row)"
   ]
  },
  {
   "cell_type": "code",
   "execution_count": 4,
   "id": "957c223c",
   "metadata": {},
   "outputs": [
    {
     "data": {
      "application/vnd.jupyter.widget-view+json": {
       "model_id": "7249e3056d824c5e8953aaeb0bff8f9e",
       "version_major": 2,
       "version_minor": 0
      },
      "text/plain": [
       "FloatProgress(value=0.0, bar_style='info', description='Progress:', layout=Layout(height='25px', width='50%'),…"
      ]
     },
     "metadata": {},
     "output_type": "display_data"
    },
    {
     "name": "stdout",
     "output_type": "stream",
     "text": [
      "{}"
     ]
    }
   ],
   "source": [
    "schema.validate({\"id\": 1, \"name\": \"user1\", \"balance\": 100})"
   ]
  },
  {
   "cell_type": "code",
   "execution_count": 5,
   "id": "3f45013b",
   "metadata": {},
   "outputs": [
    {
     "data": {
      "application/vnd.jupyter.widget-view+json": {
       "model_id": "9261c7c607874948b0970af954df8aea",
       "version_major": 2,
       "version_minor": 0
      },
      "text/plain": [
       "FloatProgress(value=0.0, bar_style='info', description='Progress:', layout=Layout(height='25px', width='50%'),…"
      ]
     },
     "metadata": {},
     "output_type": "display_data"
    },
    {
     "name": "stdout",
     "output_type": "stream",
     "text": [
      "{'password': ['Unknown field.']}"
     ]
    }
   ],
   "source": [
    "# unknown field\n",
    "schema.validate({\"id\": 15, \"name\": \"user15\", \"balance\": 1500, \"password\": \"123456\"})"
   ]
  },
  {
   "cell_type": "code",
   "execution_count": 6,
   "id": "5e321232",
   "metadata": {},
   "outputs": [
    {
     "data": {
      "application/vnd.jupyter.widget-view+json": {
       "model_id": "86416718314b4cf6bdd11bceefaf8236",
       "version_major": 2,
       "version_minor": 0
      },
      "text/plain": [
       "FloatProgress(value=0.0, bar_style='info', description='Progress:', layout=Layout(height='25px', width='50%'),…"
      ]
     },
     "metadata": {},
     "output_type": "display_data"
    },
    {
     "name": "stdout",
     "output_type": "stream",
     "text": [
      "{'name': ['Missing data for required field.']}"
     ]
    }
   ],
   "source": [
    "# field missing\n",
    "schema.validate({\"id\": 20, \"balance\": 2000})"
   ]
  },
  {
   "cell_type": "code",
   "execution_count": 7,
   "id": "23abfecf",
   "metadata": {},
   "outputs": [
    {
     "data": {
      "application/vnd.jupyter.widget-view+json": {
       "model_id": "e560fff502dd41e6ab8cb46385ad6c8c",
       "version_major": 2,
       "version_minor": 0
      },
      "text/plain": [
       "FloatProgress(value=0.0, bar_style='info', description='Progress:', layout=Layout(height='25px', width='50%'),…"
      ]
     },
     "metadata": {},
     "output_type": "display_data"
    },
    {
     "name": "stdout",
     "output_type": "stream",
     "text": [
      "{'balance': ['Not a valid integer.']}"
     ]
    }
   ],
   "source": [
    "# type error\n",
    "schema.validate({\"id\": 23, \"name\": \"user23\", \"balance\": \"2,300\"})"
   ]
  },
  {
   "cell_type": "code",
   "execution_count": 8,
   "id": "5d90723b",
   "metadata": {},
   "outputs": [
    {
     "data": {
      "application/vnd.jupyter.widget-view+json": {
       "model_id": "ff0e45d10f824f339bdc445261d11b9a",
       "version_major": 2,
       "version_minor": 0
      },
      "text/plain": [
       "FloatProgress(value=0.0, bar_style='info', description='Progress:', layout=Layout(height='25px', width='50%'),…"
      ]
     },
     "metadata": {},
     "output_type": "display_data"
    },
    {
     "name": "stdout",
     "output_type": "stream",
     "text": [
      "{'balance': ['Balance must be greater than 0.']}"
     ]
    }
   ],
   "source": [
    "# value range error\n",
    "schema.validate({\"id\": 26, \"name\": \"user26\", \"balance\": -2600})"
   ]
  },
  {
   "cell_type": "code",
   "execution_count": 9,
   "id": "a147fa32",
   "metadata": {},
   "outputs": [
    {
     "data": {
      "application/vnd.jupyter.widget-view+json": {
       "model_id": "86893cd677e1431fa792a57530712bfb",
       "version_major": 2,
       "version_minor": 0
      },
      "text/plain": [
       "FloatProgress(value=0.0, bar_style='info', description='Progress:', layout=Layout(height='25px', width='50%'),…"
      ]
     },
     "metadata": {},
     "output_type": "display_data"
    },
    {
     "name": "stdout",
     "output_type": "stream",
     "text": [
      "{'name': ['Field may not be null.']}"
     ]
    }
   ],
   "source": [
    "# not null value\n",
    "schema.validate({\"id\": 30, \"name\": None, \"balance\": 3000})"
   ]
  },
  {
   "cell_type": "markdown",
   "id": "7d2df1aa",
   "metadata": {},
   "source": [
    "## Define Dynamodb Validation Tracker"
   ]
  },
  {
   "cell_type": "code",
   "execution_count": 10,
   "id": "baa8d14f",
   "metadata": {},
   "outputs": [
    {
     "data": {
      "application/vnd.jupyter.widget-view+json": {
       "model_id": "326a0377d66949f39e27a921841cc8dd",
       "version_major": 2,
       "version_minor": 0
      },
      "text/plain": [
       "FloatProgress(value=0.0, bar_style='info', description='Progress:', layout=Layout(height='25px', width='50%'),…"
      ]
     },
     "metadata": {},
     "output_type": "display_data"
    }
   ],
   "source": [
    "import pynamodb\n",
    "from pynamodb.models import Model\n",
    "from pynamodb.connection import Connection\n",
    "from pynamodb.attributes import UnicodeAttribute, NumberAttribute, JSONAttribute\n",
    "\n",
    "connection = Connection(region=\"us-east-2\")\n",
    "\n",
    "class ValidationTracker(Model):\n",
    "    class Meta:\n",
    "        \"\"\"\n",
    "        declare metadata about the table\n",
    "        \"\"\"\n",
    "        table_name = \"learn_big_data_on_aws_glue_validation\"\n",
    "        region = \"us-east-2\"\n",
    "\n",
    "        # billing mode\n",
    "        # doc: https://docs.aws.amazon.com/amazondynamodb/latest/developerguide/HowItWorks.ReadWriteCapacityMode.html\n",
    "        # pay as you go mode\n",
    "        billing_mode = pynamodb.models.PAY_PER_REQUEST_BILLING_MODE\n",
    "\n",
    "        # provisioned mode\n",
    "        # write_capacity_units = 10\n",
    "        # read_capacity_units = 10\n",
    "\n",
    "    # define attributes\n",
    "    s3uri = UnicodeAttribute(hash_key=True)\n",
    "    status = NumberAttribute(default=0) # set default value for attribute\n",
    "    details = JSONAttribute(default={})\n",
    "\n",
    "\n",
    "# Create dynamodb table if not exists, if already exists, this code won't do anything\n",
    "ValidationTracker.create_table(wait=True)"
   ]
  },
  {
   "cell_type": "code",
   "execution_count": null,
   "id": "ae2daf88",
   "metadata": {},
   "outputs": [],
   "source": [
    "gdf1 = glueContext.create_dynamic_frame.from_options(\n",
    "    connection_type=\"s3\", \n",
    "    connection_options=dict(\n",
    "        paths=[\n",
    "            S3Path(config.s3path_prefix, \"1.json\").uri,\n",
    "        ],\n",
    "        recurse=True,\n",
    "    ),\n",
    "    format=\"json\",\n",
    "    format_options=dict(multiLine=True),\n",
    "    transformation_ctx=\"datasource\",\n",
    ")"
   ]
  },
  {
   "cell_type": "code",
   "execution_count": null,
   "id": "6d6bc094",
   "metadata": {},
   "outputs": [],
   "source": [
    "gdf1.toDF().show()"
   ]
  },
  {
   "cell_type": "markdown",
   "id": "5200ece3",
   "metadata": {},
   "source": [
    "## File 2\n",
    "\n",
    "```python\n",
    "[\n",
    "    {\"id\": 11, \"name\": \"user11\", \"balance\": 1100},\n",
    "    {\"id\": 12, \"name\": \"user12\", \"balance\": 1200},\n",
    "    {\"id\": 13, \"name\": \"user13\", \"balance\": 1300},\n",
    "    {\"id\": 14, \"name\": \"user14\", \"balance\": 1400},\n",
    "    {\"id\": 15, \"name\": \"user15\", \"balance\": 1500, \"password\": \"123456\"}, # unknown field\n",
    "    {\"id\": 16, \"name\": \"user16\", \"balance\": 1600},\n",
    "    {\"id\": 17, \"name\": \"user17\", \"balance\": 1700},\n",
    "    {\"id\": 18, \"name\": \"user18\", \"balance\": 1800},\n",
    "    {\"id\": 19, \"name\": \"user19\", \"balance\": 1900},\n",
    "    {\"id\": 20, \"balance\": 2000}, # field missing\n",
    "]\n",
    "```"
   ]
  },
  {
   "cell_type": "code",
   "execution_count": 37,
   "id": "4aa4e9ee",
   "metadata": {},
   "outputs": [
    {
     "data": {
      "application/vnd.jupyter.widget-view+json": {
       "model_id": "22b6bf30dc784d39a423632014ce2f5d",
       "version_major": 2,
       "version_minor": 0
      },
      "text/plain": [
       "FloatProgress(value=0.0, bar_style='info', description='Progress:', layout=Layout(height='25px', width='50%'),…"
      ]
     },
     "metadata": {},
     "output_type": "display_data"
    },
    {
     "name": "stdout",
     "output_type": "stream",
     "text": [
      "{'id': 11, 'name': 'user11', 'balance': 1100, 'password': None}\n",
      "{'id': 12, 'name': 'user12', 'balance': 1200, 'password': None}\n",
      "{'id': 13, 'name': 'user13', 'balance': 1300, 'password': None}\n",
      "{'id': 14, 'name': 'user14', 'balance': 1400, 'password': None}\n",
      "{'id': 15, 'name': 'user15', 'balance': 1500, 'password': '123456'}\n",
      "{'id': 16, 'name': 'user16', 'balance': 1600, 'password': None}\n",
      "{'id': 17, 'name': 'user17', 'balance': 1700, 'password': None}\n",
      "{'id': 18, 'name': 'user18', 'balance': 1800, 'password': None}\n",
      "{'id': 19, 'name': 'user19', 'balance': 1900, 'password': None}\n",
      "{'id': 20, 'name': None, 'balance': 2000, 'password': None}"
     ]
    }
   ],
   "source": [
    "gdf2 = glueContext.create_dynamic_frame.from_options(\n",
    "    connection_type=\"s3\", \n",
    "    connection_options=dict(\n",
    "        paths=[\n",
    "            S3Path(config.s3path_prefix, \"2.json\").uri,\n",
    "        ],\n",
    "        recurse=True,\n",
    "    ),\n",
    "    format=\"json\",\n",
    "    format_options=dict(multiLine=True),\n",
    "    transformation_ctx=\"datasource\",\n",
    ")\n",
    "for row in gdf2.toDF().collect():\n",
    "    print(row.asDict(recursive=True))"
   ]
  },
  {
   "cell_type": "code",
   "execution_count": 43,
   "id": "e6e2ecc8",
   "metadata": {},
   "outputs": [
    {
     "data": {
      "application/vnd.jupyter.widget-view+json": {
       "model_id": "2875e7f272fb49d08af4ce11e3b79394",
       "version_major": 2,
       "version_minor": 0
      },
      "text/plain": [
       "FloatProgress(value=0.0, bar_style='info', description='Progress:', layout=Layout(height='25px', width='50%'),…"
      ]
     },
     "metadata": {},
     "output_type": "display_data"
    },
    {
     "name": "stdout",
     "output_type": "stream",
     "text": [
      "+---+------+-------+\n",
      "| id|  name|balance|\n",
      "+---+------+-------+\n",
      "| 11|user11|   1100|\n",
      "| 12|user12|   1200|\n",
      "| 13|user13|   1300|\n",
      "| 14|user14|   1400|\n",
      "| 15|user15|   1500|\n",
      "| 16|user16|   1600|\n",
      "| 17|user17|   1700|\n",
      "| 18|user18|   1800|\n",
      "| 19|user19|   1900|\n",
      "| 20|  null|   2000|\n",
      "+---+------+-------+"
     ]
    }
   ],
   "source": [
    "gdf2_selected = gdf2.select_fields([\"id\", \"name\", \"balance\"])\n",
    "gdf2_selected.toDF().show()"
   ]
  },
  {
   "cell_type": "code",
   "execution_count": 44,
   "id": "3ac36df2",
   "metadata": {},
   "outputs": [
    {
     "data": {
      "application/vnd.jupyter.widget-view+json": {
       "model_id": "84aae56da01b467b8a93c9b40526aaa2",
       "version_major": 2,
       "version_minor": 0
      },
      "text/plain": [
       "FloatProgress(value=0.0, bar_style='info', description='Progress:', layout=Layout(height='25px', width='50%'),…"
      ]
     },
     "metadata": {},
     "output_type": "display_data"
    },
    {
     "name": "stdout",
     "output_type": "stream",
     "text": [
      "+-------+------+---+\n",
      "|balance|  name| id|\n",
      "+-------+------+---+\n",
      "|   1100|user11| 11|\n",
      "|   1200|user12| 12|\n",
      "|   1300|user13| 13|\n",
      "|   1400|user14| 14|\n",
      "|   1500|user15| 15|\n",
      "|   1600|user16| 16|\n",
      "|   1700|user17| 17|\n",
      "|   1800|user18| 18|\n",
      "|   1900|user19| 19|\n",
      "+-------+------+---+"
     ]
    }
   ],
   "source": [
    "gdf2_filtered = gdf2_selected.filter(validate_row)\n",
    "pdf2_filtered = gdf2_filtered.toDF()\n",
    "pdf2_filtered_sorted = pdf2_filtered.sort(pdf2_filtered.id.asc())\n",
    "pdf2_filtered_sorted.show()"
   ]
  },
  {
   "cell_type": "markdown",
   "id": "b21a58b9",
   "metadata": {},
   "source": [
    "## File 3"
   ]
  },
  {
   "cell_type": "code",
   "execution_count": 24,
   "id": "6bc57122",
   "metadata": {},
   "outputs": [
    {
     "data": {
      "application/vnd.jupyter.widget-view+json": {
       "model_id": "84bb5d341e4d48768892f3aea5885c6f",
       "version_major": 2,
       "version_minor": 0
      },
      "text/plain": [
       "FloatProgress(value=0.0, bar_style='info', description='Progress:', layout=Layout(height='25px', width='50%'),…"
      ]
     },
     "metadata": {},
     "output_type": "display_data"
    },
    {
     "name": "stdout",
     "output_type": "stream",
     "text": [
      "{'id': 21, 'name': 'user21', 'balance': {'int': 2100, 'string': None}}\n",
      "{'id': 22, 'name': 'user22', 'balance': {'int': 2200, 'string': None}}\n",
      "{'id': 23, 'name': 'user23', 'balance': {'int': None, 'string': '2,300'}}\n",
      "{'id': 24, 'name': 'user24', 'balance': {'int': 2400, 'string': None}}\n",
      "{'id': 25, 'name': 'user25', 'balance': {'int': 2500, 'string': None}}\n",
      "{'id': 26, 'name': 'user26', 'balance': {'int': -2600, 'string': None}}\n",
      "{'id': 27, 'name': 'user27', 'balance': {'int': 2700, 'string': None}}\n",
      "{'id': 28, 'name': 'user28', 'balance': {'int': 2800, 'string': None}}\n",
      "{'id': 29, 'name': 'user29', 'balance': {'int': 2900, 'string': None}}\n",
      "{'id': 30, 'name': None, 'balance': {'int': 3000, 'string': None}}"
     ]
    }
   ],
   "source": [
    "gdf3 = glueContext.create_dynamic_frame.from_options(\n",
    "    connection_type=\"s3\", \n",
    "    connection_options=dict(\n",
    "        paths=[\n",
    "            S3Path(config.s3path_prefix, \"3.json\").uri,\n",
    "        ],\n",
    "        recurse=True,\n",
    "    ),\n",
    "    format=\"json\",\n",
    "    format_options=dict(multiLine=True),\n",
    "    transformation_ctx=\"datasource\",\n",
    ")\n",
    "for row in gdf3.toDF().collect():\n",
    "    print(row.asDict(recursive=True))"
   ]
  },
  {
   "cell_type": "code",
   "execution_count": 25,
   "id": "6c024268",
   "metadata": {},
   "outputs": [
    {
     "data": {
      "application/vnd.jupyter.widget-view+json": {
       "model_id": "a85ac609e12f4c0bb409a1712de45399",
       "version_major": 2,
       "version_minor": 0
      },
      "text/plain": [
       "FloatProgress(value=0.0, bar_style='info', description='Progress:', layout=Layout(height='25px', width='50%'),…"
      ]
     },
     "metadata": {},
     "output_type": "display_data"
    },
    {
     "name": "stdout",
     "output_type": "stream",
     "text": [
      "+-------+------+---+\n",
      "|balance|  name| id|\n",
      "+-------+------+---+\n",
      "|   2100|user21| 21|\n",
      "|   2200|user22| 22|\n",
      "|   2400|user24| 24|\n",
      "|   2500|user25| 25|\n",
      "|   2700|user27| 27|\n",
      "|   2800|user28| 28|\n",
      "|   2900|user29| 29|\n",
      "+-------+------+---+"
     ]
    }
   ],
   "source": [
    "gdf3_filtered = gdf3.filter(validate_row)\n",
    "gdf3_filtered.toDF().show()"
   ]
  },
  {
   "cell_type": "markdown",
   "id": "6414e9b5",
   "metadata": {},
   "source": [
    "## Put them together"
   ]
  },
  {
   "cell_type": "code",
   "execution_count": 13,
   "id": "4c5b70c2",
   "metadata": {},
   "outputs": [
    {
     "data": {
      "application/vnd.jupyter.widget-view+json": {
       "model_id": "6bac83c0a102432faace37b519abe439",
       "version_major": 2,
       "version_minor": 0
      },
      "text/plain": [
       "FloatProgress(value=0.0, bar_style='info', description='Progress:', layout=Layout(height='25px', width='50%'),…"
      ]
     },
     "metadata": {},
     "output_type": "display_data"
    },
    {
     "name": "stdout",
     "output_type": "stream",
     "text": [
      "+---+------+---------+--------+---------------+\n",
      "| id|  name|  balance|password|input_file_name|\n",
      "+---+------+---------+--------+---------------+\n",
      "| 18|user18|  [1800,]|    null|               |\n",
      "| 29|user29|  [2900,]|    null|               |\n",
      "|  1| user1|   [100,]|    null|               |\n",
      "| 19|user19|  [1900,]|    null|               |\n",
      "| 30|  null|  [3000,]|    null|               |\n",
      "|  2| user2|   [200,]|    null|               |\n",
      "| 20|  null|  [2000,]|    null|               |\n",
      "|  3| user3|   [300,]|    null|               |\n",
      "|  4| user4|   [400,]|    null|               |\n",
      "|  5| user5|   [500,]|    null|               |\n",
      "|  6| user6|   [600,]|    null|               |\n",
      "|  7| user7|   [700,]|    null|               |\n",
      "|  8| user8|   [800,]|    null|               |\n",
      "|  9| user9|   [900,]|    null|               |\n",
      "| 10|user10|  [1000,]|    null|               |\n",
      "| 21|user21|  [2100,]|    null|               |\n",
      "| 11|user11|  [1100,]|    null|               |\n",
      "| 22|user22|  [2200,]|    null|               |\n",
      "| 12|user12|  [1200,]|    null|               |\n",
      "| 23|user23|[, 2,300]|    null|               |\n",
      "| 13|user13|  [1300,]|    null|               |\n",
      "| 24|user24|  [2400,]|    null|               |\n",
      "| 14|user14|  [1400,]|    null|               |\n",
      "| 25|user25|  [2500,]|    null|               |\n",
      "| 15|user15|  [1500,]|  123456|               |\n",
      "| 26|user26| [-2600,]|    null|               |\n",
      "| 16|user16|  [1600,]|    null|               |\n",
      "| 27|user27|  [2700,]|    null|               |\n",
      "| 17|user17|  [1700,]|    null|               |\n",
      "| 28|user28|  [2800,]|    null|               |\n",
      "+---+------+---------+--------+---------------+"
     ]
    }
   ],
   "source": [
    "gdf = glueContext.create_dynamic_frame.from_options(\n",
    "    connection_type=\"s3\", \n",
    "    connection_options=dict(\n",
    "        paths=[\n",
    "            S3Path(config.s3path_prefix).uri,\n",
    "        ],\n",
    "        recurse=True,\n",
    "    ),\n",
    "    format=\"json\",\n",
    "    format_options=dict(multiLine=True),\n",
    "    transformation_ctx=\"datasource\",\n",
    ")\n",
    "gdf = DynamicFrame.fromDF(\n",
    "    gdf.toDF().withColumn(\"input_file_name\", sql_funcs.input_file_name()),\n",
    "    glueContext,\n",
    "    \"datasource_with_input_file_name\",\n",
    ")\n",
    "gdf.toDF().show(30)"
   ]
  },
  {
   "cell_type": "code",
   "execution_count": 17,
   "id": "2dca217a",
   "metadata": {},
   "outputs": [
    {
     "data": {
      "application/vnd.jupyter.widget-view+json": {
       "model_id": "e41a868d09d540be86b848a38ff52f2a",
       "version_major": 2,
       "version_minor": 0
      },
      "text/plain": [
       "FloatProgress(value=0.0, bar_style='info', description='Progress:', layout=Layout(height='25px', width='50%'),…"
      ]
     },
     "metadata": {},
     "output_type": "display_data"
    },
    {
     "name": "stdout",
     "output_type": "stream",
     "text": [
      "{'id': 1, 'name': 'user1', 'balance': {'int': 100, 'string': None}, 'password': None, 'input_file_name': 's3://aws-data-lab-sanhe-for-everything-us-east-2/poc/learn-big-data-on-aws/glue-job-examples/04-glue-job-best-practice/data-validation/1.json'}\n",
      "{'id': 2, 'name': 'user2', 'balance': {'int': 200, 'string': None}, 'password': None, 'input_file_name': 's3://aws-data-lab-sanhe-for-everything-us-east-2/poc/learn-big-data-on-aws/glue-job-examples/04-glue-job-best-practice/data-validation/1.json'}\n",
      "{'id': 3, 'name': 'user3', 'balance': {'int': 300, 'string': None}, 'password': None, 'input_file_name': 's3://aws-data-lab-sanhe-for-everything-us-east-2/poc/learn-big-data-on-aws/glue-job-examples/04-glue-job-best-practice/data-validation/1.json'}\n",
      "{'id': 4, 'name': 'user4', 'balance': {'int': 400, 'string': None}, 'password': None, 'input_file_name': 's3://aws-data-lab-sanhe-for-everything-us-east-2/poc/learn-big-data-on-aws/glue-job-examples/04-glue-job-best-practice/data-validation/1.json'}\n",
      "{'id': 5, 'name': 'user5', 'balance': {'int': 500, 'string': None}, 'password': None, 'input_file_name': 's3://aws-data-lab-sanhe-for-everything-us-east-2/poc/learn-big-data-on-aws/glue-job-examples/04-glue-job-best-practice/data-validation/1.json'}\n",
      "{'id': 6, 'name': 'user6', 'balance': {'int': 600, 'string': None}, 'password': None, 'input_file_name': 's3://aws-data-lab-sanhe-for-everything-us-east-2/poc/learn-big-data-on-aws/glue-job-examples/04-glue-job-best-practice/data-validation/1.json'}\n",
      "{'id': 7, 'name': 'user7', 'balance': {'int': 700, 'string': None}, 'password': None, 'input_file_name': 's3://aws-data-lab-sanhe-for-everything-us-east-2/poc/learn-big-data-on-aws/glue-job-examples/04-glue-job-best-practice/data-validation/1.json'}\n",
      "{'id': 8, 'name': 'user8', 'balance': {'int': 800, 'string': None}, 'password': None, 'input_file_name': 's3://aws-data-lab-sanhe-for-everything-us-east-2/poc/learn-big-data-on-aws/glue-job-examples/04-glue-job-best-practice/data-validation/1.json'}\n",
      "{'id': 9, 'name': 'user9', 'balance': {'int': 900, 'string': None}, 'password': None, 'input_file_name': 's3://aws-data-lab-sanhe-for-everything-us-east-2/poc/learn-big-data-on-aws/glue-job-examples/04-glue-job-best-practice/data-validation/1.json'}\n",
      "{'id': 10, 'name': 'user10', 'balance': {'int': 1000, 'string': None}, 'password': None, 'input_file_name': 's3://aws-data-lab-sanhe-for-everything-us-east-2/poc/learn-big-data-on-aws/glue-job-examples/04-glue-job-best-practice/data-validation/1.json'}\n",
      "{'id': 11, 'name': 'user11', 'balance': {'int': 1100, 'string': None}, 'password': None, 'input_file_name': 's3://aws-data-lab-sanhe-for-everything-us-east-2/poc/learn-big-data-on-aws/glue-job-examples/04-glue-job-best-practice/data-validation/2.json'}\n",
      "{'id': 12, 'name': 'user12', 'balance': {'int': 1200, 'string': None}, 'password': None, 'input_file_name': 's3://aws-data-lab-sanhe-for-everything-us-east-2/poc/learn-big-data-on-aws/glue-job-examples/04-glue-job-best-practice/data-validation/2.json'}\n",
      "{'id': 13, 'name': 'user13', 'balance': {'int': 1300, 'string': None}, 'password': None, 'input_file_name': 's3://aws-data-lab-sanhe-for-everything-us-east-2/poc/learn-big-data-on-aws/glue-job-examples/04-glue-job-best-practice/data-validation/2.json'}\n",
      "{'id': 14, 'name': 'user14', 'balance': {'int': 1400, 'string': None}, 'password': None, 'input_file_name': 's3://aws-data-lab-sanhe-for-everything-us-east-2/poc/learn-big-data-on-aws/glue-job-examples/04-glue-job-best-practice/data-validation/2.json'}\n",
      "{'id': 15, 'name': 'user15', 'balance': {'int': 1500, 'string': None}, 'password': '123456', 'input_file_name': 's3://aws-data-lab-sanhe-for-everything-us-east-2/poc/learn-big-data-on-aws/glue-job-examples/04-glue-job-best-practice/data-validation/2.json'}\n",
      "{'id': 16, 'name': 'user16', 'balance': {'int': 1600, 'string': None}, 'password': None, 'input_file_name': 's3://aws-data-lab-sanhe-for-everything-us-east-2/poc/learn-big-data-on-aws/glue-job-examples/04-glue-job-best-practice/data-validation/2.json'}\n",
      "{'id': 17, 'name': 'user17', 'balance': {'int': 1700, 'string': None}, 'password': None, 'input_file_name': 's3://aws-data-lab-sanhe-for-everything-us-east-2/poc/learn-big-data-on-aws/glue-job-examples/04-glue-job-best-practice/data-validation/2.json'}\n",
      "{'id': 18, 'name': 'user18', 'balance': {'int': 1800, 'string': None}, 'password': None, 'input_file_name': 's3://aws-data-lab-sanhe-for-everything-us-east-2/poc/learn-big-data-on-aws/glue-job-examples/04-glue-job-best-practice/data-validation/2.json'}\n",
      "{'id': 19, 'name': 'user19', 'balance': {'int': 1900, 'string': None}, 'password': None, 'input_file_name': 's3://aws-data-lab-sanhe-for-everything-us-east-2/poc/learn-big-data-on-aws/glue-job-examples/04-glue-job-best-practice/data-validation/2.json'}\n",
      "{'id': 20, 'name': None, 'balance': {'int': 2000, 'string': None}, 'password': None, 'input_file_name': 's3://aws-data-lab-sanhe-for-everything-us-east-2/poc/learn-big-data-on-aws/glue-job-examples/04-glue-job-best-practice/data-validation/2.json'}\n",
      "{'id': 21, 'name': 'user21', 'balance': {'int': 2100, 'string': None}, 'password': None, 'input_file_name': 's3://aws-data-lab-sanhe-for-everything-us-east-2/poc/learn-big-data-on-aws/glue-job-examples/04-glue-job-best-practice/data-validation/3.json'}\n",
      "{'id': 22, 'name': 'user22', 'balance': {'int': 2200, 'string': None}, 'password': None, 'input_file_name': 's3://aws-data-lab-sanhe-for-everything-us-east-2/poc/learn-big-data-on-aws/glue-job-examples/04-glue-job-best-practice/data-validation/3.json'}\n",
      "{'id': 23, 'name': 'user23', 'balance': {'int': None, 'string': '2,300'}, 'password': None, 'input_file_name': 's3://aws-data-lab-sanhe-for-everything-us-east-2/poc/learn-big-data-on-aws/glue-job-examples/04-glue-job-best-practice/data-validation/3.json'}\n",
      "{'id': 24, 'name': 'user24', 'balance': {'int': 2400, 'string': None}, 'password': None, 'input_file_name': 's3://aws-data-lab-sanhe-for-everything-us-east-2/poc/learn-big-data-on-aws/glue-job-examples/04-glue-job-best-practice/data-validation/3.json'}\n",
      "{'id': 25, 'name': 'user25', 'balance': {'int': 2500, 'string': None}, 'password': None, 'input_file_name': 's3://aws-data-lab-sanhe-for-everything-us-east-2/poc/learn-big-data-on-aws/glue-job-examples/04-glue-job-best-practice/data-validation/3.json'}\n",
      "{'id': 26, 'name': 'user26', 'balance': {'int': -2600, 'string': None}, 'password': None, 'input_file_name': 's3://aws-data-lab-sanhe-for-everything-us-east-2/poc/learn-big-data-on-aws/glue-job-examples/04-glue-job-best-practice/data-validation/3.json'}\n",
      "{'id': 27, 'name': 'user27', 'balance': {'int': 2700, 'string': None}, 'password': None, 'input_file_name': 's3://aws-data-lab-sanhe-for-everything-us-east-2/poc/learn-big-data-on-aws/glue-job-examples/04-glue-job-best-practice/data-validation/3.json'}\n",
      "{'id': 28, 'name': 'user28', 'balance': {'int': 2800, 'string': None}, 'password': None, 'input_file_name': 's3://aws-data-lab-sanhe-for-everything-us-east-2/poc/learn-big-data-on-aws/glue-job-examples/04-glue-job-best-practice/data-validation/3.json'}\n",
      "{'id': 29, 'name': 'user29', 'balance': {'int': 2900, 'string': None}, 'password': None, 'input_file_name': 's3://aws-data-lab-sanhe-for-everything-us-east-2/poc/learn-big-data-on-aws/glue-job-examples/04-glue-job-best-practice/data-validation/3.json'}\n",
      "{'id': 30, 'name': None, 'balance': {'int': 3000, 'string': None}, 'password': None, 'input_file_name': 's3://aws-data-lab-sanhe-for-everything-us-east-2/poc/learn-big-data-on-aws/glue-job-examples/04-glue-job-best-practice/data-validation/3.json'}"
     ]
    }
   ],
   "source": [
    "gdf = glueContext.create_dynamic_frame.from_catalog(\n",
    "    name_space=\"learn_big_data_on_aws\", \n",
    "    table_name=\"data_validation\",\n",
    "    transformation_ctx=\"datasource\"\n",
    ")\n",
    "gdf = DynamicFrame.fromDF(\n",
    "    gdf.toDF().withColumn(\"input_file_name\", sql_funcs.input_file_name()),\n",
    "    glueContext,\n",
    "    \"datasource_with_input_file_name\",\n",
    ")\n",
    "# gdf.toDF().show(30)\n",
    "for row in gdf.toDF().collect():\n",
    "    print(row.asDict(recursive=True))"
   ]
  },
  {
   "cell_type": "code",
   "execution_count": 14,
   "id": "e6aba77b",
   "metadata": {},
   "outputs": [
    {
     "data": {
      "application/vnd.jupyter.widget-view+json": {
       "model_id": "915474def4434e558700a4c0e30dbf31",
       "version_major": 2,
       "version_minor": 0
      },
      "text/plain": [
       "FloatProgress(value=0.0, bar_style='info', description='Progress:', layout=Layout(height='25px', width='50%'),…"
      ]
     },
     "metadata": {},
     "output_type": "display_data"
    },
    {
     "name": "stdout",
     "output_type": "stream",
     "text": [
      "30"
     ]
    }
   ],
   "source": [
    "gdf.count()"
   ]
  },
  {
   "cell_type": "code",
   "execution_count": 29,
   "id": "6c15984b",
   "metadata": {},
   "outputs": [
    {
     "data": {
      "application/vnd.jupyter.widget-view+json": {
       "model_id": "edbb4ffc322b43df9223ee755b465fe5",
       "version_major": 2,
       "version_minor": 0
      },
      "text/plain": [
       "FloatProgress(value=0.0, bar_style='info', description='Progress:', layout=Layout(height='25px', width='50%'),…"
      ]
     },
     "metadata": {},
     "output_type": "display_data"
    },
    {
     "name": "stdout",
     "output_type": "stream",
     "text": [
      "+---+------+-------+\n",
      "| id|  name|balance|\n",
      "+---+------+-------+\n",
      "| 18|user18|[1800,]|\n",
      "| 29|user29|[2900,]|\n",
      "|  1| user1| [100,]|\n",
      "+---+------+-------+\n",
      "only showing top 3 rows"
     ]
    }
   ],
   "source": [
    "gdf_selected = gdf.select_fields([\"id\", \"name\", \"balance\"])\n",
    "gdf_selected.toDF().show(3)"
   ]
  },
  {
   "cell_type": "code",
   "execution_count": 46,
   "id": "9dfc3311",
   "metadata": {},
   "outputs": [
    {
     "data": {
      "application/vnd.jupyter.widget-view+json": {
       "model_id": "fece45c2add74ab69ea03c955d179b54",
       "version_major": 2,
       "version_minor": 0
      },
      "text/plain": [
       "FloatProgress(value=0.0, bar_style='info', description='Progress:', layout=Layout(height='25px', width='50%'),…"
      ]
     },
     "metadata": {},
     "output_type": "display_data"
    }
   ],
   "source": [
    "gdf_filtered = gdf_selected.filter(validate_row)\n",
    "pdf_filtered = gdf_filtered.toDF()\n",
    "pdf_filtered_sorted = pdf_filtered.sort(pdf_filtered.id.asc())"
   ]
  },
  {
   "cell_type": "code",
   "execution_count": 35,
   "id": "aa4c27ea",
   "metadata": {},
   "outputs": [
    {
     "data": {
      "application/vnd.jupyter.widget-view+json": {
       "model_id": "509f9d76d55f4ba49f6aa16080bda240",
       "version_major": 2,
       "version_minor": 0
      },
      "text/plain": [
       "FloatProgress(value=0.0, bar_style='info', description='Progress:', layout=Layout(height='25px', width='50%'),…"
      ]
     },
     "metadata": {},
     "output_type": "display_data"
    },
    {
     "name": "stdout",
     "output_type": "stream",
     "text": [
      "+-------+------+---+\n",
      "|balance|  name| id|\n",
      "+-------+------+---+\n",
      "|    100| user1|  1|\n",
      "|    200| user2|  2|\n",
      "|    300| user3|  3|\n",
      "|    400| user4|  4|\n",
      "|    500| user5|  5|\n",
      "|    600| user6|  6|\n",
      "|    700| user7|  7|\n",
      "|    800| user8|  8|\n",
      "|    900| user9|  9|\n",
      "|   1000|user10| 10|\n",
      "|   2100|user21| 21|\n",
      "|   2200|user22| 22|\n",
      "|   2400|user24| 24|\n",
      "|   2500|user25| 25|\n",
      "|   2700|user27| 27|\n",
      "|   2800|user28| 28|\n",
      "|   2900|user29| 29|\n",
      "+-------+------+---+"
     ]
    }
   ],
   "source": [
    "pdf_filtered_sorted.show(30)"
   ]
  },
  {
   "cell_type": "code",
   "execution_count": 36,
   "id": "1873a7e0",
   "metadata": {},
   "outputs": [
    {
     "data": {
      "application/vnd.jupyter.widget-view+json": {
       "model_id": "bcdf8cccd59c432e8ab35f4d271b3c71",
       "version_major": 2,
       "version_minor": 0
      },
      "text/plain": [
       "FloatProgress(value=0.0, bar_style='info', description='Progress:', layout=Layout(height='25px', width='50%'),…"
      ]
     },
     "metadata": {},
     "output_type": "display_data"
    },
    {
     "name": "stdout",
     "output_type": "stream",
     "text": [
      "17"
     ]
    }
   ],
   "source": [
    "pdf_filtered_sorted.count()"
   ]
  },
  {
   "cell_type": "code",
   "execution_count": null,
   "id": "962d9133",
   "metadata": {},
   "outputs": [],
   "source": []
  }
 ],
 "metadata": {
  "kernelspec": {
   "display_name": "Sparkmagic (PySpark)",
   "language": "python",
   "name": "pysparkkernel"
  },
  "language_info": {
   "codemirror_mode": {
    "name": "python",
    "version": 3
   },
   "file_extension": ".py",
   "mimetype": "text/x-python",
   "name": "pyspark",
   "pygments_lexer": "python3"
  }
 },
 "nbformat": 4,
 "nbformat_minor": 5
}
