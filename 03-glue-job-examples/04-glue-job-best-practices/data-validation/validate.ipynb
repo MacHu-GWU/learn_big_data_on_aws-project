{
 "cells": [
  {
   "cell_type": "code",
   "execution_count": 1,
   "id": "a27327a3",
   "metadata": {},
   "outputs": [
    {
     "name": "stdout",
     "output_type": "stream",
     "text": [
      "Starting Spark application\n"
     ]
    },
    {
     "data": {
      "text/html": [
       "<table>\n",
       "<tr><th>ID</th><th>YARN Application ID</th><th>Kind</th><th>State</th><th>Spark UI</th><th>Driver log</th><th>User</th><th>Current session?</th></tr><tr><td>0</td><td>application_1646085135716_0025</td><td>pyspark</td><td>idle</td><td><a target=\"_blank\" href=\"http://ip-172-32-8-11.us-east-2.compute.internal:20888/proxy/application_1646085135716_0025/\">Link</a></td><td><a target=\"_blank\" href=\"http://ip-172-32-25-26.us-east-2.compute.internal:8042/node/containerlogs/container_1646085135716_0025_01_000001/livy\">Link</a></td><td>None</td><td>✔</td></tr></table>"
      ],
      "text/plain": [
       "<IPython.core.display.HTML object>"
      ]
     },
     "metadata": {},
     "output_type": "display_data"
    },
    {
     "data": {
      "application/vnd.jupyter.widget-view+json": {
       "model_id": "cf63153025b04a6284d1d26e30fa1aff",
       "version_major": 2,
       "version_minor": 0
      },
      "text/plain": [
       "FloatProgress(value=0.0, bar_style='info', description='Progress:', layout=Layout(height='25px', width='50%'),…"
      ]
     },
     "metadata": {},
     "output_type": "display_data"
    },
    {
     "name": "stdout",
     "output_type": "stream",
     "text": [
      "SparkSession available as 'spark'.\n"
     ]
    },
    {
     "data": {
      "application/vnd.jupyter.widget-view+json": {
       "model_id": "3b24ef2328c54c01b680834974acf81a",
       "version_major": 2,
       "version_minor": 0
      },
      "text/plain": [
       "FloatProgress(value=0.0, bar_style='info', description='Progress:', layout=Layout(height='25px', width='50%'),…"
      ]
     },
     "metadata": {},
     "output_type": "display_data"
    }
   ],
   "source": [
    "import sys\n",
    "from pyspark.context import SparkContext\n",
    "from awsglue.job import Job\n",
    "from awsglue.utils import getResolvedOptions\n",
    "from awsglue.context import GlueContext\n",
    "from awsglue.dynamicframe import DynamicFrame\n",
    "from awsglue.transforms import *\n",
    "\n",
    "# Create SparkContext\n",
    "sparkContext = SparkContext.getOrCreate()\n",
    "\n",
    "# Create Glue Context\n",
    "glueContext = GlueContext(sparkContext)\n",
    "\n",
    "# Get spark session\n",
    "spark = glueContext.spark_session\n",
    "\n",
    "# Resolve job parameters\n",
    "# Uncomment this in Glue ETL job\n",
    "# args = getResolvedOptions(sys.argv, [\"JOB_NAME\"\n",
    "# job = Job(glueContext)\n",
    "# job.init(args['JOB_NAME'], args)"
   ]
  },
  {
   "cell_type": "code",
   "execution_count": 2,
   "id": "31a604e9",
   "metadata": {},
   "outputs": [
    {
     "name": "stdout",
     "output_type": "stream",
     "text": [
      "Note: you may need to restart the kernel to use updated packages.\n"
     ]
    }
   ],
   "source": [
    "%pip install -q -r requirements.txt"
   ]
  },
  {
   "cell_type": "code",
   "execution_count": 2,
   "id": "a81e4c7a",
   "metadata": {},
   "outputs": [
    {
     "data": {
      "application/vnd.jupyter.widget-view+json": {
       "model_id": "75e3000fcd4f4dc5a01276519d566441",
       "version_major": 2,
       "version_minor": 0
      },
      "text/plain": [
       "FloatProgress(value=0.0, bar_style='info', description='Progress:', layout=Layout(height='25px', width='50%'),…"
      ]
     },
     "metadata": {},
     "output_type": "display_data"
    },
    {
     "name": "stdout",
     "output_type": "stream",
     "text": [
      "/usr/local/lib/python3.6/site-packages/requests/__init__.py:91: RequestsDependencyWarning: urllib3 (1.26.9) or chardet (3.0.4) doesn't match a supported version!\n",
      "  RequestsDependencyWarning)"
     ]
    }
   ],
   "source": [
    "from s3pathlib import S3Path\n",
    "from marshmallow import fields, Schema, validates, ValidationError\n",
    "\n",
    "class Config:\n",
    "    bucket = \"aws-data-lab-sanhe-for-everything-us-east-2\"\n",
    "    prefix = \"poc/learn-big-data-on-aws/glue-job-examples/04-glue-job-best-practice/data-validation\"\n",
    "    \n",
    "    @property\n",
    "    def s3path_prefix(self) -> S3Path:\n",
    "        return S3Path(self.bucket, self.prefix)\n",
    "    \n",
    "config = Config()"
   ]
  },
  {
   "cell_type": "code",
   "execution_count": 3,
   "id": "4f7a8aab",
   "metadata": {},
   "outputs": [
    {
     "data": {
      "application/vnd.jupyter.widget-view+json": {
       "model_id": "ceee02e01cae4fe28e747cdf722f48df",
       "version_major": 2,
       "version_minor": 0
      },
      "text/plain": [
       "FloatProgress(value=0.0, bar_style='info', description='Progress:', layout=Layout(height='25px', width='50%'),…"
      ]
     },
     "metadata": {},
     "output_type": "display_data"
    }
   ],
   "source": [
    "class RowSchema(Schema):\n",
    "    id = fields.Int()\n",
    "    name = fields.Str(required=True)\n",
    "    balance = fields.Int()\n",
    "    \n",
    "    @validates(\"balance\")\n",
    "    def validate_balance(self, value):\n",
    "        if value < 0:\n",
    "            raise ValidationError(\"Balance must be greater than 0.\")\n",
    "\n",
    "schema = RowSchema()"
   ]
  },
  {
   "cell_type": "code",
   "execution_count": 4,
   "id": "57135cce",
   "metadata": {},
   "outputs": [
    {
     "data": {
      "application/vnd.jupyter.widget-view+json": {
       "model_id": "7b31fab8a9584ed0b7fb4450c521c966",
       "version_major": 2,
       "version_minor": 0
      },
      "text/plain": [
       "FloatProgress(value=0.0, bar_style='info', description='Progress:', layout=Layout(height='25px', width='50%'),…"
      ]
     },
     "metadata": {},
     "output_type": "display_data"
    },
    {
     "name": "stdout",
     "output_type": "stream",
     "text": [
      "{}"
     ]
    }
   ],
   "source": [
    "schema.validate({\"id\": 1, \"name\": \"user1\", \"balance\": 100})"
   ]
  },
  {
   "cell_type": "code",
   "execution_count": 5,
   "id": "6fba5a4c",
   "metadata": {},
   "outputs": [
    {
     "data": {
      "application/vnd.jupyter.widget-view+json": {
       "model_id": "9b934d4f0c444e63b324924beb537c02",
       "version_major": 2,
       "version_minor": 0
      },
      "text/plain": [
       "FloatProgress(value=0.0, bar_style='info', description='Progress:', layout=Layout(height='25px', width='50%'),…"
      ]
     },
     "metadata": {},
     "output_type": "display_data"
    },
    {
     "name": "stdout",
     "output_type": "stream",
     "text": [
      "{'password': ['Unknown field.']}"
     ]
    }
   ],
   "source": [
    "# unknown field\n",
    "schema.validate({\"id\": 15, \"name\": \"user15\", \"balance\": 1500, \"password\": \"123456\"})"
   ]
  },
  {
   "cell_type": "code",
   "execution_count": 6,
   "id": "1c5209c4",
   "metadata": {},
   "outputs": [
    {
     "data": {
      "application/vnd.jupyter.widget-view+json": {
       "model_id": "a0ab9c81bf1543fcb9cd1c3ef71adcc6",
       "version_major": 2,
       "version_minor": 0
      },
      "text/plain": [
       "FloatProgress(value=0.0, bar_style='info', description='Progress:', layout=Layout(height='25px', width='50%'),…"
      ]
     },
     "metadata": {},
     "output_type": "display_data"
    },
    {
     "name": "stdout",
     "output_type": "stream",
     "text": [
      "{'name': ['Missing data for required field.']}"
     ]
    }
   ],
   "source": [
    "# field missing\n",
    "schema.validate({\"id\": 20, \"balance\": 2000})"
   ]
  },
  {
   "cell_type": "code",
   "execution_count": 7,
   "id": "fbc4578b",
   "metadata": {},
   "outputs": [
    {
     "data": {
      "application/vnd.jupyter.widget-view+json": {
       "model_id": "31ab864e323c400f919d96039efea4a1",
       "version_major": 2,
       "version_minor": 0
      },
      "text/plain": [
       "FloatProgress(value=0.0, bar_style='info', description='Progress:', layout=Layout(height='25px', width='50%'),…"
      ]
     },
     "metadata": {},
     "output_type": "display_data"
    },
    {
     "name": "stdout",
     "output_type": "stream",
     "text": [
      "{'balance': ['Not a valid integer.']}"
     ]
    }
   ],
   "source": [
    "# type error\n",
    "schema.validate({\"id\": 23, \"name\": \"user23\", \"balance\": \"2,300\"})"
   ]
  },
  {
   "cell_type": "code",
   "execution_count": 8,
   "id": "963f3a56",
   "metadata": {},
   "outputs": [
    {
     "data": {
      "application/vnd.jupyter.widget-view+json": {
       "model_id": "ba4005eb3e9c46e0ad7029153b4097bd",
       "version_major": 2,
       "version_minor": 0
      },
      "text/plain": [
       "FloatProgress(value=0.0, bar_style='info', description='Progress:', layout=Layout(height='25px', width='50%'),…"
      ]
     },
     "metadata": {},
     "output_type": "display_data"
    },
    {
     "name": "stdout",
     "output_type": "stream",
     "text": [
      "{'balance': ['Balance must be greater than 0.']}"
     ]
    }
   ],
   "source": [
    "# value range error\n",
    "schema.validate({\"id\": 26, \"name\": \"user26\", \"balance\": -2600})"
   ]
  },
  {
   "cell_type": "code",
   "execution_count": 9,
   "id": "92d1273e",
   "metadata": {},
   "outputs": [
    {
     "data": {
      "application/vnd.jupyter.widget-view+json": {
       "model_id": "8f7a59e286fd4057862662489ecdafd6",
       "version_major": 2,
       "version_minor": 0
      },
      "text/plain": [
       "FloatProgress(value=0.0, bar_style='info', description='Progress:', layout=Layout(height='25px', width='50%'),…"
      ]
     },
     "metadata": {},
     "output_type": "display_data"
    },
    {
     "name": "stdout",
     "output_type": "stream",
     "text": [
      "{'name': ['Field may not be null.']}"
     ]
    }
   ],
   "source": [
    "# not null value\n",
    "schema.validate({\"id\": 30, \"name\": None, \"balance\": 3000})"
   ]
  },
  {
   "cell_type": "code",
   "execution_count": 10,
   "id": "31218a6a",
   "metadata": {},
   "outputs": [
    {
     "data": {
      "application/vnd.jupyter.widget-view+json": {
       "model_id": "bf85aca4a64646e3976bc460c5c629bc",
       "version_major": 2,
       "version_minor": 0
      },
      "text/plain": [
       "FloatProgress(value=0.0, bar_style='info', description='Progress:', layout=Layout(height='25px', width='50%'),…"
      ]
     },
     "metadata": {},
     "output_type": "display_data"
    }
   ],
   "source": [
    "import pynamodb\n",
    "from pynamodb.models import Model\n",
    "from pynamodb.connection import Connection\n",
    "from pynamodb.attributes import UnicodeAttribute, NumberAttribute, JSONAttribute\n",
    "\n",
    "connection = Connection(region=\"us-east-2\")\n",
    "\n",
    "class ValidationTracker(Model):\n",
    "    class Meta:\n",
    "        \"\"\"\n",
    "        declare metadata about the table\n",
    "        \"\"\"\n",
    "        table_name = \"learn_big_data_on_aws_glue_validation\"\n",
    "        region = \"us-east-2\"\n",
    "\n",
    "        # billing mode\n",
    "        # doc: https://docs.aws.amazon.com/amazondynamodb/latest/developerguide/HowItWorks.ReadWriteCapacityMode.html\n",
    "        # pay as you go mode\n",
    "        billing_mode = pynamodb.models.PAY_PER_REQUEST_BILLING_MODE\n",
    "\n",
    "        # provisioned mode\n",
    "        # write_capacity_units = 10\n",
    "        # read_capacity_units = 10\n",
    "\n",
    "    # define attributes\n",
    "    s3uri = UnicodeAttribute(hash_key=True)\n",
    "    status = NumberAttribute(default=0) # set default value for attribute\n",
    "    details = JSONAttribute(default={})\n",
    "\n",
    "\n",
    "# Create dynamodb table if not exists, if already exists, this code won't do anything\n",
    "ValidationTracker.create_table(wait=True)"
   ]
  },
  {
   "cell_type": "code",
   "execution_count": null,
   "id": "3b76b55d",
   "metadata": {},
   "outputs": [],
   "source": [
    "gdf1 = glueContext.create_dynamic_frame.from_options(\n",
    "    connection_type=\"s3\", \n",
    "    connection_options=dict(\n",
    "        paths=[\n",
    "            S3Path(config.s3path_prefix, \"1.json\").uri,\n",
    "        ],\n",
    "        recurse=True,\n",
    "    ),\n",
    "    format=\"json\",\n",
    "    format_options=dict(multiLine=True),\n",
    "    transformation_ctx=\"datasource\",\n",
    ")"
   ]
  },
  {
   "cell_type": "code",
   "execution_count": null,
   "id": "7c5cb265",
   "metadata": {},
   "outputs": [],
   "source": [
    "gdf1.toDF().show()"
   ]
  },
  {
   "cell_type": "code",
   "execution_count": 24,
   "id": "72b9f7d8",
   "metadata": {},
   "outputs": [
    {
     "data": {
      "application/vnd.jupyter.widget-view+json": {
       "model_id": "84bb5d341e4d48768892f3aea5885c6f",
       "version_major": 2,
       "version_minor": 0
      },
      "text/plain": [
       "FloatProgress(value=0.0, bar_style='info', description='Progress:', layout=Layout(height='25px', width='50%'),…"
      ]
     },
     "metadata": {},
     "output_type": "display_data"
    },
    {
     "name": "stdout",
     "output_type": "stream",
     "text": [
      "{'id': 21, 'name': 'user21', 'balance': {'int': 2100, 'string': None}}\n",
      "{'id': 22, 'name': 'user22', 'balance': {'int': 2200, 'string': None}}\n",
      "{'id': 23, 'name': 'user23', 'balance': {'int': None, 'string': '2,300'}}\n",
      "{'id': 24, 'name': 'user24', 'balance': {'int': 2400, 'string': None}}\n",
      "{'id': 25, 'name': 'user25', 'balance': {'int': 2500, 'string': None}}\n",
      "{'id': 26, 'name': 'user26', 'balance': {'int': -2600, 'string': None}}\n",
      "{'id': 27, 'name': 'user27', 'balance': {'int': 2700, 'string': None}}\n",
      "{'id': 28, 'name': 'user28', 'balance': {'int': 2800, 'string': None}}\n",
      "{'id': 29, 'name': 'user29', 'balance': {'int': 2900, 'string': None}}\n",
      "{'id': 30, 'name': None, 'balance': {'int': 3000, 'string': None}}"
     ]
    }
   ],
   "source": [
    "gdf3 = glueContext.create_dynamic_frame.from_options(\n",
    "    connection_type=\"s3\", \n",
    "    connection_options=dict(\n",
    "        paths=[\n",
    "            S3Path(config.s3path_prefix, \"3.json\").uri,\n",
    "        ],\n",
    "        recurse=True,\n",
    "    ),\n",
    "    format=\"json\",\n",
    "    format_options=dict(multiLine=True),\n",
    "    transformation_ctx=\"datasource\",\n",
    ")\n",
    "for row in gdf3.toDF().collect():\n",
    "    print(row.asDict(recursive=True))"
   ]
  },
  {
   "cell_type": "code",
   "execution_count": 25,
   "id": "bab9d328",
   "metadata": {},
   "outputs": [
    {
     "data": {
      "application/vnd.jupyter.widget-view+json": {
       "model_id": "a85ac609e12f4c0bb409a1712de45399",
       "version_major": 2,
       "version_minor": 0
      },
      "text/plain": [
       "FloatProgress(value=0.0, bar_style='info', description='Progress:', layout=Layout(height='25px', width='50%'),…"
      ]
     },
     "metadata": {},
     "output_type": "display_data"
    },
    {
     "name": "stdout",
     "output_type": "stream",
     "text": [
      "+-------+------+---+\n",
      "|balance|  name| id|\n",
      "+-------+------+---+\n",
      "|   2100|user21| 21|\n",
      "|   2200|user22| 22|\n",
      "|   2400|user24| 24|\n",
      "|   2500|user25| 25|\n",
      "|   2700|user27| 27|\n",
      "|   2800|user28| 28|\n",
      "|   2900|user29| 29|\n",
      "+-------+------+---+"
     ]
    }
   ],
   "source": [
    "def validate_row(row: dict):\n",
    "    res = schema.validate(row)\n",
    "    if res:\n",
    "        return False\n",
    "    else:\n",
    "        return True\n",
    "        \n",
    "gdf3_filtered = gdf3.filter(validate_row)\n",
    "gdf3_filtered.toDF().show()"
   ]
  },
  {
   "cell_type": "code",
   "execution_count": 26,
   "id": "0e10eec6",
   "metadata": {},
   "outputs": [
    {
     "data": {
      "application/vnd.jupyter.widget-view+json": {
       "model_id": "d94f80dea77f4d9b9b23ab8d70457d9b",
       "version_major": 2,
       "version_minor": 0
      },
      "text/plain": [
       "FloatProgress(value=0.0, bar_style='info', description='Progress:', layout=Layout(height='25px', width='50%'),…"
      ]
     },
     "metadata": {},
     "output_type": "display_data"
    },
    {
     "name": "stdout",
     "output_type": "stream",
     "text": [
      "+---+------+---------+--------+\n",
      "| id|  name|  balance|password|\n",
      "+---+------+---------+--------+\n",
      "| 18|user18|  [1800,]|    null|\n",
      "| 29|user29|  [2900,]|    null|\n",
      "|  1| user1|   [100,]|    null|\n",
      "| 19|user19|  [1900,]|    null|\n",
      "| 30|  null|  [3000,]|    null|\n",
      "|  2| user2|   [200,]|    null|\n",
      "| 20|  null|  [2000,]|    null|\n",
      "|  3| user3|   [300,]|    null|\n",
      "|  4| user4|   [400,]|    null|\n",
      "|  5| user5|   [500,]|    null|\n",
      "|  6| user6|   [600,]|    null|\n",
      "|  7| user7|   [700,]|    null|\n",
      "|  8| user8|   [800,]|    null|\n",
      "|  9| user9|   [900,]|    null|\n",
      "| 10|user10|  [1000,]|    null|\n",
      "| 21|user21|  [2100,]|    null|\n",
      "| 11|user11|  [1100,]|    null|\n",
      "| 22|user22|  [2200,]|    null|\n",
      "| 12|user12|  [1200,]|    null|\n",
      "| 23|user23|[, 2,300]|    null|\n",
      "+---+------+---------+--------+\n",
      "only showing top 20 rows"
     ]
    }
   ],
   "source": [
    "gdf = glueContext.create_dynamic_frame.from_options(\n",
    "    connection_type=\"s3\", \n",
    "    connection_options=dict(\n",
    "        paths=[\n",
    "            S3Path(config.s3path_prefix).uri,\n",
    "        ],\n",
    "        recurse=True,\n",
    "    ),\n",
    "    format=\"json\",\n",
    "    format_options=dict(multiLine=True),\n",
    "    transformation_ctx=\"datasource\",\n",
    ")\n",
    "gdf.toDF().show()\n"
   ]
  },
  {
   "cell_type": "code",
   "execution_count": 29,
   "id": "7c573d44",
   "metadata": {},
   "outputs": [
    {
     "data": {
      "application/vnd.jupyter.widget-view+json": {
       "model_id": "edbb4ffc322b43df9223ee755b465fe5",
       "version_major": 2,
       "version_minor": 0
      },
      "text/plain": [
       "FloatProgress(value=0.0, bar_style='info', description='Progress:', layout=Layout(height='25px', width='50%'),…"
      ]
     },
     "metadata": {},
     "output_type": "display_data"
    },
    {
     "name": "stdout",
     "output_type": "stream",
     "text": [
      "+---+------+-------+\n",
      "| id|  name|balance|\n",
      "+---+------+-------+\n",
      "| 18|user18|[1800,]|\n",
      "| 29|user29|[2900,]|\n",
      "|  1| user1| [100,]|\n",
      "+---+------+-------+\n",
      "only showing top 3 rows"
     ]
    }
   ],
   "source": [
    "gdf_selected = gdf.select_fields([\"id\", \"name\", \"balance\"])\n",
    "gdf_selected.toDF().show(3)"
   ]
  },
  {
   "cell_type": "code",
   "execution_count": null,
   "id": "1db1f68f",
   "metadata": {},
   "outputs": [],
   "source": []
  }
 ],
 "metadata": {
  "kernelspec": {
   "display_name": "Sparkmagic (PySpark)",
   "language": "python",
   "name": "pysparkkernel"
  },
  "language_info": {
   "codemirror_mode": {
    "name": "python",
    "version": 3
   },
   "file_extension": ".py",
   "mimetype": "text/x-python",
   "name": "pyspark",
   "pygments_lexer": "python3"
  }
 },
 "nbformat": 4,
 "nbformat_minor": 5
}
