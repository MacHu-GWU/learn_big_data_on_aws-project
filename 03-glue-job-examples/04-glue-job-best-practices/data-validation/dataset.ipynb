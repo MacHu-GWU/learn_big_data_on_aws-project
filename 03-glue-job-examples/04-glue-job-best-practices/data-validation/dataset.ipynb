{
 "cells": [
  {
   "cell_type": "markdown",
   "id": "d03e7f89",
   "metadata": {},
   "source": [
    "# Data Validation in Glue ETL Job\n",
    "\n",
    "- Schema mismatch - field missing\n",
    "- Schema mismatch - unknown field\n",
    "- Schema mismatch - type error\n",
    "- Schema mismatch - Not null value\n",
    "- Value error - value range\n",
    "\n",
    "Usecase, bank account transaction data:\n",
    "\n",
    "```python\n",
    "{\n",
    "    \"id\": 1, # int\n",
    "    \"username\": \"Alice\", # required, not null\n",
    "    \"balannce\": 1000, # int, non negative,\n",
    "}\n",
    "```"
   ]
  },
  {
   "cell_type": "code",
   "execution_count": 1,
   "id": "2e9e452b",
   "metadata": {},
   "outputs": [
    {
     "name": "stdout",
     "output_type": "stream",
     "text": [
      "Note: you may need to restart the kernel to use updated packages.\n"
     ]
    }
   ],
   "source": [
    "%pip install -q -r requirements.txt"
   ]
  },
  {
   "cell_type": "code",
   "execution_count": 2,
   "id": "9522f00b",
   "metadata": {},
   "outputs": [],
   "source": [
    "import pandas as pd\n",
    "from marshmallow import fields, Schema, validates\n",
    "from faker import Faker\n",
    "from s3pathlib import S3Path\n",
    "from rich import print as rprint\n"
   ]
  },
  {
   "cell_type": "code",
   "execution_count": 21,
   "id": "8f7493b6",
   "metadata": {},
   "outputs": [],
   "source": [
    "class Config:\n",
    "    region = \"us-east-2\"\n",
    "    bucket = \"aws-data-lab-sanhe-for-everything-us-east-2\"\n",
    "    prefix = \"poc/learn-big-data-on-aws/glue-job-examples/04-glue-job-best-practice/data-validation/bank_account/\"\n",
    "    database = \"learn_big_data_on_aws\"\n",
    "    table = \"data_validation_bank_account\"\n",
    "    \n",
    "    @property\n",
    "    def s3path_prefix(self) -> S3Path:\n",
    "        return S3Path(self.bucket, self.prefix)\n",
    "    \n",
    "config = Config()"
   ]
  },
  {
   "cell_type": "code",
   "execution_count": 4,
   "id": "c4069cab",
   "metadata": {},
   "outputs": [
    {
     "name": "stdout",
     "output_type": "stream",
     "text": [
      "processing 1 th file ...\n",
      "  open for preview: https://console.aws.amazon.com/s3/object/aws-data-lab-sanhe-for-everything-us-east-2?prefix=poc/learn-big-data-on-aws/glue-job-examples/04-glue-job-best-practice/data-validation/1.json\n",
      "processing 2 th file ...\n",
      "  open for preview: https://console.aws.amazon.com/s3/object/aws-data-lab-sanhe-for-everything-us-east-2?prefix=poc/learn-big-data-on-aws/glue-job-examples/04-glue-job-best-practice/data-validation/2.json\n",
      "processing 3 th file ...\n",
      "  open for preview: https://console.aws.amazon.com/s3/object/aws-data-lab-sanhe-for-everything-us-east-2?prefix=poc/learn-big-data-on-aws/glue-job-examples/04-glue-job-best-practice/data-validation/3.json\n"
     ]
    }
   ],
   "source": [
    "data1 = [\n",
    "    {\"id\": 1, \"name\": \"user1\", \"balance\": 100},\n",
    "    {\"id\": 2, \"name\": \"user2\", \"balance\": 200},\n",
    "    {\"id\": 3, \"name\": \"user3\", \"balance\": 300},\n",
    "    {\"id\": 4, \"name\": \"user4\", \"balance\": 400},\n",
    "    {\"id\": 5, \"name\": \"user5\", \"balance\": 500},\n",
    "    {\"id\": 6, \"name\": \"user6\", \"balance\": 600},\n",
    "    {\"id\": 7, \"name\": \"user7\", \"balance\": 700},\n",
    "    {\"id\": 8, \"name\": \"user8\", \"balance\": 800},\n",
    "    {\"id\": 9, \"name\": \"user9\", \"balance\": 900},\n",
    "    {\"id\": 10, \"name\": \"user10\", \"balance\": 1000},\n",
    "]\n",
    "\n",
    "data2 = [\n",
    "    {\"id\": 11, \"name\": \"user11\", \"balance\": 1100},\n",
    "    {\"id\": 12, \"name\": \"user12\", \"balance\": 1200},\n",
    "    {\"id\": 13, \"name\": \"user13\", \"balance\": 1300},\n",
    "    {\"id\": 14, \"name\": \"user14\", \"balance\": 1400},\n",
    "    {\"id\": 15, \"name\": \"user15\", \"balance\": 1500, \"password\": \"123456\"}, # unknown field\n",
    "    {\"id\": 16, \"name\": \"user16\", \"balance\": 1600},\n",
    "    {\"id\": 17, \"name\": \"user17\", \"balance\": 1700},\n",
    "    {\"id\": 18, \"name\": \"user18\", \"balance\": 1800},\n",
    "    {\"id\": 19, \"name\": \"user19\", \"balance\": 1900},\n",
    "    {\"id\": 20, \"balance\": 2000}, # field missing\n",
    "]\n",
    "\n",
    "data3 = [\n",
    "    {\"id\": 21, \"name\": \"user21\", \"balance\": 2100},\n",
    "    {\"id\": 22, \"name\": \"user22\", \"balance\": 2200},\n",
    "    {\"id\": 23, \"name\": \"user23\", \"balance\": \"2,300\"}, # type error\n",
    "    {\"id\": 24, \"name\": \"user24\", \"balance\": 2400},\n",
    "    {\"id\": 25, \"name\": \"user25\", \"balance\": 2500},\n",
    "    {\"id\": 26, \"name\": \"user26\", \"balance\": -2600}, # value range error\n",
    "    {\"id\": 27, \"name\": \"user27\", \"balance\": 2700},\n",
    "    {\"id\": 28, \"name\": \"user28\", \"balance\": 2800},\n",
    "    {\"id\": 29, \"name\": \"user29\", \"balance\": 2900},\n",
    "    {\"id\": 30, \"name\": None, \"balance\": 3000}, # not null value\n",
    "]\n",
    "\n",
    "def create_one(ith: int, data: list):\n",
    "    print(f\"processing {ith} th file ...\")\n",
    "    s3path = S3Path(config.s3path_prefix, f\"{ith}.json\")\n",
    "    df = pd.DataFrame(data)\n",
    "    with s3path.open(\"w\") as f:\n",
    "        df.to_json(f, orient=\"records\", lines=True)\n",
    "    print(f\"  open for preview: {s3path.console_url}\")\n",
    "\n",
    "create_one(1, data1)\n",
    "create_one(2, data2)\n",
    "create_one(3, data3)"
   ]
  },
  {
   "cell_type": "markdown",
   "id": "ccbd2a0d",
   "metadata": {},
   "source": [
    "## Create Glue Catalog"
   ]
  },
  {
   "cell_type": "code",
   "execution_count": 8,
   "id": "643a0e13",
   "metadata": {},
   "outputs": [
    {
     "name": "stdout",
     "output_type": "stream",
     "text": [
      "aws account id = 669508176277\n"
     ]
    }
   ],
   "source": [
    "import boto3\n",
    "\n",
    "boto_ses = boto3.session.Session(region_name=config.region)\n",
    "glue_client = boto_ses.client(\"glue\")\n",
    "sts_client = boto_ses.client(\"sts\")\n",
    "\n",
    "account_id = sts_client.get_caller_identity()[\"Account\"]\n",
    "print(f\"aws account id = {account_id}\")"
   ]
  },
  {
   "cell_type": "code",
   "execution_count": 26,
   "id": "6b1e69ad",
   "metadata": {},
   "outputs": [],
   "source": [
    "from botocore.exceptions import ClientError\n",
    "\n",
    "try:\n",
    "    response = glue_client.get_database(\n",
    "        CatalogId=account_id,\n",
    "        Name=config.database,\n",
    "    )\n",
    "except ClientError as e: \n",
    "    glue_client.create_database(\n",
    "        CatalogId=account_id,\n",
    "        DatabaseInput=dict(\n",
    "            Name=config.database,\n",
    "            Description=\"For project https://github.com/MacHu-GWU/learn_big_data_on_aws-project\",\n",
    "        )\n",
    "    )\n",
    "    \n",
    "try:\n",
    "    response = glue_client.get_table(\n",
    "        CatalogId=account_id,\n",
    "        DatabaseName=config.database,\n",
    "        Name=config.table,\n",
    "    )\n",
    "except ClientError as e: \n",
    "    response = glue_client.create_table(\n",
    "        CatalogId=account_id,\n",
    "        DatabaseName=config.database,\n",
    "        TableInput=dict(\n",
    "            Name=config.table,\n",
    "            StorageDescriptor=dict(\n",
    "                Columns=[\n",
    "                    dict(\n",
    "                        Name=\"id\",\n",
    "                        Type=\"integer\",\n",
    "                    ),\n",
    "                    dict(\n",
    "                        Name=\"name\",\n",
    "                        Type=\"string\",\n",
    "                    ),\n",
    "                    dict(\n",
    "                        Name=\"balance\",\n",
    "                        Type=\"integer\",\n",
    "                    ),\n",
    "                ],\n",
    "                Location=config.s3path_prefix.uri,\n",
    "                InputFormat=\"org.apache.hadoop.mapred.TextInputFormat\",\n",
    "                OutputFormat=\"org.apache.hadoop.hive.ql.io.HiveIgnoreKeyTextOutputFormat\",\n",
    "                SerdeInfo=dict(\n",
    "                    Name=\"org.openx.data.jsonserde.JsonSerDe\",\n",
    "                ),\n",
    "            ),\n",
    "            Parameters=dict(\n",
    "                classification=\"json\",\n",
    "            ),\n",
    "        ),\n",
    "    )"
   ]
  },
  {
   "cell_type": "code",
   "execution_count": null,
   "id": "a47ac7dc",
   "metadata": {},
   "outputs": [],
   "source": []
  }
 ],
 "metadata": {
  "kernelspec": {
   "display_name": "conda_python3",
   "language": "python",
   "name": "conda_python3"
  },
  "language_info": {
   "codemirror_mode": {
    "name": "ipython",
    "version": 3
   },
   "file_extension": ".py",
   "mimetype": "text/x-python",
   "name": "python",
   "nbconvert_exporter": "python",
   "pygments_lexer": "ipython3",
   "version": "3.6.13"
  }
 },
 "nbformat": 4,
 "nbformat_minor": 5
}
