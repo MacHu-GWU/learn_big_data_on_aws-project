{
 "cells": [
  {
   "cell_type": "markdown",
   "id": "dff90511",
   "metadata": {},
   "source": [
    "# Data Validation in Glue ETL Job\n",
    "\n",
    "- Schema mismatch - field missing\n",
    "- Schema mismatch - unknown field\n",
    "- Schema mismatch - type error\n",
    "- Schema mismatch - Not null value\n",
    "- Value error - value range\n",
    "\n",
    "Usecase, bank account transaction data:\n",
    "\n",
    "```python\n",
    "{\n",
    "    \"id\": 1, # int\n",
    "    \"username\": \"Alice\", # required, not null\n",
    "    \"balannce\": 1000, # int, non negative,\n",
    "}\n",
    "```"
   ]
  },
  {
   "cell_type": "code",
   "execution_count": 1,
   "id": "0ead2de6",
   "metadata": {},
   "outputs": [
    {
     "name": "stdout",
     "output_type": "stream",
     "text": [
      "Note: you may need to restart the kernel to use updated packages.\n"
     ]
    }
   ],
   "source": [
    "%pip install -q -r requirements.txt"
   ]
  },
  {
   "cell_type": "code",
   "execution_count": 2,
   "id": "afce7fea",
   "metadata": {},
   "outputs": [],
   "source": [
    "import pandas as pd\n",
    "from marshmallow import fields, Schema, validates\n",
    "from faker import Faker\n",
    "from s3pathlib import S3Path\n",
    "from rich import print as rprint\n"
   ]
  },
  {
   "cell_type": "code",
   "execution_count": 3,
   "id": "db073264",
   "metadata": {},
   "outputs": [],
   "source": [
    "class Config:\n",
    "    bucket = \"aws-data-lab-sanhe-for-everything-us-east-2\"\n",
    "    prefix = \"poc/learn-big-data-on-aws/glue-job-examples/04-glue-job-best-practice/data-validation\"\n",
    "    \n",
    "    @property\n",
    "    def s3path_prefix(self) -> S3Path:\n",
    "        return S3Path(self.bucket, self.prefix)\n",
    "    \n",
    "config = Config()"
   ]
  },
  {
   "cell_type": "code",
   "execution_count": 4,
   "id": "6d3825a9",
   "metadata": {},
   "outputs": [
    {
     "name": "stdout",
     "output_type": "stream",
     "text": [
      "processing 1 th file ...\n",
      "  open for preview: https://console.aws.amazon.com/s3/object/aws-data-lab-sanhe-for-everything-us-east-2?prefix=poc/learn-big-data-on-aws/glue-job-examples/04-glue-job-best-practice/data-validation/1.json\n",
      "processing 2 th file ...\n",
      "  open for preview: https://console.aws.amazon.com/s3/object/aws-data-lab-sanhe-for-everything-us-east-2?prefix=poc/learn-big-data-on-aws/glue-job-examples/04-glue-job-best-practice/data-validation/2.json\n",
      "processing 3 th file ...\n",
      "  open for preview: https://console.aws.amazon.com/s3/object/aws-data-lab-sanhe-for-everything-us-east-2?prefix=poc/learn-big-data-on-aws/glue-job-examples/04-glue-job-best-practice/data-validation/3.json\n"
     ]
    }
   ],
   "source": [
    "def create_one(nth_file: int):\n",
    "    product_id_start = 1 + (nth_file - 1) * config.n_records_per_file\n",
    "    product_id_end = product_id_start + config.n_records_per_file\n",
    "    data = [\n",
    "        {\n",
    "            \"id\": product_id,\n",
    "            \"name\": fake.word(),\n",
    "            \"price\": random.randint(1, 100),\n",
    "            \"specs\": {\n",
    "                \"color\": fake.color_name()\n",
    "            },\n",
    "            \"categories\": random.sample(product_categories, random.randint(1, 3)),\n",
    "            \"reviews\": [\n",
    "                {\"rank\": random.randint(1, 5), \"comment\": fake.sentence()}\n",
    "                for _ in range(random.randint(0, 5))\n",
    "            ]\n",
    "        }\n",
    "        for product_id in range(product_id_start, product_id_end)\n",
    "    ]\n",
    "    df = pd.DataFrame(data)\n",
    "    return df\n",
    "\n",
    "data1 = [\n",
    "    {\"id\": 1, \"name\": \"user1\", \"balance\": 100},\n",
    "    {\"id\": 2, \"name\": \"user2\", \"balance\": 200},\n",
    "    {\"id\": 3, \"name\": \"user3\", \"balance\": 300},\n",
    "    {\"id\": 4, \"name\": \"user4\", \"balance\": 400},\n",
    "    {\"id\": 5, \"name\": \"user5\", \"balance\": 500},\n",
    "    {\"id\": 6, \"name\": \"user6\", \"balance\": 600},\n",
    "    {\"id\": 7, \"name\": \"user7\", \"balance\": 700},\n",
    "    {\"id\": 8, \"name\": \"user8\", \"balance\": 800},\n",
    "    {\"id\": 9, \"name\": \"user9\", \"balance\": 900},\n",
    "    {\"id\": 10, \"name\": \"user10\", \"balance\": 1000},\n",
    "]\n",
    "\n",
    "data2 = [\n",
    "    {\"id\": 11, \"name\": \"user11\", \"balance\": 1100},\n",
    "    {\"id\": 12, \"name\": \"user12\", \"balance\": 1200},\n",
    "    {\"id\": 13, \"name\": \"user13\", \"balance\": 1300},\n",
    "    {\"id\": 14, \"name\": \"user14\", \"balance\": 1400},\n",
    "    {\"id\": 15, \"name\": \"user15\", \"balance\": 1500, \"password\": \"123456\"}, # unknown field\n",
    "    {\"id\": 16, \"name\": \"user16\", \"balance\": 1600},\n",
    "    {\"id\": 17, \"name\": \"user17\", \"balance\": 1700},\n",
    "    {\"id\": 18, \"name\": \"user18\", \"balance\": 1800},\n",
    "    {\"id\": 19, \"name\": \"user19\", \"balance\": 1900},\n",
    "    {\"id\": 20, \"balance\": 2000}, # field missing\n",
    "]\n",
    "\n",
    "data3 = [\n",
    "    {\"id\": 21, \"name\": \"user21\", \"balance\": 2100},\n",
    "    {\"id\": 22, \"name\": \"user22\", \"balance\": 2200},\n",
    "    {\"id\": 23, \"name\": \"user23\", \"balance\": \"2,300\"}, # type error\n",
    "    {\"id\": 24, \"name\": \"user24\", \"balance\": 2400},\n",
    "    {\"id\": 25, \"name\": \"user25\", \"balance\": 2500},\n",
    "    {\"id\": 26, \"name\": \"user26\", \"balance\": -2600}, # value range error\n",
    "    {\"id\": 27, \"name\": \"user27\", \"balance\": 2700},\n",
    "    {\"id\": 28, \"name\": \"user28\", \"balance\": 2800},\n",
    "    {\"id\": 29, \"name\": \"user29\", \"balance\": 2900},\n",
    "    {\"id\": 30, \"name\": None, \"balance\": 3000}, # not null value\n",
    "]\n",
    "\n",
    "def create_one(ith: int, data: list):\n",
    "    print(f\"processing {ith} th file ...\")\n",
    "    s3path = S3Path(config.s3path_prefix, f\"{ith}.json\")\n",
    "    df = pd.DataFrame(data)\n",
    "    with s3path.open(\"w\") as f:\n",
    "        df.to_json(f, orient=\"records\", lines=True)\n",
    "    print(f\"  open for preview: {s3path.console_url}\")\n",
    "\n",
    "create_one(1, data1)\n",
    "create_one(2, data2)\n",
    "create_one(3, data3)"
   ]
  },
  {
   "cell_type": "code",
   "execution_count": null,
   "id": "7e072ea5",
   "metadata": {},
   "outputs": [],
   "source": []
  }
 ],
 "metadata": {
  "kernelspec": {
   "display_name": "conda_python3",
   "language": "python",
   "name": "conda_python3"
  },
  "language_info": {
   "codemirror_mode": {
    "name": "ipython",
    "version": 3
   },
   "file_extension": ".py",
   "mimetype": "text/x-python",
   "name": "python",
   "nbconvert_exporter": "python",
   "pygments_lexer": "ipython3",
   "version": "3.6.13"
  }
 },
 "nbformat": 4,
 "nbformat_minor": 5
}
