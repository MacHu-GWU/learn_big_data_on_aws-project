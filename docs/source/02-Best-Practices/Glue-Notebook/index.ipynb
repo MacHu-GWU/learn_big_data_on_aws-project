{
 "cells": [
  {
   "cell_type": "markdown",
   "id": "911cde83-e814-4159-9d3f-8272778a3081",
   "metadata": {},
   "source": [
    "# Test"
   ]
  },
  {
   "cell_type": "code",
   "execution_count": 4,
   "id": "b695f3b5-a3dc-4cbc-9492-de88b68b4678",
   "metadata": {},
   "outputs": [
    {
     "name": "stdout",
     "output_type": "stream",
     "text": [
      "\n",
      "\u001b[1m[\u001b[0m\u001b[34;49mnotice\u001b[0m\u001b[1;39;49m]\u001b[0m\u001b[39;49m A new release of pip is available: \u001b[0m\u001b[31;49m23.0.1\u001b[0m\u001b[39;49m -> \u001b[0m\u001b[32;49m23.2.1\u001b[0m\n",
      "\u001b[1m[\u001b[0m\u001b[34;49mnotice\u001b[0m\u001b[1;39;49m]\u001b[0m\u001b[39;49m To update, run: \u001b[0m\u001b[32;49mpython3 -m pip install --upgrade pip\u001b[0m\n",
      "Note: you may need to restart the kernel to use updated packages.\n",
      "\n",
      "\u001b[1m[\u001b[0m\u001b[34;49mnotice\u001b[0m\u001b[1;39;49m]\u001b[0m\u001b[39;49m A new release of pip is available: \u001b[0m\u001b[31;49m23.0.1\u001b[0m\u001b[39;49m -> \u001b[0m\u001b[32;49m23.2.1\u001b[0m\n",
      "\u001b[1m[\u001b[0m\u001b[34;49mnotice\u001b[0m\u001b[1;39;49m]\u001b[0m\u001b[39;49m To update, run: \u001b[0m\u001b[32;49mpython3 -m pip install --upgrade pip\u001b[0m\n",
      "Note: you may need to restart the kernel to use updated packages.\n",
      "\n",
      "\u001b[1m[\u001b[0m\u001b[34;49mnotice\u001b[0m\u001b[1;39;49m]\u001b[0m\u001b[39;49m A new release of pip is available: \u001b[0m\u001b[31;49m23.0.1\u001b[0m\u001b[39;49m -> \u001b[0m\u001b[32;49m23.2.1\u001b[0m\n",
      "\u001b[1m[\u001b[0m\u001b[34;49mnotice\u001b[0m\u001b[1;39;49m]\u001b[0m\u001b[39;49m To update, run: \u001b[0m\u001b[32;49mpython3 -m pip install --upgrade pip\u001b[0m\n",
      "Note: you may need to restart the kernel to use updated packages.\n"
     ]
    }
   ],
   "source": [
    "%pip install polars==0.17.15 -q\n",
    "%pip install boto_session_manager==1.5.3 -q\n",
    "%pip install s3pathlib==2.0.1 -q"
   ]
  },
  {
   "cell_type": "code",
   "execution_count": 1,
   "id": "1ebbc8e1-520a-428b-a56a-02e676463136",
   "metadata": {},
   "outputs": [
    {
     "name": "stdout",
     "output_type": "stream",
     "text": [
      "Starting Spark application\n"
     ]
    },
    {
     "data": {
      "text/html": [
       "<table>\n",
       "<tr><th>ID</th><th>YARN Application ID</th><th>Kind</th><th>State</th><th>Spark UI</th><th>Driver log</th><th>User</th><th>Current session?</th></tr><tr><td>2</td><td>None</td><td>pyspark</td><td>idle</td><td></td><td></td><td>None</td><td>✔</td></tr></table>"
      ],
      "text/plain": [
       "<IPython.core.display.HTML object>"
      ]
     },
     "metadata": {},
     "output_type": "display_data"
    },
    {
     "data": {
      "application/vnd.jupyter.widget-view+json": {
       "model_id": "",
       "version_major": 2,
       "version_minor": 0
      },
      "text/plain": [
       "FloatProgress(value=0.0, bar_style='info', description='Progress:', layout=Layout(height='25px', width='50%'),…"
      ]
     },
     "metadata": {},
     "output_type": "display_data"
    },
    {
     "name": "stdout",
     "output_type": "stream",
     "text": [
      "SparkSession available as 'spark'.\n"
     ]
    },
    {
     "data": {
      "application/vnd.jupyter.widget-view+json": {
       "model_id": "",
       "version_major": 2,
       "version_minor": 0
      },
      "text/plain": [
       "FloatProgress(value=0.0, bar_style='info', description='Progress:', layout=Layout(height='25px', width='50%'),…"
      ]
     },
     "metadata": {},
     "output_type": "display_data"
    },
    {
     "name": "stdout",
     "output_type": "stream",
     "text": [
      "/home/glue_user/spark/python/pyspark/sql/context.py:112: FutureWarning: Deprecated in 3.0.0. Use SparkSession.builder.getOrCreate() instead.\n",
      "  warnings.warn("
     ]
    }
   ],
   "source": [
    "import typing as T\n",
    "import os\n",
    "import sys\n",
    "from pathlib import Path\n",
    "\n",
    "import boto3\n",
    "\n",
    "from pyspark.sql import functions as F\n",
    "from pyspark.sql import types as TP\n",
    "from pyspark.sql import DataFrame\n",
    "from pyspark.context import SparkContext\n",
    "\n",
    "from awsglue.context import GlueContext\n",
    "from awsglue.utils import getResolvedOptions\n",
    "from awsglue.job import Job\n",
    "\n",
    "spark_ctx = SparkContext.getOrCreate()\n",
    "glue_ctx = GlueContext(spark_ctx)\n",
    "spark_ses = glue_ctx.spark_session"
   ]
  },
  {
   "cell_type": "code",
   "execution_count": 2,
   "id": "32f675ae-d613-4b0a-a4bd-b631884c2a29",
   "metadata": {},
   "outputs": [
    {
     "data": {
      "application/vnd.jupyter.widget-view+json": {
       "model_id": "",
       "version_major": 2,
       "version_minor": 0
      },
      "text/plain": [
       "FloatProgress(value=0.0, bar_style='info', description='Progress:', layout=Layout(height='25px', width='50%'),…"
      ]
     },
     "metadata": {},
     "output_type": "display_data"
    }
   ],
   "source": [
    "import polars as pl\n",
    "from boto_session_manager import BotoSesManager\n",
    "from s3pathlib import S3Path, context"
   ]
  },
  {
   "cell_type": "code",
   "execution_count": 4,
   "id": "70140b96-5da5-4dd5-b734-9c5c9106e3ce",
   "metadata": {},
   "outputs": [
    {
     "data": {
      "application/vnd.jupyter.widget-view+json": {
       "model_id": "",
       "version_major": 2,
       "version_minor": 0
      },
      "text/plain": [
       "FloatProgress(value=0.0, bar_style='info', description='Progress:', layout=Layout(height='25px', width='50%'),…"
      ]
     },
     "metadata": {},
     "output_type": "display_data"
    },
    {
     "name": "stdout",
     "output_type": "stream",
     "text": [
      "root\n",
      " |-- id: string (nullable = true)\n",
      "\n",
      "+----+\n",
      "|  id|\n",
      "+----+\n",
      "|   a|\n",
      "|null|\n",
      "+----+"
     ]
    }
   ],
   "source": [
    "df = spark_ses.createDataFrame(\n",
    "    [\n",
    "        (\"a\",),\n",
    "        (None,),\n",
    "    ],\n",
    "    schema=TP.StructType([\n",
    "        TP.StructField(\"id\", TP.StringType(), True),\n",
    "    ])\n",
    ")\n",
    "df.printSchema()\n",
    "df.show()"
   ]
  },
  {
   "cell_type": "code",
   "execution_count": 10,
   "id": "e1e45cc5-35aa-457f-b057-d7742eadb65f",
   "metadata": {},
   "outputs": [
    {
     "data": {
      "application/vnd.jupyter.widget-view+json": {
       "model_id": "",
       "version_major": 2,
       "version_minor": 0
      },
      "text/plain": [
       "FloatProgress(value=0.0, bar_style='info', description='Progress:', layout=Layout(height='25px', width='50%'),…"
      ]
     },
     "metadata": {},
     "output_type": "display_data"
    },
    {
     "name": "stdout",
     "output_type": "stream",
     "text": [
      "root\n",
      " |-- id: string (nullable = true)\n",
      "\n",
      "+--------------------+\n",
      "|                  id|\n",
      "+--------------------+\n",
      "|                   a|\n",
      "|                   1|\n",
      "|java.util.Gregori...|\n",
      "+--------------------+\n",
      "\n",
      "a <class 'str'>\n",
      "1 <class 'str'>\n",
      "java.util.GregorianCalendar[time=?,areFieldsSet=false,areAllFieldsSet=false,lenient=true,zone=sun.util.calendar.ZoneInfo[id=\"UTC\",offset=0,dstSavings=0,useDaylight=false,transitions=0,lastRule=null],firstDayOfWeek=1,minimalDaysInFirstWeek=1,ERA=?,YEAR=2023,MONTH=7,WEEK_OF_YEAR=?,WEEK_OF_MONTH=?,DAY_OF_MONTH=19,DAY_OF_YEAR=?,DAY_OF_WEEK=?,DAY_OF_WEEK_IN_MONTH=?,AM_PM=0,HOUR=4,HOUR_OF_DAY=4,MINUTE=35,SECOND=57,MILLISECOND=484,ZONE_OFFSET=?,DST_OFFSET=?] <class 'str'>\n",
      "+--------------------+\n",
      "|                  id|\n",
      "+--------------------+\n",
      "|                   a|\n",
      "|                   1|\n",
      "|java.util.Gregori...|\n",
      "+--------------------+"
     ]
    }
   ],
   "source": [
    "from datetime import datetime\n",
    "\n",
    "\n",
    "df = spark_ses.createDataFrame(\n",
    "    [\n",
    "        (\"a\",),\n",
    "        (1,),\n",
    "        (datetime.utcnow(),)\n",
    "    ],\n",
    "    schema=TP.StructType([\n",
    "        TP.StructField(\"id\", TP.StringType(), True),\n",
    "    ])\n",
    ")\n",
    "df.printSchema()\n",
    "df.show()\n",
    "\n",
    "for row in df.collect():\n",
    "    print(row[\"id\"], type(row[\"id\"]))\n",
    "\n",
    "df.select(\"*\").show()"
   ]
  },
  {
   "cell_type": "code",
   "execution_count": 19,
   "id": "032bf830-099e-42cf-b9b1-54be93957dcd",
   "metadata": {},
   "outputs": [
    {
     "data": {
      "application/vnd.jupyter.widget-view+json": {
       "model_id": "",
       "version_major": 2,
       "version_minor": 0
      },
      "text/plain": [
       "FloatProgress(value=0.0, bar_style='info', description='Progress:', layout=Layout(height='25px', width='50%'),…"
      ]
     },
     "metadata": {},
     "output_type": "display_data"
    },
    {
     "name": "stdout",
     "output_type": "stream",
     "text": [
      "root\n",
      " |-- id: long (nullable = true)\n",
      " |-- name: string (nullable = true)\n",
      "\n",
      "+---+-----+\n",
      "| id| name|\n",
      "+---+-----+\n",
      "|  1|alice|\n",
      "|  2|  bob|\n",
      "|  3|cathy|\n",
      "|  4|david|\n",
      "+---+-----+"
     ]
    }
   ],
   "source": [
    "df = spark_ses.createDataFrame(\n",
    "    [\n",
    "        (1, \"alice\"),\n",
    "        (2, \"bob\"),\n",
    "        (3, \"cathy\"),\n",
    "        (4, \"david\"),\n",
    "    ],\n",
    "    schema=TP.StructType([\n",
    "        TP.StructField(\"id\", TP.LongType(), True),\n",
    "        TP.StructField(\"name\", TP.StringType(), True),\n",
    "    ])\n",
    ")\n",
    "df.printSchema()\n",
    "df.show()\n",
    "\n",
    "df.createOrReplaceGlobalTempView(\"t\")"
   ]
  },
  {
   "cell_type": "code",
   "execution_count": 20,
   "id": "67f46fed-cd8b-43af-bcb2-841eaac0a26a",
   "metadata": {},
   "outputs": [
    {
     "data": {
      "application/vnd.jupyter.widget-view+json": {
       "model_id": "",
       "version_major": 2,
       "version_minor": 0
      },
      "text/plain": [
       "FloatProgress(value=0.0, bar_style='info', description='Progress:', layout=Layout(height='25px', width='50%'),…"
      ]
     },
     "metadata": {},
     "output_type": "display_data"
    },
    {
     "name": "stdout",
     "output_type": "stream",
     "text": [
      "+---+-----+\n",
      "| id| name|\n",
      "+---+-----+\n",
      "|  1|alice|\n",
      "|  2|  bob|\n",
      "+---+-----+"
     ]
    }
   ],
   "source": [
    "import textwrap\n",
    "\n",
    "sql = \"\"\"\n",
    "SELECT * FROM global_temp.t t LIMIT 2;\n",
    "\"\"\"\n",
    "sql = textwrap.dedent(sql)\n",
    "spark_ses.sql(sql).show()"
   ]
  },
  {
   "cell_type": "code",
   "execution_count": 24,
   "id": "f904f223-0ead-467b-9770-8ad16913a1b0",
   "metadata": {},
   "outputs": [
    {
     "data": {
      "application/vnd.jupyter.widget-view+json": {
       "model_id": "",
       "version_major": 2,
       "version_minor": 0
      },
      "text/plain": [
       "FloatProgress(value=0.0, bar_style='info', description='Progress:', layout=Layout(height='25px', width='50%'),…"
      ]
     },
     "metadata": {},
     "output_type": "display_data"
    },
    {
     "name": "stdout",
     "output_type": "stream",
     "text": [
      "+----+\n",
      "|  id|\n",
      "+----+\n",
      "|0001|\n",
      "|0002|\n",
      "|0003|\n",
      "|0004|\n",
      "+----+"
     ]
    }
   ],
   "source": [
    "sql = \"\"\"\n",
    "SELECT \n",
    "    lpad(t.id, 4, '0') as id\n",
    "FROM global_temp.t t;\n",
    "\"\"\"\n",
    "sql = textwrap.dedent(sql)\n",
    "spark_ses.sql(sql).show()"
   ]
  },
  {
   "cell_type": "code",
   "execution_count": null,
   "id": "65784f47-3333-43c4-8b15-7bfcdb6067cc",
   "metadata": {},
   "outputs": [],
   "source": []
  }
 ],
 "metadata": {
  "kernelspec": {
   "display_name": "PySpark",
   "language": "python",
   "name": "pysparkkernel"
  },
  "language_info": {
   "codemirror_mode": {
    "name": "python",
    "version": 3
   },
   "file_extension": ".py",
   "mimetype": "text/x-python",
   "name": "pyspark",
   "pygments_lexer": "python3"
  }
 },
 "nbformat": 4,
 "nbformat_minor": 5
}
