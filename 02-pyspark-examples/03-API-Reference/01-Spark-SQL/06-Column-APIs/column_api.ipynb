{
 "cells": [
  {
   "cell_type": "markdown",
   "id": "ddfbde2b",
   "metadata": {},
   "source": [
    "# Column APIs"
   ]
  },
  {
   "cell_type": "code",
   "execution_count": 5,
   "id": "07298781",
   "metadata": {},
   "outputs": [
    {
     "data": {
      "application/vnd.jupyter.widget-view+json": {
       "model_id": "377e53ee8223498aab1debbd35f61171",
       "version_major": 2,
       "version_minor": 0
      },
      "text/plain": [
       "FloatProgress(value=0.0, bar_style='info', description='Progress:', layout=Layout(height='25px', width='50%'),…"
      ]
     },
     "metadata": {},
     "output_type": "display_data"
    }
   ],
   "source": [
    "# initialize spark session\n",
    "import sys\n",
    "from awsglue.transforms import *\n",
    "from awsglue.utils import getResolvedOptions\n",
    "from pyspark.context import SparkContext\n",
    "from awsglue.context import GlueContext\n",
    "from awsglue.job import Job\n",
    "from awsglue.dynamicframe import DynamicFrame\n",
    "from pprint import pprint\n",
    "\n",
    "# Create SparkContext\n",
    "sparkContext = SparkContext.getOrCreate()\n",
    "# Create Glue Context\n",
    "glueContext = GlueContext(sparkContext)\n",
    "# Get spark session\n",
    "spark = glueContext.spark_session"
   ]
  },
  {
   "cell_type": "markdown",
   "id": "f9b104dd",
   "metadata": {},
   "source": [
    "## UDF (User Defined Function)"
   ]
  },
  {
   "cell_type": "code",
   "execution_count": 12,
   "id": "0dbb23db",
   "metadata": {},
   "outputs": [
    {
     "data": {
      "application/vnd.jupyter.widget-view+json": {
       "model_id": "6d89b5fbcfb443acb0024a9dfeb9118d",
       "version_major": 2,
       "version_minor": 0
      },
      "text/plain": [
       "FloatProgress(value=0.0, bar_style='info', description='Progress:', layout=Layout(height='25px', width='50%'),…"
      ]
     },
     "metadata": {},
     "output_type": "display_data"
    },
    {
     "name": "stdout",
     "output_type": "stream",
     "text": [
      "+---+---+---+\n",
      "| id| v1| v2|\n",
      "+---+---+---+\n",
      "|  1|  1|  1|\n",
      "|  2|  2|  2|\n",
      "|  3|  3|  3|\n",
      "+---+---+---+"
     ]
    }
   ],
   "source": [
    "# Create sample dataset\n",
    "from pyspark.sql.functions import udf\n",
    "from pyspark.sql.types import IntegerType\n",
    "\n",
    "df = spark.createDataFrame(\n",
    "    [\n",
    "        (1, 1, 1),\n",
    "        (2, 2, 2),\n",
    "        (3, 3, 3),\n",
    "    ], \n",
    "    (\"id\", \"v1\", \"v2\")\n",
    ")\n",
    "df.show()"
   ]
  },
  {
   "cell_type": "code",
   "execution_count": 13,
   "id": "d504cf12",
   "metadata": {},
   "outputs": [
    {
     "data": {
      "application/vnd.jupyter.widget-view+json": {
       "model_id": "0cf941fa41e8423ab6a1c6cf2df6d443",
       "version_major": 2,
       "version_minor": 0
      },
      "text/plain": [
       "FloatProgress(value=0.0, bar_style='info', description='Progress:', layout=Layout(height='25px', width='50%'),…"
      ]
     },
     "metadata": {},
     "output_type": "display_data"
    },
    {
     "name": "stdout",
     "output_type": "stream",
     "text": [
      "+---+--------+--------+\n",
      "| id|v1_x_100|v2_x_100|\n",
      "+---+--------+--------+\n",
      "|  1|     100|     100|\n",
      "|  2|     200|     200|\n",
      "|  3|     300|     300|\n",
      "+---+--------+--------+"
     ]
    }
   ],
   "source": [
    "# Define a UDF\n",
    "# ref: https://spark.apache.org/docs/latest/api/python/reference/api/pyspark.sql.functions.udf.html#pyspark.sql.functions.udf\n",
    "udf_x_100 = udf(\n",
    "    f=lambda x: x * 100, \n",
    "    returnType=IntegerType(),\n",
    ")\n",
    "\n",
    "# Apply UDF to column\n",
    "df_v1_v2_x_100 = df.select(\n",
    "    df.id, \n",
    "    udf_x_100(df.v1).alias(\"v1_x_100\"),\n",
    "    udf_x_100(df.v2).alias(\"v2_x_100\"),\n",
    ")\n",
    "\n",
    "df_v1_v2_x_100.show()"
   ]
  },
  {
   "cell_type": "code",
   "execution_count": 14,
   "id": "28e42b37",
   "metadata": {},
   "outputs": [
    {
     "data": {
      "application/vnd.jupyter.widget-view+json": {
       "model_id": "76543b4ead0c41ddb381f6aabf44833c",
       "version_major": 2,
       "version_minor": 0
      },
      "text/plain": [
       "FloatProgress(value=0.0, bar_style='info', description='Progress:', layout=Layout(height='25px', width='50%'),…"
      ]
     },
     "metadata": {},
     "output_type": "display_data"
    },
    {
     "name": "stdout",
     "output_type": "stream",
     "text": [
      "+---+--------------------+\n",
      "| id|add_v1_v2_then_x_100|\n",
      "+---+--------------------+\n",
      "|  1|                 200|\n",
      "|  2|                 400|\n",
      "|  3|                 600|\n",
      "+---+--------------------+"
     ]
    }
   ],
   "source": [
    "# Define a UDF\n",
    "udf_add_then_x_100 = udf(\n",
    "    f=lambda x, y: (x + y) * 100,\n",
    "    returnType=IntegerType(),\n",
    ")\n",
    "\n",
    "# Apply UDF to column\n",
    "df_add_then_x_100 = df.select(\n",
    "    df.id,\n",
    "    udf_add_then_x_100(df.v1, df.v2).alias(\"add_v1_v2_then_x_100\")\n",
    ")\n",
    "\n",
    "df_add_then_x_100.show()"
   ]
  },
  {
   "cell_type": "code",
   "execution_count": null,
   "id": "6616edd6",
   "metadata": {},
   "outputs": [],
   "source": [
    "# Define a \n",
    "def f(x):\n",
    "    return (x+1)\n",
    "\n",
    "max_udf=udf(lambda x,y: max(x,y), IntegerType())\n",
    "f_udf=udf(f, IntegerType())\n",
    "\n",
    "df2=df.withColumn(\"result\", max_udf(f_udf(df.col1),f_udf(df.col2)))"
   ]
  }
 ],
 "metadata": {
  "kernelspec": {
   "display_name": "Sparkmagic (PySpark)",
   "language": "python",
   "name": "pysparkkernel"
  },
  "language_info": {
   "codemirror_mode": {
    "name": "python",
    "version": 3
   },
   "file_extension": ".py",
   "mimetype": "text/x-python",
   "name": "pyspark",
   "pygments_lexer": "python3"
  }
 },
 "nbformat": 4,
 "nbformat_minor": 5
}
