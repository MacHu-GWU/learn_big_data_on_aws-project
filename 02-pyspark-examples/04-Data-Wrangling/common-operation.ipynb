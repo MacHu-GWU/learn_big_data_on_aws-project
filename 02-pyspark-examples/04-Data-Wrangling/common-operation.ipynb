{
 "cells": [
  {
   "cell_type": "markdown",
   "id": "109129ce",
   "metadata": {},
   "source": [
    "# Common Data Wrangling Operation\n",
    "\n"
   ]
  },
  {
   "cell_type": "code",
   "execution_count": 54,
   "id": "2493c0ad",
   "metadata": {},
   "outputs": [
    {
     "data": {
      "application/vnd.jupyter.widget-view+json": {
       "model_id": "40578bb503764db98dd5fa98323e7521",
       "version_major": 2,
       "version_minor": 0
      },
      "text/plain": [
       "FloatProgress(value=0.0, bar_style='info', description='Progress:', layout=Layout(height='25px', width='50%'),…"
      ]
     },
     "metadata": {},
     "output_type": "display_data"
    }
   ],
   "source": [
    "# initialize spark session\n",
    "import sys\n",
    "from awsglue.transforms import *\n",
    "from awsglue.utils import getResolvedOptions\n",
    "from pyspark.context import SparkContext\n",
    "from awsglue.context import GlueContext\n",
    "from awsglue.job import Job\n",
    "from awsglue.dynamicframe import DynamicFrame\n",
    "from pprint import pprint\n",
    "\n",
    "# Create SparkContext\n",
    "sparkContext = SparkContext.getOrCreate()\n",
    "# Create Glue Context\n",
    "glueContext = GlueContext(sparkContext)\n",
    "# Get spark session\n",
    "spark = glueContext.spark_session"
   ]
  },
  {
   "cell_type": "code",
   "execution_count": 55,
   "id": "31ee73ae",
   "metadata": {},
   "outputs": [
    {
     "data": {
      "application/vnd.jupyter.widget-view+json": {
       "model_id": "79b8e09c6b434c598c1dd0c5056f9aee",
       "version_major": 2,
       "version_minor": 0
      },
      "text/plain": [
       "FloatProgress(value=0.0, bar_style='info', description='Progress:', layout=Layout(height='25px', width='50%'),…"
      ]
     },
     "metadata": {},
     "output_type": "display_data"
    },
    {
     "name": "stdout",
     "output_type": "stream",
     "text": [
      "numpy==1.14.5\n",
      "pandas==0.23.4\n",
      "pyarrow==0.13.0\n",
      "pyspark==2.4.3"
     ]
    }
   ],
   "source": [
    "import numpy\n",
    "import pandas\n",
    "import pyarrow\n",
    "import pyspark\n",
    "\n",
    "package_list = [\n",
    "    numpy,\n",
    "    pandas,\n",
    "    pyarrow,\n",
    "    pyspark,\n",
    "]\n",
    "for package in package_list:\n",
    "    print(f\"{package.__name__}=={package.__version__}\")\n",
    "\n",
    "# import\n",
    "from datetime import datetime, date, timedelta\n",
    "    \n",
    "import numpy as np\n",
    "import pandas as pd\n",
    "import pyarrow as pa\n",
    "import pyarrow.parquet as pq\n",
    "from pyspark.sql import Row, Column, DataFrame\n",
    "import pyspark.sql.functions as sql_funcs\n",
    "import pyspark.sql.types as sql_types"
   ]
  },
  {
   "cell_type": "markdown",
   "id": "67a34e71",
   "metadata": {},
   "source": [
    "## DataFrame Creation"
   ]
  },
  {
   "cell_type": "code",
   "execution_count": 56,
   "id": "6f18b6d9",
   "metadata": {},
   "outputs": [
    {
     "data": {
      "application/vnd.jupyter.widget-view+json": {
       "model_id": "99eb0c8f15354762b487b984970c8a2c",
       "version_major": 2,
       "version_minor": 0
      },
      "text/plain": [
       "FloatProgress(value=0.0, bar_style='info', description='Progress:', layout=Layout(height='25px', width='50%'),…"
      ]
     },
     "metadata": {},
     "output_type": "display_data"
    },
    {
     "name": "stdout",
     "output_type": "stream",
     "text": [
      "DataFrame[a: bigint, b: double, c: string, d: date, e: timestamp]"
     ]
    }
   ],
   "source": [
    "# 1. create a PySpark DataFrame from a list of rows\n",
    "pdf = spark.createDataFrame([\n",
    "    Row(a=1, b=2., c='string1', d=date(2000, 1, 1), e=datetime(2000, 1, 1, 12, 0)),\n",
    "    Row(a=2, b=3., c='string2', d=date(2000, 2, 1), e=datetime(2000, 1, 2, 12, 0)),\n",
    "    Row(a=4, b=5., c='string3', d=date(2000, 3, 1), e=datetime(2000, 1, 3, 12, 0))\n",
    "])\n",
    "pdf"
   ]
  },
  {
   "cell_type": "code",
   "execution_count": 57,
   "id": "9c5b5fcc",
   "metadata": {},
   "outputs": [
    {
     "data": {
      "application/vnd.jupyter.widget-view+json": {
       "model_id": "a6ffb9daf38d42f6803fa96b8f427720",
       "version_major": 2,
       "version_minor": 0
      },
      "text/plain": [
       "FloatProgress(value=0.0, bar_style='info', description='Progress:', layout=Layout(height='25px', width='50%'),…"
      ]
     },
     "metadata": {},
     "output_type": "display_data"
    },
    {
     "name": "stdout",
     "output_type": "stream",
     "text": [
      "DataFrame[a: bigint, b: double, c: string, d: date, e: timestamp]"
     ]
    }
   ],
   "source": [
    "# 2. Create a PySpark DataFrame with an explicit schema.\n",
    "pdf = spark.createDataFrame([\n",
    "    (1, 2., 'string1', date(2000, 1, 1), datetime(2000, 1, 1, 12, 0)),\n",
    "    (2, 3., 'string2', date(2000, 2, 1), datetime(2000, 1, 2, 12, 0)),\n",
    "    (3, 4., 'string3', date(2000, 3, 1), datetime(2000, 1, 3, 12, 0))\n",
    "], schema='a long, b double, c string, d date, e timestamp')\n",
    "pdf"
   ]
  },
  {
   "cell_type": "code",
   "execution_count": 58,
   "id": "9a3ab1fe",
   "metadata": {},
   "outputs": [
    {
     "data": {
      "application/vnd.jupyter.widget-view+json": {
       "model_id": "0cfb1ca4afc748aaa221eaa37f070d5e",
       "version_major": 2,
       "version_minor": 0
      },
      "text/plain": [
       "FloatProgress(value=0.0, bar_style='info', description='Progress:', layout=Layout(height='25px', width='50%'),…"
      ]
     },
     "metadata": {},
     "output_type": "display_data"
    },
    {
     "name": "stdout",
     "output_type": "stream",
     "text": [
      "DataFrame[a: bigint, b: double, c: string, d: date, e: timestamp]"
     ]
    }
   ],
   "source": [
    "# 3. Create a PySpark DataFrame from a pandas DataFrame\n",
    "df = pd.DataFrame({\n",
    "    'a': [1, 2, 3],\n",
    "    'b': [2., 3., 4.],\n",
    "    'c': ['string1', 'string2', 'string3'],\n",
    "    'd': [date(2000, 1, 1), date(2000, 2, 1), date(2000, 3, 1)],\n",
    "    'e': [datetime(2000, 1, 1, 12, 0), datetime(2000, 1, 2, 12, 0), datetime(2000, 1, 3, 12, 0)]\n",
    "})\n",
    "pdf = spark.createDataFrame(df)\n",
    "pdf"
   ]
  },
  {
   "cell_type": "code",
   "execution_count": 59,
   "id": "ccf3d468",
   "metadata": {},
   "outputs": [
    {
     "data": {
      "application/vnd.jupyter.widget-view+json": {
       "model_id": "5a83ed83f8644ec4802d129c459e1b66",
       "version_major": 2,
       "version_minor": 0
      },
      "text/plain": [
       "FloatProgress(value=0.0, bar_style='info', description='Progress:', layout=Layout(height='25px', width='50%'),…"
      ]
     },
     "metadata": {},
     "output_type": "display_data"
    },
    {
     "name": "stdout",
     "output_type": "stream",
     "text": [
      "DataFrame[a: bigint, b: double, c: string, d: date, e: timestamp]"
     ]
    }
   ],
   "source": [
    "# 4. Create a PySpark DataFrame from an RDD consisting of a list of tuples.\n",
    "rdd = spark.sparkContext.parallelize([\n",
    "    (1, 2., 'string1', date(2000, 1, 1), datetime(2000, 1, 1, 12, 0)),\n",
    "    (2, 3., 'string2', date(2000, 2, 1), datetime(2000, 1, 2, 12, 0)),\n",
    "    (3, 4., 'string3', date(2000, 3, 1), datetime(2000, 1, 3, 12, 0))\n",
    "])\n",
    "pdf = spark.createDataFrame(rdd, schema=['a', 'b', 'c', 'd', 'e'])\n",
    "pdf"
   ]
  },
  {
   "cell_type": "code",
   "execution_count": 60,
   "id": "3b708be9",
   "metadata": {},
   "outputs": [
    {
     "data": {
      "application/vnd.jupyter.widget-view+json": {
       "model_id": "95f9715856c9417a8537dcb0ef27ecb6",
       "version_major": 2,
       "version_minor": 0
      },
      "text/plain": [
       "FloatProgress(value=0.0, bar_style='info', description='Progress:', layout=Layout(height='25px', width='50%'),…"
      ]
     },
     "metadata": {},
     "output_type": "display_data"
    },
    {
     "name": "stdout",
     "output_type": "stream",
     "text": [
      "root\n",
      " |-- a: long (nullable = true)\n",
      " |-- b: double (nullable = true)\n",
      " |-- c: string (nullable = true)\n",
      " |-- d: date (nullable = true)\n",
      " |-- e: timestamp (nullable = true)"
     ]
    }
   ],
   "source": [
    "# The DataFrames created above all have the same results and schema.\n",
    "pdf.printSchema()"
   ]
  },
  {
   "cell_type": "code",
   "execution_count": 61,
   "id": "e2649642",
   "metadata": {},
   "outputs": [
    {
     "data": {
      "application/vnd.jupyter.widget-view+json": {
       "model_id": "f2b927662ed843058732ccd2be1d2bbc",
       "version_major": 2,
       "version_minor": 0
      },
      "text/plain": [
       "FloatProgress(value=0.0, bar_style='info', description='Progress:', layout=Layout(height='25px', width='50%'),…"
      ]
     },
     "metadata": {},
     "output_type": "display_data"
    },
    {
     "name": "stdout",
     "output_type": "stream",
     "text": [
      "+---+---+-------+----------+-------------------+\n",
      "|  a|  b|      c|         d|                  e|\n",
      "+---+---+-------+----------+-------------------+\n",
      "|  1|2.0|string1|2000-01-01|2000-01-01 12:00:00|\n",
      "|  2|3.0|string2|2000-02-01|2000-01-02 12:00:00|\n",
      "|  3|4.0|string3|2000-03-01|2000-01-03 12:00:00|\n",
      "+---+---+-------+----------+-------------------+"
     ]
    }
   ],
   "source": [
    "pdf.show()"
   ]
  },
  {
   "cell_type": "markdown",
   "id": "30369f38",
   "metadata": {},
   "source": [
    "## DataFrame Attribute\n",
    "\n",
    "Access attribute doesn't trigger any computation\n",
    "\n",
    "Ref:\n",
    "\n",
    "- https://spark.apache.org/docs/latest/api/python/reference/api/pyspark.sql.DataFrame.html"
   ]
  },
  {
   "cell_type": "code",
   "execution_count": 62,
   "id": "68d0fa93",
   "metadata": {},
   "outputs": [
    {
     "data": {
      "application/vnd.jupyter.widget-view+json": {
       "model_id": "0c9e3ea0fc6344079a8067535c0f8efc",
       "version_major": 2,
       "version_minor": 0
      },
      "text/plain": [
       "FloatProgress(value=0.0, bar_style='info', description='Progress:', layout=Layout(height='25px', width='50%'),…"
      ]
     },
     "metadata": {},
     "output_type": "display_data"
    },
    {
     "name": "stdout",
     "output_type": "stream",
     "text": [
      "['a', 'b', 'c', 'd', 'e']"
     ]
    }
   ],
   "source": [
    "# access all columns as list of str\n",
    "pdf.columns"
   ]
  },
  {
   "cell_type": "code",
   "execution_count": 63,
   "id": "4d65edd8",
   "metadata": {},
   "outputs": [
    {
     "data": {
      "application/vnd.jupyter.widget-view+json": {
       "model_id": "944919454ff04573b9f66027b3eaa5a2",
       "version_major": 2,
       "version_minor": 0
      },
      "text/plain": [
       "FloatProgress(value=0.0, bar_style='info', description='Progress:', layout=Layout(height='25px', width='50%'),…"
      ]
     },
     "metadata": {},
     "output_type": "display_data"
    },
    {
     "name": "stdout",
     "output_type": "stream",
     "text": [
      "[('a', 'bigint'), ('b', 'double'), ('c', 'string'), ('d', 'date'), ('e', 'timestamp')]"
     ]
    }
   ],
   "source": [
    "# access datatype as list of str\n",
    "pdf.dtypes"
   ]
  },
  {
   "cell_type": "code",
   "execution_count": 64,
   "id": "0d97b7d0",
   "metadata": {},
   "outputs": [
    {
     "data": {
      "application/vnd.jupyter.widget-view+json": {
       "model_id": "35e47f3b5882470d80b1e8626d019b94",
       "version_major": 2,
       "version_minor": 0
      },
      "text/plain": [
       "FloatProgress(value=0.0, bar_style='info', description='Progress:', layout=Layout(height='25px', width='50%'),…"
      ]
     },
     "metadata": {},
     "output_type": "display_data"
    },
    {
     "name": "stdout",
     "output_type": "stream",
     "text": [
      "StructType(List(StructField(a,LongType,true),StructField(b,DoubleType,true),StructField(c,StringType,true),StructField(d,DateType,true),StructField(e,TimestampType,true)))"
     ]
    }
   ],
   "source": [
    "# return schema object (not show schema)\n",
    "pdf.schema"
   ]
  },
  {
   "cell_type": "markdown",
   "id": "2bfd2d08",
   "metadata": {},
   "source": [
    "## DataFrame Method\n",
    "\n",
    "Call method usually triggers computation\n",
    "\n",
    "Ref:\n",
    "\n",
    "- https://spark.apache.org/docs/latest/api/python/reference/api/pyspark.sql.DataFrame.html"
   ]
  },
  {
   "cell_type": "code",
   "execution_count": 65,
   "id": "90672059",
   "metadata": {},
   "outputs": [
    {
     "data": {
      "application/vnd.jupyter.widget-view+json": {
       "model_id": "83d686aa322b4e189d59430f4a30c9c6",
       "version_major": 2,
       "version_minor": 0
      },
      "text/plain": [
       "FloatProgress(value=0.0, bar_style='info', description='Progress:', layout=Layout(height='25px', width='50%'),…"
      ]
     },
     "metadata": {},
     "output_type": "display_data"
    },
    {
     "name": "stdout",
     "output_type": "stream",
     "text": [
      "3"
     ]
    }
   ],
   "source": [
    "# count number of rows\n",
    "pdf.count()"
   ]
  },
  {
   "cell_type": "code",
   "execution_count": 66,
   "id": "fa65defb",
   "metadata": {},
   "outputs": [
    {
     "data": {
      "application/vnd.jupyter.widget-view+json": {
       "model_id": "cafdd1afed714c4eb9242f2e4706a9a8",
       "version_major": 2,
       "version_minor": 0
      },
      "text/plain": [
       "FloatProgress(value=0.0, bar_style='info', description='Progress:', layout=Layout(height='25px', width='50%'),…"
      ]
     },
     "metadata": {},
     "output_type": "display_data"
    },
    {
     "name": "stdout",
     "output_type": "stream",
     "text": [
      "Row(a=1, b=2.0, c='string1', d=datetime.date(2000, 1, 1), e=datetime.datetime(2000, 1, 1, 12, 0))"
     ]
    }
   ],
   "source": [
    "# Return the first ``pyspark.sql.Row``\n",
    "pdf.first()"
   ]
  },
  {
   "cell_type": "code",
   "execution_count": 67,
   "id": "73fc8c51",
   "metadata": {},
   "outputs": [
    {
     "data": {
      "application/vnd.jupyter.widget-view+json": {
       "model_id": "987cf08b7b2f489880ee5eeba1f68820",
       "version_major": 2,
       "version_minor": 0
      },
      "text/plain": [
       "FloatProgress(value=0.0, bar_style='info', description='Progress:', layout=Layout(height='25px', width='50%'),…"
      ]
     },
     "metadata": {},
     "output_type": "display_data"
    },
    {
     "name": "stdout",
     "output_type": "stream",
     "text": [
      "[Row(a=1, b=2.0, c='string1', d=datetime.date(2000, 1, 1), e=datetime.datetime(2000, 1, 1, 12, 0)), Row(a=2, b=3.0, c='string2', d=datetime.date(2000, 2, 1), e=datetime.datetime(2000, 1, 2, 12, 0)), Row(a=3, b=4.0, c='string3', d=datetime.date(2000, 3, 1), e=datetime.datetime(2000, 1, 3, 12, 0))]"
     ]
    }
   ],
   "source": [
    "# Return first N of ``pyspark.sql.Row`` as a list\n",
    "pdf.head(3)"
   ]
  },
  {
   "cell_type": "code",
   "execution_count": 68,
   "id": "3afb1bc9",
   "metadata": {},
   "outputs": [
    {
     "data": {
      "application/vnd.jupyter.widget-view+json": {
       "model_id": "d6efdfdbdd434ddebd57515cd124dce7",
       "version_major": 2,
       "version_minor": 0
      },
      "text/plain": [
       "FloatProgress(value=0.0, bar_style='info', description='Progress:', layout=Layout(height='25px', width='50%'),…"
      ]
     },
     "metadata": {},
     "output_type": "display_data"
    },
    {
     "name": "stdout",
     "output_type": "stream",
     "text": [
      "[Row(a=1, b=2.0, c='string1', d=datetime.date(2000, 1, 1), e=datetime.datetime(2000, 1, 1, 12, 0)), Row(a=2, b=3.0, c='string2', d=datetime.date(2000, 2, 1), e=datetime.datetime(2000, 1, 2, 12, 0)), Row(a=3, b=4.0, c='string3', d=datetime.date(2000, 3, 1), e=datetime.datetime(2000, 1, 3, 12, 0))]"
     ]
    }
   ],
   "source": [
    "# Return first N of ``pyspark.sql.Row`` as a list\n",
    "pdf.take(3)"
   ]
  },
  {
   "cell_type": "code",
   "execution_count": 69,
   "id": "48807ac7",
   "metadata": {},
   "outputs": [
    {
     "data": {
      "application/vnd.jupyter.widget-view+json": {
       "model_id": "4556e76b925945d98b587a1710228e90",
       "version_major": 2,
       "version_minor": 0
      },
      "text/plain": [
       "FloatProgress(value=0.0, bar_style='info', description='Progress:', layout=Layout(height='25px', width='50%'),…"
      ]
     },
     "metadata": {},
     "output_type": "display_data"
    }
   ],
   "source": [
    "# Return last N of ``pyspark.sql.Row`` as a list (added in 3.0.0)\n",
    "# pdf.tail(3)"
   ]
  },
  {
   "cell_type": "code",
   "execution_count": 70,
   "id": "38e5696e",
   "metadata": {},
   "outputs": [
    {
     "data": {
      "application/vnd.jupyter.widget-view+json": {
       "model_id": "0bb8c4c258764c28aed666962f13ef17",
       "version_major": 2,
       "version_minor": 0
      },
      "text/plain": [
       "FloatProgress(value=0.0, bar_style='info', description='Progress:', layout=Layout(height='25px', width='50%'),…"
      ]
     },
     "metadata": {},
     "output_type": "display_data"
    },
    {
     "name": "stdout",
     "output_type": "stream",
     "text": [
      "-RECORD 0------------------\n",
      " a   | 1                   \n",
      " b   | 2.0                 \n",
      " c   | string1             \n",
      " d   | 2000-01-01          \n",
      " e   | 2000-01-01 12:00:00 \n",
      "-RECORD 1------------------\n",
      " a   | 2                   \n",
      " b   | 3.0                 \n",
      " c   | string2             \n",
      " d   | 2000-02-01          \n",
      " e   | 2000-01-02 12:00:00 \n",
      "-RECORD 2------------------\n",
      " a   | 3                   \n",
      " b   | 4.0                 \n",
      " c   | string3             \n",
      " d   | 2000-03-01          \n",
      " e   | 2000-01-03 12:00:00"
     ]
    }
   ],
   "source": [
    "# Pretty print first n rows\n",
    "pdf.show(3, truncate=False, vertical=True)"
   ]
  },
  {
   "cell_type": "code",
   "execution_count": 71,
   "id": "99eed6e8",
   "metadata": {},
   "outputs": [
    {
     "data": {
      "application/vnd.jupyter.widget-view+json": {
       "model_id": "e21158acdb2f48cfb5f1ba129658381b",
       "version_major": 2,
       "version_minor": 0
      },
      "text/plain": [
       "FloatProgress(value=0.0, bar_style='info', description='Progress:', layout=Layout(height='25px', width='50%'),…"
      ]
     },
     "metadata": {},
     "output_type": "display_data"
    },
    {
     "name": "stdout",
     "output_type": "stream",
     "text": [
      "Column<b'a'>"
     ]
    }
   ],
   "source": [
    "# access one column method 1\n",
    "pdf.a"
   ]
  },
  {
   "cell_type": "code",
   "execution_count": 72,
   "id": "02aedf0a",
   "metadata": {},
   "outputs": [
    {
     "data": {
      "application/vnd.jupyter.widget-view+json": {
       "model_id": "8c8a89cc02464895a4885668ec24202d",
       "version_major": 2,
       "version_minor": 0
      },
      "text/plain": [
       "FloatProgress(value=0.0, bar_style='info', description='Progress:', layout=Layout(height='25px', width='50%'),…"
      ]
     },
     "metadata": {},
     "output_type": "display_data"
    },
    {
     "name": "stdout",
     "output_type": "stream",
     "text": [
      "Column<b'a'>"
     ]
    }
   ],
   "source": [
    "# access one column method 2\n",
    "pdf[\"a\"]"
   ]
  },
  {
   "cell_type": "code",
   "execution_count": 73,
   "id": "4f2c1022",
   "metadata": {},
   "outputs": [
    {
     "data": {
      "application/vnd.jupyter.widget-view+json": {
       "model_id": "1a465170c44a4747bc221ebb8b60167a",
       "version_major": 2,
       "version_minor": 0
      },
      "text/plain": [
       "FloatProgress(value=0.0, bar_style='info', description='Progress:', layout=Layout(height='25px', width='50%'),…"
      ]
     },
     "metadata": {},
     "output_type": "display_data"
    },
    {
     "name": "stdout",
     "output_type": "stream",
     "text": [
      "+---+---+\n",
      "|  a|  b|\n",
      "+---+---+\n",
      "|  1|2.0|\n",
      "|  2|3.0|\n",
      "|  3|4.0|\n",
      "+---+---+"
     ]
    }
   ],
   "source": [
    "# access multiple column\n",
    "pdf[[\"a\", \"b\"]].show()"
   ]
  },
  {
   "cell_type": "code",
   "execution_count": 74,
   "id": "0e090d14",
   "metadata": {},
   "outputs": [
    {
     "data": {
      "application/vnd.jupyter.widget-view+json": {
       "model_id": "2b54005f7d834bc6827ce380c69ce5c6",
       "version_major": 2,
       "version_minor": 0
      },
      "text/plain": [
       "FloatProgress(value=0.0, bar_style='info', description='Progress:', layout=Layout(height='25px', width='50%'),…"
      ]
     },
     "metadata": {},
     "output_type": "display_data"
    },
    {
     "name": "stdout",
     "output_type": "stream",
     "text": [
      "+---+---+\n",
      "|  a|  b|\n",
      "+---+---+\n",
      "|  1|2.0|\n",
      "|  2|3.0|\n",
      "|  3|4.0|\n",
      "+---+---+"
     ]
    }
   ],
   "source": [
    "# drop column and return new dataframe\n",
    "pdf.drop(\"c\", \"d\", \"e\").show()"
   ]
  },
  {
   "cell_type": "markdown",
   "id": "9d88baff",
   "metadata": {},
   "source": [
    "## Add Column to DataFrame\n",
    "\n",
    "如果只要添加一列, 用 ``pyspark.sql.DataFrame.withColumn`` 方法. 如果要添加多列, 由于 ``pyspark.sql.DataFrame.withColumn`` 方法需要 projection, 如果用该方法添加多列, 会占用大量内存. 官方建议使用 ``pyspark.sql.DataFrame.select`` 方法同时操作多列.\n",
    "\n",
    "- https://spark.apache.org/docs/latest/api/python/reference/api/pyspark.sql.DataFrame.withColumn.html#pyspark.sql.DataFrame.withColumn\n",
    "- https://sparkbyexamples.com/pyspark/pyspark-add-new-column-to-dataframe/"
   ]
  },
  {
   "cell_type": "code",
   "execution_count": 75,
   "id": "f1f5cd57",
   "metadata": {},
   "outputs": [
    {
     "data": {
      "application/vnd.jupyter.widget-view+json": {
       "model_id": "a992e88a122b41c68868f6115e747370",
       "version_major": 2,
       "version_minor": 0
      },
      "text/plain": [
       "FloatProgress(value=0.0, bar_style='info', description='Progress:', layout=Layout(height='25px', width='50%'),…"
      ]
     },
     "metadata": {},
     "output_type": "display_data"
    },
    {
     "name": "stdout",
     "output_type": "stream",
     "text": [
      "+---+---+-------+----------+-------------------+-----+\n",
      "|  a|  b|      c|         d|                  e|    f|\n",
      "+---+---+-------+----------+-------------------+-----+\n",
      "|  1|2.0|string1|2000-01-01|2000-01-01 12:00:00|Alice|\n",
      "|  2|3.0|string2|2000-02-01|2000-01-02 12:00:00|Alice|\n",
      "|  3|4.0|string3|2000-03-01|2000-01-03 12:00:00|Alice|\n",
      "+---+---+-------+----------+-------------------+-----+"
     ]
    }
   ],
   "source": [
    "# 1. Add New Column with Constant Value\n",
    "pdf.withColumn(\"f\", sql_funcs.lit(\"Alice\")).show()"
   ]
  },
  {
   "cell_type": "code",
   "execution_count": 76,
   "id": "7f7137e6",
   "metadata": {},
   "outputs": [
    {
     "data": {
      "application/vnd.jupyter.widget-view+json": {
       "model_id": "43e4ac5cee144f089a6d771b526a041a",
       "version_major": 2,
       "version_minor": 0
      },
      "text/plain": [
       "FloatProgress(value=0.0, bar_style='info', description='Progress:', layout=Layout(height='25px', width='50%'),…"
      ]
     },
     "metadata": {},
     "output_type": "display_data"
    },
    {
     "name": "stdout",
     "output_type": "stream",
     "text": [
      "+---+---+-------+----------+-------------------+---+\n",
      "|  a|  b|      c|         d|                  e|  f|\n",
      "+---+---+-------+----------+-------------------+---+\n",
      "|  1|2.0|string1|2000-01-01|2000-01-01 12:00:00|  1|\n",
      "|  2|3.0|string2|2000-02-01|2000-01-02 12:00:00|  4|\n",
      "|  3|4.0|string3|2000-03-01|2000-01-03 12:00:00|  9|\n",
      "+---+---+-------+----------+-------------------+---+"
     ]
    }
   ],
   "source": [
    "# 2. Add Column Based on Another Column of DataFrame\n",
    "pdf.withColumn(\"f\", pdf.a * pdf.a).show()"
   ]
  },
  {
   "cell_type": "code",
   "execution_count": 77,
   "id": "deed634a",
   "metadata": {},
   "outputs": [
    {
     "data": {
      "application/vnd.jupyter.widget-view+json": {
       "model_id": "2674d2a73a504cecb9f7968a3e8a2664",
       "version_major": 2,
       "version_minor": 0
      },
      "text/plain": [
       "FloatProgress(value=0.0, bar_style='info', description='Progress:', layout=Layout(height='25px', width='50%'),…"
      ]
     },
     "metadata": {},
     "output_type": "display_data"
    },
    {
     "name": "stdout",
     "output_type": "stream",
     "text": [
      "+---+---+-------+----------+-------------------+---------+\n",
      "|  a|  b|      c|         d|                  e|        f|\n",
      "+---+---+-------+----------+-------------------+---------+\n",
      "|  1|2.0|string1|2000-01-01|2000-01-01 12:00:00|      <=1|\n",
      "|  2|3.0|string2|2000-02-01|2000-01-02 12:00:00|1 < ? < 3|\n",
      "|  3|4.0|string3|2000-03-01|2000-01-03 12:00:00|      >=3|\n",
      "+---+---+-------+----------+-------------------+---------+"
     ]
    }
   ],
   "source": [
    "# 3. Add Column Value Based on Condition\n",
    "pdf.withColumn(\n",
    "    \"f\", \n",
    "    sql_funcs.when(\n",
    "        pdf.a <= 1, \n",
    "        sql_funcs.lit(\"<=1\"),\n",
    "    ).when(\n",
    "        (pdf.a > 1) & (pdf.a < 3), \n",
    "        sql_funcs.lit(\"1 < ? < 3\"),\n",
    "    ).otherwise(sql_funcs.lit(\">=3\"))\n",
    ").show()"
   ]
  },
  {
   "cell_type": "code",
   "execution_count": 78,
   "id": "445529dc",
   "metadata": {},
   "outputs": [
    {
     "data": {
      "application/vnd.jupyter.widget-view+json": {
       "model_id": "fe422d831aa64d4cb4b7116e4e0e7a8c",
       "version_major": 2,
       "version_minor": 0
      },
      "text/plain": [
       "FloatProgress(value=0.0, bar_style='info', description='Progress:', layout=Layout(height='25px', width='50%'),…"
      ]
     },
     "metadata": {},
     "output_type": "display_data"
    },
    {
     "name": "stdout",
     "output_type": "stream",
     "text": [
      "+---+---+-------+----------+-------------------+---+----+\n",
      "|  a|  b|      c|         d|                  e|  f|   g|\n",
      "+---+---+-------+----------+-------------------+---+----+\n",
      "|  1|2.0|string1|2000-01-01|2000-01-01 12:00:00|  1|20.0|\n",
      "|  2|3.0|string2|2000-02-01|2000-01-02 12:00:00|  4|30.0|\n",
      "|  3|4.0|string3|2000-03-01|2000-01-03 12:00:00|  9|40.0|\n",
      "+---+---+-------+----------+-------------------+---+----+"
     ]
    }
   ],
   "source": [
    "# ``DataFrame.withColumn`` method introduces a projection internally. \n",
    "# Therefore, calling it multiple times, for instance, via loops in order to \n",
    "# add multiple columns can generate big plans which can cause performance issues \n",
    "# and even StackOverflowException. \n",
    "# To avoid this, use select() with the multiple columns at once.\n",
    "pdf.select(\n",
    "    pdf.a,\n",
    "    pdf.b,\n",
    "    pdf.c,\n",
    "    pdf.d,\n",
    "    pdf.e,\n",
    "    (pdf.a * pdf.a).alias(\"f\"),\n",
    "    (pdf.b * 10).alias(\"g\")\n",
    ").show()"
   ]
  },
  {
   "cell_type": "code",
   "execution_count": null,
   "id": "4dba803a",
   "metadata": {},
   "outputs": [],
   "source": []
  }
 ],
 "metadata": {
  "kernelspec": {
   "display_name": "Sparkmagic (PySpark)",
   "language": "python",
   "name": "pysparkkernel"
  },
  "language_info": {
   "codemirror_mode": {
    "name": "python",
    "version": 3
   },
   "file_extension": ".py",
   "mimetype": "text/x-python",
   "name": "pyspark",
   "pygments_lexer": "python3"
  },
  "toc-autonumbering": true,
  "toc-showtags": false
 },
 "nbformat": 4,
 "nbformat_minor": 5
}
