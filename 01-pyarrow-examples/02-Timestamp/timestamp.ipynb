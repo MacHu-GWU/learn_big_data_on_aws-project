{
 "cells": [
  {
   "cell_type": "markdown",
   "id": "1b132f19",
   "metadata": {},
   "source": [
    "# TimeStamp in ``pyarrow``"
   ]
  },
  {
   "cell_type": "markdown",
   "id": "daca8979",
   "metadata": {},
   "source": [
    "## 时间戳的本质\n",
    "\n",
    "**计算机世界中如何表达时间?**\n",
    "\n",
    "在人类的语言中, 我们通常用 ``2001-01-15 08:30:43.000_000_001T00:00`` (精确到1ns) 这样的字符串来描述时间. 但在计算机的世界里, 用字符串来保存时间是非常低效的. 这是因为即使是 ASCII 字符串, 一个字符也要占用 8 bit. 这么长一串字符串, 如果要提供 ns 级别的精度, 即使不考虑时区, 也需要 ``len(\"2001-01-15 08:30:43.000000001\") * 8`` 232 bit. 非常不利于存储. 并且字符串也很不便于计算, 比如你想给一个时间加 1 天零 2 个小时, 就要考虑很多进位的问题, 非常不变.\n",
    "\n",
    "在计算机的世界里, 通常用 64 位整数来表示时间. 一般我们默认一个时间起点, 业内通常用 Unix EPOCH (unix 系统的发明时间) 也就是 ``1970-01-01 00:00:00`` 作为起点 (也有把 BC, 也就是公元 0000 年, 作为起点的, 不过很少见), 然后把某个时间到 EPOCH 的纳秒数用整数表示, 这个整数就可以用来唯一确定一个时间了. 我们可以简单做一个计算:\n",
    "\n",
    "- 32 bit 可以表示的最大整数为 2 ** 32 = 4,294,967,296\n",
    "- 64 bit 可以表示的最大整数为 2 ** 64 = 18,446,744,073,709,551,616\n",
    "- 从 EPOCH 开始, 如果精度是 1 秒, 32 位整数可以表示到 2106-02-07 06:28:16\n",
    "- 从 EPOCH 开始, 如果精度是 1 毫秒, 32 位整数可以表示到 1970-02-19 17:02:47.296\n",
    "- **从 EPOCH 开始, 如果精度是 1 纳秒, 64 位整数可以表示到 2554-07-21 23:34:33.709553 (从 EPOCH 起 584 年), 足够我们用了**. 如果精度是 1 微秒 则从 EPOCH 起能用 584,000 年, 这完全够用了.\n",
    "\n",
    "术语:\n",
    "\n",
    "- EPOCH: 1970-01-01 00:00:00\n",
    "- BC: 0000-01-01 00:00:00\n",
    "- 毫秒 ms: 0.001 秒\n",
    "- 微秒 microsecond: 0.000001 秒\n",
    "- 纳秒 ns: 0.000000001 秒"
   ]
  },
  {
   "cell_type": "code",
   "execution_count": 19,
   "id": "3da4ce39",
   "metadata": {},
   "outputs": [
    {
     "name": "stdout",
     "output_type": "stream",
     "text": [
      "2106-02-07 06:28:16\n",
      "1970-02-19 17:02:47.296000\n",
      "2554-07-21 23:34:33.709553\n"
     ]
    }
   ],
   "source": [
    "from datetime import datetime, timedelta\n",
    "\n",
    "int32 = 2 ** 32\n",
    "int64 = 2 ** 64\n",
    "epoch = datetime(1970, 1, 1)\n",
    "print(epoch + timedelta(seconds= (int32 / 1)))\n",
    "print(epoch + timedelta(seconds= (int32 / 1000)))\n",
    "print(epoch + timedelta(seconds= (int64 / 1000000000)))"
   ]
  },
  {
   "cell_type": "markdown",
   "id": "298e38b0",
   "metadata": {},
   "source": [
    "## Timestamp in different System\n",
    "\n",
    "在 datetime.datetime, pyarrow, pandas, spark 中, 管理时间戳数据的方法是不同的.\n",
    "\n",
    "- datetime: 是精确到 microsecond 的 int64, 不支持 ns\n",
    "- pyarrow: 是精确到 ns 的 int64\n",
    "- pandas: 是可以精确到 ns 的 int64, 精度可调\n",
    "- spark: 是可以精确到 microseconds 的 int64, 不支持 ns\n",
    "\n",
    "这里要注意的是 spark 的时间戳对象是不带 timezone 信息的, 而是用 spark session 当前的 timezone. 不过你可以用 ``spark.conf.set(\"spark.sql.session.timeZone\", \"UTC\")`` 来修改 spark session 的 timeazone (一般是设置为 UTC)\n",
    "\n",
    "Ref:\n",
    "\n",
    "- pyarrow timestamp: https://arrow.apache.org/docs/python/timestamps.html\n",
    "- padnas timestamp: https://pandas.pydata.org/pandas-docs/stable/user_guide/timeseries.html\n"
   ]
  },
  {
   "cell_type": "code",
   "execution_count": 1,
   "id": "228e0ad4",
   "metadata": {},
   "outputs": [],
   "source": [
    "from datetime import datetime\n",
    "import pandas as pd\n",
    "import pyarrow as pa"
   ]
  },
  {
   "cell_type": "code",
   "execution_count": 2,
   "id": "7c388885",
   "metadata": {},
   "outputs": [],
   "source": [
    "datetime_list = [\n",
    "    datetime(2000, 1, 1), \n",
    "    datetime(2000, 1, 2),\n",
    "    datetime(2000, 1, 3),\n",
    "]\n",
    "\n",
    "t = pa.table({\"time\": datetime_list})\n",
    "df = pd.DataFrame({\"time\": datetime_list})"
   ]
  },
  {
   "cell_type": "code",
   "execution_count": 3,
   "id": "7c9142fb",
   "metadata": {},
   "outputs": [
    {
     "data": {
      "text/plain": [
       "pyarrow.Table\n",
       "time: timestamp[us]\n",
       "----\n",
       "time: [[2000-01-01 00:00:00.000000,2000-01-02 00:00:00.000000,2000-01-03 00:00:00.000000]]"
      ]
     },
     "execution_count": 3,
     "metadata": {},
     "output_type": "execute_result"
    }
   ],
   "source": [
    "t"
   ]
  },
  {
   "cell_type": "code",
   "execution_count": 4,
   "id": "3a4d93ad",
   "metadata": {},
   "outputs": [
    {
     "data": {
      "text/plain": [
       "TimestampType(timestamp[us])"
      ]
     },
     "execution_count": 4,
     "metadata": {},
     "output_type": "execute_result"
    }
   ],
   "source": [
    "t[\"time\"].type"
   ]
  },
  {
   "cell_type": "code",
   "execution_count": 5,
   "id": "45fe1912",
   "metadata": {},
   "outputs": [
    {
     "data": {
      "text/html": [
       "<div>\n",
       "<style scoped>\n",
       "    .dataframe tbody tr th:only-of-type {\n",
       "        vertical-align: middle;\n",
       "    }\n",
       "\n",
       "    .dataframe tbody tr th {\n",
       "        vertical-align: top;\n",
       "    }\n",
       "\n",
       "    .dataframe thead th {\n",
       "        text-align: right;\n",
       "    }\n",
       "</style>\n",
       "<table border=\"1\" class=\"dataframe\">\n",
       "  <thead>\n",
       "    <tr style=\"text-align: right;\">\n",
       "      <th></th>\n",
       "      <th>time</th>\n",
       "    </tr>\n",
       "  </thead>\n",
       "  <tbody>\n",
       "    <tr>\n",
       "      <th>0</th>\n",
       "      <td>2000-01-01</td>\n",
       "    </tr>\n",
       "    <tr>\n",
       "      <th>1</th>\n",
       "      <td>2000-01-02</td>\n",
       "    </tr>\n",
       "    <tr>\n",
       "      <th>2</th>\n",
       "      <td>2000-01-03</td>\n",
       "    </tr>\n",
       "  </tbody>\n",
       "</table>\n",
       "</div>"
      ],
      "text/plain": [
       "        time\n",
       "0 2000-01-01\n",
       "1 2000-01-02\n",
       "2 2000-01-03"
      ]
     },
     "execution_count": 5,
     "metadata": {},
     "output_type": "execute_result"
    }
   ],
   "source": [
    "df"
   ]
  },
  {
   "cell_type": "code",
   "execution_count": 6,
   "id": "c4060601",
   "metadata": {},
   "outputs": [
    {
     "data": {
      "text/plain": [
       "dtype('<M8[ns]')"
      ]
     },
     "execution_count": 6,
     "metadata": {},
     "output_type": "execute_result"
    }
   ],
   "source": [
    "df[\"time\"].dtype"
   ]
  },
  {
   "cell_type": "code",
   "execution_count": 8,
   "id": "003df2fc",
   "metadata": {},
   "outputs": [
    {
     "data": {
      "text/plain": [
       "<pyarrow.lib.ChunkedArray object at 0x7f2a742421a8>\n",
       "[\n",
       "  [\n",
       "    2000-01-01 00:00:00.000000000,\n",
       "    2000-01-02 00:00:00.000000000,\n",
       "    2000-01-03 00:00:00.000000000\n",
       "  ]\n",
       "]"
      ]
     },
     "execution_count": 8,
     "metadata": {},
     "output_type": "execute_result"
    }
   ],
   "source": [
    "pa.Table.from_pandas(df)[\"time\"]"
   ]
  },
  {
   "cell_type": "code",
   "execution_count": 9,
   "id": "9fa97182",
   "metadata": {},
   "outputs": [
    {
     "data": {
      "text/plain": [
       "0   2000-01-01\n",
       "1   2000-01-02\n",
       "2   2000-01-03\n",
       "Name: time, dtype: datetime64[ns]"
      ]
     },
     "execution_count": 9,
     "metadata": {},
     "output_type": "execute_result"
    }
   ],
   "source": [
    "t.to_pandas()[\"time\"]"
   ]
  },
  {
   "cell_type": "code",
   "execution_count": null,
   "id": "bbd8e732",
   "metadata": {},
   "outputs": [],
   "source": []
  }
 ],
 "metadata": {
  "kernelspec": {
   "display_name": "conda_python3",
   "language": "python",
   "name": "conda_python3"
  },
  "language_info": {
   "codemirror_mode": {
    "name": "ipython",
    "version": 3
   },
   "file_extension": ".py",
   "mimetype": "text/x-python",
   "name": "python",
   "nbconvert_exporter": "python",
   "pygments_lexer": "ipython3",
   "version": "3.6.13"
  }
 },
 "nbformat": 4,
 "nbformat_minor": 5
}
