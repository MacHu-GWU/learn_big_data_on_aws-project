{
 "cells": [
  {
   "cell_type": "markdown",
   "id": "bfd0636b",
   "metadata": {},
   "source": [
    "# Parquet Baisc\n",
    "\n",
    "[CN]\n",
    "\n",
    "在大数据领域, 列式存储格式是用来存储大量数据并提供高性能查询的行业标准. 其中有两种数据格式非常流行 [Apache ORC](https://orc.apache.org/) [Apache Parquet](https://parquet.apache.org/). 其中 Parquet 要更流行一些. [Apache Arrow](https://arrow.apache.org/docs/index.html) 则是一个 in-memory analytics 的数据分析平台, 能把对这些流行的数据格式的 IO, transform 等操作整合起来的一个项目.\n",
    "\n",
    "在 Python 社区主流的用于数据分析的库是 [Pandas](https://pandas.pydata.org/). **PyArrow** 则是用 Python 操作 Apache Arrow 的一套 API, 同时可以用这套 API 操作 Parquet / ORC 数据格式. 并且提供了一套和 pandas 交互的接口.\n",
    "\n",
    "在小数据领域 pandas 基本已经够用了, 而在大数据领域, 学习 pyarrow 则是非常有必要的.\n",
    "\n",
    "---\n",
    "\n",
    "[EN]\n",
    "\n",
    "\n",
    "Ref:\n",
    "\n",
    "- https://arrow.apache.org/docs/python/parquet.html"
   ]
  },
  {
   "cell_type": "code",
   "execution_count": 1,
   "id": "141e630f",
   "metadata": {},
   "outputs": [
    {
     "name": "stdout",
     "output_type": "stream",
     "text": [
      "Requirement already satisfied: rich in /home/ec2-user/anaconda3/envs/python3/lib/python3.6/site-packages (12.0.0)\n",
      "Requirement already satisfied: pygments<3.0.0,>=2.6.0 in /home/ec2-user/anaconda3/envs/python3/lib/python3.6/site-packages (from rich) (2.8.0)\n",
      "Requirement already satisfied: dataclasses<0.9,>=0.7 in /home/ec2-user/anaconda3/envs/python3/lib/python3.6/site-packages (from rich) (0.8)\n",
      "Requirement already satisfied: commonmark<0.10.0,>=0.9.0 in /home/ec2-user/anaconda3/envs/python3/lib/python3.6/site-packages (from rich) (0.9.1)\n",
      "Requirement already satisfied: typing-extensions<5.0,>=3.7.4 in /home/ec2-user/anaconda3/envs/python3/lib/python3.6/site-packages (from rich) (4.0.1)\n",
      "Note: you may need to restart the kernel to use updated packages.\n",
      "Requirement already satisfied: smart_open in /home/ec2-user/anaconda3/envs/python3/lib/python3.6/site-packages (5.2.1)\n",
      "Note: you may need to restart the kernel to use updated packages.\n",
      "Requirement already satisfied: s3pathlib in /home/ec2-user/anaconda3/envs/python3/lib/python3.6/site-packages (1.0.5)\n",
      "Requirement already satisfied: pathlib-mate>=1.0.1 in /home/ec2-user/anaconda3/envs/python3/lib/python3.6/site-packages (from s3pathlib) (1.0.2)\n",
      "Requirement already satisfied: autopep8 in /home/ec2-user/anaconda3/envs/python3/lib/python3.6/site-packages (from pathlib-mate>=1.0.1->s3pathlib) (1.5.5)\n",
      "Requirement already satisfied: atomicwrites in /home/ec2-user/anaconda3/envs/python3/lib/python3.6/site-packages (from pathlib-mate>=1.0.1->s3pathlib) (1.4.0)\n",
      "Requirement already satisfied: six in /home/ec2-user/anaconda3/envs/python3/lib/python3.6/site-packages (from pathlib-mate>=1.0.1->s3pathlib) (1.15.0)\n",
      "Requirement already satisfied: toml in /home/ec2-user/anaconda3/envs/python3/lib/python3.6/site-packages (from autopep8->pathlib-mate>=1.0.1->s3pathlib) (0.10.2)\n",
      "Requirement already satisfied: pycodestyle>=2.6.0 in /home/ec2-user/anaconda3/envs/python3/lib/python3.6/site-packages (from autopep8->pathlib-mate>=1.0.1->s3pathlib) (2.6.0)\n",
      "Note: you may need to restart the kernel to use updated packages.\n",
      "Requirement already satisfied: pathlib_mate in /home/ec2-user/anaconda3/envs/python3/lib/python3.6/site-packages (1.0.2)\n",
      "Requirement already satisfied: atomicwrites in /home/ec2-user/anaconda3/envs/python3/lib/python3.6/site-packages (from pathlib_mate) (1.4.0)\n",
      "Requirement already satisfied: autopep8 in /home/ec2-user/anaconda3/envs/python3/lib/python3.6/site-packages (from pathlib_mate) (1.5.5)\n",
      "Requirement already satisfied: six in /home/ec2-user/anaconda3/envs/python3/lib/python3.6/site-packages (from pathlib_mate) (1.15.0)\n",
      "Requirement already satisfied: toml in /home/ec2-user/anaconda3/envs/python3/lib/python3.6/site-packages (from autopep8->pathlib_mate) (0.10.2)\n",
      "Requirement already satisfied: pycodestyle>=2.6.0 in /home/ec2-user/anaconda3/envs/python3/lib/python3.6/site-packages (from autopep8->pathlib_mate) (2.6.0)\n",
      "Note: you may need to restart the kernel to use updated packages.\n",
      "Requirement already satisfied: pandas in /home/ec2-user/anaconda3/envs/python3/lib/python3.6/site-packages (1.1.5)\n",
      "Requirement already satisfied: python-dateutil>=2.7.3 in /home/ec2-user/anaconda3/envs/python3/lib/python3.6/site-packages (from pandas) (2.8.1)\n",
      "Requirement already satisfied: pytz>=2017.2 in /home/ec2-user/anaconda3/envs/python3/lib/python3.6/site-packages (from pandas) (2021.1)\n",
      "Requirement already satisfied: numpy>=1.15.4 in /home/ec2-user/anaconda3/envs/python3/lib/python3.6/site-packages (from pandas) (1.19.5)\n",
      "Requirement already satisfied: six>=1.5 in /home/ec2-user/anaconda3/envs/python3/lib/python3.6/site-packages (from python-dateutil>=2.7.3->pandas) (1.15.0)\n",
      "Note: you may need to restart the kernel to use updated packages.\n",
      "Requirement already satisfied: pyarrow in /home/ec2-user/anaconda3/envs/python3/lib/python3.6/site-packages (6.0.1)\n",
      "Requirement already satisfied: numpy>=1.16.6 in /home/ec2-user/anaconda3/envs/python3/lib/python3.6/site-packages (from pyarrow) (1.19.5)\n",
      "Note: you may need to restart the kernel to use updated packages.\n",
      "Requirement already satisfied: mpire in /home/ec2-user/anaconda3/envs/python3/lib/python3.6/site-packages (2.3.3)\n",
      "Requirement already satisfied: dataclasses in /home/ec2-user/anaconda3/envs/python3/lib/python3.6/site-packages (from mpire) (0.8)\n",
      "Requirement already satisfied: tqdm in /home/ec2-user/anaconda3/envs/python3/lib/python3.6/site-packages (from mpire) (4.62.3)\n",
      "Note: you may need to restart the kernel to use updated packages.\n"
     ]
    }
   ],
   "source": [
    "%pip install rich\n",
    "%pip install smart_open\n",
    "%pip install s3pathlib\n",
    "%pip install pathlib_mate\n",
    "%pip install pandas\n",
    "%pip install pyarrow\n",
    "%pip install mpire"
   ]
  },
  {
   "cell_type": "code",
   "execution_count": 2,
   "id": "01cb51f5",
   "metadata": {},
   "outputs": [
    {
     "name": "stdout",
     "output_type": "stream",
     "text": [
      "Number of CPU = 16\n"
     ]
    }
   ],
   "source": [
    "# inspect how many CPU on this machine\n",
    "import os\n",
    "\n",
    "print(f\"Number of CPU = {os.cpu_count()}\")"
   ]
  },
  {
   "cell_type": "code",
   "execution_count": 3,
   "id": "2d053099",
   "metadata": {},
   "outputs": [],
   "source": [
    "import random\n",
    "import string\n",
    "import numpy as np\n",
    "import pandas as pd\n",
    "import pyarrow as pa\n",
    "import pyarrow.parquet as pq\n",
    "from rich import print as rprint\n",
    "from s3pathlib import S3Path\n",
    "from pathlib_mate import Path\n",
    "\n",
    "dir_here = Path.cwd()"
   ]
  },
  {
   "cell_type": "code",
   "execution_count": 4,
   "id": "122acfd8",
   "metadata": {},
   "outputs": [
    {
     "data": {
      "text/plain": [
       "'wvsnuosi'"
      ]
     },
     "execution_count": 4,
     "metadata": {},
     "output_type": "execute_result"
    }
   ],
   "source": [
    "def rnd_str(length=8):\n",
    "    \"\"\"\n",
    "    Generate random length string.\n",
    "    \"\"\"\n",
    "    return \"\".join([random.choice(string.ascii_lowercase) for _ in range(length)])\n",
    "\n",
    "rnd_str(8)"
   ]
  },
  {
   "cell_type": "markdown",
   "id": "729d03e0",
   "metadata": {},
   "source": [
    "## ``pyarrow.Table`` vs ``pandas.DataFrame``\n",
    "\n",
    "在 PyArrow 中核心的 API 是 ``pyarrow.Table``. 类似于 ``pandas.DataFrame``, 是一个二维数据表结构. 但是 ``pyarrow.Table`` 的 API 没有 ``pandas.DataFrame`` 灵活. 实际操作中经常会用 ``pandas.DataFrame`` 操作数据, 然后在写入文件前转化为 ``pyarrow.Table``.\n",
    "\n",
    "其中两个核心的 API 是:\n",
    "\n",
    "- ``pyarrow.Table.from_pandas(df)``\n",
    "- ``pyarrow.Table.to_pandas()``\n"
   ]
  },
  {
   "cell_type": "code",
   "execution_count": 5,
   "id": "3ed6dd6f",
   "metadata": {},
   "outputs": [
    {
     "data": {
      "text/html": [
       "<div>\n",
       "<style scoped>\n",
       "    .dataframe tbody tr th:only-of-type {\n",
       "        vertical-align: middle;\n",
       "    }\n",
       "\n",
       "    .dataframe tbody tr th {\n",
       "        vertical-align: top;\n",
       "    }\n",
       "\n",
       "    .dataframe thead th {\n",
       "        text-align: right;\n",
       "    }\n",
       "</style>\n",
       "<table border=\"1\" class=\"dataframe\">\n",
       "  <thead>\n",
       "    <tr style=\"text-align: right;\">\n",
       "      <th></th>\n",
       "      <th>id</th>\n",
       "      <th>name</th>\n",
       "    </tr>\n",
       "  </thead>\n",
       "  <tbody>\n",
       "    <tr>\n",
       "      <th>0</th>\n",
       "      <td>1</td>\n",
       "      <td>uubnlzwr</td>\n",
       "    </tr>\n",
       "    <tr>\n",
       "      <th>1</th>\n",
       "      <td>2</td>\n",
       "      <td>pblgfgxq</td>\n",
       "    </tr>\n",
       "    <tr>\n",
       "      <th>2</th>\n",
       "      <td>3</td>\n",
       "      <td>wzkrfkea</td>\n",
       "    </tr>\n",
       "  </tbody>\n",
       "</table>\n",
       "</div>"
      ],
      "text/plain": [
       "   id      name\n",
       "0   1  uubnlzwr\n",
       "1   2  pblgfgxq\n",
       "2   3  wzkrfkea"
      ]
     },
     "execution_count": 5,
     "metadata": {},
     "output_type": "execute_result"
    }
   ],
   "source": [
    "# 创建一个 Pandas DataFarme\n",
    "n_rows = 1000\n",
    "df = pd.DataFrame()\n",
    "df[\"id\"] = range(1, n_rows+1)\n",
    "df[\"name\"] = [rnd_str(8) for _ in range(n_rows)]\n",
    "df.head(3)"
   ]
  },
  {
   "cell_type": "code",
   "execution_count": 6,
   "id": "712d45ea",
   "metadata": {},
   "outputs": [],
   "source": [
    "# 将 pandas.DataFrame 转化为 pyarrow.Table\n",
    "# Ref: https://arrow.apache.org/docs/python/pandas.html\n",
    "table = pa.Table.from_pandas(df)"
   ]
  },
  {
   "cell_type": "code",
   "execution_count": 7,
   "id": "5f9191d2",
   "metadata": {},
   "outputs": [
    {
     "name": "stdout",
     "output_type": "stream",
     "text": [
      "--- method 1 ---\n",
      "id: int64\n",
      "name: string\n",
      "-- schema metadata --\n",
      "pandas: '{\"index_columns\": [{\"kind\": \"range\", \"name\": null, \"start\": 0, \"' + 470\n",
      "--- method 2 ---\n",
      "id: int64\n",
      "name: string\n",
      "-- schema metadata --\n",
      "pandas: '{\"index_columns\": [{\"kind\": \"range\", \"name\": null, \"start\": 0, \"' + 470\n"
     ]
    }
   ],
   "source": [
    "# 查看 Data Schema\n",
    "# method1. use Table.schema\n",
    "print(\"--- method 1 ---\")\n",
    "print(table.schema)\n",
    "\n",
    "# method2. read schema from pandas DataFrame\n",
    "print(\"--- method 2 ---\")\n",
    "schema = pa.Schema.from_pandas(df)\n",
    "print(schema)"
   ]
  },
  {
   "cell_type": "markdown",
   "id": "a2901f2a",
   "metadata": {},
   "source": [
    "## Parquet File 读写"
   ]
  },
  {
   "cell_type": "code",
   "execution_count": 8,
   "id": "324c1307",
   "metadata": {},
   "outputs": [],
   "source": [
    "# 将 pyarrow.Table 写入磁盘\n",
    "# Ref: https://arrow.apache.org/docs/python/generated/pyarrow.parquet.write_table.html\n",
    "pq.write_table(table, Path(dir_here, \"users.parquet\").abspath)"
   ]
  },
  {
   "cell_type": "code",
   "execution_count": 9,
   "id": "c82ab150",
   "metadata": {},
   "outputs": [
    {
     "data": {
      "text/html": [
       "<div>\n",
       "<style scoped>\n",
       "    .dataframe tbody tr th:only-of-type {\n",
       "        vertical-align: middle;\n",
       "    }\n",
       "\n",
       "    .dataframe tbody tr th {\n",
       "        vertical-align: top;\n",
       "    }\n",
       "\n",
       "    .dataframe thead th {\n",
       "        text-align: right;\n",
       "    }\n",
       "</style>\n",
       "<table border=\"1\" class=\"dataframe\">\n",
       "  <thead>\n",
       "    <tr style=\"text-align: right;\">\n",
       "      <th></th>\n",
       "      <th>id</th>\n",
       "      <th>name</th>\n",
       "    </tr>\n",
       "  </thead>\n",
       "  <tbody>\n",
       "    <tr>\n",
       "      <th>0</th>\n",
       "      <td>1</td>\n",
       "      <td>uubnlzwr</td>\n",
       "    </tr>\n",
       "    <tr>\n",
       "      <th>1</th>\n",
       "      <td>2</td>\n",
       "      <td>pblgfgxq</td>\n",
       "    </tr>\n",
       "    <tr>\n",
       "      <th>2</th>\n",
       "      <td>3</td>\n",
       "      <td>wzkrfkea</td>\n",
       "    </tr>\n",
       "  </tbody>\n",
       "</table>\n",
       "</div>"
      ],
      "text/plain": [
       "   id      name\n",
       "0   1  uubnlzwr\n",
       "1   2  pblgfgxq\n",
       "2   3  wzkrfkea"
      ]
     },
     "execution_count": 9,
     "metadata": {},
     "output_type": "execute_result"
    }
   ],
   "source": [
    "# 从 磁盘读取 pyarrow.Table 数据\n",
    "# Ref: https://arrow.apache.org/docs/python/generated/pyarrow.parquet.read_table.html\n",
    "table = pq.read_table(Path(dir_here, \"users.parquet\").abspath)\n",
    "df = table.to_pandas()\n",
    "df.head(3)"
   ]
  },
  {
   "cell_type": "code",
   "execution_count": 10,
   "id": "9bc0f59c",
   "metadata": {},
   "outputs": [],
   "source": [
    "# 将 pyarrow.Table 写入磁盘, 不过用的是 file object API\n",
    "# Ref: https://arrow.apache.org/docs/python/generated/pyarrow.parquet.write_table.html\n",
    "p = Path(dir_here, \"users.parquet\")\n",
    "with p.open(\"wb\") as f:\n",
    "    pq.write_table(table, f)"
   ]
  },
  {
   "cell_type": "code",
   "execution_count": 11,
   "id": "e6ee979f",
   "metadata": {},
   "outputs": [
    {
     "data": {
      "text/html": [
       "<div>\n",
       "<style scoped>\n",
       "    .dataframe tbody tr th:only-of-type {\n",
       "        vertical-align: middle;\n",
       "    }\n",
       "\n",
       "    .dataframe tbody tr th {\n",
       "        vertical-align: top;\n",
       "    }\n",
       "\n",
       "    .dataframe thead th {\n",
       "        text-align: right;\n",
       "    }\n",
       "</style>\n",
       "<table border=\"1\" class=\"dataframe\">\n",
       "  <thead>\n",
       "    <tr style=\"text-align: right;\">\n",
       "      <th></th>\n",
       "      <th>id</th>\n",
       "      <th>name</th>\n",
       "    </tr>\n",
       "  </thead>\n",
       "  <tbody>\n",
       "    <tr>\n",
       "      <th>0</th>\n",
       "      <td>1</td>\n",
       "      <td>uubnlzwr</td>\n",
       "    </tr>\n",
       "    <tr>\n",
       "      <th>1</th>\n",
       "      <td>2</td>\n",
       "      <td>pblgfgxq</td>\n",
       "    </tr>\n",
       "    <tr>\n",
       "      <th>2</th>\n",
       "      <td>3</td>\n",
       "      <td>wzkrfkea</td>\n",
       "    </tr>\n",
       "  </tbody>\n",
       "</table>\n",
       "</div>"
      ],
      "text/plain": [
       "   id      name\n",
       "0   1  uubnlzwr\n",
       "1   2  pblgfgxq\n",
       "2   3  wzkrfkea"
      ]
     },
     "execution_count": 11,
     "metadata": {},
     "output_type": "execute_result"
    }
   ],
   "source": [
    "# 从 磁盘读取 pyarrow.Table 数据, 不过用的是 file object API\n",
    "# Ref: https://arrow.apache.org/docs/python/generated/pyarrow.parquet.read_table.html\n",
    "with p.open(\"rb\") as f:\n",
    "    table = pq.read_table(f)\n",
    "df = table.to_pandas()\n",
    "df.head(3)"
   ]
  },
  {
   "cell_type": "code",
   "execution_count": 12,
   "id": "7cb9f2ff",
   "metadata": {},
   "outputs": [
    {
     "data": {
      "text/html": [
       "<div>\n",
       "<style scoped>\n",
       "    .dataframe tbody tr th:only-of-type {\n",
       "        vertical-align: middle;\n",
       "    }\n",
       "\n",
       "    .dataframe tbody tr th {\n",
       "        vertical-align: top;\n",
       "    }\n",
       "\n",
       "    .dataframe thead th {\n",
       "        text-align: right;\n",
       "    }\n",
       "</style>\n",
       "<table border=\"1\" class=\"dataframe\">\n",
       "  <thead>\n",
       "    <tr style=\"text-align: right;\">\n",
       "      <th></th>\n",
       "      <th>id</th>\n",
       "      <th>name</th>\n",
       "    </tr>\n",
       "  </thead>\n",
       "  <tbody>\n",
       "    <tr>\n",
       "      <th>0</th>\n",
       "      <td>1</td>\n",
       "      <td>uubnlzwr</td>\n",
       "    </tr>\n",
       "    <tr>\n",
       "      <th>1</th>\n",
       "      <td>2</td>\n",
       "      <td>pblgfgxq</td>\n",
       "    </tr>\n",
       "    <tr>\n",
       "      <th>2</th>\n",
       "      <td>3</td>\n",
       "      <td>wzkrfkea</td>\n",
       "    </tr>\n",
       "  </tbody>\n",
       "</table>\n",
       "</div>"
      ],
      "text/plain": [
       "   id      name\n",
       "0   1  uubnlzwr\n",
       "1   2  pblgfgxq\n",
       "2   3  wzkrfkea"
      ]
     },
     "execution_count": 12,
     "metadata": {},
     "output_type": "execute_result"
    }
   ],
   "source": [
    "# 使用 pyarrow.parquet.ParquetFile API 读取数据, 这个 API 能提供更精细的 metadata access. \n",
    "# 但是这个 API 无法用于 write Data\n",
    "p_file = pq.ParquetFile(p.abspath)\n",
    "p_file.read().to_pandas().head(3)"
   ]
  },
  {
   "cell_type": "markdown",
   "id": "f02ad38d",
   "metadata": {},
   "source": [
    "## Dictionary Encoding 字典编码\n",
    "\n",
    "``字典编码`` 就是将所有可能的值的总数不多的列用数字编码. 比如不超过 256 个可能值就可以用一个 8 位整数对其编码, 原始值很可能是字符串, 这样能大大节约存储空间.\n",
    "\n",
    "``use_dictionary`` 参数能控制是否自动使用字典编码, 还是只对指定的列使用. ``pyarrow`` 默认使用 dict encode, 如果不使用, 最后的文件会大一些. 特别注意的是, 被 dict encode 后的列只能用于 等于 和 不等于 的比较, 而无法利用该列的最大最小信息进行 range query 的优化.\n",
    "\n",
    "Ref:\n",
    "\n",
    "- [pyarrow.parquet.write_table](https://arrow.apache.org/docs/python/generated/pyarrow.parquet.write_table.html)"
   ]
  },
  {
   "cell_type": "code",
   "execution_count": 13,
   "id": "33215cae",
   "metadata": {},
   "outputs": [
    {
     "name": "stdout",
     "output_type": "stream",
     "text": [
      "events1.parquet file size = 18.06 KB\n",
      "events2.parquet file size = 16.26 KB\n"
     ]
    }
   ],
   "source": [
    "p = Path(dir_here, \"events1.parquet\")\n",
    "with p.open(\"wb\") as f:\n",
    "    pq.write_table(\n",
    "        pa.Table.from_pandas(df), \n",
    "        f,\n",
    "        use_dictionary=True, # default is True \n",
    "    )\n",
    "print(f\"{p.basename} file size = {p.size_in_text}\")\n",
    "\n",
    "p = Path(dir_here, \"events2.parquet\")\n",
    "with p.open(\"wb\") as f:\n",
    "    pq.write_table(\n",
    "        pa.Table.from_pandas(df), \n",
    "        f,\n",
    "        use_dictionary=False,\n",
    "    )\n",
    "print(f\"{p.basename} file size = {p.size_in_text}\")"
   ]
  },
  {
   "cell_type": "markdown",
   "id": "13dfa305",
   "metadata": {},
   "source": [
    "### Row Group 行组\n",
    "\n",
    "Row Group 是把一个 Table 分拆成很多小的 \"Table\", 这些小的 \"Table\" 就是 Row Group. 每个 Row Group 有 metadata 和 statistics, 记录了每个 Column 的 max / min. 这样扫描数据的时候可以利用这些统计信息, 从而跳过很多 Row Group. 但是这样做的代价就是如果 Row Group 太多, metadata 也会太多, 写入速度也会变慢, 读取整块数据的速度也会变慢."
   ]
  },
  {
   "cell_type": "code",
   "execution_count": 14,
   "id": "e27cf827",
   "metadata": {},
   "outputs": [
    {
     "name": "stdout",
     "output_type": "stream",
     "text": [
      "一共有 1000 行\n",
      "一共有 1 个 row group, events1.parquet file size = 18.06 KB\n",
      "一共有 0 个 row group, events2.parquet file size = 18.06 KB\n"
     ]
    }
   ],
   "source": [
    "print(f\"一共有 {df.shape[0]} 行\")\n",
    "# row group 越多, 占用磁盘越多, 但是扫描起来越有可能跳过不必要的数据块. row group 的数量最终需要取比较平衡的值.\n",
    "p = Path(dir_here, \"events1.parquet\")\n",
    "row_group_size = 1000\n",
    "n_row_groups = int(df.shape[0] / row_group_size)\n",
    "with p.open(\"wb\") as f:\n",
    "    pq.write_table(\n",
    "        pa.Table.from_pandas(df), \n",
    "        f,\n",
    "        row_group_size=row_group_size,\n",
    "    )\n",
    "print(f\"一共有 {n_row_groups} 个 row group, {p.basename} file size = {p.size_in_text}\")\n",
    "\n",
    "p = Path(dir_here, \"events2.parquet\")\n",
    "row_group_size = 1000000\n",
    "n_row_groups = int(df.shape[0] / row_group_size)\n",
    "with p.open(\"wb\") as f:\n",
    "    pq.write_table(\n",
    "        pa.Table.from_pandas(df), \n",
    "        f,\n",
    "        row_group_size=row_group_size,\n",
    "    )\n",
    "print(f\"一共有 {n_row_groups} 个 row group, {p.basename} file size = {p.size_in_text}\")"
   ]
  },
  {
   "cell_type": "code",
   "execution_count": 15,
   "id": "78d6f7c9",
   "metadata": {},
   "outputs": [
    {
     "name": "stdout",
     "output_type": "stream",
     "text": [
      "16\n"
     ]
    }
   ],
   "source": [
    "import os\n",
    "print(os.cpu_count())"
   ]
  },
  {
   "cell_type": "code",
   "execution_count": 16,
   "id": "6ae87b95",
   "metadata": {},
   "outputs": [
    {
     "ename": "IndexError",
     "evalue": "2 out of bounds",
     "output_type": "error",
     "traceback": [
      "\u001b[0;31m---------------------------------------------------------------------------\u001b[0m",
      "\u001b[0;31mIndexError\u001b[0m                                Traceback (most recent call last)",
      "\u001b[0;32m<ipython-input-16-ea86a49cba13>\u001b[0m in \u001b[0;36m<module>\u001b[0;34m\u001b[0m\n\u001b[1;32m     11\u001b[0m \u001b[0;32mfor\u001b[0m \u001b[0mith_row_group\u001b[0m \u001b[0;32min\u001b[0m \u001b[0mrange\u001b[0m\u001b[0;34m(\u001b[0m\u001b[0mpq_file\u001b[0m\u001b[0;34m.\u001b[0m\u001b[0mmetadata\u001b[0m\u001b[0;34m.\u001b[0m\u001b[0mnum_row_groups\u001b[0m\u001b[0;34m)\u001b[0m\u001b[0;34m:\u001b[0m\u001b[0;34m\u001b[0m\u001b[0;34m\u001b[0m\u001b[0m\n\u001b[1;32m     12\u001b[0m     \u001b[0mrg_meta\u001b[0m \u001b[0;34m=\u001b[0m \u001b[0mpq_file\u001b[0m\u001b[0;34m.\u001b[0m\u001b[0mmetadata\u001b[0m\u001b[0;34m.\u001b[0m\u001b[0mrow_group\u001b[0m\u001b[0;34m(\u001b[0m\u001b[0mith_row_group\u001b[0m\u001b[0;34m)\u001b[0m\u001b[0;34m\u001b[0m\u001b[0;34m\u001b[0m\u001b[0m\n\u001b[0;32m---> 13\u001b[0;31m     \u001b[0mprint\u001b[0m\u001b[0;34m(\u001b[0m\u001b[0mrg_meta\u001b[0m\u001b[0;34m.\u001b[0m\u001b[0mcolumn\u001b[0m\u001b[0;34m(\u001b[0m\u001b[0;36m2\u001b[0m\u001b[0;34m)\u001b[0m\u001b[0;34m.\u001b[0m\u001b[0mstatistics\u001b[0m\u001b[0;34m)\u001b[0m\u001b[0;34m\u001b[0m\u001b[0;34m\u001b[0m\u001b[0m\n\u001b[0m\u001b[1;32m     14\u001b[0m     \u001b[0mrg\u001b[0m \u001b[0;34m=\u001b[0m \u001b[0mpq_file\u001b[0m\u001b[0;34m.\u001b[0m\u001b[0mread_row_group\u001b[0m\u001b[0;34m(\u001b[0m\u001b[0mith_row_group\u001b[0m\u001b[0;34m)\u001b[0m\u001b[0;34m\u001b[0m\u001b[0;34m\u001b[0m\u001b[0m\n\u001b[1;32m     15\u001b[0m     \u001b[0mprint\u001b[0m\u001b[0;34m(\u001b[0m\u001b[0mrg\u001b[0m\u001b[0;34m)\u001b[0m\u001b[0;34m\u001b[0m\u001b[0;34m\u001b[0m\u001b[0m\n",
      "\u001b[0;32m~/anaconda3/envs/python3/lib/python3.6/site-packages/pyarrow/_parquet.pyx\u001b[0m in \u001b[0;36mpyarrow._parquet.RowGroupMetaData.column\u001b[0;34m()\u001b[0m\n",
      "\u001b[0;31mIndexError\u001b[0m: 2 out of bounds"
     ]
    }
   ],
   "source": [
    "p = Path(dir_here, \"events.parquet\")\n",
    "with p.open(\"wb\") as f:\n",
    "    pq.write_table(\n",
    "        pa.Table.from_pandas(df), \n",
    "        f,\n",
    "        row_group_size=1000,\n",
    "    )\n",
    "\n",
    "# columns: [\"event_id\", \"event_type\", \"time\", \"value\"]\n",
    "pq_file = pq.ParquetFile(p.abspath)\n",
    "for ith_row_group in range(pq_file.metadata.num_row_groups):\n",
    "    rg_meta = pq_file.metadata.row_group(ith_row_group)\n",
    "    print(rg_meta.column(2).statistics)\n",
    "    rg = pq_file.read_row_group(ith_row_group)\n",
    "    print(rg)\n",
    "    print(rg_meta.column(0))\n",
    "    print(rg_meta.column(0).statistics.min)\n",
    "    break"
   ]
  },
  {
   "cell_type": "code",
   "execution_count": null,
   "id": "ed702c17",
   "metadata": {},
   "outputs": [],
   "source": []
  }
 ],
 "metadata": {
  "kernelspec": {
   "display_name": "conda_python3",
   "language": "python",
   "name": "conda_python3"
  },
  "language_info": {
   "codemirror_mode": {
    "name": "ipython",
    "version": 3
   },
   "file_extension": ".py",
   "mimetype": "text/x-python",
   "name": "python",
   "nbconvert_exporter": "python",
   "pygments_lexer": "ipython3",
   "version": "3.6.13"
  }
 },
 "nbformat": 4,
 "nbformat_minor": 5
}
