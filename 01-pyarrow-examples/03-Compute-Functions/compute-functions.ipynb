{
 "cells": [
  {
   "cell_type": "markdown",
   "id": "0b0f7e83",
   "metadata": {},
   "source": [
    "# Compute Functions\n",
    "\n",
    "对一列大量数据类型相同的值进行向量化操作要比在 python 中用 for loop 一个个操作要效率的多. pyarrow 提供了许多高阶的计算函数, 包括各种聚合 (aggregation), 数值 (arithmetic), 字符串 (string) 计算操作. 这些操作调用的是底层的 C 实现, 要比在 Python 中使用 Python 函数或是 UDF (user defined function 用户自定义函数) 效率要高的多. 如果可以, 推荐尽量使用 ``pyarrow.compute`` 库中的计算函数. 如果实在需要用 UDF, ``pyarrow`` 不提供将 Python 编译成 C 的选项, 你只能将 ``pyarrow.Array`` 转化成 ``numpy.array``, apply UDF, 然后再转换回来.\n",
    "\n",
    "- Compute Functions: https://arrow.apache.org/docs/python/compute.html\n",
    "- Compute Functions API Reference: https://arrow.apache.org/docs/python/api/compute.html"
   ]
  },
  {
   "cell_type": "code",
   "execution_count": 1,
   "id": "b0f193bd",
   "metadata": {},
   "outputs": [],
   "source": [
    "import numpy as np\n",
    "import pandas as pd\n",
    "import pyarrow as pa\n",
    "import pyarrow.compute as pc"
   ]
  },
  {
   "cell_type": "code",
   "execution_count": 2,
   "id": "7ef4bdba",
   "metadata": {},
   "outputs": [
    {
     "data": {
      "text/plain": [
       "<pyarrow.lib.BooleanArray object at 0x7fc65aa69888>\n",
       "[\n",
       "  false,\n",
       "  true,\n",
       "  true,\n",
       "  false\n",
       "]"
      ]
     },
     "execution_count": 2,
     "metadata": {},
     "output_type": "execute_result"
    }
   ],
   "source": [
    "a = pa.array([1, 1, 2, 3])\n",
    "b = pa.array([4, 1, 2, 8])\n",
    "pc.equal(a, b)"
   ]
  },
  {
   "cell_type": "code",
   "execution_count": 3,
   "id": "e37f2509",
   "metadata": {},
   "outputs": [
    {
     "data": {
      "text/plain": [
       "<pyarrow.DoubleScalar: 72.54>"
      ]
     },
     "execution_count": 3,
     "metadata": {},
     "output_type": "execute_result"
    }
   ],
   "source": [
    "x, y = pa.scalar(7.8), pa.scalar(9.3)\n",
    "pc.multiply(x, y)"
   ]
  },
  {
   "cell_type": "code",
   "execution_count": 4,
   "id": "1543f87d",
   "metadata": {},
   "outputs": [
    {
     "data": {
      "text/plain": [
       "<pyarrow.lib.UInt64Array object at 0x7fc65aa69c48>\n",
       "[\n",
       "  2,\n",
       "  1,\n",
       "  0\n",
       "]"
      ]
     },
     "execution_count": 4,
     "metadata": {},
     "output_type": "execute_result"
    }
   ],
   "source": [
    "t = pa.table({\"x\":[1,2,3],\"y\":[3,2,1]})\n",
    "i = pc.sort_indices(t, sort_keys=[(\"y\", \"ascending\")])\n",
    "i"
   ]
  },
  {
   "cell_type": "markdown",
   "id": "8257ec31",
   "metadata": {},
   "source": [
    "## "
   ]
  },
  {
   "cell_type": "markdown",
   "id": "b19376cf",
   "metadata": {},
   "source": [
    "## Associative Transforms\n",
    "\n",
    "Ref:\n",
    "\n",
    "- https://arrow.apache.org/docs/python/api/compute.html#associative-transforms"
   ]
  },
  {
   "cell_type": "code",
   "execution_count": 5,
   "id": "7395dbec",
   "metadata": {},
   "outputs": [],
   "source": [
    "arr = pa.array(list(\"abbacdcdaacacab\"))"
   ]
  },
  {
   "cell_type": "code",
   "execution_count": 6,
   "id": "8a6adaec",
   "metadata": {},
   "outputs": [
    {
     "data": {
      "text/plain": [
       "<pyarrow.lib.StringArray object at 0x7fc65aa69f48>\n",
       "[\n",
       "  \"a\",\n",
       "  \"b\",\n",
       "  \"c\",\n",
       "  \"d\"\n",
       "]"
      ]
     },
     "execution_count": 6,
     "metadata": {},
     "output_type": "execute_result"
    }
   ],
   "source": [
    "pc.unique(arr)"
   ]
  },
  {
   "cell_type": "code",
   "execution_count": 7,
   "id": "9b72dd34",
   "metadata": {},
   "outputs": [
    {
     "data": {
      "text/plain": [
       "<pyarrow.lib.StructArray object at 0x7fc6599df168>\n",
       "-- is_valid: all not null\n",
       "-- child 0 type: string\n",
       "  [\n",
       "    \"a\",\n",
       "    \"b\",\n",
       "    \"c\",\n",
       "    \"d\"\n",
       "  ]\n",
       "-- child 1 type: int64\n",
       "  [\n",
       "    6,\n",
       "    3,\n",
       "    4,\n",
       "    2\n",
       "  ]"
      ]
     },
     "execution_count": 7,
     "metadata": {},
     "output_type": "execute_result"
    }
   ],
   "source": [
    "pc.value_counts(arr)"
   ]
  },
  {
   "cell_type": "code",
   "execution_count": 8,
   "id": "fdab0911",
   "metadata": {},
   "outputs": [
    {
     "data": {
      "text/plain": [
       "<pyarrow.lib.DictionaryArray object at 0x7fc6fe172f98>\n",
       "\n",
       "-- dictionary:\n",
       "  [\n",
       "    \"a\",\n",
       "    \"b\",\n",
       "    \"c\",\n",
       "    \"d\"\n",
       "  ]\n",
       "-- indices:\n",
       "  [\n",
       "    0,\n",
       "    1,\n",
       "    1,\n",
       "    0,\n",
       "    2,\n",
       "    3,\n",
       "    2,\n",
       "    3,\n",
       "    0,\n",
       "    0,\n",
       "    2,\n",
       "    0,\n",
       "    2,\n",
       "    0,\n",
       "    1\n",
       "  ]"
      ]
     },
     "execution_count": 8,
     "metadata": {},
     "output_type": "execute_result"
    }
   ],
   "source": [
    "pc.dictionary_encode(arr)"
   ]
  }
 ],
 "metadata": {
  "kernelspec": {
   "display_name": "conda_python3",
   "language": "python",
   "name": "conda_python3"
  },
  "language_info": {
   "codemirror_mode": {
    "name": "ipython",
    "version": 3
   },
   "file_extension": ".py",
   "mimetype": "text/x-python",
   "name": "python",
   "nbconvert_exporter": "python",
   "pygments_lexer": "ipython3",
   "version": "3.6.13"
  }
 },
 "nbformat": 4,
 "nbformat_minor": 5
}
